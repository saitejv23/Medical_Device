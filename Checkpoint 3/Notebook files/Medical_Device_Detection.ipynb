{
 "cells": [
  {
   "cell_type": "code",
   "execution_count": null,
   "metadata": {
    "colab": {
     "base_uri": "https://localhost:8080/"
    },
    "id": "gsJttVSMysWy",
    "outputId": "6856f637-84aa-4203-c736-d6f21326393c"
   },
   "outputs": [
    {
     "name": "stdout",
     "output_type": "stream",
     "text": [
      "Tue Apr 22 09:19:28 2025       \n",
      "+-----------------------------------------------------------------------------------------+\n",
      "| NVIDIA-SMI 550.54.15              Driver Version: 550.54.15      CUDA Version: 12.4     |\n",
      "|-----------------------------------------+------------------------+----------------------+\n",
      "| GPU  Name                 Persistence-M | Bus-Id          Disp.A | Volatile Uncorr. ECC |\n",
      "| Fan  Temp   Perf          Pwr:Usage/Cap |           Memory-Usage | GPU-Util  Compute M. |\n",
      "|                                         |                        |               MIG M. |\n",
      "|=========================================+========================+======================|\n",
      "|   0  Tesla T4                       Off |   00000000:00:04.0 Off |                    0 |\n",
      "| N/A   42C    P8              9W /   70W |       0MiB /  15360MiB |      0%      Default |\n",
      "|                                         |                        |                  N/A |\n",
      "+-----------------------------------------+------------------------+----------------------+\n",
      "                                                                                         \n",
      "+-----------------------------------------------------------------------------------------+\n",
      "| Processes:                                                                              |\n",
      "|  GPU   GI   CI        PID   Type   Process name                              GPU Memory |\n",
      "|        ID   ID                                                               Usage      |\n",
      "|=========================================================================================|\n",
      "|  No running processes found                                                             |\n",
      "+-----------------------------------------------------------------------------------------+\n"
     ]
    }
   ],
   "source": [
    "!nvidia-smi"
   ]
  },
  {
   "cell_type": "code",
   "execution_count": 2,
   "metadata": {
    "colab": {
     "base_uri": "https://localhost:8080/"
    },
    "executionInfo": {
     "elapsed": 22566,
     "status": "ok",
     "timestamp": 1745398547920,
     "user": {
      "displayName": "Saiteja Vuppala",
      "userId": "17073075911846516287"
     },
     "user_tz": -330
    },
    "id": "r0iOo5qlgqab",
    "outputId": "8bbb6783-94ef-46a0-bdad-002fd8a2f25c"
   },
   "outputs": [
    {
     "name": "stdout",
     "output_type": "stream",
     "text": [
      "Mounted at /content/drive\n"
     ]
    }
   ],
   "source": [
    "from google.colab import drive\n",
    "drive.mount('/content/drive')"
   ]
  },
  {
   "cell_type": "code",
   "execution_count": 5,
   "metadata": {
    "colab": {
     "base_uri": "https://localhost:8080/"
    },
    "executionInfo": {
     "elapsed": 10804,
     "status": "ok",
     "timestamp": 1745398647526,
     "user": {
      "displayName": "Saiteja Vuppala",
      "userId": "17073075911846516287"
     },
     "user_tz": -330
    },
    "id": "m-iIkcx3y5Fc",
    "outputId": "bdf8247a-308d-4367-ff93-3dd8c7156c9b"
   },
   "outputs": [
    {
     "name": "stdout",
     "output_type": "stream",
     "text": [
      "Collecting roboflow\n",
      "  Downloading roboflow-1.1.61-py3-none-any.whl.metadata (9.7 kB)\n",
      "Requirement already satisfied: certifi in /usr/local/lib/python3.11/dist-packages (from roboflow) (2025.1.31)\n",
      "Collecting idna==3.7 (from roboflow)\n",
      "  Downloading idna-3.7-py3-none-any.whl.metadata (9.9 kB)\n",
      "Requirement already satisfied: cycler in /usr/local/lib/python3.11/dist-packages (from roboflow) (0.12.1)\n",
      "Requirement already satisfied: kiwisolver>=1.3.1 in /usr/local/lib/python3.11/dist-packages (from roboflow) (1.4.8)\n",
      "Requirement already satisfied: matplotlib in /usr/local/lib/python3.11/dist-packages (from roboflow) (3.10.0)\n",
      "Requirement already satisfied: numpy>=1.18.5 in /usr/local/lib/python3.11/dist-packages (from roboflow) (2.0.2)\n",
      "Collecting opencv-python-headless==4.10.0.84 (from roboflow)\n",
      "  Downloading opencv_python_headless-4.10.0.84-cp37-abi3-manylinux_2_17_x86_64.manylinux2014_x86_64.whl.metadata (20 kB)\n",
      "Requirement already satisfied: Pillow>=7.1.2 in /usr/local/lib/python3.11/dist-packages (from roboflow) (11.1.0)\n",
      "Collecting pillow-heif>=0.18.0 (from roboflow)\n",
      "  Downloading pillow_heif-0.22.0-cp311-cp311-manylinux_2_17_x86_64.manylinux2014_x86_64.whl.metadata (9.6 kB)\n",
      "Requirement already satisfied: python-dateutil in /usr/local/lib/python3.11/dist-packages (from roboflow) (2.8.2)\n",
      "Collecting python-dotenv (from roboflow)\n",
      "  Downloading python_dotenv-1.1.0-py3-none-any.whl.metadata (24 kB)\n",
      "Requirement already satisfied: requests in /usr/local/lib/python3.11/dist-packages (from roboflow) (2.32.3)\n",
      "Requirement already satisfied: six in /usr/local/lib/python3.11/dist-packages (from roboflow) (1.17.0)\n",
      "Requirement already satisfied: urllib3>=1.26.6 in /usr/local/lib/python3.11/dist-packages (from roboflow) (2.3.0)\n",
      "Requirement already satisfied: tqdm>=4.41.0 in /usr/local/lib/python3.11/dist-packages (from roboflow) (4.67.1)\n",
      "Requirement already satisfied: PyYAML>=5.3.1 in /usr/local/lib/python3.11/dist-packages (from roboflow) (6.0.2)\n",
      "Requirement already satisfied: requests-toolbelt in /usr/local/lib/python3.11/dist-packages (from roboflow) (1.0.0)\n",
      "Collecting filetype (from roboflow)\n",
      "  Downloading filetype-1.2.0-py2.py3-none-any.whl.metadata (6.5 kB)\n",
      "Requirement already satisfied: contourpy>=1.0.1 in /usr/local/lib/python3.11/dist-packages (from matplotlib->roboflow) (1.3.2)\n",
      "Requirement already satisfied: fonttools>=4.22.0 in /usr/local/lib/python3.11/dist-packages (from matplotlib->roboflow) (4.57.0)\n",
      "Requirement already satisfied: packaging>=20.0 in /usr/local/lib/python3.11/dist-packages (from matplotlib->roboflow) (24.2)\n",
      "Requirement already satisfied: pyparsing>=2.3.1 in /usr/local/lib/python3.11/dist-packages (from matplotlib->roboflow) (3.2.3)\n",
      "Requirement already satisfied: charset-normalizer<4,>=2 in /usr/local/lib/python3.11/dist-packages (from requests->roboflow) (3.4.1)\n",
      "Downloading roboflow-1.1.61-py3-none-any.whl (85 kB)\n",
      "\u001b[2K   \u001b[90m━━━━━━━━━━━━━━━━━━━━━━━━━━━━━━━━━━━━━━━━\u001b[0m \u001b[32m85.2/85.2 kB\u001b[0m \u001b[31m4.9 MB/s\u001b[0m eta \u001b[36m0:00:00\u001b[0m\n",
      "\u001b[?25hDownloading idna-3.7-py3-none-any.whl (66 kB)\n",
      "\u001b[2K   \u001b[90m━━━━━━━━━━━━━━━━━━━━━━━━━━━━━━━━━━━━━━━━\u001b[0m \u001b[32m66.8/66.8 kB\u001b[0m \u001b[31m5.0 MB/s\u001b[0m eta \u001b[36m0:00:00\u001b[0m\n",
      "\u001b[?25hDownloading opencv_python_headless-4.10.0.84-cp37-abi3-manylinux_2_17_x86_64.manylinux2014_x86_64.whl (49.9 MB)\n",
      "\u001b[2K   \u001b[90m━━━━━━━━━━━━━━━━━━━━━━━━━━━━━━━━━━━━━━━━\u001b[0m \u001b[32m49.9/49.9 MB\u001b[0m \u001b[31m20.5 MB/s\u001b[0m eta \u001b[36m0:00:00\u001b[0m\n",
      "\u001b[?25hDownloading pillow_heif-0.22.0-cp311-cp311-manylinux_2_17_x86_64.manylinux2014_x86_64.whl (7.8 MB)\n",
      "\u001b[2K   \u001b[90m━━━━━━━━━━━━━━━━━━━━━━━━━━━━━━━━━━━━━━━━\u001b[0m \u001b[32m7.8/7.8 MB\u001b[0m \u001b[31m105.9 MB/s\u001b[0m eta \u001b[36m0:00:00\u001b[0m\n",
      "\u001b[?25hDownloading filetype-1.2.0-py2.py3-none-any.whl (19 kB)\n",
      "Downloading python_dotenv-1.1.0-py3-none-any.whl (20 kB)\n",
      "Installing collected packages: filetype, python-dotenv, pillow-heif, opencv-python-headless, idna, roboflow\n",
      "  Attempting uninstall: opencv-python-headless\n",
      "    Found existing installation: opencv-python-headless 4.11.0.86\n",
      "    Uninstalling opencv-python-headless-4.11.0.86:\n",
      "      Successfully uninstalled opencv-python-headless-4.11.0.86\n",
      "  Attempting uninstall: idna\n",
      "    Found existing installation: idna 3.10\n",
      "    Uninstalling idna-3.10:\n",
      "      Successfully uninstalled idna-3.10\n",
      "Successfully installed filetype-1.2.0 idna-3.7 opencv-python-headless-4.10.0.84 pillow-heif-0.22.0 python-dotenv-1.1.0 roboflow-1.1.61\n"
     ]
    }
   ],
   "source": [
    "!pip install roboflow"
   ]
  },
  {
   "cell_type": "code",
   "execution_count": 6,
   "metadata": {
    "colab": {
     "base_uri": "https://localhost:8080/"
    },
    "executionInfo": {
     "elapsed": 110362,
     "status": "ok",
     "timestamp": 1745398757889,
     "user": {
      "displayName": "Saiteja Vuppala",
      "userId": "17073075911846516287"
     },
     "user_tz": -330
    },
    "id": "9vM3pYXVy7OV",
    "outputId": "8c8752f7-9bf5-43e8-a7ee-3cb657d9dd35"
   },
   "outputs": [
    {
     "name": "stdout",
     "output_type": "stream",
     "text": [
      "Collecting ultralytics\n",
      "  Downloading ultralytics-8.3.114-py3-none-any.whl.metadata (37 kB)\n",
      "Requirement already satisfied: numpy<=2.1.1,>=1.23.0 in /usr/local/lib/python3.11/dist-packages (from ultralytics) (2.0.2)\n",
      "Requirement already satisfied: matplotlib>=3.3.0 in /usr/local/lib/python3.11/dist-packages (from ultralytics) (3.10.0)\n",
      "Requirement already satisfied: opencv-python>=4.6.0 in /usr/local/lib/python3.11/dist-packages (from ultralytics) (4.11.0.86)\n",
      "Requirement already satisfied: pillow>=7.1.2 in /usr/local/lib/python3.11/dist-packages (from ultralytics) (11.1.0)\n",
      "Requirement already satisfied: pyyaml>=5.3.1 in /usr/local/lib/python3.11/dist-packages (from ultralytics) (6.0.2)\n",
      "Requirement already satisfied: requests>=2.23.0 in /usr/local/lib/python3.11/dist-packages (from ultralytics) (2.32.3)\n",
      "Requirement already satisfied: scipy>=1.4.1 in /usr/local/lib/python3.11/dist-packages (from ultralytics) (1.14.1)\n",
      "Requirement already satisfied: torch>=1.8.0 in /usr/local/lib/python3.11/dist-packages (from ultralytics) (2.6.0+cu124)\n",
      "Requirement already satisfied: torchvision>=0.9.0 in /usr/local/lib/python3.11/dist-packages (from ultralytics) (0.21.0+cu124)\n",
      "Requirement already satisfied: tqdm>=4.64.0 in /usr/local/lib/python3.11/dist-packages (from ultralytics) (4.67.1)\n",
      "Requirement already satisfied: psutil in /usr/local/lib/python3.11/dist-packages (from ultralytics) (5.9.5)\n",
      "Requirement already satisfied: py-cpuinfo in /usr/local/lib/python3.11/dist-packages (from ultralytics) (9.0.0)\n",
      "Requirement already satisfied: pandas>=1.1.4 in /usr/local/lib/python3.11/dist-packages (from ultralytics) (2.2.2)\n",
      "Requirement already satisfied: seaborn>=0.11.0 in /usr/local/lib/python3.11/dist-packages (from ultralytics) (0.13.2)\n",
      "Collecting ultralytics-thop>=2.0.0 (from ultralytics)\n",
      "  Downloading ultralytics_thop-2.0.14-py3-none-any.whl.metadata (9.4 kB)\n",
      "Requirement already satisfied: contourpy>=1.0.1 in /usr/local/lib/python3.11/dist-packages (from matplotlib>=3.3.0->ultralytics) (1.3.2)\n",
      "Requirement already satisfied: cycler>=0.10 in /usr/local/lib/python3.11/dist-packages (from matplotlib>=3.3.0->ultralytics) (0.12.1)\n",
      "Requirement already satisfied: fonttools>=4.22.0 in /usr/local/lib/python3.11/dist-packages (from matplotlib>=3.3.0->ultralytics) (4.57.0)\n",
      "Requirement already satisfied: kiwisolver>=1.3.1 in /usr/local/lib/python3.11/dist-packages (from matplotlib>=3.3.0->ultralytics) (1.4.8)\n",
      "Requirement already satisfied: packaging>=20.0 in /usr/local/lib/python3.11/dist-packages (from matplotlib>=3.3.0->ultralytics) (24.2)\n",
      "Requirement already satisfied: pyparsing>=2.3.1 in /usr/local/lib/python3.11/dist-packages (from matplotlib>=3.3.0->ultralytics) (3.2.3)\n",
      "Requirement already satisfied: python-dateutil>=2.7 in /usr/local/lib/python3.11/dist-packages (from matplotlib>=3.3.0->ultralytics) (2.8.2)\n",
      "Requirement already satisfied: pytz>=2020.1 in /usr/local/lib/python3.11/dist-packages (from pandas>=1.1.4->ultralytics) (2025.2)\n",
      "Requirement already satisfied: tzdata>=2022.7 in /usr/local/lib/python3.11/dist-packages (from pandas>=1.1.4->ultralytics) (2025.2)\n",
      "Requirement already satisfied: charset-normalizer<4,>=2 in /usr/local/lib/python3.11/dist-packages (from requests>=2.23.0->ultralytics) (3.4.1)\n",
      "Requirement already satisfied: idna<4,>=2.5 in /usr/local/lib/python3.11/dist-packages (from requests>=2.23.0->ultralytics) (3.7)\n",
      "Requirement already satisfied: urllib3<3,>=1.21.1 in /usr/local/lib/python3.11/dist-packages (from requests>=2.23.0->ultralytics) (2.3.0)\n",
      "Requirement already satisfied: certifi>=2017.4.17 in /usr/local/lib/python3.11/dist-packages (from requests>=2.23.0->ultralytics) (2025.1.31)\n",
      "Requirement already satisfied: filelock in /usr/local/lib/python3.11/dist-packages (from torch>=1.8.0->ultralytics) (3.18.0)\n",
      "Requirement already satisfied: typing-extensions>=4.10.0 in /usr/local/lib/python3.11/dist-packages (from torch>=1.8.0->ultralytics) (4.13.2)\n",
      "Requirement already satisfied: networkx in /usr/local/lib/python3.11/dist-packages (from torch>=1.8.0->ultralytics) (3.4.2)\n",
      "Requirement already satisfied: jinja2 in /usr/local/lib/python3.11/dist-packages (from torch>=1.8.0->ultralytics) (3.1.6)\n",
      "Requirement already satisfied: fsspec in /usr/local/lib/python3.11/dist-packages (from torch>=1.8.0->ultralytics) (2025.3.2)\n",
      "Collecting nvidia-cuda-nvrtc-cu12==12.4.127 (from torch>=1.8.0->ultralytics)\n",
      "  Downloading nvidia_cuda_nvrtc_cu12-12.4.127-py3-none-manylinux2014_x86_64.whl.metadata (1.5 kB)\n",
      "Collecting nvidia-cuda-runtime-cu12==12.4.127 (from torch>=1.8.0->ultralytics)\n",
      "  Downloading nvidia_cuda_runtime_cu12-12.4.127-py3-none-manylinux2014_x86_64.whl.metadata (1.5 kB)\n",
      "Collecting nvidia-cuda-cupti-cu12==12.4.127 (from torch>=1.8.0->ultralytics)\n",
      "  Downloading nvidia_cuda_cupti_cu12-12.4.127-py3-none-manylinux2014_x86_64.whl.metadata (1.6 kB)\n",
      "Collecting nvidia-cudnn-cu12==9.1.0.70 (from torch>=1.8.0->ultralytics)\n",
      "  Downloading nvidia_cudnn_cu12-9.1.0.70-py3-none-manylinux2014_x86_64.whl.metadata (1.6 kB)\n",
      "Collecting nvidia-cublas-cu12==12.4.5.8 (from torch>=1.8.0->ultralytics)\n",
      "  Downloading nvidia_cublas_cu12-12.4.5.8-py3-none-manylinux2014_x86_64.whl.metadata (1.5 kB)\n",
      "Collecting nvidia-cufft-cu12==11.2.1.3 (from torch>=1.8.0->ultralytics)\n",
      "  Downloading nvidia_cufft_cu12-11.2.1.3-py3-none-manylinux2014_x86_64.whl.metadata (1.5 kB)\n",
      "Collecting nvidia-curand-cu12==10.3.5.147 (from torch>=1.8.0->ultralytics)\n",
      "  Downloading nvidia_curand_cu12-10.3.5.147-py3-none-manylinux2014_x86_64.whl.metadata (1.5 kB)\n",
      "Collecting nvidia-cusolver-cu12==11.6.1.9 (from torch>=1.8.0->ultralytics)\n",
      "  Downloading nvidia_cusolver_cu12-11.6.1.9-py3-none-manylinux2014_x86_64.whl.metadata (1.6 kB)\n",
      "Collecting nvidia-cusparse-cu12==12.3.1.170 (from torch>=1.8.0->ultralytics)\n",
      "  Downloading nvidia_cusparse_cu12-12.3.1.170-py3-none-manylinux2014_x86_64.whl.metadata (1.6 kB)\n",
      "Requirement already satisfied: nvidia-cusparselt-cu12==0.6.2 in /usr/local/lib/python3.11/dist-packages (from torch>=1.8.0->ultralytics) (0.6.2)\n",
      "Requirement already satisfied: nvidia-nccl-cu12==2.21.5 in /usr/local/lib/python3.11/dist-packages (from torch>=1.8.0->ultralytics) (2.21.5)\n",
      "Requirement already satisfied: nvidia-nvtx-cu12==12.4.127 in /usr/local/lib/python3.11/dist-packages (from torch>=1.8.0->ultralytics) (12.4.127)\n",
      "Collecting nvidia-nvjitlink-cu12==12.4.127 (from torch>=1.8.0->ultralytics)\n",
      "  Downloading nvidia_nvjitlink_cu12-12.4.127-py3-none-manylinux2014_x86_64.whl.metadata (1.5 kB)\n",
      "Requirement already satisfied: triton==3.2.0 in /usr/local/lib/python3.11/dist-packages (from torch>=1.8.0->ultralytics) (3.2.0)\n",
      "Requirement already satisfied: sympy==1.13.1 in /usr/local/lib/python3.11/dist-packages (from torch>=1.8.0->ultralytics) (1.13.1)\n",
      "Requirement already satisfied: mpmath<1.4,>=1.1.0 in /usr/local/lib/python3.11/dist-packages (from sympy==1.13.1->torch>=1.8.0->ultralytics) (1.3.0)\n",
      "Requirement already satisfied: six>=1.5 in /usr/local/lib/python3.11/dist-packages (from python-dateutil>=2.7->matplotlib>=3.3.0->ultralytics) (1.17.0)\n",
      "Requirement already satisfied: MarkupSafe>=2.0 in /usr/local/lib/python3.11/dist-packages (from jinja2->torch>=1.8.0->ultralytics) (3.0.2)\n",
      "Downloading ultralytics-8.3.114-py3-none-any.whl (983 kB)\n",
      "\u001b[2K   \u001b[90m━━━━━━━━━━━━━━━━━━━━━━━━━━━━━━━━━━━━━━━━\u001b[0m \u001b[32m983.5/983.5 kB\u001b[0m \u001b[31m24.4 MB/s\u001b[0m eta \u001b[36m0:00:00\u001b[0m\n",
      "\u001b[?25hDownloading nvidia_cublas_cu12-12.4.5.8-py3-none-manylinux2014_x86_64.whl (363.4 MB)\n",
      "\u001b[2K   \u001b[90m━━━━━━━━━━━━━━━━━━━━━━━━━━━━━━━━━━━━━━━━\u001b[0m \u001b[32m363.4/363.4 MB\u001b[0m \u001b[31m2.9 MB/s\u001b[0m eta \u001b[36m0:00:00\u001b[0m\n",
      "\u001b[?25hDownloading nvidia_cuda_cupti_cu12-12.4.127-py3-none-manylinux2014_x86_64.whl (13.8 MB)\n",
      "\u001b[2K   \u001b[90m━━━━━━━━━━━━━━━━━━━━━━━━━━━━━━━━━━━━━━━━\u001b[0m \u001b[32m13.8/13.8 MB\u001b[0m \u001b[31m65.4 MB/s\u001b[0m eta \u001b[36m0:00:00\u001b[0m\n",
      "\u001b[?25hDownloading nvidia_cuda_nvrtc_cu12-12.4.127-py3-none-manylinux2014_x86_64.whl (24.6 MB)\n",
      "\u001b[2K   \u001b[90m━━━━━━━━━━━━━━━━━━━━━━━━━━━━━━━━━━━━━━━━\u001b[0m \u001b[32m24.6/24.6 MB\u001b[0m \u001b[31m43.2 MB/s\u001b[0m eta \u001b[36m0:00:00\u001b[0m\n",
      "\u001b[?25hDownloading nvidia_cuda_runtime_cu12-12.4.127-py3-none-manylinux2014_x86_64.whl (883 kB)\n",
      "\u001b[2K   \u001b[90m━━━━━━━━━━━━━━━━━━━━━━━━━━━━━━━━━━━━━━━━\u001b[0m \u001b[32m883.7/883.7 kB\u001b[0m \u001b[31m35.0 MB/s\u001b[0m eta \u001b[36m0:00:00\u001b[0m\n",
      "\u001b[?25hDownloading nvidia_cudnn_cu12-9.1.0.70-py3-none-manylinux2014_x86_64.whl (664.8 MB)\n",
      "\u001b[2K   \u001b[90m━━━━━━━━━━━━━━━━━━━━━━━━━━━━━━━━━━━━━━━━\u001b[0m \u001b[32m664.8/664.8 MB\u001b[0m \u001b[31m1.5 MB/s\u001b[0m eta \u001b[36m0:00:00\u001b[0m\n",
      "\u001b[?25hDownloading nvidia_cufft_cu12-11.2.1.3-py3-none-manylinux2014_x86_64.whl (211.5 MB)\n",
      "\u001b[2K   \u001b[90m━━━━━━━━━━━━━━━━━━━━━━━━━━━━━━━━━━━━━━━━\u001b[0m \u001b[32m211.5/211.5 MB\u001b[0m \u001b[31m6.1 MB/s\u001b[0m eta \u001b[36m0:00:00\u001b[0m\n",
      "\u001b[?25hDownloading nvidia_curand_cu12-10.3.5.147-py3-none-manylinux2014_x86_64.whl (56.3 MB)\n",
      "\u001b[2K   \u001b[90m━━━━━━━━━━━━━━━━━━━━━━━━━━━━━━━━━━━━━━━━\u001b[0m \u001b[32m56.3/56.3 MB\u001b[0m \u001b[31m11.6 MB/s\u001b[0m eta \u001b[36m0:00:00\u001b[0m\n",
      "\u001b[?25hDownloading nvidia_cusolver_cu12-11.6.1.9-py3-none-manylinux2014_x86_64.whl (127.9 MB)\n",
      "\u001b[2K   \u001b[90m━━━━━━━━━━━━━━━━━━━━━━━━━━━━━━━━━━━━━━━━\u001b[0m \u001b[32m127.9/127.9 MB\u001b[0m \u001b[31m7.1 MB/s\u001b[0m eta \u001b[36m0:00:00\u001b[0m\n",
      "\u001b[?25hDownloading nvidia_cusparse_cu12-12.3.1.170-py3-none-manylinux2014_x86_64.whl (207.5 MB)\n",
      "\u001b[2K   \u001b[90m━━━━━━━━━━━━━━━━━━━━━━━━━━━━━━━━━━━━━━━━\u001b[0m \u001b[32m207.5/207.5 MB\u001b[0m \u001b[31m6.6 MB/s\u001b[0m eta \u001b[36m0:00:00\u001b[0m\n",
      "\u001b[?25hDownloading nvidia_nvjitlink_cu12-12.4.127-py3-none-manylinux2014_x86_64.whl (21.1 MB)\n",
      "\u001b[2K   \u001b[90m━━━━━━━━━━━━━━━━━━━━━━━━━━━━━━━━━━━━━━━━\u001b[0m \u001b[32m21.1/21.1 MB\u001b[0m \u001b[31m78.1 MB/s\u001b[0m eta \u001b[36m0:00:00\u001b[0m\n",
      "\u001b[?25hDownloading ultralytics_thop-2.0.14-py3-none-any.whl (26 kB)\n",
      "Installing collected packages: nvidia-nvjitlink-cu12, nvidia-curand-cu12, nvidia-cufft-cu12, nvidia-cuda-runtime-cu12, nvidia-cuda-nvrtc-cu12, nvidia-cuda-cupti-cu12, nvidia-cublas-cu12, nvidia-cusparse-cu12, nvidia-cudnn-cu12, nvidia-cusolver-cu12, ultralytics-thop, ultralytics\n",
      "  Attempting uninstall: nvidia-nvjitlink-cu12\n",
      "    Found existing installation: nvidia-nvjitlink-cu12 12.5.82\n",
      "    Uninstalling nvidia-nvjitlink-cu12-12.5.82:\n",
      "      Successfully uninstalled nvidia-nvjitlink-cu12-12.5.82\n",
      "  Attempting uninstall: nvidia-curand-cu12\n",
      "    Found existing installation: nvidia-curand-cu12 10.3.6.82\n",
      "    Uninstalling nvidia-curand-cu12-10.3.6.82:\n",
      "      Successfully uninstalled nvidia-curand-cu12-10.3.6.82\n",
      "  Attempting uninstall: nvidia-cufft-cu12\n",
      "    Found existing installation: nvidia-cufft-cu12 11.2.3.61\n",
      "    Uninstalling nvidia-cufft-cu12-11.2.3.61:\n",
      "      Successfully uninstalled nvidia-cufft-cu12-11.2.3.61\n",
      "  Attempting uninstall: nvidia-cuda-runtime-cu12\n",
      "    Found existing installation: nvidia-cuda-runtime-cu12 12.5.82\n",
      "    Uninstalling nvidia-cuda-runtime-cu12-12.5.82:\n",
      "      Successfully uninstalled nvidia-cuda-runtime-cu12-12.5.82\n",
      "  Attempting uninstall: nvidia-cuda-nvrtc-cu12\n",
      "    Found existing installation: nvidia-cuda-nvrtc-cu12 12.5.82\n",
      "    Uninstalling nvidia-cuda-nvrtc-cu12-12.5.82:\n",
      "      Successfully uninstalled nvidia-cuda-nvrtc-cu12-12.5.82\n",
      "  Attempting uninstall: nvidia-cuda-cupti-cu12\n",
      "    Found existing installation: nvidia-cuda-cupti-cu12 12.5.82\n",
      "    Uninstalling nvidia-cuda-cupti-cu12-12.5.82:\n",
      "      Successfully uninstalled nvidia-cuda-cupti-cu12-12.5.82\n",
      "  Attempting uninstall: nvidia-cublas-cu12\n",
      "    Found existing installation: nvidia-cublas-cu12 12.5.3.2\n",
      "    Uninstalling nvidia-cublas-cu12-12.5.3.2:\n",
      "      Successfully uninstalled nvidia-cublas-cu12-12.5.3.2\n",
      "  Attempting uninstall: nvidia-cusparse-cu12\n",
      "    Found existing installation: nvidia-cusparse-cu12 12.5.1.3\n",
      "    Uninstalling nvidia-cusparse-cu12-12.5.1.3:\n",
      "      Successfully uninstalled nvidia-cusparse-cu12-12.5.1.3\n",
      "  Attempting uninstall: nvidia-cudnn-cu12\n",
      "    Found existing installation: nvidia-cudnn-cu12 9.3.0.75\n",
      "    Uninstalling nvidia-cudnn-cu12-9.3.0.75:\n",
      "      Successfully uninstalled nvidia-cudnn-cu12-9.3.0.75\n",
      "  Attempting uninstall: nvidia-cusolver-cu12\n",
      "    Found existing installation: nvidia-cusolver-cu12 11.6.3.83\n",
      "    Uninstalling nvidia-cusolver-cu12-11.6.3.83:\n",
      "      Successfully uninstalled nvidia-cusolver-cu12-11.6.3.83\n",
      "Successfully installed nvidia-cublas-cu12-12.4.5.8 nvidia-cuda-cupti-cu12-12.4.127 nvidia-cuda-nvrtc-cu12-12.4.127 nvidia-cuda-runtime-cu12-12.4.127 nvidia-cudnn-cu12-9.1.0.70 nvidia-cufft-cu12-11.2.1.3 nvidia-curand-cu12-10.3.5.147 nvidia-cusolver-cu12-11.6.1.9 nvidia-cusparse-cu12-12.3.1.170 nvidia-nvjitlink-cu12-12.4.127 ultralytics-8.3.114 ultralytics-thop-2.0.14\n"
     ]
    }
   ],
   "source": [
    "!pip install ultralytics"
   ]
  },
  {
   "cell_type": "code",
   "execution_count": 7,
   "metadata": {
    "colab": {
     "base_uri": "https://localhost:8080/"
    },
    "executionInfo": {
     "elapsed": 17455,
     "status": "ok",
     "timestamp": 1745398775348,
     "user": {
      "displayName": "Saiteja Vuppala",
      "userId": "17073075911846516287"
     },
     "user_tz": -330
    },
    "id": "g_e4OmCsy-mr",
    "outputId": "7b8969ca-7236-45ce-c82e-c895f57e009e"
   },
   "outputs": [
    {
     "name": "stdout",
     "output_type": "stream",
     "text": [
      "Creating new Ultralytics Settings v0.0.6 file ✅ \n",
      "View Ultralytics Settings with 'yolo settings' or at '/root/.config/Ultralytics/settings.json'\n",
      "Update Settings with 'yolo settings key=value', i.e. 'yolo settings runs_dir=path/to/dir'. For help see https://docs.ultralytics.com/quickstart/#ultralytics-settings.\n"
     ]
    }
   ],
   "source": [
    "from ultralytics import YOLO\n",
    "from roboflow import Roboflow\n",
    "import cv2\n",
    "from pathlib import Path"
   ]
  },
  {
   "cell_type": "code",
   "execution_count": 8,
   "metadata": {
    "executionInfo": {
     "elapsed": 13,
     "status": "ok",
     "timestamp": 1745398775364,
     "user": {
      "displayName": "Saiteja Vuppala",
      "userId": "17073075911846516287"
     },
     "user_tz": -330
    },
    "id": "qi2Gv8ChzrdQ"
   },
   "outputs": [],
   "source": [
    "import os"
   ]
  },
  {
   "cell_type": "code",
   "execution_count": 9,
   "metadata": {
    "colab": {
     "base_uri": "https://localhost:8080/"
    },
    "executionInfo": {
     "elapsed": 84,
     "status": "ok",
     "timestamp": 1745398775449,
     "user": {
      "displayName": "Saiteja Vuppala",
      "userId": "17073075911846516287"
     },
     "user_tz": -330
    },
    "id": "idNhabp5hxcp",
    "outputId": "be0357b2-3633-49f3-e55d-e5837e1209e9"
   },
   "outputs": [
    {
     "name": "stdout",
     "output_type": "stream",
     "text": [
      "/content/drive/MyDrive/Medical_Device_Detection/Medical_Device_Detection-1\n"
     ]
    }
   ],
   "source": [
    "%cd /content/drive/MyDrive/Medical_Device_Detection/Medical_Device_Detection-1"
   ]
  },
  {
   "cell_type": "code",
   "execution_count": null,
   "metadata": {
    "colab": {
     "base_uri": "https://localhost:8080/"
    },
    "id": "q2NzpJHVzK0V",
    "outputId": "0f9e3e9d-4ce5-4477-ba24-c0ca2cc44ca2"
   },
   "outputs": [
    {
     "name": "stdout",
     "output_type": "stream",
     "text": [
      "loading Roboflow workspace...\n",
      "loading Roboflow project...\n"
     ]
    },
    {
     "name": "stderr",
     "output_type": "stream",
     "text": [
      "Downloading Dataset Version Zip in Medical_Device_Detection-1 to yolov8:: 100%|██████████| 111635/111635 [00:03<00:00, 29073.46it/s]"
     ]
    },
    {
     "name": "stdout",
     "output_type": "stream",
     "text": [
      "\n"
     ]
    },
    {
     "name": "stderr",
     "output_type": "stream",
     "text": [
      "\n",
      "Extracting Dataset Version Zip to Medical_Device_Detection-1 in yolov8:: 100%|██████████| 5893/5893 [00:01<00:00, 5167.37it/s]\n"
     ]
    }
   ],
   "source": [
    "rf = Roboflow(api_key=\"u3uE08ishpBav4eC4oFX\")\n",
    "project = rf.workspace(\"sais-vthte\").project(\"medical_device_detection-dwbfc\")\n",
    "version = project.version(1)\n",
    "\n",
    "dataset = version.download(\"yolov8\")"
   ]
  },
  {
   "cell_type": "code",
   "execution_count": null,
   "metadata": {
    "colab": {
     "base_uri": "https://localhost:8080/"
    },
    "id": "s_ioJ6E5zX-y",
    "outputId": "c8e5f89c-daf5-46ac-e859-583e89c1c4fa"
   },
   "outputs": [
    {
     "name": "stdout",
     "output_type": "stream",
     "text": [
      "/content/Medical_Device_Detection-1\n"
     ]
    }
   ],
   "source": [
    "print(dataset.location)"
   ]
  },
  {
   "cell_type": "code",
   "execution_count": 14,
   "metadata": {
    "colab": {
     "base_uri": "https://localhost:8080/"
    },
    "executionInfo": {
     "elapsed": 112,
     "status": "ok",
     "timestamp": 1745393115347,
     "user": {
      "displayName": "Saiteja Vuppala",
      "userId": "17073075911846516287"
     },
     "user_tz": -330
    },
    "id": "z13O24rQzetV",
    "outputId": "46058973-a04b-4acf-b698-80e8c4ab11ae"
   },
   "outputs": [
    {
     "name": "stdout",
     "output_type": "stream",
     "text": [
      "data.yaml\t     runs  train  validation_crops  yolov8s.pt\n",
      "README.roboflow.txt  test  valid  yolo11n.pt\n"
     ]
    }
   ],
   "source": [
    "!dir"
   ]
  },
  {
   "cell_type": "code",
   "execution_count": 15,
   "metadata": {
    "colab": {
     "base_uri": "https://localhost:8080/"
    },
    "executionInfo": {
     "elapsed": 49,
     "status": "ok",
     "timestamp": 1745393123156,
     "user": {
      "displayName": "Saiteja Vuppala",
      "userId": "17073075911846516287"
     },
     "user_tz": -330
    },
    "id": "_rSb3wA3zjuc",
    "outputId": "20ae9e8b-a89d-4187-951a-540143918040"
   },
   "outputs": [
    {
     "name": "stdout",
     "output_type": "stream",
     "text": [
      "True\n"
     ]
    }
   ],
   "source": [
    "print(os.path.exists(\"data.yaml\"))"
   ]
  },
  {
   "cell_type": "code",
   "execution_count": null,
   "metadata": {
    "colab": {
     "base_uri": "https://localhost:8080/"
    },
    "id": "mVxQWljLztg3",
    "outputId": "4d3e670f-8d1f-42d3-d14e-7b60ae54ab84"
   },
   "outputs": [
    {
     "name": "stdout",
     "output_type": "stream",
     "text": [
      "Downloading https://github.com/ultralytics/assets/releases/download/v8.3.0/yolov8s.pt to 'yolov8s.pt'...\n"
     ]
    },
    {
     "name": "stderr",
     "output_type": "stream",
     "text": [
      "100%|██████████| 21.5M/21.5M [00:00<00:00, 301MB/s]\n"
     ]
    }
   ],
   "source": [
    "model = YOLO(\"yolov8s.pt\")"
   ]
  },
  {
   "cell_type": "code",
   "execution_count": null,
   "metadata": {
    "colab": {
     "base_uri": "https://localhost:8080/"
    },
    "id": "0viGoXCAzwrL",
    "outputId": "04667f79-1a1d-4301-c87c-5ed600f80ea5"
   },
   "outputs": [
    {
     "name": "stdout",
     "output_type": "stream",
     "text": [
      "Ultralytics 8.3.113 🚀 Python-3.11.12 torch-2.6.0+cu124 CUDA:0 (Tesla T4, 15095MiB)\n",
      "\u001b[34m\u001b[1mengine/trainer: \u001b[0mtask=detect, mode=train, model=yolov8s.pt, data=/content/Medical_Device_Detection-1/data.yaml, epochs=100, time=None, patience=100, batch=16, imgsz=640, save=True, save_period=-1, cache=False, device=None, workers=8, project=None, name=device_detector, exist_ok=False, pretrained=True, optimizer=Adam, verbose=True, seed=0, deterministic=True, single_cls=False, rect=False, cos_lr=False, close_mosaic=10, resume=False, amp=True, fraction=1.0, profile=False, freeze=None, multi_scale=False, overlap_mask=True, mask_ratio=4, dropout=0.0, val=True, split=val, save_json=False, conf=None, iou=0.7, max_det=300, half=False, dnn=False, plots=True, source=None, vid_stride=1, stream_buffer=False, visualize=False, augment=False, agnostic_nms=False, classes=None, retina_masks=False, embed=None, show=False, save_frames=False, save_txt=False, save_conf=False, save_crop=False, show_labels=True, show_conf=True, show_boxes=True, line_width=None, format=torchscript, keras=False, optimize=False, int8=False, dynamic=False, simplify=True, opset=None, workspace=None, nms=False, lr0=0.01, lrf=0.01, momentum=0.937, weight_decay=0.0005, warmup_epochs=3.0, warmup_momentum=0.8, warmup_bias_lr=0.1, box=7.5, cls=0.5, dfl=1.5, pose=12.0, kobj=1.0, nbs=64, hsv_h=0.015, hsv_s=0.7, hsv_v=0.4, degrees=0.0, translate=0.1, scale=0.5, shear=0.0, perspective=0.0, flipud=0.0, fliplr=0.5, bgr=0.0, mosaic=1.0, mixup=0.0, copy_paste=0.0, copy_paste_mode=flip, auto_augment=randaugment, erasing=0.4, cfg=None, tracker=botsort.yaml, save_dir=runs/detect/device_detector\n",
      "Downloading https://ultralytics.com/assets/Arial.ttf to '/root/.config/Ultralytics/Arial.ttf'...\n"
     ]
    },
    {
     "name": "stderr",
     "output_type": "stream",
     "text": [
      "100%|██████████| 755k/755k [00:00<00:00, 34.9MB/s]"
     ]
    },
    {
     "name": "stdout",
     "output_type": "stream",
     "text": [
      "Overriding model.yaml nc=80 with nc=5\n",
      "\n",
      "                   from  n    params  module                                       arguments                     \n",
      "  0                  -1  1       928  ultralytics.nn.modules.conv.Conv             [3, 32, 3, 2]                 \n",
      "  1                  -1  1     18560  ultralytics.nn.modules.conv.Conv             [32, 64, 3, 2]                \n",
      "  2                  -1  1     29056  ultralytics.nn.modules.block.C2f             [64, 64, 1, True]             \n",
      "  3                  -1  1     73984  ultralytics.nn.modules.conv.Conv             [64, 128, 3, 2]               \n",
      "  4                  -1  2    197632  ultralytics.nn.modules.block.C2f             [128, 128, 2, True]           \n",
      "  5                  -1  1    295424  ultralytics.nn.modules.conv.Conv             [128, 256, 3, 2]              \n",
      "  6                  -1  2    788480  ultralytics.nn.modules.block.C2f             [256, 256, 2, True]           \n",
      "  7                  -1  1   1180672  ultralytics.nn.modules.conv.Conv             [256, 512, 3, 2]              \n"
     ]
    },
    {
     "name": "stderr",
     "output_type": "stream",
     "text": [
      "\n"
     ]
    },
    {
     "name": "stdout",
     "output_type": "stream",
     "text": [
      "  8                  -1  1   1838080  ultralytics.nn.modules.block.C2f             [512, 512, 1, True]           \n",
      "  9                  -1  1    656896  ultralytics.nn.modules.block.SPPF            [512, 512, 5]                 \n",
      " 10                  -1  1         0  torch.nn.modules.upsampling.Upsample         [None, 2, 'nearest']          \n",
      " 11             [-1, 6]  1         0  ultralytics.nn.modules.conv.Concat           [1]                           \n",
      " 12                  -1  1    591360  ultralytics.nn.modules.block.C2f             [768, 256, 1]                 \n",
      " 13                  -1  1         0  torch.nn.modules.upsampling.Upsample         [None, 2, 'nearest']          \n",
      " 14             [-1, 4]  1         0  ultralytics.nn.modules.conv.Concat           [1]                           \n",
      " 15                  -1  1    148224  ultralytics.nn.modules.block.C2f             [384, 128, 1]                 \n",
      " 16                  -1  1    147712  ultralytics.nn.modules.conv.Conv             [128, 128, 3, 2]              \n",
      " 17            [-1, 12]  1         0  ultralytics.nn.modules.conv.Concat           [1]                           \n",
      " 18                  -1  1    493056  ultralytics.nn.modules.block.C2f             [384, 256, 1]                 \n",
      " 19                  -1  1    590336  ultralytics.nn.modules.conv.Conv             [256, 256, 3, 2]              \n",
      " 20             [-1, 9]  1         0  ultralytics.nn.modules.conv.Concat           [1]                           \n",
      " 21                  -1  1   1969152  ultralytics.nn.modules.block.C2f             [768, 512, 1]                 \n",
      " 22        [15, 18, 21]  1   2117983  ultralytics.nn.modules.head.Detect           [5, [128, 256, 512]]          \n",
      "Model summary: 129 layers, 11,137,535 parameters, 11,137,519 gradients, 28.7 GFLOPs\n",
      "\n",
      "Transferred 349/355 items from pretrained weights\n",
      "Freezing layer 'model.22.dfl.conv.weight'\n",
      "\u001b[34m\u001b[1mAMP: \u001b[0mrunning Automatic Mixed Precision (AMP) checks...\n",
      "Downloading https://github.com/ultralytics/assets/releases/download/v8.3.0/yolo11n.pt to 'yolo11n.pt'...\n"
     ]
    },
    {
     "name": "stderr",
     "output_type": "stream",
     "text": [
      "100%|██████████| 5.35M/5.35M [00:00<00:00, 127MB/s]\n"
     ]
    },
    {
     "name": "stdout",
     "output_type": "stream",
     "text": [
      "\u001b[34m\u001b[1mAMP: \u001b[0mchecks passed ✅\n",
      "\u001b[34m\u001b[1mtrain: \u001b[0mFast image access ✅ (ping: 0.0±0.0 ms, read: 744.2±376.0 MB/s, size: 22.0 KB)\n"
     ]
    },
    {
     "name": "stderr",
     "output_type": "stream",
     "text": [
      "\u001b[34m\u001b[1mtrain: \u001b[0mScanning /content/Medical_Device_Detection-1/train/labels... 2365 images, 3 backgrounds, 0 corrupt: 100%|██████████| 2365/2365 [00:01<00:00, 1872.76it/s]"
     ]
    },
    {
     "name": "stdout",
     "output_type": "stream",
     "text": [
      "\u001b[34m\u001b[1mtrain: \u001b[0m/content/Medical_Device_Detection-1/train/images/20230723_175010114_iOS_jpg.rf.5aabcd2fce8e54fca64badb905b3079c.jpg: 1 duplicate labels removed\n",
      "\u001b[34m\u001b[1mtrain: \u001b[0m/content/Medical_Device_Detection-1/train/images/20230723_175010114_iOS_jpg.rf.deed082d873cf948fd0be7ff9e4e7cac.jpg: 1 duplicate labels removed\n",
      "\u001b[34m\u001b[1mtrain: \u001b[0m/content/Medical_Device_Detection-1/train/images/20230723_175109837_iOS_jpg.rf.7154cbead193c170576ababd87d2d843.jpg: 1 duplicate labels removed\n",
      "\u001b[34m\u001b[1mtrain: \u001b[0m/content/Medical_Device_Detection-1/train/images/20230723_175109837_iOS_jpg.rf.a8e7ee0b1b78b359064c5d805d1f3a14.jpg: 1 duplicate labels removed\n",
      "\u001b[34m\u001b[1mtrain: \u001b[0mNew cache created: /content/Medical_Device_Detection-1/train/labels.cache\n",
      "WARNING ⚠️ Box and segment counts should be equal, but got len(segments) = 2336, len(boxes) = 2372. To resolve this only boxes will be used and all segments will be removed. To avoid this please supply either a detect or segment dataset, not a detect-segment mixed dataset.\n"
     ]
    },
    {
     "name": "stderr",
     "output_type": "stream",
     "text": [
      "\n"
     ]
    },
    {
     "name": "stdout",
     "output_type": "stream",
     "text": [
      "\u001b[34m\u001b[1malbumentations: \u001b[0mBlur(p=0.01, blur_limit=(3, 7)), MedianBlur(p=0.01, blur_limit=(3, 7)), ToGray(p=0.01, num_output_channels=3, method='weighted_average'), CLAHE(p=0.01, clip_limit=(1.0, 4.0), tile_grid_size=(8, 8))\n",
      "\u001b[34m\u001b[1mval: \u001b[0mFast image access ✅ (ping: 0.1±0.1 ms, read: 533.3±285.5 MB/s, size: 30.1 KB)\n"
     ]
    },
    {
     "name": "stderr",
     "output_type": "stream",
     "text": [
      "\u001b[34m\u001b[1mval: \u001b[0mScanning /content/Medical_Device_Detection-1/valid/labels... 384 images, 4 backgrounds, 0 corrupt: 100%|██████████| 384/384 [00:00<00:00, 814.78it/s]"
     ]
    },
    {
     "name": "stdout",
     "output_type": "stream",
     "text": [
      "\u001b[34m\u001b[1mval: \u001b[0mNew cache created: /content/Medical_Device_Detection-1/valid/labels.cache\n",
      "WARNING ⚠️ Box and segment counts should be equal, but got len(segments) = 375, len(boxes) = 380. To resolve this only boxes will be used and all segments will be removed. To avoid this please supply either a detect or segment dataset, not a detect-segment mixed dataset.\n"
     ]
    },
    {
     "name": "stderr",
     "output_type": "stream",
     "text": [
      "\n"
     ]
    },
    {
     "name": "stdout",
     "output_type": "stream",
     "text": [
      "Plotting labels to runs/detect/device_detector/labels.jpg... \n",
      "\u001b[34m\u001b[1moptimizer:\u001b[0m Adam(lr=0.01, momentum=0.937) with parameter groups 57 weight(decay=0.0), 64 weight(decay=0.0005), 63 bias(decay=0.0)\n",
      "Image sizes 640 train, 640 val\n",
      "Using 2 dataloader workers\n",
      "Logging results to \u001b[1mruns/detect/device_detector\u001b[0m\n",
      "Starting training for 100 epochs...\n",
      "\n",
      "      Epoch    GPU_mem   box_loss   cls_loss   dfl_loss  Instances       Size\n"
     ]
    },
    {
     "name": "stderr",
     "output_type": "stream",
     "text": [
      "      1/100      3.69G      1.342      2.475      1.705         27        640: 100%|██████████| 148/148 [00:51<00:00,  2.86it/s]\n",
      "                 Class     Images  Instances      Box(P          R      mAP50  mAP50-95): 100%|██████████| 12/12 [00:05<00:00,  2.27it/s]"
     ]
    },
    {
     "name": "stdout",
     "output_type": "stream",
     "text": [
      "                   all        384        380      0.403     0.0351    0.00282   0.000694\n"
     ]
    },
    {
     "name": "stderr",
     "output_type": "stream",
     "text": [
      "\n"
     ]
    },
    {
     "name": "stdout",
     "output_type": "stream",
     "text": [
      "\n",
      "      Epoch    GPU_mem   box_loss   cls_loss   dfl_loss  Instances       Size\n"
     ]
    },
    {
     "name": "stderr",
     "output_type": "stream",
     "text": [
      "      2/100      4.48G      1.418      2.196      1.735         30        640: 100%|██████████| 148/148 [00:48<00:00,  3.07it/s]\n",
      "                 Class     Images  Instances      Box(P          R      mAP50  mAP50-95): 100%|██████████| 12/12 [00:03<00:00,  3.20it/s]"
     ]
    },
    {
     "name": "stdout",
     "output_type": "stream",
     "text": [
      "                   all        384        380      0.152      0.229      0.141     0.0596\n"
     ]
    },
    {
     "name": "stderr",
     "output_type": "stream",
     "text": [
      "\n"
     ]
    },
    {
     "name": "stdout",
     "output_type": "stream",
     "text": [
      "\n",
      "      Epoch    GPU_mem   box_loss   cls_loss   dfl_loss  Instances       Size\n"
     ]
    },
    {
     "name": "stderr",
     "output_type": "stream",
     "text": [
      "      3/100      4.52G      1.313      1.954      1.637         24        640: 100%|██████████| 148/148 [00:47<00:00,  3.11it/s]\n",
      "                 Class     Images  Instances      Box(P          R      mAP50  mAP50-95): 100%|██████████| 12/12 [00:03<00:00,  3.08it/s]"
     ]
    },
    {
     "name": "stdout",
     "output_type": "stream",
     "text": [
      "                   all        384        380      0.804    0.00206   0.000861   0.000209\n"
     ]
    },
    {
     "name": "stderr",
     "output_type": "stream",
     "text": [
      "\n"
     ]
    },
    {
     "name": "stdout",
     "output_type": "stream",
     "text": [
      "\n",
      "      Epoch    GPU_mem   box_loss   cls_loss   dfl_loss  Instances       Size\n"
     ]
    },
    {
     "name": "stderr",
     "output_type": "stream",
     "text": [
      "      4/100      4.56G        1.2      1.757      1.537         33        640: 100%|██████████| 148/148 [00:48<00:00,  3.08it/s]\n",
      "                 Class     Images  Instances      Box(P          R      mAP50  mAP50-95): 100%|██████████| 12/12 [00:03<00:00,  3.07it/s]"
     ]
    },
    {
     "name": "stdout",
     "output_type": "stream",
     "text": [
      "                   all        384        380      0.621      0.384       0.29      0.161\n"
     ]
    },
    {
     "name": "stderr",
     "output_type": "stream",
     "text": [
      "\n"
     ]
    },
    {
     "name": "stdout",
     "output_type": "stream",
     "text": [
      "\n",
      "      Epoch    GPU_mem   box_loss   cls_loss   dfl_loss  Instances       Size\n"
     ]
    },
    {
     "name": "stderr",
     "output_type": "stream",
     "text": [
      "      5/100      4.59G      1.146      1.622      1.497         32        640: 100%|██████████| 148/148 [00:46<00:00,  3.16it/s]\n",
      "                 Class     Images  Instances      Box(P          R      mAP50  mAP50-95): 100%|██████████| 12/12 [00:03<00:00,  3.04it/s]"
     ]
    },
    {
     "name": "stdout",
     "output_type": "stream",
     "text": [
      "                   all        384        380      0.746      0.436      0.505      0.354\n"
     ]
    },
    {
     "name": "stderr",
     "output_type": "stream",
     "text": [
      "\n"
     ]
    },
    {
     "name": "stdout",
     "output_type": "stream",
     "text": [
      "\n",
      "      Epoch    GPU_mem   box_loss   cls_loss   dfl_loss  Instances       Size\n"
     ]
    },
    {
     "name": "stderr",
     "output_type": "stream",
     "text": [
      "      6/100      4.63G      1.071      1.496       1.45         37        640: 100%|██████████| 148/148 [00:46<00:00,  3.15it/s]\n",
      "                 Class     Images  Instances      Box(P          R      mAP50  mAP50-95): 100%|██████████| 12/12 [00:04<00:00,  2.96it/s]"
     ]
    },
    {
     "name": "stdout",
     "output_type": "stream",
     "text": [
      "                   all        384        380      0.666      0.315      0.336       0.24\n"
     ]
    },
    {
     "name": "stderr",
     "output_type": "stream",
     "text": [
      "\n"
     ]
    },
    {
     "name": "stdout",
     "output_type": "stream",
     "text": [
      "\n",
      "      Epoch    GPU_mem   box_loss   cls_loss   dfl_loss  Instances       Size\n"
     ]
    },
    {
     "name": "stderr",
     "output_type": "stream",
     "text": [
      "      7/100      4.67G      1.044      1.433      1.419         21        640: 100%|██████████| 148/148 [00:47<00:00,  3.11it/s]\n",
      "                 Class     Images  Instances      Box(P          R      mAP50  mAP50-95): 100%|██████████| 12/12 [00:04<00:00,  2.96it/s]"
     ]
    },
    {
     "name": "stdout",
     "output_type": "stream",
     "text": [
      "                   all        384        380      0.942      0.112      0.172     0.0962\n"
     ]
    },
    {
     "name": "stderr",
     "output_type": "stream",
     "text": [
      "\n"
     ]
    },
    {
     "name": "stdout",
     "output_type": "stream",
     "text": [
      "\n",
      "      Epoch    GPU_mem   box_loss   cls_loss   dfl_loss  Instances       Size\n"
     ]
    },
    {
     "name": "stderr",
     "output_type": "stream",
     "text": [
      "      8/100       4.7G      1.001      1.358      1.383         27        640: 100%|██████████| 148/148 [00:47<00:00,  3.11it/s]\n",
      "                 Class     Images  Instances      Box(P          R      mAP50  mAP50-95): 100%|██████████| 12/12 [00:03<00:00,  3.11it/s]"
     ]
    },
    {
     "name": "stdout",
     "output_type": "stream",
     "text": [
      "                   all        384        380      0.832      0.598      0.715      0.496\n"
     ]
    },
    {
     "name": "stderr",
     "output_type": "stream",
     "text": [
      "\n"
     ]
    },
    {
     "name": "stdout",
     "output_type": "stream",
     "text": [
      "\n",
      "      Epoch    GPU_mem   box_loss   cls_loss   dfl_loss  Instances       Size\n"
     ]
    },
    {
     "name": "stderr",
     "output_type": "stream",
     "text": [
      "      9/100      4.74G      1.003      1.332      1.384         26        640: 100%|██████████| 148/148 [00:48<00:00,  3.05it/s]\n",
      "                 Class     Images  Instances      Box(P          R      mAP50  mAP50-95): 100%|██████████| 12/12 [00:03<00:00,  3.04it/s]"
     ]
    },
    {
     "name": "stdout",
     "output_type": "stream",
     "text": [
      "                   all        384        380      0.804      0.535      0.617      0.461\n"
     ]
    },
    {
     "name": "stderr",
     "output_type": "stream",
     "text": [
      "\n"
     ]
    },
    {
     "name": "stdout",
     "output_type": "stream",
     "text": [
      "\n",
      "      Epoch    GPU_mem   box_loss   cls_loss   dfl_loss  Instances       Size\n"
     ]
    },
    {
     "name": "stderr",
     "output_type": "stream",
     "text": [
      "     10/100      4.77G     0.9693      1.283      1.372         32        640: 100%|██████████| 148/148 [00:47<00:00,  3.14it/s]\n",
      "                 Class     Images  Instances      Box(P          R      mAP50  mAP50-95): 100%|██████████| 12/12 [00:04<00:00,  2.99it/s]"
     ]
    },
    {
     "name": "stdout",
     "output_type": "stream",
     "text": [
      "                   all        384        380      0.659      0.672      0.698      0.504\n"
     ]
    },
    {
     "name": "stderr",
     "output_type": "stream",
     "text": [
      "\n"
     ]
    },
    {
     "name": "stdout",
     "output_type": "stream",
     "text": [
      "\n",
      "      Epoch    GPU_mem   box_loss   cls_loss   dfl_loss  Instances       Size\n"
     ]
    },
    {
     "name": "stderr",
     "output_type": "stream",
     "text": [
      "     11/100      4.81G     0.9164      1.195      1.333         29        640: 100%|██████████| 148/148 [00:47<00:00,  3.13it/s]\n",
      "                 Class     Images  Instances      Box(P          R      mAP50  mAP50-95): 100%|██████████| 12/12 [00:03<00:00,  3.11it/s]"
     ]
    },
    {
     "name": "stdout",
     "output_type": "stream",
     "text": [
      "                   all        384        380      0.669      0.758      0.759      0.556\n"
     ]
    },
    {
     "name": "stderr",
     "output_type": "stream",
     "text": [
      "\n"
     ]
    },
    {
     "name": "stdout",
     "output_type": "stream",
     "text": [
      "\n",
      "      Epoch    GPU_mem   box_loss   cls_loss   dfl_loss  Instances       Size\n"
     ]
    },
    {
     "name": "stderr",
     "output_type": "stream",
     "text": [
      "     12/100      4.85G     0.9194      1.192      1.328         26        640: 100%|██████████| 148/148 [00:47<00:00,  3.12it/s]\n",
      "                 Class     Images  Instances      Box(P          R      mAP50  mAP50-95): 100%|██████████| 12/12 [00:03<00:00,  3.16it/s]"
     ]
    },
    {
     "name": "stdout",
     "output_type": "stream",
     "text": [
      "                   all        384        380      0.622      0.624      0.629      0.395\n"
     ]
    },
    {
     "name": "stderr",
     "output_type": "stream",
     "text": [
      "\n"
     ]
    },
    {
     "name": "stdout",
     "output_type": "stream",
     "text": [
      "\n",
      "      Epoch    GPU_mem   box_loss   cls_loss   dfl_loss  Instances       Size\n"
     ]
    },
    {
     "name": "stderr",
     "output_type": "stream",
     "text": [
      "     13/100      4.88G     0.9038      1.136      1.309         20        640: 100%|██████████| 148/148 [00:47<00:00,  3.10it/s]\n",
      "                 Class     Images  Instances      Box(P          R      mAP50  mAP50-95): 100%|██████████| 12/12 [00:03<00:00,  3.17it/s]"
     ]
    },
    {
     "name": "stdout",
     "output_type": "stream",
     "text": [
      "                   all        384        380       0.67      0.773      0.775      0.587\n"
     ]
    },
    {
     "name": "stderr",
     "output_type": "stream",
     "text": [
      "\n"
     ]
    },
    {
     "name": "stdout",
     "output_type": "stream",
     "text": [
      "\n",
      "      Epoch    GPU_mem   box_loss   cls_loss   dfl_loss  Instances       Size\n"
     ]
    },
    {
     "name": "stderr",
     "output_type": "stream",
     "text": [
      "     14/100      4.92G     0.9066      1.111      1.319         34        640: 100%|██████████| 148/148 [00:47<00:00,  3.13it/s]\n",
      "                 Class     Images  Instances      Box(P          R      mAP50  mAP50-95): 100%|██████████| 12/12 [00:03<00:00,  3.12it/s]"
     ]
    },
    {
     "name": "stdout",
     "output_type": "stream",
     "text": [
      "                   all        384        380      0.664      0.805      0.801      0.593\n"
     ]
    },
    {
     "name": "stderr",
     "output_type": "stream",
     "text": [
      "\n"
     ]
    },
    {
     "name": "stdout",
     "output_type": "stream",
     "text": [
      "\n",
      "      Epoch    GPU_mem   box_loss   cls_loss   dfl_loss  Instances       Size\n"
     ]
    },
    {
     "name": "stderr",
     "output_type": "stream",
     "text": [
      "     15/100      4.96G     0.8898      1.107      1.307         29        640: 100%|██████████| 148/148 [00:48<00:00,  3.03it/s]\n",
      "                 Class     Images  Instances      Box(P          R      mAP50  mAP50-95): 100%|██████████| 12/12 [00:03<00:00,  3.22it/s]"
     ]
    },
    {
     "name": "stdout",
     "output_type": "stream",
     "text": [
      "                   all        384        380      0.769      0.739      0.786      0.596\n"
     ]
    },
    {
     "name": "stderr",
     "output_type": "stream",
     "text": [
      "\n"
     ]
    },
    {
     "name": "stdout",
     "output_type": "stream",
     "text": [
      "\n",
      "      Epoch    GPU_mem   box_loss   cls_loss   dfl_loss  Instances       Size\n"
     ]
    },
    {
     "name": "stderr",
     "output_type": "stream",
     "text": [
      "     16/100      4.99G     0.8701      1.083      1.292         28        640: 100%|██████████| 148/148 [00:47<00:00,  3.14it/s]\n",
      "                 Class     Images  Instances      Box(P          R      mAP50  mAP50-95): 100%|██████████| 12/12 [00:03<00:00,  3.10it/s]"
     ]
    },
    {
     "name": "stdout",
     "output_type": "stream",
     "text": [
      "                   all        384        380      0.791      0.848      0.844      0.612\n"
     ]
    },
    {
     "name": "stderr",
     "output_type": "stream",
     "text": [
      "\n"
     ]
    },
    {
     "name": "stdout",
     "output_type": "stream",
     "text": [
      "\n",
      "      Epoch    GPU_mem   box_loss   cls_loss   dfl_loss  Instances       Size\n"
     ]
    },
    {
     "name": "stderr",
     "output_type": "stream",
     "text": [
      "     17/100      5.03G     0.8395       1.05      1.278         27        640: 100%|██████████| 148/148 [00:47<00:00,  3.14it/s]\n",
      "                 Class     Images  Instances      Box(P          R      mAP50  mAP50-95): 100%|██████████| 12/12 [00:03<00:00,  3.00it/s]"
     ]
    },
    {
     "name": "stdout",
     "output_type": "stream",
     "text": [
      "                   all        384        380      0.745      0.795       0.81      0.612\n"
     ]
    },
    {
     "name": "stderr",
     "output_type": "stream",
     "text": [
      "\n"
     ]
    },
    {
     "name": "stdout",
     "output_type": "stream",
     "text": [
      "\n",
      "      Epoch    GPU_mem   box_loss   cls_loss   dfl_loss  Instances       Size\n"
     ]
    },
    {
     "name": "stderr",
     "output_type": "stream",
     "text": [
      "     18/100      5.06G     0.8494      1.062       1.28         30        640: 100%|██████████| 148/148 [00:47<00:00,  3.14it/s]\n",
      "                 Class     Images  Instances      Box(P          R      mAP50  mAP50-95): 100%|██████████| 12/12 [00:03<00:00,  3.09it/s]"
     ]
    },
    {
     "name": "stdout",
     "output_type": "stream",
     "text": [
      "                   all        384        380      0.683      0.775      0.806      0.615\n"
     ]
    },
    {
     "name": "stderr",
     "output_type": "stream",
     "text": [
      "\n"
     ]
    },
    {
     "name": "stdout",
     "output_type": "stream",
     "text": [
      "\n",
      "      Epoch    GPU_mem   box_loss   cls_loss   dfl_loss  Instances       Size\n"
     ]
    },
    {
     "name": "stderr",
     "output_type": "stream",
     "text": [
      "     19/100       5.1G     0.8178      1.007      1.253         31        640: 100%|██████████| 148/148 [00:47<00:00,  3.13it/s]\n",
      "                 Class     Images  Instances      Box(P          R      mAP50  mAP50-95): 100%|██████████| 12/12 [00:03<00:00,  3.08it/s]"
     ]
    },
    {
     "name": "stdout",
     "output_type": "stream",
     "text": [
      "                   all        384        380      0.756      0.843      0.863       0.67\n"
     ]
    },
    {
     "name": "stderr",
     "output_type": "stream",
     "text": [
      "\n"
     ]
    },
    {
     "name": "stdout",
     "output_type": "stream",
     "text": [
      "\n",
      "      Epoch    GPU_mem   box_loss   cls_loss   dfl_loss  Instances       Size\n"
     ]
    },
    {
     "name": "stderr",
     "output_type": "stream",
     "text": [
      "     20/100      5.14G     0.8182     0.9901      1.264         25        640: 100%|██████████| 148/148 [00:47<00:00,  3.13it/s]\n",
      "                 Class     Images  Instances      Box(P          R      mAP50  mAP50-95): 100%|██████████| 12/12 [00:03<00:00,  3.09it/s]"
     ]
    },
    {
     "name": "stdout",
     "output_type": "stream",
     "text": [
      "                   all        384        380      0.798      0.761      0.846      0.663\n"
     ]
    },
    {
     "name": "stderr",
     "output_type": "stream",
     "text": [
      "\n"
     ]
    },
    {
     "name": "stdout",
     "output_type": "stream",
     "text": [
      "\n",
      "      Epoch    GPU_mem   box_loss   cls_loss   dfl_loss  Instances       Size\n"
     ]
    },
    {
     "name": "stderr",
     "output_type": "stream",
     "text": [
      "     21/100      5.17G     0.8176      1.002      1.252         34        640: 100%|██████████| 148/148 [00:48<00:00,  3.05it/s]\n",
      "                 Class     Images  Instances      Box(P          R      mAP50  mAP50-95): 100%|██████████| 12/12 [00:03<00:00,  3.17it/s]"
     ]
    },
    {
     "name": "stdout",
     "output_type": "stream",
     "text": [
      "                   all        384        380      0.793      0.829      0.859      0.665\n"
     ]
    },
    {
     "name": "stderr",
     "output_type": "stream",
     "text": [
      "\n"
     ]
    },
    {
     "name": "stdout",
     "output_type": "stream",
     "text": [
      "\n",
      "      Epoch    GPU_mem   box_loss   cls_loss   dfl_loss  Instances       Size\n"
     ]
    },
    {
     "name": "stderr",
     "output_type": "stream",
     "text": [
      "     22/100      5.21G     0.7935     0.9638       1.24         29        640: 100%|██████████| 148/148 [00:46<00:00,  3.16it/s]\n",
      "                 Class     Images  Instances      Box(P          R      mAP50  mAP50-95): 100%|██████████| 12/12 [00:03<00:00,  3.33it/s]"
     ]
    },
    {
     "name": "stdout",
     "output_type": "stream",
     "text": [
      "                   all        384        380      0.812      0.788      0.813      0.631\n"
     ]
    },
    {
     "name": "stderr",
     "output_type": "stream",
     "text": [
      "\n"
     ]
    },
    {
     "name": "stdout",
     "output_type": "stream",
     "text": [
      "\n",
      "      Epoch    GPU_mem   box_loss   cls_loss   dfl_loss  Instances       Size\n"
     ]
    },
    {
     "name": "stderr",
     "output_type": "stream",
     "text": [
      "     23/100      5.25G     0.8007     0.9608      1.236         35        640: 100%|██████████| 148/148 [00:45<00:00,  3.26it/s]\n",
      "                 Class     Images  Instances      Box(P          R      mAP50  mAP50-95): 100%|██████████| 12/12 [00:03<00:00,  3.38it/s]"
     ]
    },
    {
     "name": "stdout",
     "output_type": "stream",
     "text": [
      "                   all        384        380      0.722      0.846      0.851      0.676\n"
     ]
    },
    {
     "name": "stderr",
     "output_type": "stream",
     "text": [
      "\n"
     ]
    },
    {
     "name": "stdout",
     "output_type": "stream",
     "text": [
      "\n",
      "      Epoch    GPU_mem   box_loss   cls_loss   dfl_loss  Instances       Size\n"
     ]
    },
    {
     "name": "stderr",
     "output_type": "stream",
     "text": [
      "     24/100      5.28G     0.7659     0.9447      1.219         34        640: 100%|██████████| 148/148 [00:44<00:00,  3.30it/s]\n",
      "                 Class     Images  Instances      Box(P          R      mAP50  mAP50-95): 100%|██████████| 12/12 [00:03<00:00,  3.20it/s]"
     ]
    },
    {
     "name": "stdout",
     "output_type": "stream",
     "text": [
      "                   all        384        380      0.727      0.789      0.797      0.628\n"
     ]
    },
    {
     "name": "stderr",
     "output_type": "stream",
     "text": [
      "\n"
     ]
    },
    {
     "name": "stdout",
     "output_type": "stream",
     "text": [
      "\n",
      "      Epoch    GPU_mem   box_loss   cls_loss   dfl_loss  Instances       Size\n"
     ]
    },
    {
     "name": "stderr",
     "output_type": "stream",
     "text": [
      "     25/100      5.32G     0.7865     0.9342      1.238         32        640: 100%|██████████| 148/148 [00:44<00:00,  3.31it/s]\n",
      "                 Class     Images  Instances      Box(P          R      mAP50  mAP50-95): 100%|██████████| 12/12 [00:04<00:00,  2.92it/s]"
     ]
    },
    {
     "name": "stdout",
     "output_type": "stream",
     "text": [
      "                   all        384        380      0.774      0.881      0.871      0.676\n"
     ]
    },
    {
     "name": "stderr",
     "output_type": "stream",
     "text": [
      "\n"
     ]
    },
    {
     "name": "stdout",
     "output_type": "stream",
     "text": [
      "\n",
      "      Epoch    GPU_mem   box_loss   cls_loss   dfl_loss  Instances       Size\n"
     ]
    },
    {
     "name": "stderr",
     "output_type": "stream",
     "text": [
      "     26/100      5.36G     0.7644     0.9283       1.23         30        640: 100%|██████████| 148/148 [00:44<00:00,  3.32it/s]\n",
      "                 Class     Images  Instances      Box(P          R      mAP50  mAP50-95): 100%|██████████| 12/12 [00:04<00:00,  2.73it/s]"
     ]
    },
    {
     "name": "stdout",
     "output_type": "stream",
     "text": [
      "                   all        384        380      0.807      0.878      0.884      0.698\n"
     ]
    },
    {
     "name": "stderr",
     "output_type": "stream",
     "text": [
      "\n"
     ]
    },
    {
     "name": "stdout",
     "output_type": "stream",
     "text": [
      "\n",
      "      Epoch    GPU_mem   box_loss   cls_loss   dfl_loss  Instances       Size\n"
     ]
    },
    {
     "name": "stderr",
     "output_type": "stream",
     "text": [
      "     27/100      5.72G     0.7413     0.9087      1.207         30        640: 100%|██████████| 148/148 [00:48<00:00,  3.06it/s]\n",
      "                 Class     Images  Instances      Box(P          R      mAP50  mAP50-95): 100%|██████████| 12/12 [00:04<00:00,  2.42it/s]"
     ]
    },
    {
     "name": "stdout",
     "output_type": "stream",
     "text": [
      "                   all        384        380      0.792      0.824      0.855      0.664\n"
     ]
    },
    {
     "name": "stderr",
     "output_type": "stream",
     "text": [
      "\n"
     ]
    },
    {
     "name": "stdout",
     "output_type": "stream",
     "text": [
      "\n",
      "      Epoch    GPU_mem   box_loss   cls_loss   dfl_loss  Instances       Size\n"
     ]
    },
    {
     "name": "stderr",
     "output_type": "stream",
     "text": [
      "     28/100      5.75G     0.7672     0.9017      1.222         25        640: 100%|██████████| 148/148 [00:48<00:00,  3.07it/s]\n",
      "                 Class     Images  Instances      Box(P          R      mAP50  mAP50-95): 100%|██████████| 12/12 [00:04<00:00,  2.54it/s]"
     ]
    },
    {
     "name": "stdout",
     "output_type": "stream",
     "text": [
      "                   all        384        380      0.811      0.819      0.873      0.697\n"
     ]
    },
    {
     "name": "stderr",
     "output_type": "stream",
     "text": [
      "\n"
     ]
    },
    {
     "name": "stdout",
     "output_type": "stream",
     "text": [
      "\n",
      "      Epoch    GPU_mem   box_loss   cls_loss   dfl_loss  Instances       Size\n"
     ]
    },
    {
     "name": "stderr",
     "output_type": "stream",
     "text": [
      "     29/100      5.79G     0.7514     0.8933       1.21         23        640: 100%|██████████| 148/148 [00:48<00:00,  3.03it/s]\n",
      "                 Class     Images  Instances      Box(P          R      mAP50  mAP50-95): 100%|██████████| 12/12 [00:04<00:00,  2.61it/s]"
     ]
    },
    {
     "name": "stdout",
     "output_type": "stream",
     "text": [
      "                   all        384        380      0.811      0.903      0.898      0.726\n"
     ]
    },
    {
     "name": "stderr",
     "output_type": "stream",
     "text": [
      "\n"
     ]
    },
    {
     "name": "stdout",
     "output_type": "stream",
     "text": [
      "\n",
      "      Epoch    GPU_mem   box_loss   cls_loss   dfl_loss  Instances       Size\n"
     ]
    },
    {
     "name": "stderr",
     "output_type": "stream",
     "text": [
      "     30/100      5.82G     0.7445     0.8791        1.2         32        640: 100%|██████████| 148/148 [00:48<00:00,  3.06it/s]\n",
      "                 Class     Images  Instances      Box(P          R      mAP50  mAP50-95): 100%|██████████| 12/12 [00:04<00:00,  2.63it/s]"
     ]
    },
    {
     "name": "stdout",
     "output_type": "stream",
     "text": [
      "                   all        384        380      0.816      0.888      0.893      0.724\n"
     ]
    },
    {
     "name": "stderr",
     "output_type": "stream",
     "text": [
      "\n"
     ]
    },
    {
     "name": "stdout",
     "output_type": "stream",
     "text": [
      "\n",
      "      Epoch    GPU_mem   box_loss   cls_loss   dfl_loss  Instances       Size\n"
     ]
    },
    {
     "name": "stderr",
     "output_type": "stream",
     "text": [
      "     31/100      5.86G     0.7187     0.8207      1.187         30        640: 100%|██████████| 148/148 [00:48<00:00,  3.06it/s]\n",
      "                 Class     Images  Instances      Box(P          R      mAP50  mAP50-95): 100%|██████████| 12/12 [00:03<00:00,  3.14it/s]"
     ]
    },
    {
     "name": "stdout",
     "output_type": "stream",
     "text": [
      "                   all        384        380      0.801      0.844      0.869      0.694\n"
     ]
    },
    {
     "name": "stderr",
     "output_type": "stream",
     "text": [
      "\n"
     ]
    },
    {
     "name": "stdout",
     "output_type": "stream",
     "text": [
      "\n",
      "      Epoch    GPU_mem   box_loss   cls_loss   dfl_loss  Instances       Size\n"
     ]
    },
    {
     "name": "stderr",
     "output_type": "stream",
     "text": [
      "     32/100       5.9G     0.7257     0.8453      1.198         30        640: 100%|██████████| 148/148 [00:44<00:00,  3.30it/s]\n",
      "                 Class     Images  Instances      Box(P          R      mAP50  mAP50-95): 100%|██████████| 12/12 [00:03<00:00,  3.32it/s]"
     ]
    },
    {
     "name": "stdout",
     "output_type": "stream",
     "text": [
      "                   all        384        380      0.793      0.861      0.853        0.7\n"
     ]
    },
    {
     "name": "stderr",
     "output_type": "stream",
     "text": [
      "\n"
     ]
    },
    {
     "name": "stdout",
     "output_type": "stream",
     "text": [
      "\n",
      "      Epoch    GPU_mem   box_loss   cls_loss   dfl_loss  Instances       Size\n"
     ]
    },
    {
     "name": "stderr",
     "output_type": "stream",
     "text": [
      "     33/100      5.94G     0.7305     0.8392      1.198         27        640: 100%|██████████| 148/148 [00:47<00:00,  3.15it/s]\n",
      "                 Class     Images  Instances      Box(P          R      mAP50  mAP50-95): 100%|██████████| 12/12 [00:03<00:00,  3.22it/s]"
     ]
    },
    {
     "name": "stdout",
     "output_type": "stream",
     "text": [
      "                   all        384        380      0.823      0.865      0.894       0.71\n"
     ]
    },
    {
     "name": "stderr",
     "output_type": "stream",
     "text": [
      "\n"
     ]
    },
    {
     "name": "stdout",
     "output_type": "stream",
     "text": [
      "\n",
      "      Epoch    GPU_mem   box_loss   cls_loss   dfl_loss  Instances       Size\n"
     ]
    },
    {
     "name": "stderr",
     "output_type": "stream",
     "text": [
      "     34/100      5.97G     0.7218     0.8262      1.188         32        640: 100%|██████████| 148/148 [00:45<00:00,  3.24it/s]\n",
      "                 Class     Images  Instances      Box(P          R      mAP50  mAP50-95): 100%|██████████| 12/12 [00:03<00:00,  3.19it/s]"
     ]
    },
    {
     "name": "stdout",
     "output_type": "stream",
     "text": [
      "                   all        384        380      0.743      0.846      0.853      0.661\n"
     ]
    },
    {
     "name": "stderr",
     "output_type": "stream",
     "text": [
      "\n"
     ]
    },
    {
     "name": "stdout",
     "output_type": "stream",
     "text": [
      "\n",
      "      Epoch    GPU_mem   box_loss   cls_loss   dfl_loss  Instances       Size\n"
     ]
    },
    {
     "name": "stderr",
     "output_type": "stream",
     "text": [
      "     35/100      6.01G     0.7039     0.8409      1.191         33        640: 100%|██████████| 148/148 [00:44<00:00,  3.30it/s]\n",
      "                 Class     Images  Instances      Box(P          R      mAP50  mAP50-95): 100%|██████████| 12/12 [00:04<00:00,  2.92it/s]"
     ]
    },
    {
     "name": "stdout",
     "output_type": "stream",
     "text": [
      "                   all        384        380      0.844      0.873      0.898      0.734\n"
     ]
    },
    {
     "name": "stderr",
     "output_type": "stream",
     "text": [
      "\n"
     ]
    },
    {
     "name": "stdout",
     "output_type": "stream",
     "text": [
      "\n",
      "      Epoch    GPU_mem   box_loss   cls_loss   dfl_loss  Instances       Size\n"
     ]
    },
    {
     "name": "stderr",
     "output_type": "stream",
     "text": [
      "     36/100      6.04G     0.7139     0.8322      1.195         30        640: 100%|██████████| 148/148 [00:44<00:00,  3.31it/s]\n",
      "                 Class     Images  Instances      Box(P          R      mAP50  mAP50-95): 100%|██████████| 12/12 [00:04<00:00,  2.77it/s]"
     ]
    },
    {
     "name": "stdout",
     "output_type": "stream",
     "text": [
      "                   all        384        380      0.774      0.853      0.871      0.714\n"
     ]
    },
    {
     "name": "stderr",
     "output_type": "stream",
     "text": [
      "\n"
     ]
    },
    {
     "name": "stdout",
     "output_type": "stream",
     "text": [
      "\n",
      "      Epoch    GPU_mem   box_loss   cls_loss   dfl_loss  Instances       Size\n"
     ]
    },
    {
     "name": "stderr",
     "output_type": "stream",
     "text": [
      "     37/100      6.08G     0.6944     0.7998      1.181         23        640: 100%|██████████| 148/148 [00:44<00:00,  3.32it/s]\n",
      "                 Class     Images  Instances      Box(P          R      mAP50  mAP50-95): 100%|██████████| 12/12 [00:04<00:00,  2.80it/s]"
     ]
    },
    {
     "name": "stdout",
     "output_type": "stream",
     "text": [
      "                   all        384        380      0.874      0.885      0.903      0.748\n"
     ]
    },
    {
     "name": "stderr",
     "output_type": "stream",
     "text": [
      "\n"
     ]
    },
    {
     "name": "stdout",
     "output_type": "stream",
     "text": [
      "\n",
      "      Epoch    GPU_mem   box_loss   cls_loss   dfl_loss  Instances       Size\n"
     ]
    },
    {
     "name": "stderr",
     "output_type": "stream",
     "text": [
      "     38/100      6.12G     0.6945     0.7984      1.172         24        640: 100%|██████████| 148/148 [00:44<00:00,  3.32it/s]\n",
      "                 Class     Images  Instances      Box(P          R      mAP50  mAP50-95): 100%|██████████| 12/12 [00:03<00:00,  3.26it/s]"
     ]
    },
    {
     "name": "stdout",
     "output_type": "stream",
     "text": [
      "                   all        384        380      0.879      0.917      0.914      0.729\n"
     ]
    },
    {
     "name": "stderr",
     "output_type": "stream",
     "text": [
      "\n"
     ]
    },
    {
     "name": "stdout",
     "output_type": "stream",
     "text": [
      "\n",
      "      Epoch    GPU_mem   box_loss   cls_loss   dfl_loss  Instances       Size\n"
     ]
    },
    {
     "name": "stderr",
     "output_type": "stream",
     "text": [
      "     39/100      6.15G     0.6995     0.7738      1.175         31        640: 100%|██████████| 148/148 [00:45<00:00,  3.26it/s]\n",
      "                 Class     Images  Instances      Box(P          R      mAP50  mAP50-95): 100%|██████████| 12/12 [00:03<00:00,  3.32it/s]"
     ]
    },
    {
     "name": "stdout",
     "output_type": "stream",
     "text": [
      "                   all        384        380       0.86      0.835      0.882      0.721\n"
     ]
    },
    {
     "name": "stderr",
     "output_type": "stream",
     "text": [
      "\n"
     ]
    },
    {
     "name": "stdout",
     "output_type": "stream",
     "text": [
      "\n",
      "      Epoch    GPU_mem   box_loss   cls_loss   dfl_loss  Instances       Size\n"
     ]
    },
    {
     "name": "stderr",
     "output_type": "stream",
     "text": [
      "     40/100      6.19G     0.6771     0.7826      1.166         27        640: 100%|██████████| 148/148 [00:45<00:00,  3.29it/s]\n",
      "                 Class     Images  Instances      Box(P          R      mAP50  mAP50-95): 100%|██████████| 12/12 [00:03<00:00,  3.33it/s]"
     ]
    },
    {
     "name": "stdout",
     "output_type": "stream",
     "text": [
      "                   all        384        380      0.824      0.882      0.894       0.73\n"
     ]
    },
    {
     "name": "stderr",
     "output_type": "stream",
     "text": [
      "\n"
     ]
    },
    {
     "name": "stdout",
     "output_type": "stream",
     "text": [
      "\n",
      "      Epoch    GPU_mem   box_loss   cls_loss   dfl_loss  Instances       Size\n"
     ]
    },
    {
     "name": "stderr",
     "output_type": "stream",
     "text": [
      "     41/100      6.22G     0.6701     0.7705      1.166         31        640: 100%|██████████| 148/148 [00:44<00:00,  3.29it/s]\n",
      "                 Class     Images  Instances      Box(P          R      mAP50  mAP50-95): 100%|██████████| 12/12 [00:03<00:00,  3.22it/s]"
     ]
    },
    {
     "name": "stdout",
     "output_type": "stream",
     "text": [
      "                   all        384        380      0.873      0.886      0.901       0.73\n"
     ]
    },
    {
     "name": "stderr",
     "output_type": "stream",
     "text": [
      "\n"
     ]
    },
    {
     "name": "stdout",
     "output_type": "stream",
     "text": [
      "\n",
      "      Epoch    GPU_mem   box_loss   cls_loss   dfl_loss  Instances       Size\n"
     ]
    },
    {
     "name": "stderr",
     "output_type": "stream",
     "text": [
      "     42/100      6.26G     0.6906     0.7619      1.179         29        640: 100%|██████████| 148/148 [00:46<00:00,  3.15it/s]\n",
      "                 Class     Images  Instances      Box(P          R      mAP50  mAP50-95): 100%|██████████| 12/12 [00:03<00:00,  3.11it/s]"
     ]
    },
    {
     "name": "stdout",
     "output_type": "stream",
     "text": [
      "                   all        384        380      0.828      0.841      0.894      0.734\n"
     ]
    },
    {
     "name": "stderr",
     "output_type": "stream",
     "text": [
      "\n"
     ]
    },
    {
     "name": "stdout",
     "output_type": "stream",
     "text": [
      "\n",
      "      Epoch    GPU_mem   box_loss   cls_loss   dfl_loss  Instances       Size\n"
     ]
    },
    {
     "name": "stderr",
     "output_type": "stream",
     "text": [
      "     43/100       6.3G     0.6625     0.7576      1.154         31        640: 100%|██████████| 148/148 [00:47<00:00,  3.12it/s]\n",
      "                 Class     Images  Instances      Box(P          R      mAP50  mAP50-95): 100%|██████████| 12/12 [00:03<00:00,  3.04it/s]"
     ]
    },
    {
     "name": "stdout",
     "output_type": "stream",
     "text": [
      "                   all        384        380      0.885      0.897      0.925      0.762\n"
     ]
    },
    {
     "name": "stderr",
     "output_type": "stream",
     "text": [
      "\n"
     ]
    },
    {
     "name": "stdout",
     "output_type": "stream",
     "text": [
      "\n",
      "      Epoch    GPU_mem   box_loss   cls_loss   dfl_loss  Instances       Size\n"
     ]
    },
    {
     "name": "stderr",
     "output_type": "stream",
     "text": [
      "     44/100      6.33G      0.648     0.7463      1.145         27        640: 100%|██████████| 148/148 [00:47<00:00,  3.14it/s]\n",
      "                 Class     Images  Instances      Box(P          R      mAP50  mAP50-95): 100%|██████████| 12/12 [00:03<00:00,  3.15it/s]"
     ]
    },
    {
     "name": "stdout",
     "output_type": "stream",
     "text": [
      "                   all        384        380      0.871        0.9      0.924      0.762\n"
     ]
    },
    {
     "name": "stderr",
     "output_type": "stream",
     "text": [
      "\n"
     ]
    },
    {
     "name": "stdout",
     "output_type": "stream",
     "text": [
      "\n",
      "      Epoch    GPU_mem   box_loss   cls_loss   dfl_loss  Instances       Size\n"
     ]
    },
    {
     "name": "stderr",
     "output_type": "stream",
     "text": [
      "     45/100      6.37G      0.664     0.7402       1.15         36        640: 100%|██████████| 148/148 [00:48<00:00,  3.05it/s]\n",
      "                 Class     Images  Instances      Box(P          R      mAP50  mAP50-95): 100%|██████████| 12/12 [00:03<00:00,  3.15it/s]"
     ]
    },
    {
     "name": "stdout",
     "output_type": "stream",
     "text": [
      "                   all        384        380      0.892      0.902      0.919      0.769\n"
     ]
    },
    {
     "name": "stderr",
     "output_type": "stream",
     "text": [
      "\n"
     ]
    },
    {
     "name": "stdout",
     "output_type": "stream",
     "text": [
      "\n",
      "      Epoch    GPU_mem   box_loss   cls_loss   dfl_loss  Instances       Size\n"
     ]
    },
    {
     "name": "stderr",
     "output_type": "stream",
     "text": [
      "     46/100      6.41G     0.6397     0.7199      1.148         26        640: 100%|██████████| 148/148 [00:47<00:00,  3.12it/s]\n",
      "                 Class     Images  Instances      Box(P          R      mAP50  mAP50-95): 100%|██████████| 12/12 [00:03<00:00,  3.21it/s]"
     ]
    },
    {
     "name": "stdout",
     "output_type": "stream",
     "text": [
      "                   all        384        380      0.879      0.889      0.917      0.764\n"
     ]
    },
    {
     "name": "stderr",
     "output_type": "stream",
     "text": [
      "\n"
     ]
    },
    {
     "name": "stdout",
     "output_type": "stream",
     "text": [
      "\n",
      "      Epoch    GPU_mem   box_loss   cls_loss   dfl_loss  Instances       Size\n"
     ]
    },
    {
     "name": "stderr",
     "output_type": "stream",
     "text": [
      "     47/100      6.44G     0.6602      0.735      1.159         36        640: 100%|██████████| 148/148 [00:47<00:00,  3.11it/s]\n",
      "                 Class     Images  Instances      Box(P          R      mAP50  mAP50-95): 100%|██████████| 12/12 [00:03<00:00,  3.23it/s]"
     ]
    },
    {
     "name": "stdout",
     "output_type": "stream",
     "text": [
      "                   all        384        380      0.841      0.926      0.919      0.766\n"
     ]
    },
    {
     "name": "stderr",
     "output_type": "stream",
     "text": [
      "\n"
     ]
    },
    {
     "name": "stdout",
     "output_type": "stream",
     "text": [
      "\n",
      "      Epoch    GPU_mem   box_loss   cls_loss   dfl_loss  Instances       Size\n"
     ]
    },
    {
     "name": "stderr",
     "output_type": "stream",
     "text": [
      "     48/100      6.48G     0.6472     0.7278      1.156         30        640: 100%|██████████| 148/148 [00:46<00:00,  3.15it/s]\n",
      "                 Class     Images  Instances      Box(P          R      mAP50  mAP50-95): 100%|██████████| 12/12 [00:03<00:00,  3.19it/s]"
     ]
    },
    {
     "name": "stdout",
     "output_type": "stream",
     "text": [
      "                   all        384        380      0.842      0.907      0.918       0.77\n"
     ]
    },
    {
     "name": "stderr",
     "output_type": "stream",
     "text": [
      "\n"
     ]
    },
    {
     "name": "stdout",
     "output_type": "stream",
     "text": [
      "\n",
      "      Epoch    GPU_mem   box_loss   cls_loss   dfl_loss  Instances       Size\n"
     ]
    },
    {
     "name": "stderr",
     "output_type": "stream",
     "text": [
      "     49/100      6.52G     0.6565     0.7164      1.147         30        640: 100%|██████████| 148/148 [00:47<00:00,  3.14it/s]\n",
      "                 Class     Images  Instances      Box(P          R      mAP50  mAP50-95): 100%|██████████| 12/12 [00:03<00:00,  3.17it/s]"
     ]
    },
    {
     "name": "stdout",
     "output_type": "stream",
     "text": [
      "                   all        384        380      0.849      0.848      0.894      0.747\n"
     ]
    },
    {
     "name": "stderr",
     "output_type": "stream",
     "text": [
      "\n"
     ]
    },
    {
     "name": "stdout",
     "output_type": "stream",
     "text": [
      "\n",
      "      Epoch    GPU_mem   box_loss   cls_loss   dfl_loss  Instances       Size\n"
     ]
    },
    {
     "name": "stderr",
     "output_type": "stream",
     "text": [
      "     50/100      6.55G     0.6536     0.7263      1.153         27        640: 100%|██████████| 148/148 [00:47<00:00,  3.14it/s]\n",
      "                 Class     Images  Instances      Box(P          R      mAP50  mAP50-95): 100%|██████████| 12/12 [00:04<00:00,  2.66it/s]"
     ]
    },
    {
     "name": "stdout",
     "output_type": "stream",
     "text": [
      "                   all        384        380      0.875      0.906      0.914      0.764\n"
     ]
    },
    {
     "name": "stderr",
     "output_type": "stream",
     "text": [
      "\n"
     ]
    },
    {
     "name": "stdout",
     "output_type": "stream",
     "text": [
      "\n",
      "      Epoch    GPU_mem   box_loss   cls_loss   dfl_loss  Instances       Size\n"
     ]
    },
    {
     "name": "stderr",
     "output_type": "stream",
     "text": [
      "     51/100      6.59G     0.6295     0.6932      1.136         29        640: 100%|██████████| 148/148 [00:47<00:00,  3.12it/s]\n",
      "                 Class     Images  Instances      Box(P          R      mAP50  mAP50-95): 100%|██████████| 12/12 [00:03<00:00,  3.26it/s]"
     ]
    },
    {
     "name": "stdout",
     "output_type": "stream",
     "text": [
      "                   all        384        380      0.879       0.92      0.919      0.782\n"
     ]
    },
    {
     "name": "stderr",
     "output_type": "stream",
     "text": [
      "\n"
     ]
    },
    {
     "name": "stdout",
     "output_type": "stream",
     "text": [
      "\n",
      "      Epoch    GPU_mem   box_loss   cls_loss   dfl_loss  Instances       Size\n"
     ]
    },
    {
     "name": "stderr",
     "output_type": "stream",
     "text": [
      "     52/100      6.62G     0.6223     0.6872      1.136         30        640: 100%|██████████| 148/148 [00:47<00:00,  3.13it/s]\n",
      "                 Class     Images  Instances      Box(P          R      mAP50  mAP50-95): 100%|██████████| 12/12 [00:03<00:00,  3.15it/s]"
     ]
    },
    {
     "name": "stdout",
     "output_type": "stream",
     "text": [
      "                   all        384        380      0.871      0.883      0.908      0.773\n"
     ]
    },
    {
     "name": "stderr",
     "output_type": "stream",
     "text": [
      "\n"
     ]
    },
    {
     "name": "stdout",
     "output_type": "stream",
     "text": [
      "\n",
      "      Epoch    GPU_mem   box_loss   cls_loss   dfl_loss  Instances       Size\n"
     ]
    },
    {
     "name": "stderr",
     "output_type": "stream",
     "text": [
      "     53/100      6.98G     0.6189      0.682      1.129         32        640: 100%|██████████| 148/148 [00:47<00:00,  3.13it/s]\n",
      "                 Class     Images  Instances      Box(P          R      mAP50  mAP50-95): 100%|██████████| 12/12 [00:03<00:00,  3.16it/s]"
     ]
    },
    {
     "name": "stdout",
     "output_type": "stream",
     "text": [
      "                   all        384        380      0.878      0.927      0.918      0.803\n"
     ]
    },
    {
     "name": "stderr",
     "output_type": "stream",
     "text": [
      "\n"
     ]
    },
    {
     "name": "stdout",
     "output_type": "stream",
     "text": [
      "\n",
      "      Epoch    GPU_mem   box_loss   cls_loss   dfl_loss  Instances       Size\n"
     ]
    },
    {
     "name": "stderr",
     "output_type": "stream",
     "text": [
      "     54/100      7.02G     0.6115     0.6621      1.122         31        640: 100%|██████████| 148/148 [00:47<00:00,  3.13it/s]\n",
      "                 Class     Images  Instances      Box(P          R      mAP50  mAP50-95): 100%|██████████| 12/12 [00:03<00:00,  3.28it/s]"
     ]
    },
    {
     "name": "stdout",
     "output_type": "stream",
     "text": [
      "                   all        384        380      0.888      0.889      0.913      0.774\n"
     ]
    },
    {
     "name": "stderr",
     "output_type": "stream",
     "text": [
      "\n"
     ]
    },
    {
     "name": "stdout",
     "output_type": "stream",
     "text": [
      "\n",
      "      Epoch    GPU_mem   box_loss   cls_loss   dfl_loss  Instances       Size\n"
     ]
    },
    {
     "name": "stderr",
     "output_type": "stream",
     "text": [
      "     55/100      7.06G     0.6147     0.6497      1.141         34        640: 100%|██████████| 148/148 [00:47<00:00,  3.12it/s]\n",
      "                 Class     Images  Instances      Box(P          R      mAP50  mAP50-95): 100%|██████████| 12/12 [00:03<00:00,  3.16it/s]"
     ]
    },
    {
     "name": "stdout",
     "output_type": "stream",
     "text": [
      "                   all        384        380      0.867      0.902      0.917      0.775\n"
     ]
    },
    {
     "name": "stderr",
     "output_type": "stream",
     "text": [
      "\n"
     ]
    },
    {
     "name": "stdout",
     "output_type": "stream",
     "text": [
      "\n",
      "      Epoch    GPU_mem   box_loss   cls_loss   dfl_loss  Instances       Size\n"
     ]
    },
    {
     "name": "stderr",
     "output_type": "stream",
     "text": [
      "     56/100      7.09G     0.5949     0.6509      1.111         31        640: 100%|██████████| 148/148 [00:48<00:00,  3.06it/s]\n",
      "                 Class     Images  Instances      Box(P          R      mAP50  mAP50-95): 100%|██████████| 12/12 [00:03<00:00,  3.15it/s]"
     ]
    },
    {
     "name": "stdout",
     "output_type": "stream",
     "text": [
      "                   all        384        380      0.884      0.927      0.935      0.799\n"
     ]
    },
    {
     "name": "stderr",
     "output_type": "stream",
     "text": [
      "\n"
     ]
    },
    {
     "name": "stdout",
     "output_type": "stream",
     "text": [
      "\n",
      "      Epoch    GPU_mem   box_loss   cls_loss   dfl_loss  Instances       Size\n"
     ]
    },
    {
     "name": "stderr",
     "output_type": "stream",
     "text": [
      "     57/100      7.13G     0.6069     0.6585      1.127         22        640: 100%|██████████| 148/148 [00:47<00:00,  3.12it/s]\n",
      "                 Class     Images  Instances      Box(P          R      mAP50  mAP50-95): 100%|██████████| 12/12 [00:03<00:00,  3.21it/s]"
     ]
    },
    {
     "name": "stdout",
     "output_type": "stream",
     "text": [
      "                   all        384        380      0.865      0.925      0.927      0.785\n"
     ]
    },
    {
     "name": "stderr",
     "output_type": "stream",
     "text": [
      "\n"
     ]
    },
    {
     "name": "stdout",
     "output_type": "stream",
     "text": [
      "\n",
      "      Epoch    GPU_mem   box_loss   cls_loss   dfl_loss  Instances       Size\n"
     ]
    },
    {
     "name": "stderr",
     "output_type": "stream",
     "text": [
      "     58/100      7.17G     0.6102     0.6741      1.126         27        640: 100%|██████████| 148/148 [00:47<00:00,  3.10it/s]\n",
      "                 Class     Images  Instances      Box(P          R      mAP50  mAP50-95): 100%|██████████| 12/12 [00:03<00:00,  3.20it/s]"
     ]
    },
    {
     "name": "stdout",
     "output_type": "stream",
     "text": [
      "                   all        384        380      0.898      0.924      0.928      0.779\n"
     ]
    },
    {
     "name": "stderr",
     "output_type": "stream",
     "text": [
      "\n"
     ]
    },
    {
     "name": "stdout",
     "output_type": "stream",
     "text": [
      "\n",
      "      Epoch    GPU_mem   box_loss   cls_loss   dfl_loss  Instances       Size\n"
     ]
    },
    {
     "name": "stderr",
     "output_type": "stream",
     "text": [
      "     59/100       7.2G     0.5832     0.6476      1.104         32        640: 100%|██████████| 148/148 [00:47<00:00,  3.12it/s]\n",
      "                 Class     Images  Instances      Box(P          R      mAP50  mAP50-95): 100%|██████████| 12/12 [00:03<00:00,  3.09it/s]"
     ]
    },
    {
     "name": "stdout",
     "output_type": "stream",
     "text": [
      "                   all        384        380      0.872      0.928      0.929      0.783\n"
     ]
    },
    {
     "name": "stderr",
     "output_type": "stream",
     "text": [
      "\n"
     ]
    },
    {
     "name": "stdout",
     "output_type": "stream",
     "text": [
      "\n",
      "      Epoch    GPU_mem   box_loss   cls_loss   dfl_loss  Instances       Size\n"
     ]
    },
    {
     "name": "stderr",
     "output_type": "stream",
     "text": [
      "     60/100      7.24G     0.5984     0.6471      1.118         36        640: 100%|██████████| 148/148 [00:47<00:00,  3.14it/s]\n",
      "                 Class     Images  Instances      Box(P          R      mAP50  mAP50-95): 100%|██████████| 12/12 [00:03<00:00,  3.07it/s]"
     ]
    },
    {
     "name": "stdout",
     "output_type": "stream",
     "text": [
      "                   all        384        380      0.885      0.928      0.928      0.807\n"
     ]
    },
    {
     "name": "stderr",
     "output_type": "stream",
     "text": [
      "\n"
     ]
    },
    {
     "name": "stdout",
     "output_type": "stream",
     "text": [
      "\n",
      "      Epoch    GPU_mem   box_loss   cls_loss   dfl_loss  Instances       Size\n"
     ]
    },
    {
     "name": "stderr",
     "output_type": "stream",
     "text": [
      "     61/100      7.28G     0.5967     0.6411       1.12         23        640: 100%|██████████| 148/148 [00:47<00:00,  3.14it/s]\n",
      "                 Class     Images  Instances      Box(P          R      mAP50  mAP50-95): 100%|██████████| 12/12 [00:04<00:00,  2.99it/s]"
     ]
    },
    {
     "name": "stdout",
     "output_type": "stream",
     "text": [
      "                   all        384        380      0.881      0.902      0.915      0.766\n"
     ]
    },
    {
     "name": "stderr",
     "output_type": "stream",
     "text": [
      "\n"
     ]
    },
    {
     "name": "stdout",
     "output_type": "stream",
     "text": [
      "\n",
      "      Epoch    GPU_mem   box_loss   cls_loss   dfl_loss  Instances       Size\n"
     ]
    },
    {
     "name": "stderr",
     "output_type": "stream",
     "text": [
      "     62/100      7.31G     0.5746     0.6296      1.106         30        640: 100%|██████████| 148/148 [00:46<00:00,  3.15it/s]\n",
      "                 Class     Images  Instances      Box(P          R      mAP50  mAP50-95): 100%|██████████| 12/12 [00:04<00:00,  2.74it/s]"
     ]
    },
    {
     "name": "stdout",
     "output_type": "stream",
     "text": [
      "                   all        384        380      0.878      0.929      0.926      0.797\n"
     ]
    },
    {
     "name": "stderr",
     "output_type": "stream",
     "text": [
      "\n"
     ]
    },
    {
     "name": "stdout",
     "output_type": "stream",
     "text": [
      "\n",
      "      Epoch    GPU_mem   box_loss   cls_loss   dfl_loss  Instances       Size\n"
     ]
    },
    {
     "name": "stderr",
     "output_type": "stream",
     "text": [
      "     63/100      7.35G     0.5738     0.6211      1.101         29        640: 100%|██████████| 148/148 [00:47<00:00,  3.11it/s]\n",
      "                 Class     Images  Instances      Box(P          R      mAP50  mAP50-95): 100%|██████████| 12/12 [00:04<00:00,  2.84it/s]"
     ]
    },
    {
     "name": "stdout",
     "output_type": "stream",
     "text": [
      "                   all        384        380      0.886      0.911      0.924      0.805\n"
     ]
    },
    {
     "name": "stderr",
     "output_type": "stream",
     "text": [
      "\n"
     ]
    },
    {
     "name": "stdout",
     "output_type": "stream",
     "text": [
      "\n",
      "      Epoch    GPU_mem   box_loss   cls_loss   dfl_loss  Instances       Size\n"
     ]
    },
    {
     "name": "stderr",
     "output_type": "stream",
     "text": [
      "     64/100      7.42G     0.5758     0.6205      1.106         21        640: 100%|██████████| 148/148 [00:47<00:00,  3.14it/s]\n",
      "                 Class     Images  Instances      Box(P          R      mAP50  mAP50-95): 100%|██████████| 12/12 [00:04<00:00,  2.68it/s]"
     ]
    },
    {
     "name": "stdout",
     "output_type": "stream",
     "text": [
      "                   all        384        380      0.914      0.928      0.932      0.801\n"
     ]
    },
    {
     "name": "stderr",
     "output_type": "stream",
     "text": [
      "\n"
     ]
    },
    {
     "name": "stdout",
     "output_type": "stream",
     "text": [
      "\n",
      "      Epoch    GPU_mem   box_loss   cls_loss   dfl_loss  Instances       Size\n"
     ]
    },
    {
     "name": "stderr",
     "output_type": "stream",
     "text": [
      "     65/100      4.18G     0.5822      0.605      1.103         35        640: 100%|██████████| 148/148 [00:47<00:00,  3.14it/s]\n",
      "                 Class     Images  Instances      Box(P          R      mAP50  mAP50-95): 100%|██████████| 12/12 [00:04<00:00,  2.89it/s]"
     ]
    },
    {
     "name": "stdout",
     "output_type": "stream",
     "text": [
      "                   all        384        380      0.848      0.905      0.925      0.784\n"
     ]
    },
    {
     "name": "stderr",
     "output_type": "stream",
     "text": [
      "\n"
     ]
    },
    {
     "name": "stdout",
     "output_type": "stream",
     "text": [
      "\n",
      "      Epoch    GPU_mem   box_loss   cls_loss   dfl_loss  Instances       Size\n"
     ]
    },
    {
     "name": "stderr",
     "output_type": "stream",
     "text": [
      "     66/100       4.5G     0.5575     0.6004      1.091         26        640: 100%|██████████| 148/148 [00:46<00:00,  3.16it/s]\n",
      "                 Class     Images  Instances      Box(P          R      mAP50  mAP50-95): 100%|██████████| 12/12 [00:04<00:00,  2.80it/s]"
     ]
    },
    {
     "name": "stdout",
     "output_type": "stream",
     "text": [
      "                   all        384        380      0.864      0.923      0.931      0.792\n"
     ]
    },
    {
     "name": "stderr",
     "output_type": "stream",
     "text": [
      "\n"
     ]
    },
    {
     "name": "stdout",
     "output_type": "stream",
     "text": [
      "\n",
      "      Epoch    GPU_mem   box_loss   cls_loss   dfl_loss  Instances       Size\n"
     ]
    },
    {
     "name": "stderr",
     "output_type": "stream",
     "text": [
      "     67/100       4.5G     0.5565     0.6035      1.105         33        640: 100%|██████████| 148/148 [00:46<00:00,  3.16it/s]\n",
      "                 Class     Images  Instances      Box(P          R      mAP50  mAP50-95): 100%|██████████| 12/12 [00:04<00:00,  2.84it/s]"
     ]
    },
    {
     "name": "stdout",
     "output_type": "stream",
     "text": [
      "                   all        384        380      0.903       0.94      0.938      0.813\n"
     ]
    },
    {
     "name": "stderr",
     "output_type": "stream",
     "text": [
      "\n"
     ]
    },
    {
     "name": "stdout",
     "output_type": "stream",
     "text": [
      "\n",
      "      Epoch    GPU_mem   box_loss   cls_loss   dfl_loss  Instances       Size\n"
     ]
    },
    {
     "name": "stderr",
     "output_type": "stream",
     "text": [
      "     68/100       4.5G     0.5624     0.5848      1.093         24        640: 100%|██████████| 148/148 [00:47<00:00,  3.09it/s]\n",
      "                 Class     Images  Instances      Box(P          R      mAP50  mAP50-95): 100%|██████████| 12/12 [00:04<00:00,  2.70it/s]"
     ]
    },
    {
     "name": "stdout",
     "output_type": "stream",
     "text": [
      "                   all        384        380      0.914      0.912      0.936      0.817\n"
     ]
    },
    {
     "name": "stderr",
     "output_type": "stream",
     "text": [
      "\n"
     ]
    },
    {
     "name": "stdout",
     "output_type": "stream",
     "text": [
      "\n",
      "      Epoch    GPU_mem   box_loss   cls_loss   dfl_loss  Instances       Size\n"
     ]
    },
    {
     "name": "stderr",
     "output_type": "stream",
     "text": [
      "     69/100       4.5G      0.545     0.5758       1.09         20        640: 100%|██████████| 148/148 [00:46<00:00,  3.18it/s]\n",
      "                 Class     Images  Instances      Box(P          R      mAP50  mAP50-95): 100%|██████████| 12/12 [00:04<00:00,  2.60it/s]"
     ]
    },
    {
     "name": "stdout",
     "output_type": "stream",
     "text": [
      "                   all        384        380      0.907      0.915      0.936       0.81\n"
     ]
    },
    {
     "name": "stderr",
     "output_type": "stream",
     "text": [
      "\n"
     ]
    },
    {
     "name": "stdout",
     "output_type": "stream",
     "text": [
      "\n",
      "      Epoch    GPU_mem   box_loss   cls_loss   dfl_loss  Instances       Size\n"
     ]
    },
    {
     "name": "stderr",
     "output_type": "stream",
     "text": [
      "     70/100       4.5G     0.5447     0.5908       1.09         28        640: 100%|██████████| 148/148 [00:46<00:00,  3.16it/s]\n",
      "                 Class     Images  Instances      Box(P          R      mAP50  mAP50-95): 100%|██████████| 12/12 [00:04<00:00,  2.72it/s]"
     ]
    },
    {
     "name": "stdout",
     "output_type": "stream",
     "text": [
      "                   all        384        380      0.895       0.95      0.934      0.807\n"
     ]
    },
    {
     "name": "stderr",
     "output_type": "stream",
     "text": [
      "\n"
     ]
    },
    {
     "name": "stdout",
     "output_type": "stream",
     "text": [
      "\n",
      "      Epoch    GPU_mem   box_loss   cls_loss   dfl_loss  Instances       Size\n"
     ]
    },
    {
     "name": "stderr",
     "output_type": "stream",
     "text": [
      "     71/100       4.5G     0.5507     0.5749      1.089         24        640: 100%|██████████| 148/148 [00:46<00:00,  3.19it/s]\n",
      "                 Class     Images  Instances      Box(P          R      mAP50  mAP50-95): 100%|██████████| 12/12 [00:04<00:00,  2.52it/s]"
     ]
    },
    {
     "name": "stdout",
     "output_type": "stream",
     "text": [
      "                   all        384        380      0.895      0.927      0.936      0.806\n"
     ]
    },
    {
     "name": "stderr",
     "output_type": "stream",
     "text": [
      "\n"
     ]
    },
    {
     "name": "stdout",
     "output_type": "stream",
     "text": [
      "\n",
      "      Epoch    GPU_mem   box_loss   cls_loss   dfl_loss  Instances       Size\n"
     ]
    },
    {
     "name": "stderr",
     "output_type": "stream",
     "text": [
      "     72/100       4.5G     0.5306     0.5673      1.084         31        640: 100%|██████████| 148/148 [00:46<00:00,  3.18it/s]\n",
      "                 Class     Images  Instances      Box(P          R      mAP50  mAP50-95): 100%|██████████| 12/12 [00:04<00:00,  2.58it/s]"
     ]
    },
    {
     "name": "stdout",
     "output_type": "stream",
     "text": [
      "                   all        384        380      0.898      0.942      0.939      0.815\n"
     ]
    },
    {
     "name": "stderr",
     "output_type": "stream",
     "text": [
      "\n"
     ]
    },
    {
     "name": "stdout",
     "output_type": "stream",
     "text": [
      "\n",
      "      Epoch    GPU_mem   box_loss   cls_loss   dfl_loss  Instances       Size\n"
     ]
    },
    {
     "name": "stderr",
     "output_type": "stream",
     "text": [
      "     73/100       4.5G     0.5252     0.5435      1.076         31        640: 100%|██████████| 148/148 [00:46<00:00,  3.19it/s]\n",
      "                 Class     Images  Instances      Box(P          R      mAP50  mAP50-95): 100%|██████████| 12/12 [00:05<00:00,  2.22it/s]"
     ]
    },
    {
     "name": "stdout",
     "output_type": "stream",
     "text": [
      "                   all        384        380      0.925      0.931      0.933      0.812\n"
     ]
    },
    {
     "name": "stderr",
     "output_type": "stream",
     "text": [
      "\n"
     ]
    },
    {
     "name": "stdout",
     "output_type": "stream",
     "text": [
      "\n",
      "      Epoch    GPU_mem   box_loss   cls_loss   dfl_loss  Instances       Size\n"
     ]
    },
    {
     "name": "stderr",
     "output_type": "stream",
     "text": [
      "     74/100       4.5G     0.5316      0.547      1.089         28        640: 100%|██████████| 148/148 [00:46<00:00,  3.15it/s]\n",
      "                 Class     Images  Instances      Box(P          R      mAP50  mAP50-95): 100%|██████████| 12/12 [00:04<00:00,  2.68it/s]"
     ]
    },
    {
     "name": "stdout",
     "output_type": "stream",
     "text": [
      "                   all        384        380      0.902       0.94      0.937       0.82\n"
     ]
    },
    {
     "name": "stderr",
     "output_type": "stream",
     "text": [
      "\n"
     ]
    },
    {
     "name": "stdout",
     "output_type": "stream",
     "text": [
      "\n",
      "      Epoch    GPU_mem   box_loss   cls_loss   dfl_loss  Instances       Size\n"
     ]
    },
    {
     "name": "stderr",
     "output_type": "stream",
     "text": [
      "     75/100       4.5G     0.5221      0.559      1.072         36        640: 100%|██████████| 148/148 [00:46<00:00,  3.16it/s]\n",
      "                 Class     Images  Instances      Box(P          R      mAP50  mAP50-95): 100%|██████████| 12/12 [00:04<00:00,  2.64it/s]"
     ]
    },
    {
     "name": "stdout",
     "output_type": "stream",
     "text": [
      "                   all        384        380      0.865       0.91      0.913      0.795\n"
     ]
    },
    {
     "name": "stderr",
     "output_type": "stream",
     "text": [
      "\n"
     ]
    },
    {
     "name": "stdout",
     "output_type": "stream",
     "text": [
      "\n",
      "      Epoch    GPU_mem   box_loss   cls_loss   dfl_loss  Instances       Size\n"
     ]
    },
    {
     "name": "stderr",
     "output_type": "stream",
     "text": [
      "     76/100       4.5G     0.5042     0.5386      1.062         16        640: 100%|██████████| 148/148 [00:46<00:00,  3.17it/s]\n",
      "                 Class     Images  Instances      Box(P          R      mAP50  mAP50-95): 100%|██████████| 12/12 [00:04<00:00,  2.90it/s]"
     ]
    },
    {
     "name": "stdout",
     "output_type": "stream",
     "text": [
      "                   all        384        380      0.907      0.952      0.938      0.814\n"
     ]
    },
    {
     "name": "stderr",
     "output_type": "stream",
     "text": [
      "\n"
     ]
    },
    {
     "name": "stdout",
     "output_type": "stream",
     "text": [
      "\n",
      "      Epoch    GPU_mem   box_loss   cls_loss   dfl_loss  Instances       Size\n"
     ]
    },
    {
     "name": "stderr",
     "output_type": "stream",
     "text": [
      "     77/100       4.5G     0.5256      0.547      1.076         30        640: 100%|██████████| 148/148 [00:46<00:00,  3.18it/s]\n",
      "                 Class     Images  Instances      Box(P          R      mAP50  mAP50-95): 100%|██████████| 12/12 [00:04<00:00,  2.99it/s]"
     ]
    },
    {
     "name": "stdout",
     "output_type": "stream",
     "text": [
      "                   all        384        380      0.908      0.925      0.929      0.805\n"
     ]
    },
    {
     "name": "stderr",
     "output_type": "stream",
     "text": [
      "\n"
     ]
    },
    {
     "name": "stdout",
     "output_type": "stream",
     "text": [
      "\n",
      "      Epoch    GPU_mem   box_loss   cls_loss   dfl_loss  Instances       Size\n"
     ]
    },
    {
     "name": "stderr",
     "output_type": "stream",
     "text": [
      "     78/100       4.5G     0.5128     0.5343      1.073         32        640: 100%|██████████| 148/148 [00:46<00:00,  3.18it/s]\n",
      "                 Class     Images  Instances      Box(P          R      mAP50  mAP50-95): 100%|██████████| 12/12 [00:03<00:00,  3.27it/s]"
     ]
    },
    {
     "name": "stdout",
     "output_type": "stream",
     "text": [
      "                   all        384        380      0.914       0.94      0.939      0.819\n"
     ]
    },
    {
     "name": "stderr",
     "output_type": "stream",
     "text": [
      "\n"
     ]
    },
    {
     "name": "stdout",
     "output_type": "stream",
     "text": [
      "\n",
      "      Epoch    GPU_mem   box_loss   cls_loss   dfl_loss  Instances       Size\n"
     ]
    },
    {
     "name": "stderr",
     "output_type": "stream",
     "text": [
      "     79/100       4.5G     0.5146     0.5367       1.07         27        640: 100%|██████████| 148/148 [00:47<00:00,  3.11it/s]\n",
      "                 Class     Images  Instances      Box(P          R      mAP50  mAP50-95): 100%|██████████| 12/12 [00:03<00:00,  3.15it/s]"
     ]
    },
    {
     "name": "stdout",
     "output_type": "stream",
     "text": [
      "                   all        384        380      0.902      0.937      0.933       0.82\n"
     ]
    },
    {
     "name": "stderr",
     "output_type": "stream",
     "text": [
      "\n"
     ]
    },
    {
     "name": "stdout",
     "output_type": "stream",
     "text": [
      "\n",
      "      Epoch    GPU_mem   box_loss   cls_loss   dfl_loss  Instances       Size\n"
     ]
    },
    {
     "name": "stderr",
     "output_type": "stream",
     "text": [
      "     80/100       4.5G     0.4948     0.5245      1.061         28        640: 100%|██████████| 148/148 [00:46<00:00,  3.17it/s]\n",
      "                 Class     Images  Instances      Box(P          R      mAP50  mAP50-95): 100%|██████████| 12/12 [00:03<00:00,  3.23it/s]"
     ]
    },
    {
     "name": "stdout",
     "output_type": "stream",
     "text": [
      "                   all        384        380      0.904      0.911       0.93      0.815\n"
     ]
    },
    {
     "name": "stderr",
     "output_type": "stream",
     "text": [
      "\n"
     ]
    },
    {
     "name": "stdout",
     "output_type": "stream",
     "text": [
      "\n",
      "      Epoch    GPU_mem   box_loss   cls_loss   dfl_loss  Instances       Size\n"
     ]
    },
    {
     "name": "stderr",
     "output_type": "stream",
     "text": [
      "     81/100      4.53G     0.4891     0.5213      1.054         35        640: 100%|██████████| 148/148 [00:47<00:00,  3.11it/s]\n",
      "                 Class     Images  Instances      Box(P          R      mAP50  mAP50-95): 100%|██████████| 12/12 [00:03<00:00,  3.18it/s]"
     ]
    },
    {
     "name": "stdout",
     "output_type": "stream",
     "text": [
      "                   all        384        380      0.909      0.922      0.936      0.818\n"
     ]
    },
    {
     "name": "stderr",
     "output_type": "stream",
     "text": [
      "\n"
     ]
    },
    {
     "name": "stdout",
     "output_type": "stream",
     "text": [
      "\n",
      "      Epoch    GPU_mem   box_loss   cls_loss   dfl_loss  Instances       Size\n"
     ]
    },
    {
     "name": "stderr",
     "output_type": "stream",
     "text": [
      "     82/100      4.57G     0.4928     0.5094      1.065         30        640: 100%|██████████| 148/148 [00:47<00:00,  3.12it/s]\n",
      "                 Class     Images  Instances      Box(P          R      mAP50  mAP50-95): 100%|██████████| 12/12 [00:03<00:00,  3.19it/s]"
     ]
    },
    {
     "name": "stdout",
     "output_type": "stream",
     "text": [
      "                   all        384        380      0.909      0.951      0.944       0.83\n"
     ]
    },
    {
     "name": "stderr",
     "output_type": "stream",
     "text": [
      "\n"
     ]
    },
    {
     "name": "stdout",
     "output_type": "stream",
     "text": [
      "\n",
      "      Epoch    GPU_mem   box_loss   cls_loss   dfl_loss  Instances       Size\n"
     ]
    },
    {
     "name": "stderr",
     "output_type": "stream",
     "text": [
      "     83/100      4.61G     0.4965     0.4969      1.068         28        640: 100%|██████████| 148/148 [00:47<00:00,  3.11it/s]\n",
      "                 Class     Images  Instances      Box(P          R      mAP50  mAP50-95): 100%|██████████| 12/12 [00:03<00:00,  3.17it/s]"
     ]
    },
    {
     "name": "stdout",
     "output_type": "stream",
     "text": [
      "                   all        384        380      0.906      0.942      0.938       0.82\n"
     ]
    },
    {
     "name": "stderr",
     "output_type": "stream",
     "text": [
      "\n"
     ]
    },
    {
     "name": "stdout",
     "output_type": "stream",
     "text": [
      "\n",
      "      Epoch    GPU_mem   box_loss   cls_loss   dfl_loss  Instances       Size\n"
     ]
    },
    {
     "name": "stderr",
     "output_type": "stream",
     "text": [
      "     84/100      4.64G     0.4726     0.4959      1.047         34        640: 100%|██████████| 148/148 [00:47<00:00,  3.15it/s]\n",
      "                 Class     Images  Instances      Box(P          R      mAP50  mAP50-95): 100%|██████████| 12/12 [00:03<00:00,  3.21it/s]"
     ]
    },
    {
     "name": "stdout",
     "output_type": "stream",
     "text": [
      "                   all        384        380      0.903      0.956      0.945       0.83\n"
     ]
    },
    {
     "name": "stderr",
     "output_type": "stream",
     "text": [
      "\n"
     ]
    },
    {
     "name": "stdout",
     "output_type": "stream",
     "text": [
      "\n",
      "      Epoch    GPU_mem   box_loss   cls_loss   dfl_loss  Instances       Size\n"
     ]
    },
    {
     "name": "stderr",
     "output_type": "stream",
     "text": [
      "     85/100      4.68G     0.4717     0.4969      1.054         31        640: 100%|██████████| 148/148 [00:48<00:00,  3.04it/s]\n",
      "                 Class     Images  Instances      Box(P          R      mAP50  mAP50-95): 100%|██████████| 12/12 [00:03<00:00,  3.24it/s]"
     ]
    },
    {
     "name": "stdout",
     "output_type": "stream",
     "text": [
      "                   all        384        380      0.921      0.938      0.948      0.831\n"
     ]
    },
    {
     "name": "stderr",
     "output_type": "stream",
     "text": [
      "\n"
     ]
    },
    {
     "name": "stdout",
     "output_type": "stream",
     "text": [
      "\n",
      "      Epoch    GPU_mem   box_loss   cls_loss   dfl_loss  Instances       Size\n"
     ]
    },
    {
     "name": "stderr",
     "output_type": "stream",
     "text": [
      "     86/100      4.71G     0.4769     0.4882      1.054         32        640: 100%|██████████| 148/148 [00:47<00:00,  3.12it/s]\n",
      "                 Class     Images  Instances      Box(P          R      mAP50  mAP50-95): 100%|██████████| 12/12 [00:03<00:00,  3.07it/s]"
     ]
    },
    {
     "name": "stdout",
     "output_type": "stream",
     "text": [
      "                   all        384        380      0.885      0.941      0.938      0.825\n"
     ]
    },
    {
     "name": "stderr",
     "output_type": "stream",
     "text": [
      "\n"
     ]
    },
    {
     "name": "stdout",
     "output_type": "stream",
     "text": [
      "\n",
      "      Epoch    GPU_mem   box_loss   cls_loss   dfl_loss  Instances       Size\n"
     ]
    },
    {
     "name": "stderr",
     "output_type": "stream",
     "text": [
      "     87/100      4.78G     0.4887     0.4842      1.063         34        640: 100%|██████████| 148/148 [00:47<00:00,  3.10it/s]\n",
      "                 Class     Images  Instances      Box(P          R      mAP50  mAP50-95): 100%|██████████| 12/12 [00:03<00:00,  3.07it/s]"
     ]
    },
    {
     "name": "stdout",
     "output_type": "stream",
     "text": [
      "                   all        384        380      0.907      0.942      0.944      0.832\n"
     ]
    },
    {
     "name": "stderr",
     "output_type": "stream",
     "text": [
      "\n"
     ]
    },
    {
     "name": "stdout",
     "output_type": "stream",
     "text": [
      "\n",
      "      Epoch    GPU_mem   box_loss   cls_loss   dfl_loss  Instances       Size\n"
     ]
    },
    {
     "name": "stderr",
     "output_type": "stream",
     "text": [
      "     88/100      4.82G     0.4631     0.4716      1.043         28        640: 100%|██████████| 148/148 [00:47<00:00,  3.11it/s]\n",
      "                 Class     Images  Instances      Box(P          R      mAP50  mAP50-95): 100%|██████████| 12/12 [00:03<00:00,  3.14it/s]"
     ]
    },
    {
     "name": "stdout",
     "output_type": "stream",
     "text": [
      "                   all        384        380      0.934       0.93      0.949      0.838\n"
     ]
    },
    {
     "name": "stderr",
     "output_type": "stream",
     "text": [
      "\n"
     ]
    },
    {
     "name": "stdout",
     "output_type": "stream",
     "text": [
      "\n",
      "      Epoch    GPU_mem   box_loss   cls_loss   dfl_loss  Instances       Size\n"
     ]
    },
    {
     "name": "stderr",
     "output_type": "stream",
     "text": [
      "     89/100      4.89G     0.4542     0.4775       1.04         28        640: 100%|██████████| 148/148 [00:47<00:00,  3.11it/s]\n",
      "                 Class     Images  Instances      Box(P          R      mAP50  mAP50-95): 100%|██████████| 12/12 [00:03<00:00,  3.10it/s]"
     ]
    },
    {
     "name": "stdout",
     "output_type": "stream",
     "text": [
      "                   all        384        380        0.9      0.955      0.945      0.824\n"
     ]
    },
    {
     "name": "stderr",
     "output_type": "stream",
     "text": [
      "\n"
     ]
    },
    {
     "name": "stdout",
     "output_type": "stream",
     "text": [
      "\n",
      "      Epoch    GPU_mem   box_loss   cls_loss   dfl_loss  Instances       Size\n"
     ]
    },
    {
     "name": "stderr",
     "output_type": "stream",
     "text": [
      "     90/100      4.96G     0.4553     0.4584       1.04         29        640: 100%|██████████| 148/148 [00:47<00:00,  3.11it/s]\n",
      "                 Class     Images  Instances      Box(P          R      mAP50  mAP50-95): 100%|██████████| 12/12 [00:03<00:00,  3.14it/s]"
     ]
    },
    {
     "name": "stdout",
     "output_type": "stream",
     "text": [
      "                   all        384        380      0.915      0.944      0.945      0.817\n"
     ]
    },
    {
     "name": "stderr",
     "output_type": "stream",
     "text": [
      "\n"
     ]
    },
    {
     "name": "stdout",
     "output_type": "stream",
     "text": [
      "Closing dataloader mosaic\n",
      "\u001b[34m\u001b[1malbumentations: \u001b[0mBlur(p=0.01, blur_limit=(3, 7)), MedianBlur(p=0.01, blur_limit=(3, 7)), ToGray(p=0.01, num_output_channels=3, method='weighted_average'), CLAHE(p=0.01, clip_limit=(1.0, 4.0), tile_grid_size=(8, 8))\n",
      "\n",
      "      Epoch    GPU_mem   box_loss   cls_loss   dfl_loss  Instances       Size\n"
     ]
    },
    {
     "name": "stderr",
     "output_type": "stream",
     "text": [
      "     91/100      5.16G      0.371     0.3555      1.007         15        640: 100%|██████████| 148/148 [00:47<00:00,  3.10it/s]\n",
      "                 Class     Images  Instances      Box(P          R      mAP50  mAP50-95): 100%|██████████| 12/12 [00:03<00:00,  3.24it/s]"
     ]
    },
    {
     "name": "stdout",
     "output_type": "stream",
     "text": [
      "                   all        384        380       0.92      0.954      0.949      0.836\n"
     ]
    },
    {
     "name": "stderr",
     "output_type": "stream",
     "text": [
      "\n"
     ]
    },
    {
     "name": "stdout",
     "output_type": "stream",
     "text": [
      "\n",
      "      Epoch    GPU_mem   box_loss   cls_loss   dfl_loss  Instances       Size\n"
     ]
    },
    {
     "name": "stderr",
     "output_type": "stream",
     "text": [
      "     92/100       5.2G     0.3548     0.3188          1         13        640: 100%|██████████| 148/148 [00:46<00:00,  3.19it/s]\n",
      "                 Class     Images  Instances      Box(P          R      mAP50  mAP50-95): 100%|██████████| 12/12 [00:04<00:00,  2.98it/s]"
     ]
    },
    {
     "name": "stdout",
     "output_type": "stream",
     "text": [
      "                   all        384        380      0.938      0.938      0.956      0.853\n"
     ]
    },
    {
     "name": "stderr",
     "output_type": "stream",
     "text": [
      "\n"
     ]
    },
    {
     "name": "stdout",
     "output_type": "stream",
     "text": [
      "\n",
      "      Epoch    GPU_mem   box_loss   cls_loss   dfl_loss  Instances       Size\n"
     ]
    },
    {
     "name": "stderr",
     "output_type": "stream",
     "text": [
      "     93/100      5.23G     0.3364     0.3155     0.9783         13        640: 100%|██████████| 148/148 [00:45<00:00,  3.25it/s]\n",
      "                 Class     Images  Instances      Box(P          R      mAP50  mAP50-95): 100%|██████████| 12/12 [00:04<00:00,  2.75it/s]"
     ]
    },
    {
     "name": "stdout",
     "output_type": "stream",
     "text": [
      "                   all        384        380      0.897      0.957      0.948      0.841\n"
     ]
    },
    {
     "name": "stderr",
     "output_type": "stream",
     "text": [
      "\n"
     ]
    },
    {
     "name": "stdout",
     "output_type": "stream",
     "text": [
      "\n",
      "      Epoch    GPU_mem   box_loss   cls_loss   dfl_loss  Instances       Size\n"
     ]
    },
    {
     "name": "stderr",
     "output_type": "stream",
     "text": [
      "     94/100      5.27G     0.3452     0.3006     0.9999         13        640: 100%|██████████| 148/148 [00:45<00:00,  3.25it/s]\n",
      "                 Class     Images  Instances      Box(P          R      mAP50  mAP50-95): 100%|██████████| 12/12 [00:04<00:00,  2.65it/s]"
     ]
    },
    {
     "name": "stdout",
     "output_type": "stream",
     "text": [
      "                   all        384        380      0.911      0.957      0.949      0.844\n"
     ]
    },
    {
     "name": "stderr",
     "output_type": "stream",
     "text": [
      "\n"
     ]
    },
    {
     "name": "stdout",
     "output_type": "stream",
     "text": [
      "\n",
      "      Epoch    GPU_mem   box_loss   cls_loss   dfl_loss  Instances       Size\n"
     ]
    },
    {
     "name": "stderr",
     "output_type": "stream",
     "text": [
      "     95/100      5.31G     0.3308     0.2963     0.9797         13        640: 100%|██████████| 148/148 [00:45<00:00,  3.29it/s]\n",
      "                 Class     Images  Instances      Box(P          R      mAP50  mAP50-95): 100%|██████████| 12/12 [00:03<00:00,  3.09it/s]"
     ]
    },
    {
     "name": "stdout",
     "output_type": "stream",
     "text": [
      "                   all        384        380      0.935      0.943      0.947      0.848\n"
     ]
    },
    {
     "name": "stderr",
     "output_type": "stream",
     "text": [
      "\n"
     ]
    },
    {
     "name": "stdout",
     "output_type": "stream",
     "text": [
      "\n",
      "      Epoch    GPU_mem   box_loss   cls_loss   dfl_loss  Instances       Size\n"
     ]
    },
    {
     "name": "stderr",
     "output_type": "stream",
     "text": [
      "     96/100      5.34G     0.3257     0.2908     0.9807         13        640: 100%|██████████| 148/148 [00:46<00:00,  3.16it/s]\n",
      "                 Class     Images  Instances      Box(P          R      mAP50  mAP50-95): 100%|██████████| 12/12 [00:03<00:00,  3.24it/s]"
     ]
    },
    {
     "name": "stdout",
     "output_type": "stream",
     "text": [
      "                   all        384        380      0.926      0.957      0.951      0.854\n"
     ]
    },
    {
     "name": "stderr",
     "output_type": "stream",
     "text": [
      "\n"
     ]
    },
    {
     "name": "stdout",
     "output_type": "stream",
     "text": [
      "\n",
      "      Epoch    GPU_mem   box_loss   cls_loss   dfl_loss  Instances       Size\n"
     ]
    },
    {
     "name": "stderr",
     "output_type": "stream",
     "text": [
      "     97/100      5.41G     0.3147     0.2758     0.9599         13        640: 100%|██████████| 148/148 [00:46<00:00,  3.20it/s]\n",
      "                 Class     Images  Instances      Box(P          R      mAP50  mAP50-95): 100%|██████████| 12/12 [00:03<00:00,  3.32it/s]"
     ]
    },
    {
     "name": "stdout",
     "output_type": "stream",
     "text": [
      "                   all        384        380      0.921      0.945       0.95      0.859\n"
     ]
    },
    {
     "name": "stderr",
     "output_type": "stream",
     "text": [
      "\n"
     ]
    },
    {
     "name": "stdout",
     "output_type": "stream",
     "text": [
      "\n",
      "      Epoch    GPU_mem   box_loss   cls_loss   dfl_loss  Instances       Size\n"
     ]
    },
    {
     "name": "stderr",
     "output_type": "stream",
     "text": [
      "     98/100      5.48G      0.314     0.2724      0.966         13        640: 100%|██████████| 148/148 [00:45<00:00,  3.25it/s]\n",
      "                 Class     Images  Instances      Box(P          R      mAP50  mAP50-95): 100%|██████████| 12/12 [00:03<00:00,  3.19it/s]"
     ]
    },
    {
     "name": "stdout",
     "output_type": "stream",
     "text": [
      "                   all        384        380      0.925       0.94      0.949      0.856\n"
     ]
    },
    {
     "name": "stderr",
     "output_type": "stream",
     "text": [
      "\n"
     ]
    },
    {
     "name": "stdout",
     "output_type": "stream",
     "text": [
      "\n",
      "      Epoch    GPU_mem   box_loss   cls_loss   dfl_loss  Instances       Size\n"
     ]
    },
    {
     "name": "stderr",
     "output_type": "stream",
     "text": [
      "     99/100      5.55G     0.3029     0.2642     0.9548         13        640: 100%|██████████| 148/148 [00:46<00:00,  3.20it/s]\n",
      "                 Class     Images  Instances      Box(P          R      mAP50  mAP50-95): 100%|██████████| 12/12 [00:03<00:00,  3.25it/s]"
     ]
    },
    {
     "name": "stdout",
     "output_type": "stream",
     "text": [
      "                   all        384        380      0.921      0.954      0.952      0.859\n"
     ]
    },
    {
     "name": "stderr",
     "output_type": "stream",
     "text": [
      "\n"
     ]
    },
    {
     "name": "stdout",
     "output_type": "stream",
     "text": [
      "\n",
      "      Epoch    GPU_mem   box_loss   cls_loss   dfl_loss  Instances       Size\n"
     ]
    },
    {
     "name": "stderr",
     "output_type": "stream",
     "text": [
      "    100/100      5.62G     0.2996     0.2577     0.9593         13        640: 100%|██████████| 148/148 [00:45<00:00,  3.23it/s]\n",
      "                 Class     Images  Instances      Box(P          R      mAP50  mAP50-95): 100%|██████████| 12/12 [00:04<00:00,  2.69it/s]"
     ]
    },
    {
     "name": "stdout",
     "output_type": "stream",
     "text": [
      "                   all        384        380      0.927      0.944      0.951      0.858\n"
     ]
    },
    {
     "name": "stderr",
     "output_type": "stream",
     "text": [
      "\n"
     ]
    },
    {
     "name": "stdout",
     "output_type": "stream",
     "text": [
      "\n",
      "100 epochs completed in 1.432 hours.\n",
      "Optimizer stripped from runs/detect/device_detector/weights/last.pt, 22.5MB\n",
      "Optimizer stripped from runs/detect/device_detector/weights/best.pt, 22.5MB\n",
      "\n",
      "Validating runs/detect/device_detector/weights/best.pt...\n",
      "Ultralytics 8.3.113 🚀 Python-3.11.12 torch-2.6.0+cu124 CUDA:0 (Tesla T4, 15095MiB)\n",
      "Model summary (fused): 72 layers, 11,127,519 parameters, 0 gradients, 28.4 GFLOPs\n"
     ]
    },
    {
     "name": "stderr",
     "output_type": "stream",
     "text": [
      "                 Class     Images  Instances      Box(P          R      mAP50  mAP50-95): 100%|██████████| 12/12 [00:05<00:00,  2.15it/s]\n"
     ]
    },
    {
     "name": "stdout",
     "output_type": "stream",
     "text": [
      "                   all        384        380      0.922      0.954      0.952       0.86\n",
      "                    bp         99         99      0.961      0.994      0.987      0.873\n",
      "                 gluco         45         45      0.986      0.978      0.995      0.918\n",
      "                 hba1c         50         50      0.957          1      0.995      0.992\n",
      "                  spo2         97         97       0.95          1       0.97      0.891\n",
      "                    ws         89         89      0.755      0.798      0.814      0.625\n",
      "Speed: 0.2ms preprocess, 4.5ms inference, 0.0ms loss, 2.8ms postprocess per image\n",
      "Results saved to \u001b[1mruns/detect/device_detector\u001b[0m\n"
     ]
    },
    {
     "data": {
      "text/plain": [
       "ultralytics.utils.metrics.DetMetrics object with attributes:\n",
       "\n",
       "ap_class_index: array([0, 1, 2, 3, 4])\n",
       "box: ultralytics.utils.metrics.Metric object\n",
       "confusion_matrix: <ultralytics.utils.metrics.ConfusionMatrix object at 0x7f0d25fb8350>\n",
       "curves: ['Precision-Recall(B)', 'F1-Confidence(B)', 'Precision-Confidence(B)', 'Recall-Confidence(B)']\n",
       "curves_results: [[array([          0,    0.001001,    0.002002,    0.003003,    0.004004,    0.005005,    0.006006,    0.007007,    0.008008,    0.009009,     0.01001,    0.011011,    0.012012,    0.013013,    0.014014,    0.015015,    0.016016,    0.017017,    0.018018,    0.019019,     0.02002,    0.021021,    0.022022,    0.023023,\n",
       "          0.024024,    0.025025,    0.026026,    0.027027,    0.028028,    0.029029,     0.03003,    0.031031,    0.032032,    0.033033,    0.034034,    0.035035,    0.036036,    0.037037,    0.038038,    0.039039,     0.04004,    0.041041,    0.042042,    0.043043,    0.044044,    0.045045,    0.046046,    0.047047,\n",
       "          0.048048,    0.049049,     0.05005,    0.051051,    0.052052,    0.053053,    0.054054,    0.055055,    0.056056,    0.057057,    0.058058,    0.059059,     0.06006,    0.061061,    0.062062,    0.063063,    0.064064,    0.065065,    0.066066,    0.067067,    0.068068,    0.069069,     0.07007,    0.071071,\n",
       "          0.072072,    0.073073,    0.074074,    0.075075,    0.076076,    0.077077,    0.078078,    0.079079,     0.08008,    0.081081,    0.082082,    0.083083,    0.084084,    0.085085,    0.086086,    0.087087,    0.088088,    0.089089,     0.09009,    0.091091,    0.092092,    0.093093,    0.094094,    0.095095,\n",
       "          0.096096,    0.097097,    0.098098,    0.099099,      0.1001,      0.1011,      0.1021,      0.1031,      0.1041,     0.10511,     0.10611,     0.10711,     0.10811,     0.10911,     0.11011,     0.11111,     0.11211,     0.11311,     0.11411,     0.11512,     0.11612,     0.11712,     0.11812,     0.11912,\n",
       "           0.12012,     0.12112,     0.12212,     0.12312,     0.12412,     0.12513,     0.12613,     0.12713,     0.12813,     0.12913,     0.13013,     0.13113,     0.13213,     0.13313,     0.13413,     0.13514,     0.13614,     0.13714,     0.13814,     0.13914,     0.14014,     0.14114,     0.14214,     0.14314,\n",
       "           0.14414,     0.14515,     0.14615,     0.14715,     0.14815,     0.14915,     0.15015,     0.15115,     0.15215,     0.15315,     0.15415,     0.15516,     0.15616,     0.15716,     0.15816,     0.15916,     0.16016,     0.16116,     0.16216,     0.16316,     0.16416,     0.16517,     0.16617,     0.16717,\n",
       "           0.16817,     0.16917,     0.17017,     0.17117,     0.17217,     0.17317,     0.17417,     0.17518,     0.17618,     0.17718,     0.17818,     0.17918,     0.18018,     0.18118,     0.18218,     0.18318,     0.18418,     0.18519,     0.18619,     0.18719,     0.18819,     0.18919,     0.19019,     0.19119,\n",
       "           0.19219,     0.19319,     0.19419,      0.1952,      0.1962,      0.1972,      0.1982,      0.1992,      0.2002,      0.2012,      0.2022,      0.2032,      0.2042,     0.20521,     0.20621,     0.20721,     0.20821,     0.20921,     0.21021,     0.21121,     0.21221,     0.21321,     0.21421,     0.21522,\n",
       "           0.21622,     0.21722,     0.21822,     0.21922,     0.22022,     0.22122,     0.22222,     0.22322,     0.22422,     0.22523,     0.22623,     0.22723,     0.22823,     0.22923,     0.23023,     0.23123,     0.23223,     0.23323,     0.23423,     0.23524,     0.23624,     0.23724,     0.23824,     0.23924,\n",
       "           0.24024,     0.24124,     0.24224,     0.24324,     0.24424,     0.24525,     0.24625,     0.24725,     0.24825,     0.24925,     0.25025,     0.25125,     0.25225,     0.25325,     0.25425,     0.25526,     0.25626,     0.25726,     0.25826,     0.25926,     0.26026,     0.26126,     0.26226,     0.26326,\n",
       "           0.26426,     0.26527,     0.26627,     0.26727,     0.26827,     0.26927,     0.27027,     0.27127,     0.27227,     0.27327,     0.27427,     0.27528,     0.27628,     0.27728,     0.27828,     0.27928,     0.28028,     0.28128,     0.28228,     0.28328,     0.28428,     0.28529,     0.28629,     0.28729,\n",
       "           0.28829,     0.28929,     0.29029,     0.29129,     0.29229,     0.29329,     0.29429,      0.2953,      0.2963,      0.2973,      0.2983,      0.2993,      0.3003,      0.3013,      0.3023,      0.3033,      0.3043,     0.30531,     0.30631,     0.30731,     0.30831,     0.30931,     0.31031,     0.31131,\n",
       "           0.31231,     0.31331,     0.31431,     0.31532,     0.31632,     0.31732,     0.31832,     0.31932,     0.32032,     0.32132,     0.32232,     0.32332,     0.32432,     0.32533,     0.32633,     0.32733,     0.32833,     0.32933,     0.33033,     0.33133,     0.33233,     0.33333,     0.33433,     0.33534,\n",
       "           0.33634,     0.33734,     0.33834,     0.33934,     0.34034,     0.34134,     0.34234,     0.34334,     0.34434,     0.34535,     0.34635,     0.34735,     0.34835,     0.34935,     0.35035,     0.35135,     0.35235,     0.35335,     0.35435,     0.35536,     0.35636,     0.35736,     0.35836,     0.35936,\n",
       "           0.36036,     0.36136,     0.36236,     0.36336,     0.36436,     0.36537,     0.36637,     0.36737,     0.36837,     0.36937,     0.37037,     0.37137,     0.37237,     0.37337,     0.37437,     0.37538,     0.37638,     0.37738,     0.37838,     0.37938,     0.38038,     0.38138,     0.38238,     0.38338,\n",
       "           0.38438,     0.38539,     0.38639,     0.38739,     0.38839,     0.38939,     0.39039,     0.39139,     0.39239,     0.39339,     0.39439,      0.3954,      0.3964,      0.3974,      0.3984,      0.3994,      0.4004,      0.4014,      0.4024,      0.4034,      0.4044,     0.40541,     0.40641,     0.40741,\n",
       "           0.40841,     0.40941,     0.41041,     0.41141,     0.41241,     0.41341,     0.41441,     0.41542,     0.41642,     0.41742,     0.41842,     0.41942,     0.42042,     0.42142,     0.42242,     0.42342,     0.42442,     0.42543,     0.42643,     0.42743,     0.42843,     0.42943,     0.43043,     0.43143,\n",
       "           0.43243,     0.43343,     0.43443,     0.43544,     0.43644,     0.43744,     0.43844,     0.43944,     0.44044,     0.44144,     0.44244,     0.44344,     0.44444,     0.44545,     0.44645,     0.44745,     0.44845,     0.44945,     0.45045,     0.45145,     0.45245,     0.45345,     0.45445,     0.45546,\n",
       "           0.45646,     0.45746,     0.45846,     0.45946,     0.46046,     0.46146,     0.46246,     0.46346,     0.46446,     0.46547,     0.46647,     0.46747,     0.46847,     0.46947,     0.47047,     0.47147,     0.47247,     0.47347,     0.47447,     0.47548,     0.47648,     0.47748,     0.47848,     0.47948,\n",
       "           0.48048,     0.48148,     0.48248,     0.48348,     0.48448,     0.48549,     0.48649,     0.48749,     0.48849,     0.48949,     0.49049,     0.49149,     0.49249,     0.49349,     0.49449,      0.4955,      0.4965,      0.4975,      0.4985,      0.4995,      0.5005,      0.5015,      0.5025,      0.5035,\n",
       "            0.5045,     0.50551,     0.50651,     0.50751,     0.50851,     0.50951,     0.51051,     0.51151,     0.51251,     0.51351,     0.51451,     0.51552,     0.51652,     0.51752,     0.51852,     0.51952,     0.52052,     0.52152,     0.52252,     0.52352,     0.52452,     0.52553,     0.52653,     0.52753,\n",
       "           0.52853,     0.52953,     0.53053,     0.53153,     0.53253,     0.53353,     0.53453,     0.53554,     0.53654,     0.53754,     0.53854,     0.53954,     0.54054,     0.54154,     0.54254,     0.54354,     0.54454,     0.54555,     0.54655,     0.54755,     0.54855,     0.54955,     0.55055,     0.55155,\n",
       "           0.55255,     0.55355,     0.55455,     0.55556,     0.55656,     0.55756,     0.55856,     0.55956,     0.56056,     0.56156,     0.56256,     0.56356,     0.56456,     0.56557,     0.56657,     0.56757,     0.56857,     0.56957,     0.57057,     0.57157,     0.57257,     0.57357,     0.57457,     0.57558,\n",
       "           0.57658,     0.57758,     0.57858,     0.57958,     0.58058,     0.58158,     0.58258,     0.58358,     0.58458,     0.58559,     0.58659,     0.58759,     0.58859,     0.58959,     0.59059,     0.59159,     0.59259,     0.59359,     0.59459,      0.5956,      0.5966,      0.5976,      0.5986,      0.5996,\n",
       "            0.6006,      0.6016,      0.6026,      0.6036,      0.6046,     0.60561,     0.60661,     0.60761,     0.60861,     0.60961,     0.61061,     0.61161,     0.61261,     0.61361,     0.61461,     0.61562,     0.61662,     0.61762,     0.61862,     0.61962,     0.62062,     0.62162,     0.62262,     0.62362,\n",
       "           0.62462,     0.62563,     0.62663,     0.62763,     0.62863,     0.62963,     0.63063,     0.63163,     0.63263,     0.63363,     0.63463,     0.63564,     0.63664,     0.63764,     0.63864,     0.63964,     0.64064,     0.64164,     0.64264,     0.64364,     0.64464,     0.64565,     0.64665,     0.64765,\n",
       "           0.64865,     0.64965,     0.65065,     0.65165,     0.65265,     0.65365,     0.65465,     0.65566,     0.65666,     0.65766,     0.65866,     0.65966,     0.66066,     0.66166,     0.66266,     0.66366,     0.66466,     0.66567,     0.66667,     0.66767,     0.66867,     0.66967,     0.67067,     0.67167,\n",
       "           0.67267,     0.67367,     0.67467,     0.67568,     0.67668,     0.67768,     0.67868,     0.67968,     0.68068,     0.68168,     0.68268,     0.68368,     0.68468,     0.68569,     0.68669,     0.68769,     0.68869,     0.68969,     0.69069,     0.69169,     0.69269,     0.69369,     0.69469,      0.6957,\n",
       "            0.6967,      0.6977,      0.6987,      0.6997,      0.7007,      0.7017,      0.7027,      0.7037,      0.7047,     0.70571,     0.70671,     0.70771,     0.70871,     0.70971,     0.71071,     0.71171,     0.71271,     0.71371,     0.71471,     0.71572,     0.71672,     0.71772,     0.71872,     0.71972,\n",
       "           0.72072,     0.72172,     0.72272,     0.72372,     0.72472,     0.72573,     0.72673,     0.72773,     0.72873,     0.72973,     0.73073,     0.73173,     0.73273,     0.73373,     0.73473,     0.73574,     0.73674,     0.73774,     0.73874,     0.73974,     0.74074,     0.74174,     0.74274,     0.74374,\n",
       "           0.74474,     0.74575,     0.74675,     0.74775,     0.74875,     0.74975,     0.75075,     0.75175,     0.75275,     0.75375,     0.75475,     0.75576,     0.75676,     0.75776,     0.75876,     0.75976,     0.76076,     0.76176,     0.76276,     0.76376,     0.76476,     0.76577,     0.76677,     0.76777,\n",
       "           0.76877,     0.76977,     0.77077,     0.77177,     0.77277,     0.77377,     0.77477,     0.77578,     0.77678,     0.77778,     0.77878,     0.77978,     0.78078,     0.78178,     0.78278,     0.78378,     0.78478,     0.78579,     0.78679,     0.78779,     0.78879,     0.78979,     0.79079,     0.79179,\n",
       "           0.79279,     0.79379,     0.79479,      0.7958,      0.7968,      0.7978,      0.7988,      0.7998,      0.8008,      0.8018,      0.8028,      0.8038,      0.8048,     0.80581,     0.80681,     0.80781,     0.80881,     0.80981,     0.81081,     0.81181,     0.81281,     0.81381,     0.81481,     0.81582,\n",
       "           0.81682,     0.81782,     0.81882,     0.81982,     0.82082,     0.82182,     0.82282,     0.82382,     0.82482,     0.82583,     0.82683,     0.82783,     0.82883,     0.82983,     0.83083,     0.83183,     0.83283,     0.83383,     0.83483,     0.83584,     0.83684,     0.83784,     0.83884,     0.83984,\n",
       "           0.84084,     0.84184,     0.84284,     0.84384,     0.84484,     0.84585,     0.84685,     0.84785,     0.84885,     0.84985,     0.85085,     0.85185,     0.85285,     0.85385,     0.85485,     0.85586,     0.85686,     0.85786,     0.85886,     0.85986,     0.86086,     0.86186,     0.86286,     0.86386,\n",
       "           0.86486,     0.86587,     0.86687,     0.86787,     0.86887,     0.86987,     0.87087,     0.87187,     0.87287,     0.87387,     0.87487,     0.87588,     0.87688,     0.87788,     0.87888,     0.87988,     0.88088,     0.88188,     0.88288,     0.88388,     0.88488,     0.88589,     0.88689,     0.88789,\n",
       "           0.88889,     0.88989,     0.89089,     0.89189,     0.89289,     0.89389,     0.89489,      0.8959,      0.8969,      0.8979,      0.8989,      0.8999,      0.9009,      0.9019,      0.9029,      0.9039,      0.9049,     0.90591,     0.90691,     0.90791,     0.90891,     0.90991,     0.91091,     0.91191,\n",
       "           0.91291,     0.91391,     0.91491,     0.91592,     0.91692,     0.91792,     0.91892,     0.91992,     0.92092,     0.92192,     0.92292,     0.92392,     0.92492,     0.92593,     0.92693,     0.92793,     0.92893,     0.92993,     0.93093,     0.93193,     0.93293,     0.93393,     0.93493,     0.93594,\n",
       "           0.93694,     0.93794,     0.93894,     0.93994,     0.94094,     0.94194,     0.94294,     0.94394,     0.94494,     0.94595,     0.94695,     0.94795,     0.94895,     0.94995,     0.95095,     0.95195,     0.95295,     0.95395,     0.95495,     0.95596,     0.95696,     0.95796,     0.95896,     0.95996,\n",
       "           0.96096,     0.96196,     0.96296,     0.96396,     0.96496,     0.96597,     0.96697,     0.96797,     0.96897,     0.96997,     0.97097,     0.97197,     0.97297,     0.97397,     0.97497,     0.97598,     0.97698,     0.97798,     0.97898,     0.97998,     0.98098,     0.98198,     0.98298,     0.98398,\n",
       "           0.98498,     0.98599,     0.98699,     0.98799,     0.98899,     0.98999,     0.99099,     0.99199,     0.99299,     0.99399,     0.99499,       0.996,       0.997,       0.998,       0.999,           1]), array([[          1,           1,           1, ...,     0.96117,     0.96117,           0],\n",
       "       [          1,           1,           1, ...,     0.97826,     0.97826,           0],\n",
       "       [          1,           1,           1, ...,           1,           1,           0],\n",
       "       [          1,           1,           1, ...,      0.9604,      0.9604,           0],\n",
       "       [          1,           1,           1, ...,   0.0033263,   0.0016632,           0]]), 'Recall', 'Precision'], [array([          0,    0.001001,    0.002002,    0.003003,    0.004004,    0.005005,    0.006006,    0.007007,    0.008008,    0.009009,     0.01001,    0.011011,    0.012012,    0.013013,    0.014014,    0.015015,    0.016016,    0.017017,    0.018018,    0.019019,     0.02002,    0.021021,    0.022022,    0.023023,\n",
       "          0.024024,    0.025025,    0.026026,    0.027027,    0.028028,    0.029029,     0.03003,    0.031031,    0.032032,    0.033033,    0.034034,    0.035035,    0.036036,    0.037037,    0.038038,    0.039039,     0.04004,    0.041041,    0.042042,    0.043043,    0.044044,    0.045045,    0.046046,    0.047047,\n",
       "          0.048048,    0.049049,     0.05005,    0.051051,    0.052052,    0.053053,    0.054054,    0.055055,    0.056056,    0.057057,    0.058058,    0.059059,     0.06006,    0.061061,    0.062062,    0.063063,    0.064064,    0.065065,    0.066066,    0.067067,    0.068068,    0.069069,     0.07007,    0.071071,\n",
       "          0.072072,    0.073073,    0.074074,    0.075075,    0.076076,    0.077077,    0.078078,    0.079079,     0.08008,    0.081081,    0.082082,    0.083083,    0.084084,    0.085085,    0.086086,    0.087087,    0.088088,    0.089089,     0.09009,    0.091091,    0.092092,    0.093093,    0.094094,    0.095095,\n",
       "          0.096096,    0.097097,    0.098098,    0.099099,      0.1001,      0.1011,      0.1021,      0.1031,      0.1041,     0.10511,     0.10611,     0.10711,     0.10811,     0.10911,     0.11011,     0.11111,     0.11211,     0.11311,     0.11411,     0.11512,     0.11612,     0.11712,     0.11812,     0.11912,\n",
       "           0.12012,     0.12112,     0.12212,     0.12312,     0.12412,     0.12513,     0.12613,     0.12713,     0.12813,     0.12913,     0.13013,     0.13113,     0.13213,     0.13313,     0.13413,     0.13514,     0.13614,     0.13714,     0.13814,     0.13914,     0.14014,     0.14114,     0.14214,     0.14314,\n",
       "           0.14414,     0.14515,     0.14615,     0.14715,     0.14815,     0.14915,     0.15015,     0.15115,     0.15215,     0.15315,     0.15415,     0.15516,     0.15616,     0.15716,     0.15816,     0.15916,     0.16016,     0.16116,     0.16216,     0.16316,     0.16416,     0.16517,     0.16617,     0.16717,\n",
       "           0.16817,     0.16917,     0.17017,     0.17117,     0.17217,     0.17317,     0.17417,     0.17518,     0.17618,     0.17718,     0.17818,     0.17918,     0.18018,     0.18118,     0.18218,     0.18318,     0.18418,     0.18519,     0.18619,     0.18719,     0.18819,     0.18919,     0.19019,     0.19119,\n",
       "           0.19219,     0.19319,     0.19419,      0.1952,      0.1962,      0.1972,      0.1982,      0.1992,      0.2002,      0.2012,      0.2022,      0.2032,      0.2042,     0.20521,     0.20621,     0.20721,     0.20821,     0.20921,     0.21021,     0.21121,     0.21221,     0.21321,     0.21421,     0.21522,\n",
       "           0.21622,     0.21722,     0.21822,     0.21922,     0.22022,     0.22122,     0.22222,     0.22322,     0.22422,     0.22523,     0.22623,     0.22723,     0.22823,     0.22923,     0.23023,     0.23123,     0.23223,     0.23323,     0.23423,     0.23524,     0.23624,     0.23724,     0.23824,     0.23924,\n",
       "           0.24024,     0.24124,     0.24224,     0.24324,     0.24424,     0.24525,     0.24625,     0.24725,     0.24825,     0.24925,     0.25025,     0.25125,     0.25225,     0.25325,     0.25425,     0.25526,     0.25626,     0.25726,     0.25826,     0.25926,     0.26026,     0.26126,     0.26226,     0.26326,\n",
       "           0.26426,     0.26527,     0.26627,     0.26727,     0.26827,     0.26927,     0.27027,     0.27127,     0.27227,     0.27327,     0.27427,     0.27528,     0.27628,     0.27728,     0.27828,     0.27928,     0.28028,     0.28128,     0.28228,     0.28328,     0.28428,     0.28529,     0.28629,     0.28729,\n",
       "           0.28829,     0.28929,     0.29029,     0.29129,     0.29229,     0.29329,     0.29429,      0.2953,      0.2963,      0.2973,      0.2983,      0.2993,      0.3003,      0.3013,      0.3023,      0.3033,      0.3043,     0.30531,     0.30631,     0.30731,     0.30831,     0.30931,     0.31031,     0.31131,\n",
       "           0.31231,     0.31331,     0.31431,     0.31532,     0.31632,     0.31732,     0.31832,     0.31932,     0.32032,     0.32132,     0.32232,     0.32332,     0.32432,     0.32533,     0.32633,     0.32733,     0.32833,     0.32933,     0.33033,     0.33133,     0.33233,     0.33333,     0.33433,     0.33534,\n",
       "           0.33634,     0.33734,     0.33834,     0.33934,     0.34034,     0.34134,     0.34234,     0.34334,     0.34434,     0.34535,     0.34635,     0.34735,     0.34835,     0.34935,     0.35035,     0.35135,     0.35235,     0.35335,     0.35435,     0.35536,     0.35636,     0.35736,     0.35836,     0.35936,\n",
       "           0.36036,     0.36136,     0.36236,     0.36336,     0.36436,     0.36537,     0.36637,     0.36737,     0.36837,     0.36937,     0.37037,     0.37137,     0.37237,     0.37337,     0.37437,     0.37538,     0.37638,     0.37738,     0.37838,     0.37938,     0.38038,     0.38138,     0.38238,     0.38338,\n",
       "           0.38438,     0.38539,     0.38639,     0.38739,     0.38839,     0.38939,     0.39039,     0.39139,     0.39239,     0.39339,     0.39439,      0.3954,      0.3964,      0.3974,      0.3984,      0.3994,      0.4004,      0.4014,      0.4024,      0.4034,      0.4044,     0.40541,     0.40641,     0.40741,\n",
       "           0.40841,     0.40941,     0.41041,     0.41141,     0.41241,     0.41341,     0.41441,     0.41542,     0.41642,     0.41742,     0.41842,     0.41942,     0.42042,     0.42142,     0.42242,     0.42342,     0.42442,     0.42543,     0.42643,     0.42743,     0.42843,     0.42943,     0.43043,     0.43143,\n",
       "           0.43243,     0.43343,     0.43443,     0.43544,     0.43644,     0.43744,     0.43844,     0.43944,     0.44044,     0.44144,     0.44244,     0.44344,     0.44444,     0.44545,     0.44645,     0.44745,     0.44845,     0.44945,     0.45045,     0.45145,     0.45245,     0.45345,     0.45445,     0.45546,\n",
       "           0.45646,     0.45746,     0.45846,     0.45946,     0.46046,     0.46146,     0.46246,     0.46346,     0.46446,     0.46547,     0.46647,     0.46747,     0.46847,     0.46947,     0.47047,     0.47147,     0.47247,     0.47347,     0.47447,     0.47548,     0.47648,     0.47748,     0.47848,     0.47948,\n",
       "           0.48048,     0.48148,     0.48248,     0.48348,     0.48448,     0.48549,     0.48649,     0.48749,     0.48849,     0.48949,     0.49049,     0.49149,     0.49249,     0.49349,     0.49449,      0.4955,      0.4965,      0.4975,      0.4985,      0.4995,      0.5005,      0.5015,      0.5025,      0.5035,\n",
       "            0.5045,     0.50551,     0.50651,     0.50751,     0.50851,     0.50951,     0.51051,     0.51151,     0.51251,     0.51351,     0.51451,     0.51552,     0.51652,     0.51752,     0.51852,     0.51952,     0.52052,     0.52152,     0.52252,     0.52352,     0.52452,     0.52553,     0.52653,     0.52753,\n",
       "           0.52853,     0.52953,     0.53053,     0.53153,     0.53253,     0.53353,     0.53453,     0.53554,     0.53654,     0.53754,     0.53854,     0.53954,     0.54054,     0.54154,     0.54254,     0.54354,     0.54454,     0.54555,     0.54655,     0.54755,     0.54855,     0.54955,     0.55055,     0.55155,\n",
       "           0.55255,     0.55355,     0.55455,     0.55556,     0.55656,     0.55756,     0.55856,     0.55956,     0.56056,     0.56156,     0.56256,     0.56356,     0.56456,     0.56557,     0.56657,     0.56757,     0.56857,     0.56957,     0.57057,     0.57157,     0.57257,     0.57357,     0.57457,     0.57558,\n",
       "           0.57658,     0.57758,     0.57858,     0.57958,     0.58058,     0.58158,     0.58258,     0.58358,     0.58458,     0.58559,     0.58659,     0.58759,     0.58859,     0.58959,     0.59059,     0.59159,     0.59259,     0.59359,     0.59459,      0.5956,      0.5966,      0.5976,      0.5986,      0.5996,\n",
       "            0.6006,      0.6016,      0.6026,      0.6036,      0.6046,     0.60561,     0.60661,     0.60761,     0.60861,     0.60961,     0.61061,     0.61161,     0.61261,     0.61361,     0.61461,     0.61562,     0.61662,     0.61762,     0.61862,     0.61962,     0.62062,     0.62162,     0.62262,     0.62362,\n",
       "           0.62462,     0.62563,     0.62663,     0.62763,     0.62863,     0.62963,     0.63063,     0.63163,     0.63263,     0.63363,     0.63463,     0.63564,     0.63664,     0.63764,     0.63864,     0.63964,     0.64064,     0.64164,     0.64264,     0.64364,     0.64464,     0.64565,     0.64665,     0.64765,\n",
       "           0.64865,     0.64965,     0.65065,     0.65165,     0.65265,     0.65365,     0.65465,     0.65566,     0.65666,     0.65766,     0.65866,     0.65966,     0.66066,     0.66166,     0.66266,     0.66366,     0.66466,     0.66567,     0.66667,     0.66767,     0.66867,     0.66967,     0.67067,     0.67167,\n",
       "           0.67267,     0.67367,     0.67467,     0.67568,     0.67668,     0.67768,     0.67868,     0.67968,     0.68068,     0.68168,     0.68268,     0.68368,     0.68468,     0.68569,     0.68669,     0.68769,     0.68869,     0.68969,     0.69069,     0.69169,     0.69269,     0.69369,     0.69469,      0.6957,\n",
       "            0.6967,      0.6977,      0.6987,      0.6997,      0.7007,      0.7017,      0.7027,      0.7037,      0.7047,     0.70571,     0.70671,     0.70771,     0.70871,     0.70971,     0.71071,     0.71171,     0.71271,     0.71371,     0.71471,     0.71572,     0.71672,     0.71772,     0.71872,     0.71972,\n",
       "           0.72072,     0.72172,     0.72272,     0.72372,     0.72472,     0.72573,     0.72673,     0.72773,     0.72873,     0.72973,     0.73073,     0.73173,     0.73273,     0.73373,     0.73473,     0.73574,     0.73674,     0.73774,     0.73874,     0.73974,     0.74074,     0.74174,     0.74274,     0.74374,\n",
       "           0.74474,     0.74575,     0.74675,     0.74775,     0.74875,     0.74975,     0.75075,     0.75175,     0.75275,     0.75375,     0.75475,     0.75576,     0.75676,     0.75776,     0.75876,     0.75976,     0.76076,     0.76176,     0.76276,     0.76376,     0.76476,     0.76577,     0.76677,     0.76777,\n",
       "           0.76877,     0.76977,     0.77077,     0.77177,     0.77277,     0.77377,     0.77477,     0.77578,     0.77678,     0.77778,     0.77878,     0.77978,     0.78078,     0.78178,     0.78278,     0.78378,     0.78478,     0.78579,     0.78679,     0.78779,     0.78879,     0.78979,     0.79079,     0.79179,\n",
       "           0.79279,     0.79379,     0.79479,      0.7958,      0.7968,      0.7978,      0.7988,      0.7998,      0.8008,      0.8018,      0.8028,      0.8038,      0.8048,     0.80581,     0.80681,     0.80781,     0.80881,     0.80981,     0.81081,     0.81181,     0.81281,     0.81381,     0.81481,     0.81582,\n",
       "           0.81682,     0.81782,     0.81882,     0.81982,     0.82082,     0.82182,     0.82282,     0.82382,     0.82482,     0.82583,     0.82683,     0.82783,     0.82883,     0.82983,     0.83083,     0.83183,     0.83283,     0.83383,     0.83483,     0.83584,     0.83684,     0.83784,     0.83884,     0.83984,\n",
       "           0.84084,     0.84184,     0.84284,     0.84384,     0.84484,     0.84585,     0.84685,     0.84785,     0.84885,     0.84985,     0.85085,     0.85185,     0.85285,     0.85385,     0.85485,     0.85586,     0.85686,     0.85786,     0.85886,     0.85986,     0.86086,     0.86186,     0.86286,     0.86386,\n",
       "           0.86486,     0.86587,     0.86687,     0.86787,     0.86887,     0.86987,     0.87087,     0.87187,     0.87287,     0.87387,     0.87487,     0.87588,     0.87688,     0.87788,     0.87888,     0.87988,     0.88088,     0.88188,     0.88288,     0.88388,     0.88488,     0.88589,     0.88689,     0.88789,\n",
       "           0.88889,     0.88989,     0.89089,     0.89189,     0.89289,     0.89389,     0.89489,      0.8959,      0.8969,      0.8979,      0.8989,      0.8999,      0.9009,      0.9019,      0.9029,      0.9039,      0.9049,     0.90591,     0.90691,     0.90791,     0.90891,     0.90991,     0.91091,     0.91191,\n",
       "           0.91291,     0.91391,     0.91491,     0.91592,     0.91692,     0.91792,     0.91892,     0.91992,     0.92092,     0.92192,     0.92292,     0.92392,     0.92492,     0.92593,     0.92693,     0.92793,     0.92893,     0.92993,     0.93093,     0.93193,     0.93293,     0.93393,     0.93493,     0.93594,\n",
       "           0.93694,     0.93794,     0.93894,     0.93994,     0.94094,     0.94194,     0.94294,     0.94394,     0.94494,     0.94595,     0.94695,     0.94795,     0.94895,     0.94995,     0.95095,     0.95195,     0.95295,     0.95395,     0.95495,     0.95596,     0.95696,     0.95796,     0.95896,     0.95996,\n",
       "           0.96096,     0.96196,     0.96296,     0.96396,     0.96496,     0.96597,     0.96697,     0.96797,     0.96897,     0.96997,     0.97097,     0.97197,     0.97297,     0.97397,     0.97497,     0.97598,     0.97698,     0.97798,     0.97898,     0.97998,     0.98098,     0.98198,     0.98298,     0.98398,\n",
       "           0.98498,     0.98599,     0.98699,     0.98799,     0.98899,     0.98999,     0.99099,     0.99199,     0.99299,     0.99399,     0.99499,       0.996,       0.997,       0.998,       0.999,           1]), array([[    0.70968,     0.70968,     0.78223, ...,           0,           0,           0],\n",
       "       [    0.70312,     0.70312,     0.77276, ...,           0,           0,           0],\n",
       "       [    0.91743,     0.91743,     0.93579, ...,           0,           0,           0],\n",
       "       [     0.7433,      0.7433,     0.83145, ...,           0,           0,           0],\n",
       "       [        0.2,         0.2,      0.2641, ...,           0,           0,           0]]), 'Confidence', 'F1'], [array([          0,    0.001001,    0.002002,    0.003003,    0.004004,    0.005005,    0.006006,    0.007007,    0.008008,    0.009009,     0.01001,    0.011011,    0.012012,    0.013013,    0.014014,    0.015015,    0.016016,    0.017017,    0.018018,    0.019019,     0.02002,    0.021021,    0.022022,    0.023023,\n",
       "          0.024024,    0.025025,    0.026026,    0.027027,    0.028028,    0.029029,     0.03003,    0.031031,    0.032032,    0.033033,    0.034034,    0.035035,    0.036036,    0.037037,    0.038038,    0.039039,     0.04004,    0.041041,    0.042042,    0.043043,    0.044044,    0.045045,    0.046046,    0.047047,\n",
       "          0.048048,    0.049049,     0.05005,    0.051051,    0.052052,    0.053053,    0.054054,    0.055055,    0.056056,    0.057057,    0.058058,    0.059059,     0.06006,    0.061061,    0.062062,    0.063063,    0.064064,    0.065065,    0.066066,    0.067067,    0.068068,    0.069069,     0.07007,    0.071071,\n",
       "          0.072072,    0.073073,    0.074074,    0.075075,    0.076076,    0.077077,    0.078078,    0.079079,     0.08008,    0.081081,    0.082082,    0.083083,    0.084084,    0.085085,    0.086086,    0.087087,    0.088088,    0.089089,     0.09009,    0.091091,    0.092092,    0.093093,    0.094094,    0.095095,\n",
       "          0.096096,    0.097097,    0.098098,    0.099099,      0.1001,      0.1011,      0.1021,      0.1031,      0.1041,     0.10511,     0.10611,     0.10711,     0.10811,     0.10911,     0.11011,     0.11111,     0.11211,     0.11311,     0.11411,     0.11512,     0.11612,     0.11712,     0.11812,     0.11912,\n",
       "           0.12012,     0.12112,     0.12212,     0.12312,     0.12412,     0.12513,     0.12613,     0.12713,     0.12813,     0.12913,     0.13013,     0.13113,     0.13213,     0.13313,     0.13413,     0.13514,     0.13614,     0.13714,     0.13814,     0.13914,     0.14014,     0.14114,     0.14214,     0.14314,\n",
       "           0.14414,     0.14515,     0.14615,     0.14715,     0.14815,     0.14915,     0.15015,     0.15115,     0.15215,     0.15315,     0.15415,     0.15516,     0.15616,     0.15716,     0.15816,     0.15916,     0.16016,     0.16116,     0.16216,     0.16316,     0.16416,     0.16517,     0.16617,     0.16717,\n",
       "           0.16817,     0.16917,     0.17017,     0.17117,     0.17217,     0.17317,     0.17417,     0.17518,     0.17618,     0.17718,     0.17818,     0.17918,     0.18018,     0.18118,     0.18218,     0.18318,     0.18418,     0.18519,     0.18619,     0.18719,     0.18819,     0.18919,     0.19019,     0.19119,\n",
       "           0.19219,     0.19319,     0.19419,      0.1952,      0.1962,      0.1972,      0.1982,      0.1992,      0.2002,      0.2012,      0.2022,      0.2032,      0.2042,     0.20521,     0.20621,     0.20721,     0.20821,     0.20921,     0.21021,     0.21121,     0.21221,     0.21321,     0.21421,     0.21522,\n",
       "           0.21622,     0.21722,     0.21822,     0.21922,     0.22022,     0.22122,     0.22222,     0.22322,     0.22422,     0.22523,     0.22623,     0.22723,     0.22823,     0.22923,     0.23023,     0.23123,     0.23223,     0.23323,     0.23423,     0.23524,     0.23624,     0.23724,     0.23824,     0.23924,\n",
       "           0.24024,     0.24124,     0.24224,     0.24324,     0.24424,     0.24525,     0.24625,     0.24725,     0.24825,     0.24925,     0.25025,     0.25125,     0.25225,     0.25325,     0.25425,     0.25526,     0.25626,     0.25726,     0.25826,     0.25926,     0.26026,     0.26126,     0.26226,     0.26326,\n",
       "           0.26426,     0.26527,     0.26627,     0.26727,     0.26827,     0.26927,     0.27027,     0.27127,     0.27227,     0.27327,     0.27427,     0.27528,     0.27628,     0.27728,     0.27828,     0.27928,     0.28028,     0.28128,     0.28228,     0.28328,     0.28428,     0.28529,     0.28629,     0.28729,\n",
       "           0.28829,     0.28929,     0.29029,     0.29129,     0.29229,     0.29329,     0.29429,      0.2953,      0.2963,      0.2973,      0.2983,      0.2993,      0.3003,      0.3013,      0.3023,      0.3033,      0.3043,     0.30531,     0.30631,     0.30731,     0.30831,     0.30931,     0.31031,     0.31131,\n",
       "           0.31231,     0.31331,     0.31431,     0.31532,     0.31632,     0.31732,     0.31832,     0.31932,     0.32032,     0.32132,     0.32232,     0.32332,     0.32432,     0.32533,     0.32633,     0.32733,     0.32833,     0.32933,     0.33033,     0.33133,     0.33233,     0.33333,     0.33433,     0.33534,\n",
       "           0.33634,     0.33734,     0.33834,     0.33934,     0.34034,     0.34134,     0.34234,     0.34334,     0.34434,     0.34535,     0.34635,     0.34735,     0.34835,     0.34935,     0.35035,     0.35135,     0.35235,     0.35335,     0.35435,     0.35536,     0.35636,     0.35736,     0.35836,     0.35936,\n",
       "           0.36036,     0.36136,     0.36236,     0.36336,     0.36436,     0.36537,     0.36637,     0.36737,     0.36837,     0.36937,     0.37037,     0.37137,     0.37237,     0.37337,     0.37437,     0.37538,     0.37638,     0.37738,     0.37838,     0.37938,     0.38038,     0.38138,     0.38238,     0.38338,\n",
       "           0.38438,     0.38539,     0.38639,     0.38739,     0.38839,     0.38939,     0.39039,     0.39139,     0.39239,     0.39339,     0.39439,      0.3954,      0.3964,      0.3974,      0.3984,      0.3994,      0.4004,      0.4014,      0.4024,      0.4034,      0.4044,     0.40541,     0.40641,     0.40741,\n",
       "           0.40841,     0.40941,     0.41041,     0.41141,     0.41241,     0.41341,     0.41441,     0.41542,     0.41642,     0.41742,     0.41842,     0.41942,     0.42042,     0.42142,     0.42242,     0.42342,     0.42442,     0.42543,     0.42643,     0.42743,     0.42843,     0.42943,     0.43043,     0.43143,\n",
       "           0.43243,     0.43343,     0.43443,     0.43544,     0.43644,     0.43744,     0.43844,     0.43944,     0.44044,     0.44144,     0.44244,     0.44344,     0.44444,     0.44545,     0.44645,     0.44745,     0.44845,     0.44945,     0.45045,     0.45145,     0.45245,     0.45345,     0.45445,     0.45546,\n",
       "           0.45646,     0.45746,     0.45846,     0.45946,     0.46046,     0.46146,     0.46246,     0.46346,     0.46446,     0.46547,     0.46647,     0.46747,     0.46847,     0.46947,     0.47047,     0.47147,     0.47247,     0.47347,     0.47447,     0.47548,     0.47648,     0.47748,     0.47848,     0.47948,\n",
       "           0.48048,     0.48148,     0.48248,     0.48348,     0.48448,     0.48549,     0.48649,     0.48749,     0.48849,     0.48949,     0.49049,     0.49149,     0.49249,     0.49349,     0.49449,      0.4955,      0.4965,      0.4975,      0.4985,      0.4995,      0.5005,      0.5015,      0.5025,      0.5035,\n",
       "            0.5045,     0.50551,     0.50651,     0.50751,     0.50851,     0.50951,     0.51051,     0.51151,     0.51251,     0.51351,     0.51451,     0.51552,     0.51652,     0.51752,     0.51852,     0.51952,     0.52052,     0.52152,     0.52252,     0.52352,     0.52452,     0.52553,     0.52653,     0.52753,\n",
       "           0.52853,     0.52953,     0.53053,     0.53153,     0.53253,     0.53353,     0.53453,     0.53554,     0.53654,     0.53754,     0.53854,     0.53954,     0.54054,     0.54154,     0.54254,     0.54354,     0.54454,     0.54555,     0.54655,     0.54755,     0.54855,     0.54955,     0.55055,     0.55155,\n",
       "           0.55255,     0.55355,     0.55455,     0.55556,     0.55656,     0.55756,     0.55856,     0.55956,     0.56056,     0.56156,     0.56256,     0.56356,     0.56456,     0.56557,     0.56657,     0.56757,     0.56857,     0.56957,     0.57057,     0.57157,     0.57257,     0.57357,     0.57457,     0.57558,\n",
       "           0.57658,     0.57758,     0.57858,     0.57958,     0.58058,     0.58158,     0.58258,     0.58358,     0.58458,     0.58559,     0.58659,     0.58759,     0.58859,     0.58959,     0.59059,     0.59159,     0.59259,     0.59359,     0.59459,      0.5956,      0.5966,      0.5976,      0.5986,      0.5996,\n",
       "            0.6006,      0.6016,      0.6026,      0.6036,      0.6046,     0.60561,     0.60661,     0.60761,     0.60861,     0.60961,     0.61061,     0.61161,     0.61261,     0.61361,     0.61461,     0.61562,     0.61662,     0.61762,     0.61862,     0.61962,     0.62062,     0.62162,     0.62262,     0.62362,\n",
       "           0.62462,     0.62563,     0.62663,     0.62763,     0.62863,     0.62963,     0.63063,     0.63163,     0.63263,     0.63363,     0.63463,     0.63564,     0.63664,     0.63764,     0.63864,     0.63964,     0.64064,     0.64164,     0.64264,     0.64364,     0.64464,     0.64565,     0.64665,     0.64765,\n",
       "           0.64865,     0.64965,     0.65065,     0.65165,     0.65265,     0.65365,     0.65465,     0.65566,     0.65666,     0.65766,     0.65866,     0.65966,     0.66066,     0.66166,     0.66266,     0.66366,     0.66466,     0.66567,     0.66667,     0.66767,     0.66867,     0.66967,     0.67067,     0.67167,\n",
       "           0.67267,     0.67367,     0.67467,     0.67568,     0.67668,     0.67768,     0.67868,     0.67968,     0.68068,     0.68168,     0.68268,     0.68368,     0.68468,     0.68569,     0.68669,     0.68769,     0.68869,     0.68969,     0.69069,     0.69169,     0.69269,     0.69369,     0.69469,      0.6957,\n",
       "            0.6967,      0.6977,      0.6987,      0.6997,      0.7007,      0.7017,      0.7027,      0.7037,      0.7047,     0.70571,     0.70671,     0.70771,     0.70871,     0.70971,     0.71071,     0.71171,     0.71271,     0.71371,     0.71471,     0.71572,     0.71672,     0.71772,     0.71872,     0.71972,\n",
       "           0.72072,     0.72172,     0.72272,     0.72372,     0.72472,     0.72573,     0.72673,     0.72773,     0.72873,     0.72973,     0.73073,     0.73173,     0.73273,     0.73373,     0.73473,     0.73574,     0.73674,     0.73774,     0.73874,     0.73974,     0.74074,     0.74174,     0.74274,     0.74374,\n",
       "           0.74474,     0.74575,     0.74675,     0.74775,     0.74875,     0.74975,     0.75075,     0.75175,     0.75275,     0.75375,     0.75475,     0.75576,     0.75676,     0.75776,     0.75876,     0.75976,     0.76076,     0.76176,     0.76276,     0.76376,     0.76476,     0.76577,     0.76677,     0.76777,\n",
       "           0.76877,     0.76977,     0.77077,     0.77177,     0.77277,     0.77377,     0.77477,     0.77578,     0.77678,     0.77778,     0.77878,     0.77978,     0.78078,     0.78178,     0.78278,     0.78378,     0.78478,     0.78579,     0.78679,     0.78779,     0.78879,     0.78979,     0.79079,     0.79179,\n",
       "           0.79279,     0.79379,     0.79479,      0.7958,      0.7968,      0.7978,      0.7988,      0.7998,      0.8008,      0.8018,      0.8028,      0.8038,      0.8048,     0.80581,     0.80681,     0.80781,     0.80881,     0.80981,     0.81081,     0.81181,     0.81281,     0.81381,     0.81481,     0.81582,\n",
       "           0.81682,     0.81782,     0.81882,     0.81982,     0.82082,     0.82182,     0.82282,     0.82382,     0.82482,     0.82583,     0.82683,     0.82783,     0.82883,     0.82983,     0.83083,     0.83183,     0.83283,     0.83383,     0.83483,     0.83584,     0.83684,     0.83784,     0.83884,     0.83984,\n",
       "           0.84084,     0.84184,     0.84284,     0.84384,     0.84484,     0.84585,     0.84685,     0.84785,     0.84885,     0.84985,     0.85085,     0.85185,     0.85285,     0.85385,     0.85485,     0.85586,     0.85686,     0.85786,     0.85886,     0.85986,     0.86086,     0.86186,     0.86286,     0.86386,\n",
       "           0.86486,     0.86587,     0.86687,     0.86787,     0.86887,     0.86987,     0.87087,     0.87187,     0.87287,     0.87387,     0.87487,     0.87588,     0.87688,     0.87788,     0.87888,     0.87988,     0.88088,     0.88188,     0.88288,     0.88388,     0.88488,     0.88589,     0.88689,     0.88789,\n",
       "           0.88889,     0.88989,     0.89089,     0.89189,     0.89289,     0.89389,     0.89489,      0.8959,      0.8969,      0.8979,      0.8989,      0.8999,      0.9009,      0.9019,      0.9029,      0.9039,      0.9049,     0.90591,     0.90691,     0.90791,     0.90891,     0.90991,     0.91091,     0.91191,\n",
       "           0.91291,     0.91391,     0.91491,     0.91592,     0.91692,     0.91792,     0.91892,     0.91992,     0.92092,     0.92192,     0.92292,     0.92392,     0.92492,     0.92593,     0.92693,     0.92793,     0.92893,     0.92993,     0.93093,     0.93193,     0.93293,     0.93393,     0.93493,     0.93594,\n",
       "           0.93694,     0.93794,     0.93894,     0.93994,     0.94094,     0.94194,     0.94294,     0.94394,     0.94494,     0.94595,     0.94695,     0.94795,     0.94895,     0.94995,     0.95095,     0.95195,     0.95295,     0.95395,     0.95495,     0.95596,     0.95696,     0.95796,     0.95896,     0.95996,\n",
       "           0.96096,     0.96196,     0.96296,     0.96396,     0.96496,     0.96597,     0.96697,     0.96797,     0.96897,     0.96997,     0.97097,     0.97197,     0.97297,     0.97397,     0.97497,     0.97598,     0.97698,     0.97798,     0.97898,     0.97998,     0.98098,     0.98198,     0.98298,     0.98398,\n",
       "           0.98498,     0.98599,     0.98699,     0.98799,     0.98899,     0.98999,     0.99099,     0.99199,     0.99299,     0.99399,     0.99499,       0.996,       0.997,       0.998,       0.999,           1]), array([[       0.55,        0.55,     0.64235, ...,           1,           1,           1],\n",
       "       [    0.54217,     0.54217,     0.62967, ...,           1,           1,           1],\n",
       "       [    0.84746,     0.84746,     0.87934, ...,           1,           1,           1],\n",
       "       [    0.59146,     0.59146,     0.71153, ...,           1,           1,           1],\n",
       "       [    0.11201,     0.11201,     0.15383, ...,           1,           1,           1]]), 'Confidence', 'Precision'], [array([          0,    0.001001,    0.002002,    0.003003,    0.004004,    0.005005,    0.006006,    0.007007,    0.008008,    0.009009,     0.01001,    0.011011,    0.012012,    0.013013,    0.014014,    0.015015,    0.016016,    0.017017,    0.018018,    0.019019,     0.02002,    0.021021,    0.022022,    0.023023,\n",
       "          0.024024,    0.025025,    0.026026,    0.027027,    0.028028,    0.029029,     0.03003,    0.031031,    0.032032,    0.033033,    0.034034,    0.035035,    0.036036,    0.037037,    0.038038,    0.039039,     0.04004,    0.041041,    0.042042,    0.043043,    0.044044,    0.045045,    0.046046,    0.047047,\n",
       "          0.048048,    0.049049,     0.05005,    0.051051,    0.052052,    0.053053,    0.054054,    0.055055,    0.056056,    0.057057,    0.058058,    0.059059,     0.06006,    0.061061,    0.062062,    0.063063,    0.064064,    0.065065,    0.066066,    0.067067,    0.068068,    0.069069,     0.07007,    0.071071,\n",
       "          0.072072,    0.073073,    0.074074,    0.075075,    0.076076,    0.077077,    0.078078,    0.079079,     0.08008,    0.081081,    0.082082,    0.083083,    0.084084,    0.085085,    0.086086,    0.087087,    0.088088,    0.089089,     0.09009,    0.091091,    0.092092,    0.093093,    0.094094,    0.095095,\n",
       "          0.096096,    0.097097,    0.098098,    0.099099,      0.1001,      0.1011,      0.1021,      0.1031,      0.1041,     0.10511,     0.10611,     0.10711,     0.10811,     0.10911,     0.11011,     0.11111,     0.11211,     0.11311,     0.11411,     0.11512,     0.11612,     0.11712,     0.11812,     0.11912,\n",
       "           0.12012,     0.12112,     0.12212,     0.12312,     0.12412,     0.12513,     0.12613,     0.12713,     0.12813,     0.12913,     0.13013,     0.13113,     0.13213,     0.13313,     0.13413,     0.13514,     0.13614,     0.13714,     0.13814,     0.13914,     0.14014,     0.14114,     0.14214,     0.14314,\n",
       "           0.14414,     0.14515,     0.14615,     0.14715,     0.14815,     0.14915,     0.15015,     0.15115,     0.15215,     0.15315,     0.15415,     0.15516,     0.15616,     0.15716,     0.15816,     0.15916,     0.16016,     0.16116,     0.16216,     0.16316,     0.16416,     0.16517,     0.16617,     0.16717,\n",
       "           0.16817,     0.16917,     0.17017,     0.17117,     0.17217,     0.17317,     0.17417,     0.17518,     0.17618,     0.17718,     0.17818,     0.17918,     0.18018,     0.18118,     0.18218,     0.18318,     0.18418,     0.18519,     0.18619,     0.18719,     0.18819,     0.18919,     0.19019,     0.19119,\n",
       "           0.19219,     0.19319,     0.19419,      0.1952,      0.1962,      0.1972,      0.1982,      0.1992,      0.2002,      0.2012,      0.2022,      0.2032,      0.2042,     0.20521,     0.20621,     0.20721,     0.20821,     0.20921,     0.21021,     0.21121,     0.21221,     0.21321,     0.21421,     0.21522,\n",
       "           0.21622,     0.21722,     0.21822,     0.21922,     0.22022,     0.22122,     0.22222,     0.22322,     0.22422,     0.22523,     0.22623,     0.22723,     0.22823,     0.22923,     0.23023,     0.23123,     0.23223,     0.23323,     0.23423,     0.23524,     0.23624,     0.23724,     0.23824,     0.23924,\n",
       "           0.24024,     0.24124,     0.24224,     0.24324,     0.24424,     0.24525,     0.24625,     0.24725,     0.24825,     0.24925,     0.25025,     0.25125,     0.25225,     0.25325,     0.25425,     0.25526,     0.25626,     0.25726,     0.25826,     0.25926,     0.26026,     0.26126,     0.26226,     0.26326,\n",
       "           0.26426,     0.26527,     0.26627,     0.26727,     0.26827,     0.26927,     0.27027,     0.27127,     0.27227,     0.27327,     0.27427,     0.27528,     0.27628,     0.27728,     0.27828,     0.27928,     0.28028,     0.28128,     0.28228,     0.28328,     0.28428,     0.28529,     0.28629,     0.28729,\n",
       "           0.28829,     0.28929,     0.29029,     0.29129,     0.29229,     0.29329,     0.29429,      0.2953,      0.2963,      0.2973,      0.2983,      0.2993,      0.3003,      0.3013,      0.3023,      0.3033,      0.3043,     0.30531,     0.30631,     0.30731,     0.30831,     0.30931,     0.31031,     0.31131,\n",
       "           0.31231,     0.31331,     0.31431,     0.31532,     0.31632,     0.31732,     0.31832,     0.31932,     0.32032,     0.32132,     0.32232,     0.32332,     0.32432,     0.32533,     0.32633,     0.32733,     0.32833,     0.32933,     0.33033,     0.33133,     0.33233,     0.33333,     0.33433,     0.33534,\n",
       "           0.33634,     0.33734,     0.33834,     0.33934,     0.34034,     0.34134,     0.34234,     0.34334,     0.34434,     0.34535,     0.34635,     0.34735,     0.34835,     0.34935,     0.35035,     0.35135,     0.35235,     0.35335,     0.35435,     0.35536,     0.35636,     0.35736,     0.35836,     0.35936,\n",
       "           0.36036,     0.36136,     0.36236,     0.36336,     0.36436,     0.36537,     0.36637,     0.36737,     0.36837,     0.36937,     0.37037,     0.37137,     0.37237,     0.37337,     0.37437,     0.37538,     0.37638,     0.37738,     0.37838,     0.37938,     0.38038,     0.38138,     0.38238,     0.38338,\n",
       "           0.38438,     0.38539,     0.38639,     0.38739,     0.38839,     0.38939,     0.39039,     0.39139,     0.39239,     0.39339,     0.39439,      0.3954,      0.3964,      0.3974,      0.3984,      0.3994,      0.4004,      0.4014,      0.4024,      0.4034,      0.4044,     0.40541,     0.40641,     0.40741,\n",
       "           0.40841,     0.40941,     0.41041,     0.41141,     0.41241,     0.41341,     0.41441,     0.41542,     0.41642,     0.41742,     0.41842,     0.41942,     0.42042,     0.42142,     0.42242,     0.42342,     0.42442,     0.42543,     0.42643,     0.42743,     0.42843,     0.42943,     0.43043,     0.43143,\n",
       "           0.43243,     0.43343,     0.43443,     0.43544,     0.43644,     0.43744,     0.43844,     0.43944,     0.44044,     0.44144,     0.44244,     0.44344,     0.44444,     0.44545,     0.44645,     0.44745,     0.44845,     0.44945,     0.45045,     0.45145,     0.45245,     0.45345,     0.45445,     0.45546,\n",
       "           0.45646,     0.45746,     0.45846,     0.45946,     0.46046,     0.46146,     0.46246,     0.46346,     0.46446,     0.46547,     0.46647,     0.46747,     0.46847,     0.46947,     0.47047,     0.47147,     0.47247,     0.47347,     0.47447,     0.47548,     0.47648,     0.47748,     0.47848,     0.47948,\n",
       "           0.48048,     0.48148,     0.48248,     0.48348,     0.48448,     0.48549,     0.48649,     0.48749,     0.48849,     0.48949,     0.49049,     0.49149,     0.49249,     0.49349,     0.49449,      0.4955,      0.4965,      0.4975,      0.4985,      0.4995,      0.5005,      0.5015,      0.5025,      0.5035,\n",
       "            0.5045,     0.50551,     0.50651,     0.50751,     0.50851,     0.50951,     0.51051,     0.51151,     0.51251,     0.51351,     0.51451,     0.51552,     0.51652,     0.51752,     0.51852,     0.51952,     0.52052,     0.52152,     0.52252,     0.52352,     0.52452,     0.52553,     0.52653,     0.52753,\n",
       "           0.52853,     0.52953,     0.53053,     0.53153,     0.53253,     0.53353,     0.53453,     0.53554,     0.53654,     0.53754,     0.53854,     0.53954,     0.54054,     0.54154,     0.54254,     0.54354,     0.54454,     0.54555,     0.54655,     0.54755,     0.54855,     0.54955,     0.55055,     0.55155,\n",
       "           0.55255,     0.55355,     0.55455,     0.55556,     0.55656,     0.55756,     0.55856,     0.55956,     0.56056,     0.56156,     0.56256,     0.56356,     0.56456,     0.56557,     0.56657,     0.56757,     0.56857,     0.56957,     0.57057,     0.57157,     0.57257,     0.57357,     0.57457,     0.57558,\n",
       "           0.57658,     0.57758,     0.57858,     0.57958,     0.58058,     0.58158,     0.58258,     0.58358,     0.58458,     0.58559,     0.58659,     0.58759,     0.58859,     0.58959,     0.59059,     0.59159,     0.59259,     0.59359,     0.59459,      0.5956,      0.5966,      0.5976,      0.5986,      0.5996,\n",
       "            0.6006,      0.6016,      0.6026,      0.6036,      0.6046,     0.60561,     0.60661,     0.60761,     0.60861,     0.60961,     0.61061,     0.61161,     0.61261,     0.61361,     0.61461,     0.61562,     0.61662,     0.61762,     0.61862,     0.61962,     0.62062,     0.62162,     0.62262,     0.62362,\n",
       "           0.62462,     0.62563,     0.62663,     0.62763,     0.62863,     0.62963,     0.63063,     0.63163,     0.63263,     0.63363,     0.63463,     0.63564,     0.63664,     0.63764,     0.63864,     0.63964,     0.64064,     0.64164,     0.64264,     0.64364,     0.64464,     0.64565,     0.64665,     0.64765,\n",
       "           0.64865,     0.64965,     0.65065,     0.65165,     0.65265,     0.65365,     0.65465,     0.65566,     0.65666,     0.65766,     0.65866,     0.65966,     0.66066,     0.66166,     0.66266,     0.66366,     0.66466,     0.66567,     0.66667,     0.66767,     0.66867,     0.66967,     0.67067,     0.67167,\n",
       "           0.67267,     0.67367,     0.67467,     0.67568,     0.67668,     0.67768,     0.67868,     0.67968,     0.68068,     0.68168,     0.68268,     0.68368,     0.68468,     0.68569,     0.68669,     0.68769,     0.68869,     0.68969,     0.69069,     0.69169,     0.69269,     0.69369,     0.69469,      0.6957,\n",
       "            0.6967,      0.6977,      0.6987,      0.6997,      0.7007,      0.7017,      0.7027,      0.7037,      0.7047,     0.70571,     0.70671,     0.70771,     0.70871,     0.70971,     0.71071,     0.71171,     0.71271,     0.71371,     0.71471,     0.71572,     0.71672,     0.71772,     0.71872,     0.71972,\n",
       "           0.72072,     0.72172,     0.72272,     0.72372,     0.72472,     0.72573,     0.72673,     0.72773,     0.72873,     0.72973,     0.73073,     0.73173,     0.73273,     0.73373,     0.73473,     0.73574,     0.73674,     0.73774,     0.73874,     0.73974,     0.74074,     0.74174,     0.74274,     0.74374,\n",
       "           0.74474,     0.74575,     0.74675,     0.74775,     0.74875,     0.74975,     0.75075,     0.75175,     0.75275,     0.75375,     0.75475,     0.75576,     0.75676,     0.75776,     0.75876,     0.75976,     0.76076,     0.76176,     0.76276,     0.76376,     0.76476,     0.76577,     0.76677,     0.76777,\n",
       "           0.76877,     0.76977,     0.77077,     0.77177,     0.77277,     0.77377,     0.77477,     0.77578,     0.77678,     0.77778,     0.77878,     0.77978,     0.78078,     0.78178,     0.78278,     0.78378,     0.78478,     0.78579,     0.78679,     0.78779,     0.78879,     0.78979,     0.79079,     0.79179,\n",
       "           0.79279,     0.79379,     0.79479,      0.7958,      0.7968,      0.7978,      0.7988,      0.7998,      0.8008,      0.8018,      0.8028,      0.8038,      0.8048,     0.80581,     0.80681,     0.80781,     0.80881,     0.80981,     0.81081,     0.81181,     0.81281,     0.81381,     0.81481,     0.81582,\n",
       "           0.81682,     0.81782,     0.81882,     0.81982,     0.82082,     0.82182,     0.82282,     0.82382,     0.82482,     0.82583,     0.82683,     0.82783,     0.82883,     0.82983,     0.83083,     0.83183,     0.83283,     0.83383,     0.83483,     0.83584,     0.83684,     0.83784,     0.83884,     0.83984,\n",
       "           0.84084,     0.84184,     0.84284,     0.84384,     0.84484,     0.84585,     0.84685,     0.84785,     0.84885,     0.84985,     0.85085,     0.85185,     0.85285,     0.85385,     0.85485,     0.85586,     0.85686,     0.85786,     0.85886,     0.85986,     0.86086,     0.86186,     0.86286,     0.86386,\n",
       "           0.86486,     0.86587,     0.86687,     0.86787,     0.86887,     0.86987,     0.87087,     0.87187,     0.87287,     0.87387,     0.87487,     0.87588,     0.87688,     0.87788,     0.87888,     0.87988,     0.88088,     0.88188,     0.88288,     0.88388,     0.88488,     0.88589,     0.88689,     0.88789,\n",
       "           0.88889,     0.88989,     0.89089,     0.89189,     0.89289,     0.89389,     0.89489,      0.8959,      0.8969,      0.8979,      0.8989,      0.8999,      0.9009,      0.9019,      0.9029,      0.9039,      0.9049,     0.90591,     0.90691,     0.90791,     0.90891,     0.90991,     0.91091,     0.91191,\n",
       "           0.91291,     0.91391,     0.91491,     0.91592,     0.91692,     0.91792,     0.91892,     0.91992,     0.92092,     0.92192,     0.92292,     0.92392,     0.92492,     0.92593,     0.92693,     0.92793,     0.92893,     0.92993,     0.93093,     0.93193,     0.93293,     0.93393,     0.93493,     0.93594,\n",
       "           0.93694,     0.93794,     0.93894,     0.93994,     0.94094,     0.94194,     0.94294,     0.94394,     0.94494,     0.94595,     0.94695,     0.94795,     0.94895,     0.94995,     0.95095,     0.95195,     0.95295,     0.95395,     0.95495,     0.95596,     0.95696,     0.95796,     0.95896,     0.95996,\n",
       "           0.96096,     0.96196,     0.96296,     0.96396,     0.96496,     0.96597,     0.96697,     0.96797,     0.96897,     0.96997,     0.97097,     0.97197,     0.97297,     0.97397,     0.97497,     0.97598,     0.97698,     0.97798,     0.97898,     0.97998,     0.98098,     0.98198,     0.98298,     0.98398,\n",
       "           0.98498,     0.98599,     0.98699,     0.98799,     0.98899,     0.98999,     0.99099,     0.99199,     0.99299,     0.99399,     0.99499,       0.996,       0.997,       0.998,       0.999,           1]), array([[          1,           1,           1, ...,           0,           0,           0],\n",
       "       [          1,           1,           1, ...,           0,           0,           0],\n",
       "       [          1,           1,           1, ...,           0,           0,           0],\n",
       "       [          1,           1,           1, ...,           0,           0,           0],\n",
       "       [    0.93258,     0.93258,     0.93258, ...,           0,           0,           0]]), 'Confidence', 'Recall']]\n",
       "fitness: np.float64(0.8691081445593296)\n",
       "keys: ['metrics/precision(B)', 'metrics/recall(B)', 'metrics/mAP50(B)', 'metrics/mAP50-95(B)']\n",
       "maps: array([    0.87345,     0.91792,     0.99163,     0.89121,     0.62521])\n",
       "names: {0: 'bp', 1: 'gluco', 2: 'hba1c', 3: 'spo2', 4: 'ws'}\n",
       "plot: True\n",
       "results_dict: {'metrics/precision(B)': np.float64(0.9215493720541643), 'metrics/recall(B)': np.float64(0.9538199770267164), 'metrics/mAP50(B)': np.float64(0.9521075609488762), 'metrics/mAP50-95(B)': np.float64(0.8598859871827134), 'fitness': np.float64(0.8691081445593296)}\n",
       "save_dir: PosixPath('runs/detect/device_detector')\n",
       "speed: {'preprocess': 0.2354808567777885, 'inference': 4.483444411460387, 'loss': 0.0004260729108788534, 'postprocess': 2.817737216143238}\n",
       "task: 'detect'"
      ]
     },
     "execution_count": 15,
     "metadata": {},
     "output_type": "execute_result"
    }
   ],
   "source": [
    "model.train(\n",
    "    data=\"/content/Medical_Device_Detection-1/data.yaml\",\n",
    "    epochs=100,\n",
    "    imgsz=640,\n",
    "    batch=16,\n",
    "    name=\"device_detector\",\n",
    "    optimizer=\"Adam\",\n",
    "    verbose=True\n",
    ")"
   ]
  },
  {
   "cell_type": "code",
   "execution_count": null,
   "metadata": {
    "colab": {
     "base_uri": "https://localhost:8080/",
     "height": 909
    },
    "id": "6ZE3AqRyzzLN",
    "outputId": "dc36798e-193b-4dda-ae54-bd8ad037523f"
   },
   "outputs": [
    {
     "name": "stdout",
     "output_type": "stream",
     "text": [
      "Ultralytics 8.3.113  Python-3.12.7 torch-2.6.0+cpu CPU (13th Gen Intel Core(TM) i7-1355U)\n",
      "Model summary (fused): 72 layers, 11,127,519 parameters, 0 gradients, 28.4 GFLOPs\n",
      "\n",
      "\u001b[34m\u001b[1mPyTorch:\u001b[0m starting from 'C:\\Users\\SaitejaVuppala\\Projects\\Assignments Seanergy\\Checkpoint3\\Medical_Device_Detection\\Medical_Device_Detection-1\\runs\\detect\\device_detector\\weights\\best.pt' with input shape (1, 3, 640, 640) BCHW and output shape(s) (1, 9, 8400) (21.5 MB)\n",
      "\u001b[31m\u001b[1mrequirements:\u001b[0m Ultralytics requirements ['onnx>=1.12.0', 'onnxslim', 'onnxruntime'] not found, attempting AutoUpdate...\n",
      "Collecting onnx>=1.12.0\n",
      "  Downloading onnx-1.17.0-cp312-cp312-win_amd64.whl.metadata (16 kB)\n",
      "Collecting onnxslim\n",
      "  Downloading onnxslim-0.1.50-py3-none-any.whl.metadata (4.8 kB)\n",
      "Collecting onnxruntime\n",
      "  Downloading onnxruntime-1.21.1-cp312-cp312-win_amd64.whl.metadata (4.9 kB)\n",
      "Requirement already satisfied: numpy>=1.20 in c:\\users\\saitejavuppala\\anaconda3\\lib\\site-packages (from onnx>=1.12.0) (1.26.4)\n",
      "Requirement already satisfied: protobuf>=3.20.2 in c:\\users\\saitejavuppala\\anaconda3\\lib\\site-packages (from onnx>=1.12.0) (4.25.3)\n",
      "Requirement already satisfied: sympy in c:\\users\\saitejavuppala\\anaconda3\\lib\\site-packages (from onnxslim) (1.13.1)\n",
      "Requirement already satisfied: packaging in c:\\users\\saitejavuppala\\anaconda3\\lib\\site-packages (from onnxslim) (24.1)\n",
      "Collecting coloredlogs (from onnxruntime)\n",
      "  Downloading coloredlogs-15.0.1-py2.py3-none-any.whl.metadata (12 kB)\n",
      "Requirement already satisfied: flatbuffers in c:\\users\\saitejavuppala\\anaconda3\\lib\\site-packages (from onnxruntime) (25.1.24)\n",
      "Collecting humanfriendly>=9.1 (from coloredlogs->onnxruntime)\n",
      "  Downloading humanfriendly-10.0-py2.py3-none-any.whl.metadata (9.2 kB)\n",
      "Requirement already satisfied: mpmath<1.4,>=1.1.0 in c:\\users\\saitejavuppala\\anaconda3\\lib\\site-packages (from sympy->onnxslim) (1.3.0)\n",
      "Collecting pyreadline3 (from humanfriendly>=9.1->coloredlogs->onnxruntime)\n",
      "  Downloading pyreadline3-3.5.4-py3-none-any.whl.metadata (4.7 kB)\n",
      "Downloading onnx-1.17.0-cp312-cp312-win_amd64.whl (14.5 MB)\n",
      "   ---------------------------------------- 14.5/14.5 MB 10.5 MB/s eta 0:00:00\n",
      "Downloading onnxslim-0.1.50-py3-none-any.whl (144 kB)\n",
      "Downloading onnxruntime-1.21.1-cp312-cp312-win_amd64.whl (12.3 MB)\n",
      "   ---------------------------------------- 12.3/12.3 MB 10.6 MB/s eta 0:00:00\n",
      "Downloading coloredlogs-15.0.1-py2.py3-none-any.whl (46 kB)\n",
      "Downloading humanfriendly-10.0-py2.py3-none-any.whl (86 kB)\n",
      "Downloading pyreadline3-3.5.4-py3-none-any.whl (83 kB)\n",
      "Installing collected packages: pyreadline3, onnx, onnxslim, humanfriendly, coloredlogs, onnxruntime\n",
      "Successfully installed coloredlogs-15.0.1 humanfriendly-10.0 onnx-1.17.0 onnxruntime-1.21.1 onnxslim-0.1.50 pyreadline3-3.5.4\n",
      "\n",
      "\u001b[31m\u001b[1mrequirements:\u001b[0m AutoUpdate success  16.5s, installed 3 packages: ['onnx>=1.12.0', 'onnxslim', 'onnxruntime']\n",
      "WARNING \u001b[31m\u001b[1mrequirements:\u001b[0m \u001b[1mRestart runtime or rerun command for updates to take effect\u001b[0m\n",
      "\n",
      "\n",
      "\u001b[34m\u001b[1mONNX:\u001b[0m starting export with onnx 1.17.0 opset 19...\n",
      "\u001b[34m\u001b[1mONNX:\u001b[0m slimming with onnxslim 0.1.50...\n",
      "\u001b[34m\u001b[1mONNX:\u001b[0m export success  18.8s, saved as 'C:\\Users\\SaitejaVuppala\\Projects\\Assignments Seanergy\\Checkpoint3\\Medical_Device_Detection\\Medical_Device_Detection-1\\runs\\detect\\device_detector\\weights\\best.onnx' (42.7 MB)\n",
      "\n",
      "Export complete (19.8s)\n",
      "Results saved to \u001b[1mC:\\Users\\SaitejaVuppala\\Projects\\Assignments Seanergy\\Checkpoint3\\Medical_Device_Detection\\Medical_Device_Detection-1\\runs\\detect\\device_detector\\weights\u001b[0m\n",
      "Predict:         yolo predict task=detect model=C:\\Users\\SaitejaVuppala\\Projects\\Assignments Seanergy\\Checkpoint3\\Medical_Device_Detection\\Medical_Device_Detection-1\\runs\\detect\\device_detector\\weights\\best.onnx imgsz=640  \n",
      "Validate:        yolo val task=detect model=C:\\Users\\SaitejaVuppala\\Projects\\Assignments Seanergy\\Checkpoint3\\Medical_Device_Detection\\Medical_Device_Detection-1\\runs\\detect\\device_detector\\weights\\best.onnx imgsz=640 data=/content/Medical_Device_Detection-1/data.yaml  \n",
      "Visualize:       https://netron.app\n"
     ]
    },
    {
     "data": {
      "text/plain": [
       "'C:\\\\Users\\\\SaitejaVuppala\\\\Projects\\\\Assignments Seanergy\\\\Checkpoint3\\\\Medical_Device_Detection\\\\Medical_Device_Detection-1\\\\runs\\\\detect\\\\device_detector\\\\weights\\\\best.onnx'"
      ]
     },
     "execution_count": 6,
     "metadata": {},
     "output_type": "execute_result"
    }
   ],
   "source": [
    "model = YOLO('/content/drive/MyDrive/Medical_Device_Detection/Medical_Device_Detection-1/runs/detect/device_detector/weights/best.pt')\n",
    "model.export(format='onnx')"
   ]
  },
  {
   "cell_type": "code",
   "execution_count": 16,
   "metadata": {
    "colab": {
     "base_uri": "https://localhost:8080/"
    },
    "executionInfo": {
     "elapsed": 224407,
     "status": "ok",
     "timestamp": 1745393539298,
     "user": {
      "displayName": "Saiteja Vuppala",
      "userId": "17073075911846516287"
     },
     "user_tz": -330
    },
    "id": "r9KfJTrJJt01",
    "outputId": "3f871ab6-74f5-4a78-d7bc-b7320ace67dd"
   },
   "outputs": [
    {
     "name": "stdout",
     "output_type": "stream",
     "text": [
      "Processing 384 images...\n",
      "Cropped validation images saved to: /content/drive/MyDrive/Medical_Device_Detection/Medical_Device_Detection-1/validation_crops\n"
     ]
    }
   ],
   "source": [
    "# Load the trained model\n",
    "model = YOLO('/content/drive/MyDrive/Medical_Device_Detection/Medical_Device_Detection-1/runs/detect/device_detector/weights/best.pt')\n",
    "\n",
    "val_images_dir = \"/content/drive/MyDrive/Medical_Device_Detection/Medical_Device_Detection-1/valid/images\"\n",
    "output_dir = '/content/drive/MyDrive/Medical_Device_Detection/Medical_Device_Detection-1/validation_crops'\n",
    "\n",
    "# Create output directory\n",
    "os.makedirs(output_dir, exist_ok=True)\n",
    "\n",
    "# Get all image files from validation folder\n",
    "image_paths = list(Path(val_images_dir).glob(\"*.jpg\")) + list(Path(val_images_dir).glob(\"*.png\"))\n",
    "\n",
    "# Class names (should match data.yaml)\n",
    "class_names = ['bp', 'gluco', 'hba1c', 'spo2', 'ws']\n",
    "\n",
    "print(f\"Processing {len(image_paths)} images...\")\n",
    "\n",
    "for image_path in image_paths:\n",
    "    image = cv2.imread(str(image_path))\n",
    "    results = model.predict(source=image, save=False, conf=0.4, verbose=False)\n",
    "\n",
    "    for i, result in enumerate(results):\n",
    "        boxes = result.boxes\n",
    "        for j, box in enumerate(boxes):\n",
    "            cls_id = int(box.cls[0])\n",
    "            cls_name = class_names[cls_id]\n",
    "            xyxy = box.xyxy[0].cpu().numpy().astype(int)\n",
    "            x1, y1, x2, y2 = xyxy\n",
    "\n",
    "            crop = image[y1:y2, x1:x2]\n",
    "            crop_name = f\"{image_path.stem}_{cls_name}_{j}.jpg\"\n",
    "            crop_path = os.path.join(output_dir, cls_name)\n",
    "            os.makedirs(crop_path, exist_ok=True)\n",
    "            cv2.imwrite(os.path.join(crop_path, crop_name), crop)\n",
    "\n",
    "print(\"Cropped validation images saved to:\", output_dir)"
   ]
  },
  {
   "cell_type": "code",
   "execution_count": null,
   "metadata": {
    "colab": {
     "base_uri": "https://localhost:8080/"
    },
    "id": "wThYRXxRLQfW",
    "outputId": "ab7940b5-b9af-41d4-b020-2d89880531b5"
   },
   "outputs": [
    {
     "name": "stdout",
     "output_type": "stream",
     "text": [
      "Ultralytics 8.3.113 🚀 Python-3.11.12 torch-2.6.0+cu124 CUDA:0 (Tesla T4, 15095MiB)\n",
      "\u001b[34m\u001b[1mval: \u001b[0mFast image access ✅ (ping: 0.0±0.0 ms, read: 746.4±253.2 MB/s, size: 29.6 KB)\n"
     ]
    },
    {
     "name": "stderr",
     "output_type": "stream",
     "text": [
      "\u001b[34m\u001b[1mval: \u001b[0mScanning /content/Medical_Device_Detection-1/valid/labels.cache... 384 images, 4 backgrounds, 0 corrupt: 100%|██████████| 384/384 [00:00<?, ?it/s]"
     ]
    },
    {
     "name": "stdout",
     "output_type": "stream",
     "text": [
      "WARNING ⚠️ Box and segment counts should be equal, but got len(segments) = 375, len(boxes) = 380. To resolve this only boxes will be used and all segments will be removed. To avoid this please supply either a detect or segment dataset, not a detect-segment mixed dataset.\n"
     ]
    },
    {
     "name": "stderr",
     "output_type": "stream",
     "text": [
      "\n",
      "                 Class     Images  Instances      Box(P          R      mAP50  mAP50-95): 100%|██████████| 24/24 [00:06<00:00,  3.51it/s]\n"
     ]
    },
    {
     "name": "stdout",
     "output_type": "stream",
     "text": [
      "                   all        384        380      0.925      0.951      0.952      0.859\n",
      "                    bp         99         99      0.961      0.993      0.987      0.869\n",
      "                 gluco         45         45      0.987      0.978      0.995      0.917\n",
      "                 hba1c         50         50      0.957          1      0.995      0.992\n",
      "                  spo2         97         97      0.951          1       0.97      0.891\n",
      "                    ws         89         89      0.772      0.787      0.814      0.625\n",
      "Speed: 1.7ms preprocess, 8.9ms inference, 0.0ms loss, 1.5ms postprocess per image\n",
      "Results saved to \u001b[1mruns/detect/val\u001b[0m\n",
      "Ultralytics 8.3.113 🚀 Python-3.11.12 torch-2.6.0+cu124 CUDA:0 (Tesla T4, 15095MiB)\n",
      "\u001b[34m\u001b[1mval: \u001b[0mFast image access ✅ (ping: 0.0±0.0 ms, read: 771.2±465.3 MB/s, size: 29.0 KB)\n"
     ]
    },
    {
     "name": "stderr",
     "output_type": "stream",
     "text": [
      "\u001b[34m\u001b[1mval: \u001b[0mScanning /content/Medical_Device_Detection-1/valid/labels.cache... 384 images, 4 backgrounds, 0 corrupt: 100%|██████████| 384/384 [00:00<?, ?it/s]"
     ]
    },
    {
     "name": "stdout",
     "output_type": "stream",
     "text": [
      "WARNING ⚠️ Box and segment counts should be equal, but got len(segments) = 375, len(boxes) = 380. To resolve this only boxes will be used and all segments will be removed. To avoid this please supply either a detect or segment dataset, not a detect-segment mixed dataset.\n"
     ]
    },
    {
     "name": "stderr",
     "output_type": "stream",
     "text": [
      "\n",
      "                 Class     Images  Instances      Box(P          R      mAP50  mAP50-95): 100%|██████████| 24/24 [00:06<00:00,  3.47it/s]\n"
     ]
    },
    {
     "name": "stdout",
     "output_type": "stream",
     "text": [
      "                   all        384        380      0.925      0.951      0.952      0.859\n",
      "                    bp         99         99      0.961      0.993      0.987      0.869\n",
      "                 gluco         45         45      0.987      0.978      0.995      0.917\n",
      "                 hba1c         50         50      0.957          1      0.995      0.992\n",
      "                  spo2         97         97      0.951          1       0.97      0.891\n",
      "                    ws         89         89      0.772      0.787      0.814      0.625\n",
      "Speed: 1.4ms preprocess, 8.5ms inference, 0.0ms loss, 1.4ms postprocess per image\n",
      "Results saved to \u001b[1mruns/detect/val2\u001b[0m\n"
     ]
    },
    {
     "data": {
      "text/plain": [
       "ultralytics.utils.metrics.DetMetrics object with attributes:\n",
       "\n",
       "ap_class_index: array([0, 1, 2, 3, 4])\n",
       "box: ultralytics.utils.metrics.Metric object\n",
       "confusion_matrix: <ultralytics.utils.metrics.ConfusionMatrix object at 0x7f0d5258d4d0>\n",
       "curves: ['Precision-Recall(B)', 'F1-Confidence(B)', 'Precision-Confidence(B)', 'Recall-Confidence(B)']\n",
       "curves_results: [[array([          0,    0.001001,    0.002002,    0.003003,    0.004004,    0.005005,    0.006006,    0.007007,    0.008008,    0.009009,     0.01001,    0.011011,    0.012012,    0.013013,    0.014014,    0.015015,    0.016016,    0.017017,    0.018018,    0.019019,     0.02002,    0.021021,    0.022022,    0.023023,\n",
       "          0.024024,    0.025025,    0.026026,    0.027027,    0.028028,    0.029029,     0.03003,    0.031031,    0.032032,    0.033033,    0.034034,    0.035035,    0.036036,    0.037037,    0.038038,    0.039039,     0.04004,    0.041041,    0.042042,    0.043043,    0.044044,    0.045045,    0.046046,    0.047047,\n",
       "          0.048048,    0.049049,     0.05005,    0.051051,    0.052052,    0.053053,    0.054054,    0.055055,    0.056056,    0.057057,    0.058058,    0.059059,     0.06006,    0.061061,    0.062062,    0.063063,    0.064064,    0.065065,    0.066066,    0.067067,    0.068068,    0.069069,     0.07007,    0.071071,\n",
       "          0.072072,    0.073073,    0.074074,    0.075075,    0.076076,    0.077077,    0.078078,    0.079079,     0.08008,    0.081081,    0.082082,    0.083083,    0.084084,    0.085085,    0.086086,    0.087087,    0.088088,    0.089089,     0.09009,    0.091091,    0.092092,    0.093093,    0.094094,    0.095095,\n",
       "          0.096096,    0.097097,    0.098098,    0.099099,      0.1001,      0.1011,      0.1021,      0.1031,      0.1041,     0.10511,     0.10611,     0.10711,     0.10811,     0.10911,     0.11011,     0.11111,     0.11211,     0.11311,     0.11411,     0.11512,     0.11612,     0.11712,     0.11812,     0.11912,\n",
       "           0.12012,     0.12112,     0.12212,     0.12312,     0.12412,     0.12513,     0.12613,     0.12713,     0.12813,     0.12913,     0.13013,     0.13113,     0.13213,     0.13313,     0.13413,     0.13514,     0.13614,     0.13714,     0.13814,     0.13914,     0.14014,     0.14114,     0.14214,     0.14314,\n",
       "           0.14414,     0.14515,     0.14615,     0.14715,     0.14815,     0.14915,     0.15015,     0.15115,     0.15215,     0.15315,     0.15415,     0.15516,     0.15616,     0.15716,     0.15816,     0.15916,     0.16016,     0.16116,     0.16216,     0.16316,     0.16416,     0.16517,     0.16617,     0.16717,\n",
       "           0.16817,     0.16917,     0.17017,     0.17117,     0.17217,     0.17317,     0.17417,     0.17518,     0.17618,     0.17718,     0.17818,     0.17918,     0.18018,     0.18118,     0.18218,     0.18318,     0.18418,     0.18519,     0.18619,     0.18719,     0.18819,     0.18919,     0.19019,     0.19119,\n",
       "           0.19219,     0.19319,     0.19419,      0.1952,      0.1962,      0.1972,      0.1982,      0.1992,      0.2002,      0.2012,      0.2022,      0.2032,      0.2042,     0.20521,     0.20621,     0.20721,     0.20821,     0.20921,     0.21021,     0.21121,     0.21221,     0.21321,     0.21421,     0.21522,\n",
       "           0.21622,     0.21722,     0.21822,     0.21922,     0.22022,     0.22122,     0.22222,     0.22322,     0.22422,     0.22523,     0.22623,     0.22723,     0.22823,     0.22923,     0.23023,     0.23123,     0.23223,     0.23323,     0.23423,     0.23524,     0.23624,     0.23724,     0.23824,     0.23924,\n",
       "           0.24024,     0.24124,     0.24224,     0.24324,     0.24424,     0.24525,     0.24625,     0.24725,     0.24825,     0.24925,     0.25025,     0.25125,     0.25225,     0.25325,     0.25425,     0.25526,     0.25626,     0.25726,     0.25826,     0.25926,     0.26026,     0.26126,     0.26226,     0.26326,\n",
       "           0.26426,     0.26527,     0.26627,     0.26727,     0.26827,     0.26927,     0.27027,     0.27127,     0.27227,     0.27327,     0.27427,     0.27528,     0.27628,     0.27728,     0.27828,     0.27928,     0.28028,     0.28128,     0.28228,     0.28328,     0.28428,     0.28529,     0.28629,     0.28729,\n",
       "           0.28829,     0.28929,     0.29029,     0.29129,     0.29229,     0.29329,     0.29429,      0.2953,      0.2963,      0.2973,      0.2983,      0.2993,      0.3003,      0.3013,      0.3023,      0.3033,      0.3043,     0.30531,     0.30631,     0.30731,     0.30831,     0.30931,     0.31031,     0.31131,\n",
       "           0.31231,     0.31331,     0.31431,     0.31532,     0.31632,     0.31732,     0.31832,     0.31932,     0.32032,     0.32132,     0.32232,     0.32332,     0.32432,     0.32533,     0.32633,     0.32733,     0.32833,     0.32933,     0.33033,     0.33133,     0.33233,     0.33333,     0.33433,     0.33534,\n",
       "           0.33634,     0.33734,     0.33834,     0.33934,     0.34034,     0.34134,     0.34234,     0.34334,     0.34434,     0.34535,     0.34635,     0.34735,     0.34835,     0.34935,     0.35035,     0.35135,     0.35235,     0.35335,     0.35435,     0.35536,     0.35636,     0.35736,     0.35836,     0.35936,\n",
       "           0.36036,     0.36136,     0.36236,     0.36336,     0.36436,     0.36537,     0.36637,     0.36737,     0.36837,     0.36937,     0.37037,     0.37137,     0.37237,     0.37337,     0.37437,     0.37538,     0.37638,     0.37738,     0.37838,     0.37938,     0.38038,     0.38138,     0.38238,     0.38338,\n",
       "           0.38438,     0.38539,     0.38639,     0.38739,     0.38839,     0.38939,     0.39039,     0.39139,     0.39239,     0.39339,     0.39439,      0.3954,      0.3964,      0.3974,      0.3984,      0.3994,      0.4004,      0.4014,      0.4024,      0.4034,      0.4044,     0.40541,     0.40641,     0.40741,\n",
       "           0.40841,     0.40941,     0.41041,     0.41141,     0.41241,     0.41341,     0.41441,     0.41542,     0.41642,     0.41742,     0.41842,     0.41942,     0.42042,     0.42142,     0.42242,     0.42342,     0.42442,     0.42543,     0.42643,     0.42743,     0.42843,     0.42943,     0.43043,     0.43143,\n",
       "           0.43243,     0.43343,     0.43443,     0.43544,     0.43644,     0.43744,     0.43844,     0.43944,     0.44044,     0.44144,     0.44244,     0.44344,     0.44444,     0.44545,     0.44645,     0.44745,     0.44845,     0.44945,     0.45045,     0.45145,     0.45245,     0.45345,     0.45445,     0.45546,\n",
       "           0.45646,     0.45746,     0.45846,     0.45946,     0.46046,     0.46146,     0.46246,     0.46346,     0.46446,     0.46547,     0.46647,     0.46747,     0.46847,     0.46947,     0.47047,     0.47147,     0.47247,     0.47347,     0.47447,     0.47548,     0.47648,     0.47748,     0.47848,     0.47948,\n",
       "           0.48048,     0.48148,     0.48248,     0.48348,     0.48448,     0.48549,     0.48649,     0.48749,     0.48849,     0.48949,     0.49049,     0.49149,     0.49249,     0.49349,     0.49449,      0.4955,      0.4965,      0.4975,      0.4985,      0.4995,      0.5005,      0.5015,      0.5025,      0.5035,\n",
       "            0.5045,     0.50551,     0.50651,     0.50751,     0.50851,     0.50951,     0.51051,     0.51151,     0.51251,     0.51351,     0.51451,     0.51552,     0.51652,     0.51752,     0.51852,     0.51952,     0.52052,     0.52152,     0.52252,     0.52352,     0.52452,     0.52553,     0.52653,     0.52753,\n",
       "           0.52853,     0.52953,     0.53053,     0.53153,     0.53253,     0.53353,     0.53453,     0.53554,     0.53654,     0.53754,     0.53854,     0.53954,     0.54054,     0.54154,     0.54254,     0.54354,     0.54454,     0.54555,     0.54655,     0.54755,     0.54855,     0.54955,     0.55055,     0.55155,\n",
       "           0.55255,     0.55355,     0.55455,     0.55556,     0.55656,     0.55756,     0.55856,     0.55956,     0.56056,     0.56156,     0.56256,     0.56356,     0.56456,     0.56557,     0.56657,     0.56757,     0.56857,     0.56957,     0.57057,     0.57157,     0.57257,     0.57357,     0.57457,     0.57558,\n",
       "           0.57658,     0.57758,     0.57858,     0.57958,     0.58058,     0.58158,     0.58258,     0.58358,     0.58458,     0.58559,     0.58659,     0.58759,     0.58859,     0.58959,     0.59059,     0.59159,     0.59259,     0.59359,     0.59459,      0.5956,      0.5966,      0.5976,      0.5986,      0.5996,\n",
       "            0.6006,      0.6016,      0.6026,      0.6036,      0.6046,     0.60561,     0.60661,     0.60761,     0.60861,     0.60961,     0.61061,     0.61161,     0.61261,     0.61361,     0.61461,     0.61562,     0.61662,     0.61762,     0.61862,     0.61962,     0.62062,     0.62162,     0.62262,     0.62362,\n",
       "           0.62462,     0.62563,     0.62663,     0.62763,     0.62863,     0.62963,     0.63063,     0.63163,     0.63263,     0.63363,     0.63463,     0.63564,     0.63664,     0.63764,     0.63864,     0.63964,     0.64064,     0.64164,     0.64264,     0.64364,     0.64464,     0.64565,     0.64665,     0.64765,\n",
       "           0.64865,     0.64965,     0.65065,     0.65165,     0.65265,     0.65365,     0.65465,     0.65566,     0.65666,     0.65766,     0.65866,     0.65966,     0.66066,     0.66166,     0.66266,     0.66366,     0.66466,     0.66567,     0.66667,     0.66767,     0.66867,     0.66967,     0.67067,     0.67167,\n",
       "           0.67267,     0.67367,     0.67467,     0.67568,     0.67668,     0.67768,     0.67868,     0.67968,     0.68068,     0.68168,     0.68268,     0.68368,     0.68468,     0.68569,     0.68669,     0.68769,     0.68869,     0.68969,     0.69069,     0.69169,     0.69269,     0.69369,     0.69469,      0.6957,\n",
       "            0.6967,      0.6977,      0.6987,      0.6997,      0.7007,      0.7017,      0.7027,      0.7037,      0.7047,     0.70571,     0.70671,     0.70771,     0.70871,     0.70971,     0.71071,     0.71171,     0.71271,     0.71371,     0.71471,     0.71572,     0.71672,     0.71772,     0.71872,     0.71972,\n",
       "           0.72072,     0.72172,     0.72272,     0.72372,     0.72472,     0.72573,     0.72673,     0.72773,     0.72873,     0.72973,     0.73073,     0.73173,     0.73273,     0.73373,     0.73473,     0.73574,     0.73674,     0.73774,     0.73874,     0.73974,     0.74074,     0.74174,     0.74274,     0.74374,\n",
       "           0.74474,     0.74575,     0.74675,     0.74775,     0.74875,     0.74975,     0.75075,     0.75175,     0.75275,     0.75375,     0.75475,     0.75576,     0.75676,     0.75776,     0.75876,     0.75976,     0.76076,     0.76176,     0.76276,     0.76376,     0.76476,     0.76577,     0.76677,     0.76777,\n",
       "           0.76877,     0.76977,     0.77077,     0.77177,     0.77277,     0.77377,     0.77477,     0.77578,     0.77678,     0.77778,     0.77878,     0.77978,     0.78078,     0.78178,     0.78278,     0.78378,     0.78478,     0.78579,     0.78679,     0.78779,     0.78879,     0.78979,     0.79079,     0.79179,\n",
       "           0.79279,     0.79379,     0.79479,      0.7958,      0.7968,      0.7978,      0.7988,      0.7998,      0.8008,      0.8018,      0.8028,      0.8038,      0.8048,     0.80581,     0.80681,     0.80781,     0.80881,     0.80981,     0.81081,     0.81181,     0.81281,     0.81381,     0.81481,     0.81582,\n",
       "           0.81682,     0.81782,     0.81882,     0.81982,     0.82082,     0.82182,     0.82282,     0.82382,     0.82482,     0.82583,     0.82683,     0.82783,     0.82883,     0.82983,     0.83083,     0.83183,     0.83283,     0.83383,     0.83483,     0.83584,     0.83684,     0.83784,     0.83884,     0.83984,\n",
       "           0.84084,     0.84184,     0.84284,     0.84384,     0.84484,     0.84585,     0.84685,     0.84785,     0.84885,     0.84985,     0.85085,     0.85185,     0.85285,     0.85385,     0.85485,     0.85586,     0.85686,     0.85786,     0.85886,     0.85986,     0.86086,     0.86186,     0.86286,     0.86386,\n",
       "           0.86486,     0.86587,     0.86687,     0.86787,     0.86887,     0.86987,     0.87087,     0.87187,     0.87287,     0.87387,     0.87487,     0.87588,     0.87688,     0.87788,     0.87888,     0.87988,     0.88088,     0.88188,     0.88288,     0.88388,     0.88488,     0.88589,     0.88689,     0.88789,\n",
       "           0.88889,     0.88989,     0.89089,     0.89189,     0.89289,     0.89389,     0.89489,      0.8959,      0.8969,      0.8979,      0.8989,      0.8999,      0.9009,      0.9019,      0.9029,      0.9039,      0.9049,     0.90591,     0.90691,     0.90791,     0.90891,     0.90991,     0.91091,     0.91191,\n",
       "           0.91291,     0.91391,     0.91491,     0.91592,     0.91692,     0.91792,     0.91892,     0.91992,     0.92092,     0.92192,     0.92292,     0.92392,     0.92492,     0.92593,     0.92693,     0.92793,     0.92893,     0.92993,     0.93093,     0.93193,     0.93293,     0.93393,     0.93493,     0.93594,\n",
       "           0.93694,     0.93794,     0.93894,     0.93994,     0.94094,     0.94194,     0.94294,     0.94394,     0.94494,     0.94595,     0.94695,     0.94795,     0.94895,     0.94995,     0.95095,     0.95195,     0.95295,     0.95395,     0.95495,     0.95596,     0.95696,     0.95796,     0.95896,     0.95996,\n",
       "           0.96096,     0.96196,     0.96296,     0.96396,     0.96496,     0.96597,     0.96697,     0.96797,     0.96897,     0.96997,     0.97097,     0.97197,     0.97297,     0.97397,     0.97497,     0.97598,     0.97698,     0.97798,     0.97898,     0.97998,     0.98098,     0.98198,     0.98298,     0.98398,\n",
       "           0.98498,     0.98599,     0.98699,     0.98799,     0.98899,     0.98999,     0.99099,     0.99199,     0.99299,     0.99399,     0.99499,       0.996,       0.997,       0.998,       0.999,           1]), array([[          1,           1,           1, ...,     0.96117,     0.96117,           0],\n",
       "       [          1,           1,           1, ...,     0.97826,     0.97826,           0],\n",
       "       [          1,           1,           1, ...,           1,           1,           0],\n",
       "       [          1,           1,           1, ...,      0.9604,      0.9604,           0],\n",
       "       [          1,           1,           1, ...,   0.0033174,   0.0016587,           0]]), 'Recall', 'Precision'], [array([          0,    0.001001,    0.002002,    0.003003,    0.004004,    0.005005,    0.006006,    0.007007,    0.008008,    0.009009,     0.01001,    0.011011,    0.012012,    0.013013,    0.014014,    0.015015,    0.016016,    0.017017,    0.018018,    0.019019,     0.02002,    0.021021,    0.022022,    0.023023,\n",
       "          0.024024,    0.025025,    0.026026,    0.027027,    0.028028,    0.029029,     0.03003,    0.031031,    0.032032,    0.033033,    0.034034,    0.035035,    0.036036,    0.037037,    0.038038,    0.039039,     0.04004,    0.041041,    0.042042,    0.043043,    0.044044,    0.045045,    0.046046,    0.047047,\n",
       "          0.048048,    0.049049,     0.05005,    0.051051,    0.052052,    0.053053,    0.054054,    0.055055,    0.056056,    0.057057,    0.058058,    0.059059,     0.06006,    0.061061,    0.062062,    0.063063,    0.064064,    0.065065,    0.066066,    0.067067,    0.068068,    0.069069,     0.07007,    0.071071,\n",
       "          0.072072,    0.073073,    0.074074,    0.075075,    0.076076,    0.077077,    0.078078,    0.079079,     0.08008,    0.081081,    0.082082,    0.083083,    0.084084,    0.085085,    0.086086,    0.087087,    0.088088,    0.089089,     0.09009,    0.091091,    0.092092,    0.093093,    0.094094,    0.095095,\n",
       "          0.096096,    0.097097,    0.098098,    0.099099,      0.1001,      0.1011,      0.1021,      0.1031,      0.1041,     0.10511,     0.10611,     0.10711,     0.10811,     0.10911,     0.11011,     0.11111,     0.11211,     0.11311,     0.11411,     0.11512,     0.11612,     0.11712,     0.11812,     0.11912,\n",
       "           0.12012,     0.12112,     0.12212,     0.12312,     0.12412,     0.12513,     0.12613,     0.12713,     0.12813,     0.12913,     0.13013,     0.13113,     0.13213,     0.13313,     0.13413,     0.13514,     0.13614,     0.13714,     0.13814,     0.13914,     0.14014,     0.14114,     0.14214,     0.14314,\n",
       "           0.14414,     0.14515,     0.14615,     0.14715,     0.14815,     0.14915,     0.15015,     0.15115,     0.15215,     0.15315,     0.15415,     0.15516,     0.15616,     0.15716,     0.15816,     0.15916,     0.16016,     0.16116,     0.16216,     0.16316,     0.16416,     0.16517,     0.16617,     0.16717,\n",
       "           0.16817,     0.16917,     0.17017,     0.17117,     0.17217,     0.17317,     0.17417,     0.17518,     0.17618,     0.17718,     0.17818,     0.17918,     0.18018,     0.18118,     0.18218,     0.18318,     0.18418,     0.18519,     0.18619,     0.18719,     0.18819,     0.18919,     0.19019,     0.19119,\n",
       "           0.19219,     0.19319,     0.19419,      0.1952,      0.1962,      0.1972,      0.1982,      0.1992,      0.2002,      0.2012,      0.2022,      0.2032,      0.2042,     0.20521,     0.20621,     0.20721,     0.20821,     0.20921,     0.21021,     0.21121,     0.21221,     0.21321,     0.21421,     0.21522,\n",
       "           0.21622,     0.21722,     0.21822,     0.21922,     0.22022,     0.22122,     0.22222,     0.22322,     0.22422,     0.22523,     0.22623,     0.22723,     0.22823,     0.22923,     0.23023,     0.23123,     0.23223,     0.23323,     0.23423,     0.23524,     0.23624,     0.23724,     0.23824,     0.23924,\n",
       "           0.24024,     0.24124,     0.24224,     0.24324,     0.24424,     0.24525,     0.24625,     0.24725,     0.24825,     0.24925,     0.25025,     0.25125,     0.25225,     0.25325,     0.25425,     0.25526,     0.25626,     0.25726,     0.25826,     0.25926,     0.26026,     0.26126,     0.26226,     0.26326,\n",
       "           0.26426,     0.26527,     0.26627,     0.26727,     0.26827,     0.26927,     0.27027,     0.27127,     0.27227,     0.27327,     0.27427,     0.27528,     0.27628,     0.27728,     0.27828,     0.27928,     0.28028,     0.28128,     0.28228,     0.28328,     0.28428,     0.28529,     0.28629,     0.28729,\n",
       "           0.28829,     0.28929,     0.29029,     0.29129,     0.29229,     0.29329,     0.29429,      0.2953,      0.2963,      0.2973,      0.2983,      0.2993,      0.3003,      0.3013,      0.3023,      0.3033,      0.3043,     0.30531,     0.30631,     0.30731,     0.30831,     0.30931,     0.31031,     0.31131,\n",
       "           0.31231,     0.31331,     0.31431,     0.31532,     0.31632,     0.31732,     0.31832,     0.31932,     0.32032,     0.32132,     0.32232,     0.32332,     0.32432,     0.32533,     0.32633,     0.32733,     0.32833,     0.32933,     0.33033,     0.33133,     0.33233,     0.33333,     0.33433,     0.33534,\n",
       "           0.33634,     0.33734,     0.33834,     0.33934,     0.34034,     0.34134,     0.34234,     0.34334,     0.34434,     0.34535,     0.34635,     0.34735,     0.34835,     0.34935,     0.35035,     0.35135,     0.35235,     0.35335,     0.35435,     0.35536,     0.35636,     0.35736,     0.35836,     0.35936,\n",
       "           0.36036,     0.36136,     0.36236,     0.36336,     0.36436,     0.36537,     0.36637,     0.36737,     0.36837,     0.36937,     0.37037,     0.37137,     0.37237,     0.37337,     0.37437,     0.37538,     0.37638,     0.37738,     0.37838,     0.37938,     0.38038,     0.38138,     0.38238,     0.38338,\n",
       "           0.38438,     0.38539,     0.38639,     0.38739,     0.38839,     0.38939,     0.39039,     0.39139,     0.39239,     0.39339,     0.39439,      0.3954,      0.3964,      0.3974,      0.3984,      0.3994,      0.4004,      0.4014,      0.4024,      0.4034,      0.4044,     0.40541,     0.40641,     0.40741,\n",
       "           0.40841,     0.40941,     0.41041,     0.41141,     0.41241,     0.41341,     0.41441,     0.41542,     0.41642,     0.41742,     0.41842,     0.41942,     0.42042,     0.42142,     0.42242,     0.42342,     0.42442,     0.42543,     0.42643,     0.42743,     0.42843,     0.42943,     0.43043,     0.43143,\n",
       "           0.43243,     0.43343,     0.43443,     0.43544,     0.43644,     0.43744,     0.43844,     0.43944,     0.44044,     0.44144,     0.44244,     0.44344,     0.44444,     0.44545,     0.44645,     0.44745,     0.44845,     0.44945,     0.45045,     0.45145,     0.45245,     0.45345,     0.45445,     0.45546,\n",
       "           0.45646,     0.45746,     0.45846,     0.45946,     0.46046,     0.46146,     0.46246,     0.46346,     0.46446,     0.46547,     0.46647,     0.46747,     0.46847,     0.46947,     0.47047,     0.47147,     0.47247,     0.47347,     0.47447,     0.47548,     0.47648,     0.47748,     0.47848,     0.47948,\n",
       "           0.48048,     0.48148,     0.48248,     0.48348,     0.48448,     0.48549,     0.48649,     0.48749,     0.48849,     0.48949,     0.49049,     0.49149,     0.49249,     0.49349,     0.49449,      0.4955,      0.4965,      0.4975,      0.4985,      0.4995,      0.5005,      0.5015,      0.5025,      0.5035,\n",
       "            0.5045,     0.50551,     0.50651,     0.50751,     0.50851,     0.50951,     0.51051,     0.51151,     0.51251,     0.51351,     0.51451,     0.51552,     0.51652,     0.51752,     0.51852,     0.51952,     0.52052,     0.52152,     0.52252,     0.52352,     0.52452,     0.52553,     0.52653,     0.52753,\n",
       "           0.52853,     0.52953,     0.53053,     0.53153,     0.53253,     0.53353,     0.53453,     0.53554,     0.53654,     0.53754,     0.53854,     0.53954,     0.54054,     0.54154,     0.54254,     0.54354,     0.54454,     0.54555,     0.54655,     0.54755,     0.54855,     0.54955,     0.55055,     0.55155,\n",
       "           0.55255,     0.55355,     0.55455,     0.55556,     0.55656,     0.55756,     0.55856,     0.55956,     0.56056,     0.56156,     0.56256,     0.56356,     0.56456,     0.56557,     0.56657,     0.56757,     0.56857,     0.56957,     0.57057,     0.57157,     0.57257,     0.57357,     0.57457,     0.57558,\n",
       "           0.57658,     0.57758,     0.57858,     0.57958,     0.58058,     0.58158,     0.58258,     0.58358,     0.58458,     0.58559,     0.58659,     0.58759,     0.58859,     0.58959,     0.59059,     0.59159,     0.59259,     0.59359,     0.59459,      0.5956,      0.5966,      0.5976,      0.5986,      0.5996,\n",
       "            0.6006,      0.6016,      0.6026,      0.6036,      0.6046,     0.60561,     0.60661,     0.60761,     0.60861,     0.60961,     0.61061,     0.61161,     0.61261,     0.61361,     0.61461,     0.61562,     0.61662,     0.61762,     0.61862,     0.61962,     0.62062,     0.62162,     0.62262,     0.62362,\n",
       "           0.62462,     0.62563,     0.62663,     0.62763,     0.62863,     0.62963,     0.63063,     0.63163,     0.63263,     0.63363,     0.63463,     0.63564,     0.63664,     0.63764,     0.63864,     0.63964,     0.64064,     0.64164,     0.64264,     0.64364,     0.64464,     0.64565,     0.64665,     0.64765,\n",
       "           0.64865,     0.64965,     0.65065,     0.65165,     0.65265,     0.65365,     0.65465,     0.65566,     0.65666,     0.65766,     0.65866,     0.65966,     0.66066,     0.66166,     0.66266,     0.66366,     0.66466,     0.66567,     0.66667,     0.66767,     0.66867,     0.66967,     0.67067,     0.67167,\n",
       "           0.67267,     0.67367,     0.67467,     0.67568,     0.67668,     0.67768,     0.67868,     0.67968,     0.68068,     0.68168,     0.68268,     0.68368,     0.68468,     0.68569,     0.68669,     0.68769,     0.68869,     0.68969,     0.69069,     0.69169,     0.69269,     0.69369,     0.69469,      0.6957,\n",
       "            0.6967,      0.6977,      0.6987,      0.6997,      0.7007,      0.7017,      0.7027,      0.7037,      0.7047,     0.70571,     0.70671,     0.70771,     0.70871,     0.70971,     0.71071,     0.71171,     0.71271,     0.71371,     0.71471,     0.71572,     0.71672,     0.71772,     0.71872,     0.71972,\n",
       "           0.72072,     0.72172,     0.72272,     0.72372,     0.72472,     0.72573,     0.72673,     0.72773,     0.72873,     0.72973,     0.73073,     0.73173,     0.73273,     0.73373,     0.73473,     0.73574,     0.73674,     0.73774,     0.73874,     0.73974,     0.74074,     0.74174,     0.74274,     0.74374,\n",
       "           0.74474,     0.74575,     0.74675,     0.74775,     0.74875,     0.74975,     0.75075,     0.75175,     0.75275,     0.75375,     0.75475,     0.75576,     0.75676,     0.75776,     0.75876,     0.75976,     0.76076,     0.76176,     0.76276,     0.76376,     0.76476,     0.76577,     0.76677,     0.76777,\n",
       "           0.76877,     0.76977,     0.77077,     0.77177,     0.77277,     0.77377,     0.77477,     0.77578,     0.77678,     0.77778,     0.77878,     0.77978,     0.78078,     0.78178,     0.78278,     0.78378,     0.78478,     0.78579,     0.78679,     0.78779,     0.78879,     0.78979,     0.79079,     0.79179,\n",
       "           0.79279,     0.79379,     0.79479,      0.7958,      0.7968,      0.7978,      0.7988,      0.7998,      0.8008,      0.8018,      0.8028,      0.8038,      0.8048,     0.80581,     0.80681,     0.80781,     0.80881,     0.80981,     0.81081,     0.81181,     0.81281,     0.81381,     0.81481,     0.81582,\n",
       "           0.81682,     0.81782,     0.81882,     0.81982,     0.82082,     0.82182,     0.82282,     0.82382,     0.82482,     0.82583,     0.82683,     0.82783,     0.82883,     0.82983,     0.83083,     0.83183,     0.83283,     0.83383,     0.83483,     0.83584,     0.83684,     0.83784,     0.83884,     0.83984,\n",
       "           0.84084,     0.84184,     0.84284,     0.84384,     0.84484,     0.84585,     0.84685,     0.84785,     0.84885,     0.84985,     0.85085,     0.85185,     0.85285,     0.85385,     0.85485,     0.85586,     0.85686,     0.85786,     0.85886,     0.85986,     0.86086,     0.86186,     0.86286,     0.86386,\n",
       "           0.86486,     0.86587,     0.86687,     0.86787,     0.86887,     0.86987,     0.87087,     0.87187,     0.87287,     0.87387,     0.87487,     0.87588,     0.87688,     0.87788,     0.87888,     0.87988,     0.88088,     0.88188,     0.88288,     0.88388,     0.88488,     0.88589,     0.88689,     0.88789,\n",
       "           0.88889,     0.88989,     0.89089,     0.89189,     0.89289,     0.89389,     0.89489,      0.8959,      0.8969,      0.8979,      0.8989,      0.8999,      0.9009,      0.9019,      0.9029,      0.9039,      0.9049,     0.90591,     0.90691,     0.90791,     0.90891,     0.90991,     0.91091,     0.91191,\n",
       "           0.91291,     0.91391,     0.91491,     0.91592,     0.91692,     0.91792,     0.91892,     0.91992,     0.92092,     0.92192,     0.92292,     0.92392,     0.92492,     0.92593,     0.92693,     0.92793,     0.92893,     0.92993,     0.93093,     0.93193,     0.93293,     0.93393,     0.93493,     0.93594,\n",
       "           0.93694,     0.93794,     0.93894,     0.93994,     0.94094,     0.94194,     0.94294,     0.94394,     0.94494,     0.94595,     0.94695,     0.94795,     0.94895,     0.94995,     0.95095,     0.95195,     0.95295,     0.95395,     0.95495,     0.95596,     0.95696,     0.95796,     0.95896,     0.95996,\n",
       "           0.96096,     0.96196,     0.96296,     0.96396,     0.96496,     0.96597,     0.96697,     0.96797,     0.96897,     0.96997,     0.97097,     0.97197,     0.97297,     0.97397,     0.97497,     0.97598,     0.97698,     0.97798,     0.97898,     0.97998,     0.98098,     0.98198,     0.98298,     0.98398,\n",
       "           0.98498,     0.98599,     0.98699,     0.98799,     0.98899,     0.98999,     0.99099,     0.99199,     0.99299,     0.99399,     0.99499,       0.996,       0.997,       0.998,       0.999,           1]), array([[    0.70714,     0.70714,     0.78257, ...,           0,           0,           0],\n",
       "       [    0.70312,     0.70312,     0.77605, ...,           0,           0,           0],\n",
       "       [    0.91743,     0.91743,     0.93576, ...,           0,           0,           0],\n",
       "       [    0.74046,     0.74046,     0.83191, ...,           0,           0,           0],\n",
       "       [    0.19952,     0.19952,     0.26318, ...,           0,           0,           0]]), 'Confidence', 'F1'], [array([          0,    0.001001,    0.002002,    0.003003,    0.004004,    0.005005,    0.006006,    0.007007,    0.008008,    0.009009,     0.01001,    0.011011,    0.012012,    0.013013,    0.014014,    0.015015,    0.016016,    0.017017,    0.018018,    0.019019,     0.02002,    0.021021,    0.022022,    0.023023,\n",
       "          0.024024,    0.025025,    0.026026,    0.027027,    0.028028,    0.029029,     0.03003,    0.031031,    0.032032,    0.033033,    0.034034,    0.035035,    0.036036,    0.037037,    0.038038,    0.039039,     0.04004,    0.041041,    0.042042,    0.043043,    0.044044,    0.045045,    0.046046,    0.047047,\n",
       "          0.048048,    0.049049,     0.05005,    0.051051,    0.052052,    0.053053,    0.054054,    0.055055,    0.056056,    0.057057,    0.058058,    0.059059,     0.06006,    0.061061,    0.062062,    0.063063,    0.064064,    0.065065,    0.066066,    0.067067,    0.068068,    0.069069,     0.07007,    0.071071,\n",
       "          0.072072,    0.073073,    0.074074,    0.075075,    0.076076,    0.077077,    0.078078,    0.079079,     0.08008,    0.081081,    0.082082,    0.083083,    0.084084,    0.085085,    0.086086,    0.087087,    0.088088,    0.089089,     0.09009,    0.091091,    0.092092,    0.093093,    0.094094,    0.095095,\n",
       "          0.096096,    0.097097,    0.098098,    0.099099,      0.1001,      0.1011,      0.1021,      0.1031,      0.1041,     0.10511,     0.10611,     0.10711,     0.10811,     0.10911,     0.11011,     0.11111,     0.11211,     0.11311,     0.11411,     0.11512,     0.11612,     0.11712,     0.11812,     0.11912,\n",
       "           0.12012,     0.12112,     0.12212,     0.12312,     0.12412,     0.12513,     0.12613,     0.12713,     0.12813,     0.12913,     0.13013,     0.13113,     0.13213,     0.13313,     0.13413,     0.13514,     0.13614,     0.13714,     0.13814,     0.13914,     0.14014,     0.14114,     0.14214,     0.14314,\n",
       "           0.14414,     0.14515,     0.14615,     0.14715,     0.14815,     0.14915,     0.15015,     0.15115,     0.15215,     0.15315,     0.15415,     0.15516,     0.15616,     0.15716,     0.15816,     0.15916,     0.16016,     0.16116,     0.16216,     0.16316,     0.16416,     0.16517,     0.16617,     0.16717,\n",
       "           0.16817,     0.16917,     0.17017,     0.17117,     0.17217,     0.17317,     0.17417,     0.17518,     0.17618,     0.17718,     0.17818,     0.17918,     0.18018,     0.18118,     0.18218,     0.18318,     0.18418,     0.18519,     0.18619,     0.18719,     0.18819,     0.18919,     0.19019,     0.19119,\n",
       "           0.19219,     0.19319,     0.19419,      0.1952,      0.1962,      0.1972,      0.1982,      0.1992,      0.2002,      0.2012,      0.2022,      0.2032,      0.2042,     0.20521,     0.20621,     0.20721,     0.20821,     0.20921,     0.21021,     0.21121,     0.21221,     0.21321,     0.21421,     0.21522,\n",
       "           0.21622,     0.21722,     0.21822,     0.21922,     0.22022,     0.22122,     0.22222,     0.22322,     0.22422,     0.22523,     0.22623,     0.22723,     0.22823,     0.22923,     0.23023,     0.23123,     0.23223,     0.23323,     0.23423,     0.23524,     0.23624,     0.23724,     0.23824,     0.23924,\n",
       "           0.24024,     0.24124,     0.24224,     0.24324,     0.24424,     0.24525,     0.24625,     0.24725,     0.24825,     0.24925,     0.25025,     0.25125,     0.25225,     0.25325,     0.25425,     0.25526,     0.25626,     0.25726,     0.25826,     0.25926,     0.26026,     0.26126,     0.26226,     0.26326,\n",
       "           0.26426,     0.26527,     0.26627,     0.26727,     0.26827,     0.26927,     0.27027,     0.27127,     0.27227,     0.27327,     0.27427,     0.27528,     0.27628,     0.27728,     0.27828,     0.27928,     0.28028,     0.28128,     0.28228,     0.28328,     0.28428,     0.28529,     0.28629,     0.28729,\n",
       "           0.28829,     0.28929,     0.29029,     0.29129,     0.29229,     0.29329,     0.29429,      0.2953,      0.2963,      0.2973,      0.2983,      0.2993,      0.3003,      0.3013,      0.3023,      0.3033,      0.3043,     0.30531,     0.30631,     0.30731,     0.30831,     0.30931,     0.31031,     0.31131,\n",
       "           0.31231,     0.31331,     0.31431,     0.31532,     0.31632,     0.31732,     0.31832,     0.31932,     0.32032,     0.32132,     0.32232,     0.32332,     0.32432,     0.32533,     0.32633,     0.32733,     0.32833,     0.32933,     0.33033,     0.33133,     0.33233,     0.33333,     0.33433,     0.33534,\n",
       "           0.33634,     0.33734,     0.33834,     0.33934,     0.34034,     0.34134,     0.34234,     0.34334,     0.34434,     0.34535,     0.34635,     0.34735,     0.34835,     0.34935,     0.35035,     0.35135,     0.35235,     0.35335,     0.35435,     0.35536,     0.35636,     0.35736,     0.35836,     0.35936,\n",
       "           0.36036,     0.36136,     0.36236,     0.36336,     0.36436,     0.36537,     0.36637,     0.36737,     0.36837,     0.36937,     0.37037,     0.37137,     0.37237,     0.37337,     0.37437,     0.37538,     0.37638,     0.37738,     0.37838,     0.37938,     0.38038,     0.38138,     0.38238,     0.38338,\n",
       "           0.38438,     0.38539,     0.38639,     0.38739,     0.38839,     0.38939,     0.39039,     0.39139,     0.39239,     0.39339,     0.39439,      0.3954,      0.3964,      0.3974,      0.3984,      0.3994,      0.4004,      0.4014,      0.4024,      0.4034,      0.4044,     0.40541,     0.40641,     0.40741,\n",
       "           0.40841,     0.40941,     0.41041,     0.41141,     0.41241,     0.41341,     0.41441,     0.41542,     0.41642,     0.41742,     0.41842,     0.41942,     0.42042,     0.42142,     0.42242,     0.42342,     0.42442,     0.42543,     0.42643,     0.42743,     0.42843,     0.42943,     0.43043,     0.43143,\n",
       "           0.43243,     0.43343,     0.43443,     0.43544,     0.43644,     0.43744,     0.43844,     0.43944,     0.44044,     0.44144,     0.44244,     0.44344,     0.44444,     0.44545,     0.44645,     0.44745,     0.44845,     0.44945,     0.45045,     0.45145,     0.45245,     0.45345,     0.45445,     0.45546,\n",
       "           0.45646,     0.45746,     0.45846,     0.45946,     0.46046,     0.46146,     0.46246,     0.46346,     0.46446,     0.46547,     0.46647,     0.46747,     0.46847,     0.46947,     0.47047,     0.47147,     0.47247,     0.47347,     0.47447,     0.47548,     0.47648,     0.47748,     0.47848,     0.47948,\n",
       "           0.48048,     0.48148,     0.48248,     0.48348,     0.48448,     0.48549,     0.48649,     0.48749,     0.48849,     0.48949,     0.49049,     0.49149,     0.49249,     0.49349,     0.49449,      0.4955,      0.4965,      0.4975,      0.4985,      0.4995,      0.5005,      0.5015,      0.5025,      0.5035,\n",
       "            0.5045,     0.50551,     0.50651,     0.50751,     0.50851,     0.50951,     0.51051,     0.51151,     0.51251,     0.51351,     0.51451,     0.51552,     0.51652,     0.51752,     0.51852,     0.51952,     0.52052,     0.52152,     0.52252,     0.52352,     0.52452,     0.52553,     0.52653,     0.52753,\n",
       "           0.52853,     0.52953,     0.53053,     0.53153,     0.53253,     0.53353,     0.53453,     0.53554,     0.53654,     0.53754,     0.53854,     0.53954,     0.54054,     0.54154,     0.54254,     0.54354,     0.54454,     0.54555,     0.54655,     0.54755,     0.54855,     0.54955,     0.55055,     0.55155,\n",
       "           0.55255,     0.55355,     0.55455,     0.55556,     0.55656,     0.55756,     0.55856,     0.55956,     0.56056,     0.56156,     0.56256,     0.56356,     0.56456,     0.56557,     0.56657,     0.56757,     0.56857,     0.56957,     0.57057,     0.57157,     0.57257,     0.57357,     0.57457,     0.57558,\n",
       "           0.57658,     0.57758,     0.57858,     0.57958,     0.58058,     0.58158,     0.58258,     0.58358,     0.58458,     0.58559,     0.58659,     0.58759,     0.58859,     0.58959,     0.59059,     0.59159,     0.59259,     0.59359,     0.59459,      0.5956,      0.5966,      0.5976,      0.5986,      0.5996,\n",
       "            0.6006,      0.6016,      0.6026,      0.6036,      0.6046,     0.60561,     0.60661,     0.60761,     0.60861,     0.60961,     0.61061,     0.61161,     0.61261,     0.61361,     0.61461,     0.61562,     0.61662,     0.61762,     0.61862,     0.61962,     0.62062,     0.62162,     0.62262,     0.62362,\n",
       "           0.62462,     0.62563,     0.62663,     0.62763,     0.62863,     0.62963,     0.63063,     0.63163,     0.63263,     0.63363,     0.63463,     0.63564,     0.63664,     0.63764,     0.63864,     0.63964,     0.64064,     0.64164,     0.64264,     0.64364,     0.64464,     0.64565,     0.64665,     0.64765,\n",
       "           0.64865,     0.64965,     0.65065,     0.65165,     0.65265,     0.65365,     0.65465,     0.65566,     0.65666,     0.65766,     0.65866,     0.65966,     0.66066,     0.66166,     0.66266,     0.66366,     0.66466,     0.66567,     0.66667,     0.66767,     0.66867,     0.66967,     0.67067,     0.67167,\n",
       "           0.67267,     0.67367,     0.67467,     0.67568,     0.67668,     0.67768,     0.67868,     0.67968,     0.68068,     0.68168,     0.68268,     0.68368,     0.68468,     0.68569,     0.68669,     0.68769,     0.68869,     0.68969,     0.69069,     0.69169,     0.69269,     0.69369,     0.69469,      0.6957,\n",
       "            0.6967,      0.6977,      0.6987,      0.6997,      0.7007,      0.7017,      0.7027,      0.7037,      0.7047,     0.70571,     0.70671,     0.70771,     0.70871,     0.70971,     0.71071,     0.71171,     0.71271,     0.71371,     0.71471,     0.71572,     0.71672,     0.71772,     0.71872,     0.71972,\n",
       "           0.72072,     0.72172,     0.72272,     0.72372,     0.72472,     0.72573,     0.72673,     0.72773,     0.72873,     0.72973,     0.73073,     0.73173,     0.73273,     0.73373,     0.73473,     0.73574,     0.73674,     0.73774,     0.73874,     0.73974,     0.74074,     0.74174,     0.74274,     0.74374,\n",
       "           0.74474,     0.74575,     0.74675,     0.74775,     0.74875,     0.74975,     0.75075,     0.75175,     0.75275,     0.75375,     0.75475,     0.75576,     0.75676,     0.75776,     0.75876,     0.75976,     0.76076,     0.76176,     0.76276,     0.76376,     0.76476,     0.76577,     0.76677,     0.76777,\n",
       "           0.76877,     0.76977,     0.77077,     0.77177,     0.77277,     0.77377,     0.77477,     0.77578,     0.77678,     0.77778,     0.77878,     0.77978,     0.78078,     0.78178,     0.78278,     0.78378,     0.78478,     0.78579,     0.78679,     0.78779,     0.78879,     0.78979,     0.79079,     0.79179,\n",
       "           0.79279,     0.79379,     0.79479,      0.7958,      0.7968,      0.7978,      0.7988,      0.7998,      0.8008,      0.8018,      0.8028,      0.8038,      0.8048,     0.80581,     0.80681,     0.80781,     0.80881,     0.80981,     0.81081,     0.81181,     0.81281,     0.81381,     0.81481,     0.81582,\n",
       "           0.81682,     0.81782,     0.81882,     0.81982,     0.82082,     0.82182,     0.82282,     0.82382,     0.82482,     0.82583,     0.82683,     0.82783,     0.82883,     0.82983,     0.83083,     0.83183,     0.83283,     0.83383,     0.83483,     0.83584,     0.83684,     0.83784,     0.83884,     0.83984,\n",
       "           0.84084,     0.84184,     0.84284,     0.84384,     0.84484,     0.84585,     0.84685,     0.84785,     0.84885,     0.84985,     0.85085,     0.85185,     0.85285,     0.85385,     0.85485,     0.85586,     0.85686,     0.85786,     0.85886,     0.85986,     0.86086,     0.86186,     0.86286,     0.86386,\n",
       "           0.86486,     0.86587,     0.86687,     0.86787,     0.86887,     0.86987,     0.87087,     0.87187,     0.87287,     0.87387,     0.87487,     0.87588,     0.87688,     0.87788,     0.87888,     0.87988,     0.88088,     0.88188,     0.88288,     0.88388,     0.88488,     0.88589,     0.88689,     0.88789,\n",
       "           0.88889,     0.88989,     0.89089,     0.89189,     0.89289,     0.89389,     0.89489,      0.8959,      0.8969,      0.8979,      0.8989,      0.8999,      0.9009,      0.9019,      0.9029,      0.9039,      0.9049,     0.90591,     0.90691,     0.90791,     0.90891,     0.90991,     0.91091,     0.91191,\n",
       "           0.91291,     0.91391,     0.91491,     0.91592,     0.91692,     0.91792,     0.91892,     0.91992,     0.92092,     0.92192,     0.92292,     0.92392,     0.92492,     0.92593,     0.92693,     0.92793,     0.92893,     0.92993,     0.93093,     0.93193,     0.93293,     0.93393,     0.93493,     0.93594,\n",
       "           0.93694,     0.93794,     0.93894,     0.93994,     0.94094,     0.94194,     0.94294,     0.94394,     0.94494,     0.94595,     0.94695,     0.94795,     0.94895,     0.94995,     0.95095,     0.95195,     0.95295,     0.95395,     0.95495,     0.95596,     0.95696,     0.95796,     0.95896,     0.95996,\n",
       "           0.96096,     0.96196,     0.96296,     0.96396,     0.96496,     0.96597,     0.96697,     0.96797,     0.96897,     0.96997,     0.97097,     0.97197,     0.97297,     0.97397,     0.97497,     0.97598,     0.97698,     0.97798,     0.97898,     0.97998,     0.98098,     0.98198,     0.98298,     0.98398,\n",
       "           0.98498,     0.98599,     0.98699,     0.98799,     0.98899,     0.98999,     0.99099,     0.99199,     0.99299,     0.99399,     0.99499,       0.996,       0.997,       0.998,       0.999,           1]), array([[    0.54696,     0.54696,      0.6428, ...,           1,           1,           1],\n",
       "       [    0.54217,     0.54217,     0.63406, ...,           1,           1,           1],\n",
       "       [    0.84746,     0.84746,     0.87927, ...,           1,           1,           1],\n",
       "       [    0.58788,     0.58788,     0.71219, ...,           1,           1,           1],\n",
       "       [    0.11171,     0.11171,     0.15321, ...,           1,           1,           1]]), 'Confidence', 'Precision'], [array([          0,    0.001001,    0.002002,    0.003003,    0.004004,    0.005005,    0.006006,    0.007007,    0.008008,    0.009009,     0.01001,    0.011011,    0.012012,    0.013013,    0.014014,    0.015015,    0.016016,    0.017017,    0.018018,    0.019019,     0.02002,    0.021021,    0.022022,    0.023023,\n",
       "          0.024024,    0.025025,    0.026026,    0.027027,    0.028028,    0.029029,     0.03003,    0.031031,    0.032032,    0.033033,    0.034034,    0.035035,    0.036036,    0.037037,    0.038038,    0.039039,     0.04004,    0.041041,    0.042042,    0.043043,    0.044044,    0.045045,    0.046046,    0.047047,\n",
       "          0.048048,    0.049049,     0.05005,    0.051051,    0.052052,    0.053053,    0.054054,    0.055055,    0.056056,    0.057057,    0.058058,    0.059059,     0.06006,    0.061061,    0.062062,    0.063063,    0.064064,    0.065065,    0.066066,    0.067067,    0.068068,    0.069069,     0.07007,    0.071071,\n",
       "          0.072072,    0.073073,    0.074074,    0.075075,    0.076076,    0.077077,    0.078078,    0.079079,     0.08008,    0.081081,    0.082082,    0.083083,    0.084084,    0.085085,    0.086086,    0.087087,    0.088088,    0.089089,     0.09009,    0.091091,    0.092092,    0.093093,    0.094094,    0.095095,\n",
       "          0.096096,    0.097097,    0.098098,    0.099099,      0.1001,      0.1011,      0.1021,      0.1031,      0.1041,     0.10511,     0.10611,     0.10711,     0.10811,     0.10911,     0.11011,     0.11111,     0.11211,     0.11311,     0.11411,     0.11512,     0.11612,     0.11712,     0.11812,     0.11912,\n",
       "           0.12012,     0.12112,     0.12212,     0.12312,     0.12412,     0.12513,     0.12613,     0.12713,     0.12813,     0.12913,     0.13013,     0.13113,     0.13213,     0.13313,     0.13413,     0.13514,     0.13614,     0.13714,     0.13814,     0.13914,     0.14014,     0.14114,     0.14214,     0.14314,\n",
       "           0.14414,     0.14515,     0.14615,     0.14715,     0.14815,     0.14915,     0.15015,     0.15115,     0.15215,     0.15315,     0.15415,     0.15516,     0.15616,     0.15716,     0.15816,     0.15916,     0.16016,     0.16116,     0.16216,     0.16316,     0.16416,     0.16517,     0.16617,     0.16717,\n",
       "           0.16817,     0.16917,     0.17017,     0.17117,     0.17217,     0.17317,     0.17417,     0.17518,     0.17618,     0.17718,     0.17818,     0.17918,     0.18018,     0.18118,     0.18218,     0.18318,     0.18418,     0.18519,     0.18619,     0.18719,     0.18819,     0.18919,     0.19019,     0.19119,\n",
       "           0.19219,     0.19319,     0.19419,      0.1952,      0.1962,      0.1972,      0.1982,      0.1992,      0.2002,      0.2012,      0.2022,      0.2032,      0.2042,     0.20521,     0.20621,     0.20721,     0.20821,     0.20921,     0.21021,     0.21121,     0.21221,     0.21321,     0.21421,     0.21522,\n",
       "           0.21622,     0.21722,     0.21822,     0.21922,     0.22022,     0.22122,     0.22222,     0.22322,     0.22422,     0.22523,     0.22623,     0.22723,     0.22823,     0.22923,     0.23023,     0.23123,     0.23223,     0.23323,     0.23423,     0.23524,     0.23624,     0.23724,     0.23824,     0.23924,\n",
       "           0.24024,     0.24124,     0.24224,     0.24324,     0.24424,     0.24525,     0.24625,     0.24725,     0.24825,     0.24925,     0.25025,     0.25125,     0.25225,     0.25325,     0.25425,     0.25526,     0.25626,     0.25726,     0.25826,     0.25926,     0.26026,     0.26126,     0.26226,     0.26326,\n",
       "           0.26426,     0.26527,     0.26627,     0.26727,     0.26827,     0.26927,     0.27027,     0.27127,     0.27227,     0.27327,     0.27427,     0.27528,     0.27628,     0.27728,     0.27828,     0.27928,     0.28028,     0.28128,     0.28228,     0.28328,     0.28428,     0.28529,     0.28629,     0.28729,\n",
       "           0.28829,     0.28929,     0.29029,     0.29129,     0.29229,     0.29329,     0.29429,      0.2953,      0.2963,      0.2973,      0.2983,      0.2993,      0.3003,      0.3013,      0.3023,      0.3033,      0.3043,     0.30531,     0.30631,     0.30731,     0.30831,     0.30931,     0.31031,     0.31131,\n",
       "           0.31231,     0.31331,     0.31431,     0.31532,     0.31632,     0.31732,     0.31832,     0.31932,     0.32032,     0.32132,     0.32232,     0.32332,     0.32432,     0.32533,     0.32633,     0.32733,     0.32833,     0.32933,     0.33033,     0.33133,     0.33233,     0.33333,     0.33433,     0.33534,\n",
       "           0.33634,     0.33734,     0.33834,     0.33934,     0.34034,     0.34134,     0.34234,     0.34334,     0.34434,     0.34535,     0.34635,     0.34735,     0.34835,     0.34935,     0.35035,     0.35135,     0.35235,     0.35335,     0.35435,     0.35536,     0.35636,     0.35736,     0.35836,     0.35936,\n",
       "           0.36036,     0.36136,     0.36236,     0.36336,     0.36436,     0.36537,     0.36637,     0.36737,     0.36837,     0.36937,     0.37037,     0.37137,     0.37237,     0.37337,     0.37437,     0.37538,     0.37638,     0.37738,     0.37838,     0.37938,     0.38038,     0.38138,     0.38238,     0.38338,\n",
       "           0.38438,     0.38539,     0.38639,     0.38739,     0.38839,     0.38939,     0.39039,     0.39139,     0.39239,     0.39339,     0.39439,      0.3954,      0.3964,      0.3974,      0.3984,      0.3994,      0.4004,      0.4014,      0.4024,      0.4034,      0.4044,     0.40541,     0.40641,     0.40741,\n",
       "           0.40841,     0.40941,     0.41041,     0.41141,     0.41241,     0.41341,     0.41441,     0.41542,     0.41642,     0.41742,     0.41842,     0.41942,     0.42042,     0.42142,     0.42242,     0.42342,     0.42442,     0.42543,     0.42643,     0.42743,     0.42843,     0.42943,     0.43043,     0.43143,\n",
       "           0.43243,     0.43343,     0.43443,     0.43544,     0.43644,     0.43744,     0.43844,     0.43944,     0.44044,     0.44144,     0.44244,     0.44344,     0.44444,     0.44545,     0.44645,     0.44745,     0.44845,     0.44945,     0.45045,     0.45145,     0.45245,     0.45345,     0.45445,     0.45546,\n",
       "           0.45646,     0.45746,     0.45846,     0.45946,     0.46046,     0.46146,     0.46246,     0.46346,     0.46446,     0.46547,     0.46647,     0.46747,     0.46847,     0.46947,     0.47047,     0.47147,     0.47247,     0.47347,     0.47447,     0.47548,     0.47648,     0.47748,     0.47848,     0.47948,\n",
       "           0.48048,     0.48148,     0.48248,     0.48348,     0.48448,     0.48549,     0.48649,     0.48749,     0.48849,     0.48949,     0.49049,     0.49149,     0.49249,     0.49349,     0.49449,      0.4955,      0.4965,      0.4975,      0.4985,      0.4995,      0.5005,      0.5015,      0.5025,      0.5035,\n",
       "            0.5045,     0.50551,     0.50651,     0.50751,     0.50851,     0.50951,     0.51051,     0.51151,     0.51251,     0.51351,     0.51451,     0.51552,     0.51652,     0.51752,     0.51852,     0.51952,     0.52052,     0.52152,     0.52252,     0.52352,     0.52452,     0.52553,     0.52653,     0.52753,\n",
       "           0.52853,     0.52953,     0.53053,     0.53153,     0.53253,     0.53353,     0.53453,     0.53554,     0.53654,     0.53754,     0.53854,     0.53954,     0.54054,     0.54154,     0.54254,     0.54354,     0.54454,     0.54555,     0.54655,     0.54755,     0.54855,     0.54955,     0.55055,     0.55155,\n",
       "           0.55255,     0.55355,     0.55455,     0.55556,     0.55656,     0.55756,     0.55856,     0.55956,     0.56056,     0.56156,     0.56256,     0.56356,     0.56456,     0.56557,     0.56657,     0.56757,     0.56857,     0.56957,     0.57057,     0.57157,     0.57257,     0.57357,     0.57457,     0.57558,\n",
       "           0.57658,     0.57758,     0.57858,     0.57958,     0.58058,     0.58158,     0.58258,     0.58358,     0.58458,     0.58559,     0.58659,     0.58759,     0.58859,     0.58959,     0.59059,     0.59159,     0.59259,     0.59359,     0.59459,      0.5956,      0.5966,      0.5976,      0.5986,      0.5996,\n",
       "            0.6006,      0.6016,      0.6026,      0.6036,      0.6046,     0.60561,     0.60661,     0.60761,     0.60861,     0.60961,     0.61061,     0.61161,     0.61261,     0.61361,     0.61461,     0.61562,     0.61662,     0.61762,     0.61862,     0.61962,     0.62062,     0.62162,     0.62262,     0.62362,\n",
       "           0.62462,     0.62563,     0.62663,     0.62763,     0.62863,     0.62963,     0.63063,     0.63163,     0.63263,     0.63363,     0.63463,     0.63564,     0.63664,     0.63764,     0.63864,     0.63964,     0.64064,     0.64164,     0.64264,     0.64364,     0.64464,     0.64565,     0.64665,     0.64765,\n",
       "           0.64865,     0.64965,     0.65065,     0.65165,     0.65265,     0.65365,     0.65465,     0.65566,     0.65666,     0.65766,     0.65866,     0.65966,     0.66066,     0.66166,     0.66266,     0.66366,     0.66466,     0.66567,     0.66667,     0.66767,     0.66867,     0.66967,     0.67067,     0.67167,\n",
       "           0.67267,     0.67367,     0.67467,     0.67568,     0.67668,     0.67768,     0.67868,     0.67968,     0.68068,     0.68168,     0.68268,     0.68368,     0.68468,     0.68569,     0.68669,     0.68769,     0.68869,     0.68969,     0.69069,     0.69169,     0.69269,     0.69369,     0.69469,      0.6957,\n",
       "            0.6967,      0.6977,      0.6987,      0.6997,      0.7007,      0.7017,      0.7027,      0.7037,      0.7047,     0.70571,     0.70671,     0.70771,     0.70871,     0.70971,     0.71071,     0.71171,     0.71271,     0.71371,     0.71471,     0.71572,     0.71672,     0.71772,     0.71872,     0.71972,\n",
       "           0.72072,     0.72172,     0.72272,     0.72372,     0.72472,     0.72573,     0.72673,     0.72773,     0.72873,     0.72973,     0.73073,     0.73173,     0.73273,     0.73373,     0.73473,     0.73574,     0.73674,     0.73774,     0.73874,     0.73974,     0.74074,     0.74174,     0.74274,     0.74374,\n",
       "           0.74474,     0.74575,     0.74675,     0.74775,     0.74875,     0.74975,     0.75075,     0.75175,     0.75275,     0.75375,     0.75475,     0.75576,     0.75676,     0.75776,     0.75876,     0.75976,     0.76076,     0.76176,     0.76276,     0.76376,     0.76476,     0.76577,     0.76677,     0.76777,\n",
       "           0.76877,     0.76977,     0.77077,     0.77177,     0.77277,     0.77377,     0.77477,     0.77578,     0.77678,     0.77778,     0.77878,     0.77978,     0.78078,     0.78178,     0.78278,     0.78378,     0.78478,     0.78579,     0.78679,     0.78779,     0.78879,     0.78979,     0.79079,     0.79179,\n",
       "           0.79279,     0.79379,     0.79479,      0.7958,      0.7968,      0.7978,      0.7988,      0.7998,      0.8008,      0.8018,      0.8028,      0.8038,      0.8048,     0.80581,     0.80681,     0.80781,     0.80881,     0.80981,     0.81081,     0.81181,     0.81281,     0.81381,     0.81481,     0.81582,\n",
       "           0.81682,     0.81782,     0.81882,     0.81982,     0.82082,     0.82182,     0.82282,     0.82382,     0.82482,     0.82583,     0.82683,     0.82783,     0.82883,     0.82983,     0.83083,     0.83183,     0.83283,     0.83383,     0.83483,     0.83584,     0.83684,     0.83784,     0.83884,     0.83984,\n",
       "           0.84084,     0.84184,     0.84284,     0.84384,     0.84484,     0.84585,     0.84685,     0.84785,     0.84885,     0.84985,     0.85085,     0.85185,     0.85285,     0.85385,     0.85485,     0.85586,     0.85686,     0.85786,     0.85886,     0.85986,     0.86086,     0.86186,     0.86286,     0.86386,\n",
       "           0.86486,     0.86587,     0.86687,     0.86787,     0.86887,     0.86987,     0.87087,     0.87187,     0.87287,     0.87387,     0.87487,     0.87588,     0.87688,     0.87788,     0.87888,     0.87988,     0.88088,     0.88188,     0.88288,     0.88388,     0.88488,     0.88589,     0.88689,     0.88789,\n",
       "           0.88889,     0.88989,     0.89089,     0.89189,     0.89289,     0.89389,     0.89489,      0.8959,      0.8969,      0.8979,      0.8989,      0.8999,      0.9009,      0.9019,      0.9029,      0.9039,      0.9049,     0.90591,     0.90691,     0.90791,     0.90891,     0.90991,     0.91091,     0.91191,\n",
       "           0.91291,     0.91391,     0.91491,     0.91592,     0.91692,     0.91792,     0.91892,     0.91992,     0.92092,     0.92192,     0.92292,     0.92392,     0.92492,     0.92593,     0.92693,     0.92793,     0.92893,     0.92993,     0.93093,     0.93193,     0.93293,     0.93393,     0.93493,     0.93594,\n",
       "           0.93694,     0.93794,     0.93894,     0.93994,     0.94094,     0.94194,     0.94294,     0.94394,     0.94494,     0.94595,     0.94695,     0.94795,     0.94895,     0.94995,     0.95095,     0.95195,     0.95295,     0.95395,     0.95495,     0.95596,     0.95696,     0.95796,     0.95896,     0.95996,\n",
       "           0.96096,     0.96196,     0.96296,     0.96396,     0.96496,     0.96597,     0.96697,     0.96797,     0.96897,     0.96997,     0.97097,     0.97197,     0.97297,     0.97397,     0.97497,     0.97598,     0.97698,     0.97798,     0.97898,     0.97998,     0.98098,     0.98198,     0.98298,     0.98398,\n",
       "           0.98498,     0.98599,     0.98699,     0.98799,     0.98899,     0.98999,     0.99099,     0.99199,     0.99299,     0.99399,     0.99499,       0.996,       0.997,       0.998,       0.999,           1]), array([[          1,           1,           1, ...,           0,           0,           0],\n",
       "       [          1,           1,           1, ...,           0,           0,           0],\n",
       "       [          1,           1,           1, ...,           0,           0,           0],\n",
       "       [          1,           1,           1, ...,           0,           0,           0],\n",
       "       [    0.93258,     0.93258,     0.93258, ...,           0,           0,           0]]), 'Confidence', 'Recall']]\n",
       "fitness: np.float64(0.8680261697699416)\n",
       "keys: ['metrics/precision(B)', 'metrics/recall(B)', 'metrics/mAP50(B)', 'metrics/mAP50-95(B)']\n",
       "maps: array([    0.86921,     0.91711,     0.99163,     0.89094,     0.62453])\n",
       "names: {0: 'bp', 1: 'gluco', 2: 'hba1c', 3: 'spo2', 4: 'ws'}\n",
       "plot: True\n",
       "results_dict: {'metrics/precision(B)': np.float64(0.9254848071246933), 'metrics/recall(B)': np.float64(0.9514012381329584), 'metrics/mAP50(B)': np.float64(0.9521169249962209), 'metrics/mAP50-95(B)': np.float64(0.8586827525225772), 'fitness': np.float64(0.8680261697699416)}\n",
       "save_dir: PosixPath('runs/detect/val2')\n",
       "speed: {'preprocess': 1.3738764505196361, 'inference': 8.458388807291328, 'loss': 0.000897020832724138, 'postprocess': 1.3508809531188604}\n",
       "task: 'detect'"
      ]
     },
     "execution_count": 20,
     "metadata": {},
     "output_type": "execute_result"
    }
   ],
   "source": [
    "# Check validation results (metrics are stored in the log during validation)\n",
    "metrics = model.val(\n",
    "    data=\"/content/Medical_Device_Detection-1/data.yaml\",\n",
    "    split=\"val\"\n",
    ")\n",
    "\n",
    "model.val(save=True)\n"
   ]
  },
  {
   "cell_type": "code",
   "execution_count": 10,
   "metadata": {
    "executionInfo": {
     "elapsed": 3128,
     "status": "ok",
     "timestamp": 1745398806143,
     "user": {
      "displayName": "Saiteja Vuppala",
      "userId": "17073075911846516287"
     },
     "user_tz": -330
    },
    "id": "DDk85Ymy3Vho"
   },
   "outputs": [],
   "source": [
    "model = YOLO('/content/drive/MyDrive/Medical_Device_Detection/Medical_Device_Detection-1/runs/detect/device_detector/weights/best.pt')"
   ]
  },
  {
   "cell_type": "code",
   "execution_count": 18,
   "metadata": {
    "colab": {
     "base_uri": "https://localhost:8080/"
    },
    "executionInfo": {
     "elapsed": 37477,
     "status": "ok",
     "timestamp": 1745393832070,
     "user": {
      "displayName": "Saiteja Vuppala",
      "userId": "17073075911846516287"
     },
     "user_tz": -330
    },
    "id": "xYPB4MPGL8-9",
    "outputId": "941bcd93-b70d-4234-c10f-6ee14534799a"
   },
   "outputs": [
    {
     "name": "stdout",
     "output_type": "stream",
     "text": [
      "Results saved to \u001b[1mruns/detect/predict2\u001b[0m\n",
      "192 labels saved to runs/detect/predict2/labels\n",
      "Predictions for lVMjvVZBXz_jpeg.rf.b28b272a9e62725279259cf9102b39b8.txt:\n",
      "0 0.7633463546875 0.9899509796875 0.7747395828125 0.978186275 0.7861328125 0.9625 0.7923177078125 0.9446078437500001 0.7942708328125 0.9274509796875 0.78515625 0.4735294125 0.7757161453125 0.39289215624999996 0.7626953125 0.3686274515625 0.75 0.35392156875 0.7288411453125 0.33897058750000003 0.6969401046875 0.3279411765625 0.5690104171875 0.3154411765625 0.4983723953125 0.31323529375 0.4391276046875 0.3139705875 0.3857421875 0.31617647031249996 0.279296875 0.32573529375 0.2532552078125 0.33039215624999996 0.22688802031250002 0.340196078125 0.20735677031250002 0.353186275 0.193359375 0.36642156875 0.1842447921875 0.37867647031249996 0.1767578125 0.3931372546875 0.173828125 0.40980392187500003 0.1741536453125 0.4600490203125 0.22233072968749998 0.9997549015624999 0.75 0.9997549015624999 0.7633463546875 0.9899509796875\n",
      "Predictions for 20230721_102857321_iOS_jpg.rf.40299e75d7d62e9b2f1c3f1eaa802225.txt:\n",
      "1 0.1356646828125 0.5714295640625 0.13963293593749998 0.5806888234375001 0.14930555625 0.5972232140625 0.1547619046875 0.6038369703125 0.1626984125 0.6114427906250001 0.17782738125 0.6210327375 0.20114087343749998 0.6309533734375 0.278521825 0.654101521875 0.2986111109375 0.6577390875 0.543402778125 0.68948511875 0.5706845234375 0.6901464953125 0.5922619046875 0.68882374375 0.6081349203124999 0.685847553125 0.6205357140625 0.680556546875 0.63467261875 0.6716279765625 0.6475694437499999 0.6590618390625 0.6636904765625 0.6352523140625 0.67509920625 0.6124348546875 0.689980159375 0.5717602515625 0.700644840625 0.516866071875 0.703869046875 0.48875760625 0.7048611109375 0.467262896875 0.7041170640625001 0.3905433203125 0.7018849203124999 0.374339615625 0.7008928578125 0.42486937812500003 0.69990079375 0.3891775796875 0.68799603125 0.3561296296875 0.671130953125 0.3138280421875 0.6165674609375 0.276814484375 0.5292658734375 0.2622731484375 0.45684523749999995 0.2384788359375 0.41617063437499996 0.2305472890625 0.21279761874999997 0.20635019843750002 0.20114087343749998 0.20965707656250002 0.1927083328125 0.21428670625000001 0.1795634921875 0.22619146875 0.1731150796875 0.2341279765625 0.1626984125 0.25099305625 0.1383928578125 0.31515013281250004 0.1443452375 0.369348875 0.0322420640625 0.35084193125 0.02430555625 0.41693783125 0.1354166671875 0.42751322812500003 0.12524801562500001 0.535715278125 0.1356646828125 0.5714295640625\n",
      "Predictions for 20230721_110028237_iOS_jpg.rf.a47a3309859dd5a911f1017a0530171f.txt:\n",
      "2 0.2757936515625 0.5704365078125 0.28819444375000003 0.5975529093749999 0.29365079375 0.60582010625 0.3008432546875 0.621362434375 0.306795634375 0.6299603171875 0.3144841265625 0.6455026453125 0.325396825 0.6613756609375 0.34027777812500004 0.6769179890625 0.353670634375 0.6865079359374999 0.36036706406249996 0.6891534390625 0.3702876984375 0.6921296296875 0.390625 0.6954365078125 0.42906746093750003 0.6984126984375 0.47584325468750005 0.6984126984375 0.48239087343750003 0.6990740734374999 0.5042162703125 0.7053571421875 0.51884920625 0.7043650796875001 0.531498015625 0.69973545 0.546626984375 0.691137565625 0.5570436515625 0.68154761875 0.5833333328125 0.6494709000000001 0.6049107140625 0.6207010578125 0.6183035718750001 0.6054894187500001 0.6321924609375 0.59325396875 0.6626984125 0.5714285718750001 0.687251984375 0.5512566140625 0.71279761875 0.525132275 0.7294146828125 0.5023148140625 0.7425595234375 0.48048941875000006 0.76612103125 0.4325396828125 0.7931547625 0.3611111109375 0.8035714281249999 0.322089946875 0.806299603125 0.3052248671875 0.806795634375 0.283730159375 0.8045634921874999 0.262896825 0.7904265875 0.21693121718750003 0.763144840625 0.15641534375 0.737351190625 0.11342592656249999 0.7254464281249999 0.0988756609375 0.709325396875 0.084656084375 0.68427579375 0.0727513234375 0.672123015625 0.0701058203125 0.6547619046875 0.0697751328125 0.63095238125 0.0730820109375 0.609623015625 0.078703703125 0.588045634375 0.0826719578125 0.537450396875 0.0978835984375 0.5143849203124999 0.109788359375 0.48090277812500004 0.1355820109375 0.453373015625 0.1626984125 0.4392361109375 0.17989417968750002 0.431299603125 0.1914682546875 0.40277777812500004 0.221891534375 0.39112103125000003 0.23181216875000002 0.338045634375 0.26455026406250004 0.3241567453125 0.2764550265625 0.31349206406249996 0.29001322812499997 0.30133928593750003 0.31911375625 0.2981150796875 0.340608465625 0.29588293593750004 0.36805555624999997 0.2889384921875 0.39252645468749997 0.28075396874999997 0.43419312187500003 0.27256944375000003 0.4672619046875 0.268105159375 0.4986772484375 0.2678571421875 0.51884920625 0.2693452375 0.5429894187500001 0.2720734125 0.5582010578125 0.2757936515625 0.5704365078125\n",
      "Predictions for Aueld4tMIM_jpeg.rf.d1874dde035a3c9d19cadad44810e5c8.txt:\n",
      "4 0.42275 0 0.38425 0.008666667187500001 0.29300000000000004 0.0353333328125 0.25325000000000003 0.0496666671875 0.2385 0.060333332812499994 0.22749999999999998 0.075 0.21675 0.10133333281250001 0.21375000000000002 0.1153333328125 0.2145 0.13999999999999999 0.225 0.211 0.27425 0.4933333328125 0.3245 0.7613333328125 0.3375 0.8130000000000001 0.35075 0.8303333328125 0.36475 0.843 0.38025000000000003 0.851 0.40225 0.8526666671875001 0.41600000000000004 0.8506666671875 0.4655 0.8383333328125 0.5005 0.828 0.5860000000000001 0.8003333328125001 0.59475 0.7953333328125 0.59825 0.7896666671875 0.59975 0.783 0.649 0 0.42275 0\n",
      "Predictions for 20230721_110329333_iOS_jpg.rf.cd0bd527242a7b5d0e1662b59f5189b8.txt:\n",
      "0 0.31944444375000003 0 0.278521825 0.0135582015625 0.250248015625 0.034391534375 0.237351190625 0.045965607812499996 0.22470238125000003 0.059854496874999996 0.21279761874999997 0.07605820156250001 0.1989087296875 0.1008597890625 0.1498015875 0.21924603125000003 0.08779761875 0.38326719531250003 0.07911706406249999 0.41765872968749995 0.075148809375 0.46031746093750003 0.0758928578125 0.4854497359375 0.0803571421875 0.50562169375 0.084325396875 0.515873015625 0.0974702375 0.5383597890625 0.12276785781249999 0.565476190625 0.1359126984375 0.5763888890625 0.1480654765625 0.583994709375 0.265625 0.6507936515625 0.28819444375000003 0.6620370375 0.5349702375 0.6471560843749999 0.546130953125 0.6455026453125 0.5793650796875001 0.6362433859375 0.6051587296875 0.6236772484374999 0.6369047625 0.6005290999999999 0.6507936515625 0.587632275 0.662450396875 0.575396825 0.6862599203124999 0.54365079375 0.700644840625 0.5178571421875 0.7115575390625 0.4920634921875 0.72197420625 0.44444444375 0.7256944437499999 0.42129629687500003 0.72842261875 0.384259259375 0.7326388890625 0.265873015625 0.731894840625 0.0800264546875 0.7296626984375 0.0641534390625 0.7254464281249999 0.0505952375 0.7085813484375 0.027116401562499996 0.684027778125 0 0.31944444375000003 0\n",
      "Predictions for DlpdyxUtM2_jpeg.rf.727cf3771885442b07d4e09cf6b9bfb7.txt:\n",
      "3 0.40575 0.985 0.41675000000000006 0.99 0.46175 0.9996666671875 0.6172500000000001 0.9996666671875 0.636 0.9663333328125001 0.645 0.9363333328125 0.64675 0.922 0.6515 0.8033333328125 0.647 0.49066666718749996 0.64525 0.47800000000000004 0.63325 0.42833333281249997 0.62225 0.403 0.5965 0.3693333328125 0.5925 0.3673333328125 0.5815 0.36666666718749996 0.50625 0.36633333281249997 0.488 0.3673333328125 0.45575 0.372 0.44400000000000006 0.3776666671875 0.41775 0.4056666671875 0.4125 0.4183333328125 0.403 0.4533333328125 0.35825 0.7096666671875 0.352 0.7476666671875 0.34950000000000003 0.7746666671875 0.34925 0.8186666671875 0.35325 0.85 0.391 0.9626666671875 0.40575 0.985\n",
      "Predictions for stvQY5SjIT_jpeg.rf.ffc8d24cd13a53c5ff74811c66294ddc.txt:\n",
      "0 0.46953125 0.59609375 0.55078125 0.71484375\n",
      "Predictions for 6N5xgpLI4D_jpg.rf.e7bcbc98819465727c613317d645d2db.txt:\n",
      "4 0.34483506875000003 0.862847221875 0.35655381875000003 0.922453703125 0.36566840312500004 0.9499421296874999 0.3791232640625 0.9861111109375 0.392578125 0.9997106484374999 0.656684028125 0.9997106484374999 0.7332899312500001 0.949652778125 0.7526041671875 0.899884259375 0.755425346875 0.8828125 0.756293403125 0.8596643515625001 0.7395833328125 0.5555555562500001 0.7361111109375 0.5274884265625001 0.7298177078125 0.5057870375 0.7239583328125 0.4947916671875 0.7215711812500001 0.4933449078125 0.7165798609375 0.4933449078125 0.5944010421875 0.49913194375 0.5631510421875 0.5023148140625 0.3302951390625 0.5390625 0.3224826390625 0.54398148125 0.3151041671875 0.5572916671875 0.3166232640625 0.5954861109375 0.32313368124999997 0.6973379625 0.32573784687499996 0.7225115734374999 0.34483506875000003 0.862847221875\n",
      "Predictions for z8TqwOmeha_jpeg.rf.bc4dad68051a1384ca18cc08e2dad602.txt:\n",
      "3 0.2665 0.682 0.27775 0.7026666671874999 0.29275 0.7196666671874999 0.3175 0.733 0.35325 0.746 0.3565 0.746 0.53725 0.6856666671875 0.6045 0.6599999999999999 0.63325 0.646 0.649 0.633 0.6599999999999999 0.619 0.66525 0.609 0.6715 0.5916666671875 0.6755 0.5589999999999999 0.67225 0.495 0.67025 0.477 0.6595 0.4263333328125 0.648 0.385 0.63825 0.3676666671875 0.6255 0.3536666671875 0.603 0.3416666671875 0.59475 0.3393333328125 0.581 0.339 0.5037499999999999 0.3513333328125 0.44800000000000006 0.36466666718749996 0.36625 0.3903333328125 0.32975 0.40433333281249995 0.27799999999999997 0.4273333328125 0.26175000000000004 0.4403333328125 0.2485 0.45766666718750004 0.23825 0.4806666671875 0.23325 0.5173333328124999 0.23349999999999999 0.5323333328125 0.2405 0.5786666671875 0.253 0.6373333328124999 0.2665 0.682\n",
      "Predictions for 20230721_111255569_iOS_jpg.rf.b63adcaf404231a11ddbf5ff3cf67887.txt:\n",
      "2 0.193204365625 0.6484788359375 0.196924603125 0.662367725 0.2110615078125 0.6994047625 0.22594246093749998 0.7334656078124999 0.23958333281250002 0.7589285718750001 0.25049603125000003 0.7744709000000001 0.262648809375 0.787367725 0.2757936515625 0.797619046875 0.2854662703125 0.802579365625 0.3023313484375 0.8072089953124999 0.3137400796875 0.8085317453125 0.343005953125 0.808862434375 0.38095238125 0.80687830625 0.4322916671875 0.7982804234375 0.4610615078125 0.7883597890625 0.4858630953125 0.7761243390625 0.5009920640625001 0.765873015625 0.5195932546875001 0.75 0.568204365625 0.703703703125 0.5825892859375 0.69378306875 0.6021825390625 0.6851851859375 0.6453373015625 0.662367725 0.6644345234375 0.646494709375 0.6733630953125 0.6316137562499999 0.6822916671875 0.609126984375 0.6860119046875 0.5949074078125001 0.6884920640625001 0.578373015625 0.6966765875 0.55654761875 0.700644840625 0.5403439156250001 0.7095734125 0.5132275125 0.7204861109375 0.4742063484375 0.7276785718750001 0.43353174531249994 0.7266865078125 0.4140211640625 0.7224702375 0.3921957671875 0.715277778125 0.3670634921875 0.6959325390625 0.3138227515625 0.690972221875 0.3022486765625 0.6857638890625 0.29365079375 0.671626984375 0.2764550265625 0.6572420640625001 0.265542328125 0.646329365625 0.259920634375 0.6197916671875 0.2503306875 0.6029265875 0.24570105781249998 0.584325396875 0.2380952375 0.5558035718750001 0.23247354531250003 0.53075396875 0.22056878281249997 0.51612103125 0.2175925921875 0.5049603171875 0.2175925921875 0.49429563437499996 0.2199074078125 0.478174603125 0.22850529062499997 0.421875 0.2820767203125 0.40252976250000005 0.2953042328125 0.3826884921875 0.3052248671875 0.35590277812500004 0.31580687812499997 0.334325396875 0.3267195765625 0.315476190625 0.34027777812500004 0.2886904765625 0.365410053125 0.264880953125 0.39417989375 0.249751984375 0.415674603125 0.21205357187499999 0.478174603125 0.1979166671875 0.50595238125 0.1875 0.5324074078125001 0.1837797625 0.5456349203124999 0.18055555625 0.56845238125 0.18055555625 0.5925925921874999 0.1835317453125 0.6173941796875 0.1862599203125 0.6289682546875001 0.193204365625 0.6484788359375\n",
      "Predictions for gPoqzrj6cQ_jpeg.rf.afa6b3d8db05dc239ec0a2ec18c29e93.txt:\n",
      "3 0.2145 0.6393333328125 0.2205 0.6466666671875 0.22749999999999998 0.651 0.26875 0.661 0.32775 0.6716666671875 0.50325 0.6956666671875 0.56525 0.686 0.60825 0.6636666671875 0.6487499999999999 0.636 0.65925 0.627 0.6655 0.6186666671875 0.67225 0.603 0.67725 0.5836666671875 0.6809999999999999 0.5576666671875 0.6832499999999999 0.515 0.6832499999999999 0.47933333281249996 0.68075 0.46399999999999997 0.6715 0.4286666671875 0.6575 0.3943333328125 0.649 0.38 0.6375 0.36666666718749996 0.6155 0.3503333328125 0.59675 0.3403333328125 0.32975 0.25166666718749997 0.3035 0.2463333328125 0.27775 0.24666666718750002 0.26525 0.253 0.25125000000000003 0.2676666671875 0.24075000000000002 0.2906666671875 0.2045 0.4806666671875 0.20375000000000001 0.5736666671874999 0.20925 0.622 0.21125 0.6323333328125 0.2145 0.6393333328125\n",
      "Predictions for Jr1SqsP3Vu_jpeg.rf.686cae6e28a2a67dfc8a67a336e1e955.txt:\n",
      "0 0.273 0.9396666671875 0.284 0.9536666671875 0.298 0.9640000000000001 0.3055 0.967 0.3195 0.9696666671875 0.35275 0.968 0.5277499999999999 0.9400000000000001 0.595 0.9263333328125001 0.69625 0.8996666671875 0.71025 0.8869999999999999 0.71725 0.8716666671875 0.724 0.845 0.72425 0.7953333328125 0.71475 0.6833333328125 0.68425 0.38 0.6755 0.354 0.66925 0.3416666671875 0.659 0.32766666718750004 0.6465 0.31966666718750003 0.6315000000000001 0.31433333281250003 0.39249999999999996 0.302 0.31525 0.3 0.30325 0.301 0.29100000000000004 0.3043333328125 0.2785 0.31433333281250003 0.26575000000000004 0.331 0.25775000000000003 0.3543333328125 0.2555 0.367 0.2535 0.393 0.24975 0.5796666671875 0.24900000000000003 0.8096666671875001 0.25425 0.8856666671875001 0.2625 0.9173333328125001 0.273 0.9396666671875\n",
      "Predictions for VmpmA9IMAf_jpg.rf.eef80a8e3f8c3dc48a7b1ead6ae808fb.txt:\n",
      "4 0.327546296875 0.628472221875 0.3535879625 0.633246528125 0.46672453750000004 0.638671875 0.5002893515625 0.6384548609375 0.5095486109375 0.6373697921875 0.5202546296875 0.6325954859375 0.5335648140625 0.6213107640625 0.540509259375 0.6061197921875 0.5448495375 0.5846354171875 0.5526620375 0.4861111109375 0.5622106484375 0.32769097187499996 0.5607638890625 0.30316840312500004 0.5549768515625 0.28472222187499996 0.550347221875 0.27842881875000003 0.5436921296875 0.27256944375000003 0.5315393515625 0.2677951390625 0.5182291671875 0.2654079859375 0.4699074078125 0.26258680624999997 0.45515046249999996 0.2630208328125 0.1004050921875 0.44140625 0.09375 0.45203993125 0.093171296875 0.4537760421875 0.09548611093750001 0.45616319375 0.3177083328125 0.625434028125 0.327546296875 0.628472221875\n",
      "Predictions for RfjHndQjnS_jpeg.rf.0e2be1faca28decb60ff5032da0ba294.txt:\n",
      "3 0.4035 0.9683333328125 0.41150000000000003 0.9866666671875001 0.41574999999999995 0.9926666671875 0.42424999999999996 0.9996666671875 0.736 0.9996666671875 0.748 0.9873333328125 0.7565000000000001 0.9753333328125 0.7617499999999999 0.9653333328124999 0.76625 0.9523333328125 0.77275 0.9253333328125001 0.7847500000000001 0.8416666671874999 0.7925 0.7596666671875 0.8067500000000001 0.4823333328125 0.8087500000000001 0.3246666671875 0.808 0.2883333328125 0.80425 0.24100000000000002 0.79975 0.209 0.795 0.191 0.78675 0.16799999999999998 0.77525 0.1486666671875 0.7595 0.1266666671875 0.7375 0.11100000000000002 0.71925 0.10066666718749999 0.71025 0.098 0.643 0.091 0.5902499999999999 0.089 0.5325 0.091 0.49349999999999994 0.0953333328125 0.47725 0.1 0.47000000000000003 0.10366666718749999 0.45575 0.1126666671875 0.44125 0.126 0.42925 0.1406666671875 0.4145 0.1643333328125 0.40325 0.1903333328125 0.3955 0.2296666671875 0.3895 0.2756666671875 0.3845 0.353 0.3775 0.5366666671875 0.37625000000000003 0.622 0.37825000000000003 0.7276666671875 0.391 0.8963333328124999 0.4035 0.9683333328125\n",
      "Predictions for 20230723_174955346_iOS_jpg.rf.578f0270c2d9021b50db3d5cb635443c.txt:\n",
      "0 0 0 0 0.9996693125 0.41964285781250005 0.9996693125 0.650545634375 0.953703703125 0.684027778125 0.9424603171875001 0.7108134921875 0.928240740625 0.7294146828125 0.9143518515625001 0.7517361109375 0.889880953125 0.7633928578125 0.8733465609375 0.7760416671875 0.8505290999999999 0.7886904765625 0.8201058203124999 0.8015873015625001 0.7625661375 0.8048115078125001 0.7278439156250001 0.8020833328125001 0.5975529093749999 0.787450396875 0.365740740625 0.7728174609375 0.1855158734375 0.7547123015625 0.0132275125 0.7522321421875 0 0 0\n",
      "Predictions for rgDcYEEttK_jpeg.rf.6f92c4f987c10b6987be263461843da9.txt:\n",
      "0 0.34025 0.6196666671875 0.34700000000000003 0.6263333328125 0.376 0.6393333328125 0.39325 0.6386666671875 0.43150000000000005 0.623 0.5005 0.5483333328125 0.51 0.532 0.51075 0.518 0.47725 0.3923333328125 0.46275000000000005 0.3636666671875 0.44875 0.346 0.43724999999999997 0.339 0.42725 0.3373333328125 0.41900000000000004 0.3393333328125 0.3975 0.34900000000000003 0.3335 0.38366666718750003 0.311 0.3993333328125 0.2805 0.42366666718749996 0.27825 0.4273333328125 0.27749999999999997 0.43333333281249997 0.27749999999999997 0.445 0.28075 0.4606666671875 0.29075 0.4903333328125 0.34025 0.6196666671875\n",
      "Predictions for 20230723_174457832_iOS_jpg.rf.e58daf2cf7fd6f2a0b533b8b7a568099.txt:\n",
      "0 0.06944444375 0 0.06101190468749999 0.01951058125 0.0483630953125 0.0638227515625 0.01240079375 0.21924603125000003 0.0101686515625 0.24338624375 0 0.5558862437500001 0.000744046875 0.9632936515624999 0.007440476562499999 0.9996693125 0.474950396875 0.9996693125 0.6205357140625 0.9424603171875001 0.7703373015625 0.875661375 0.7894345234375 0.865740740625 0.814980159375 0.8475529093749999 0.8296130953124999 0.8293650796875 0.841021825 0.8085317453125 0.8554067453125 0.7579365078125 0.859375 0.7331349203124999 0.8630952375 0.6944444437499999 0.8705357140625001 0.4232804234375 0.872271825 0.2615740734375 0.87177579375 0.21825396874999997 0.8702876984374999 0.20271164062499997 0.8648313484375001 0.1772486765625 0.8511904765624999 0.1375661375 0.8370535718750001 0.11177248749999999 0.825148809375 0.09920634843750001 0.8112599203125 0.0896164015625 0.74404761875 0.0608465609375 0.5726686515625 0 0.06944444375 0\n",
      "Predictions for 20230721_111552371_iOS_jpg.rf.de015d0bec961016f4edd89e6decf905.txt:\n",
      "2 0.365079365625 0.859788359375 0.3772321421875 0.877976190625 0.38963293593750004 0.890211640625 0.412450396875 0.9017857140625001 0.45510912656249997 0.9136904765624999 0.4908234125 0.91898148125 0.5084325390625 0.91898148125 0.527777778125 0.9166666671874999 0.54365079375 0.912367725 0.677579365625 0.865740740625 0.6875 0.8604497359375 0.6984126984375 0.8515211640624999 0.703373015625 0.8452380953124999 0.7145337296875 0.8230820109374999 0.718998015625 0.809854496875 0.7209821421875 0.7986111109375 0.7232142859375 0.7645502640624999 0.7224702375 0.7357804234375 0.71279761875 0.6044973546875 0.7070932546875001 0.56878306875 0.70362103125 0.5545634921875 0.69717261875 0.5360449734375 0.6884920640625001 0.51884920625 0.67509920625 0.503637565625 0.65674603125 0.4950396828125 0.6475694437499999 0.49338624375 0.63095238125 0.49437830624999995 0.49280753906249997 0.528439153125 0.46502976250000005 0.541005290625 0.44345238125 0.5552248671875 0.428075396875 0.5674603171875 0.40228174531249994 0.5922619046875 0.3772321421875 0.6180555562500001 0.36532738125 0.634259259375 0.35243055624999997 0.6547619046875 0.349454365625 0.6617063484375 0.343005953125 0.686838625 0.3400297625 0.7080026453125 0.34052579375 0.7364417984375 0.3487103171875 0.7982804234375 0.3544146828125 0.8260582015625 0.365079365625 0.859788359375\n",
      "Predictions for 20230721_101410676_iOS_jpg.rf.1227be20369b8992fb19481abde3a535.txt:\n",
      "1 0.28025793593750004 0.6418650796875001 0.3953373015625 0.6957671953125 0.4548611109375 0.7129629625 0.530505953125 0.7232142859375 0.5736607140625 0.7225529093749999 0.6197916671875 0.715939153125 0.6448412703125 0.7096560843749999 0.6696428578125 0.7007275125 0.8040674609374999 0.627976190625 0.8077876984374999 0.6246693125 0.809771825 0.6167328046875 0.809771825 0.6074735453125 0.8075396828124999 0.596560846875 0.8023313484375001 0.584325396875 0.6790674609375 0.45502645468749997 0.6490575390625 0.427910053125 0.6185515875 0.4047619046875 0.5711805562500001 0.377976190625 0.546130953125 0.366402115625 0.5116567453124999 0.353835978125 0.46875 0.340939153125 0.41592261875 0.3293650796875 0.36631944375000003 0.32142857187499996 0.3296130953125 0.321097884375 0.3206845234375 0.325396825 0.315476190625 0.3303571421875 0.28819444375000003 0.3882275125 0.2636408734375 0.4480820109375 0.2390873015625 0.5324074078125001 0.228174603125 0.578042328125 0.22941468281250002 0.5952380953125 0.23759920625 0.6111111109375 0.264880953125 0.6332671953125 0.28025793593750004 0.6418650796875001\n",
      "Predictions for 20230721_110110976_iOS_jpg.rf.3c983db5fa767f3a5b758aade990c0fb.txt:\n",
      "2 0.13814484062500001 0.6484788359375 0.147321428125 0.6646825390625 0.1609623015625 0.6835317453124999 0.17435515937499999 0.6977513234375 0.1917162703125 0.7129629625 0.2385912703125 0.7490079359374999 0.278521825 0.7754629625 0.299851190625 0.7876984125 0.3258928578125 0.7992724875 0.37177579375 0.8111772484375 0.4466765875 0.8194444437499999 0.4739583328125 0.828373015625 0.4990079359375 0.840277778125 0.5243055562500001 0.849867725 0.5404265875 0.853505290625 0.559771825 0.8525132281250001 0.5704365078125 0.8495370375 0.581597221875 0.84358465625 0.5925099203124999 0.8363095234375001 0.6183035718750001 0.815806878125 0.6319444437499999 0.809523809375 0.6964285718750001 0.7738095234375 0.71279761875 0.76223545 0.7264384921875 0.7496693125 0.7388392859375 0.7328042328125 0.74677579375 0.716269840625 0.7549603171875 0.6957671953125 0.7668650796875001 0.659060846875 0.7740575390625 0.6332671953125 0.7772817453124999 0.61937830625 0.778521825 0.608796296875 0.778769840625 0.5945767203125001 0.777777778125 0.58167989375 0.7748015875 0.56878306875 0.7700892859375 0.5552248671875 0.734375 0.47321428593750003 0.71279761875 0.43386243437500005 0.7041170640625001 0.409391534375 0.6981646828125 0.396164021875 0.689980159375 0.38194444375000003 0.6763392859375 0.36673280468749997 0.6512896828125 0.35350529062499997 0.634920634375 0.3488756609375 0.6168154765625 0.346230159375 0.578869046875 0.34424603125000003 0.5535714281249999 0.33928571406249997 0.5329861109375 0.33134920625 0.5116567453124999 0.3197751328125 0.4985119046875 0.3111772484375 0.4704861109375 0.296626984375 0.44097222187499996 0.2863756609375 0.40575396875 0.2797619046875 0.3658234125 0.278108465625 0.315476190625 0.283730159375 0.2800099203125 0.2896825390625 0.2398313484375 0.3009259265625 0.2242063484375 0.30654761875 0.203373015625 0.31580687812499997 0.18725198437499999 0.32705026406250004 0.1731150796875 0.33928571406249997 0.1599702375 0.3551587296875 0.150049603125 0.37169312187500003 0.14012896875 0.396164021875 0.1366567453125 0.4077380953125 0.1297123015625 0.44411375625 0.12475198437499999 0.484788359375 0.122271825 0.5165343921875001 0.12251984062500001 0.584325396875 0.1262400796875 0.6084656078124999 0.13467261875 0.640211640625 0.13814484062500001 0.6484788359375\n",
      "Predictions for IMG_20230414_001-180-_jpg.rf.321b7f87518f43e961a9b455230c49dd.txt:\n",
      "0 0.09787326406249999 0 0.08723958281250001 0.0486111109375 0.074652778125 0.12297453750000001 0.06966145781250001 0.1721643515625 0.07009548593750001 0.19097222187500001 0.072265625 0.214409721875 0.07508680625 0.23148148124999998 0.1115451390625 0.3417245375 0.17426215312499999 0.4924768515625 0.20008680625 0.54195601875 0.23893229218749998 0.5989583328125 0.2623697921875 0.628472221875 0.29210069375000003 0.660590278125 0.32269965312500004 0.6883680562500001 0.3404947921875 0.6999421296875 0.36762152812500004 0.7083333328125 0.3821614578125 0.7097800921874999 0.4060329859375 0.7089120375 0.5818142359375 0.6822916671875 0.7897135421875 0.5989583328125 0.8044704859375 0.5917245375 0.8309461812500001 0.5703125 0.8454861109375 0.5526620375 0.9997829859375 0.30121527812500004 0.9997829859375 0.21006944375 0.987847221875 0.18663194375 0.9646267359375 0.1481481484375 0.8641493062500001 0.0217013890625 0.843315971875 0 0.09787326406249999 0\n",
      "Predictions for CHZw1EhUFB_jpeg.rf.ee4f2fd9152887259d48589c988223d1.txt:\n",
      "4 0.43075 0.7556666671875 0.49524999999999997 0.7773333328125 0.5715 0.7503333328124999 0.6245 0.6799999999999999 0.6292500000000001 0.6663333328125 0.637 0.628 0.65025 0.5326666671875 0.651 0.4046666671875 0.643 0.3596666671875 0.638 0.3556666671875 0.60575 0.3516666671875 0.41725 0.34900000000000003 0.3775 0.3546666671875 0.40449999999999997 0.706 0.40599999999999997 0.7123333328125 0.4185 0.742 0.43075 0.7556666671875\n",
      "Predictions for IMG_1784_jpg.rf.cf6833991c77da2d9d67cd691b3c89d6.txt:\n",
      "3 0.7026828375 0.8873142062499999 0.7357589124999999 0.8873142062499999 0.770305034375 0.8748703765625001 0.787210584375 0.8631178703125 0.8110988609374999 0.8382302109375 0.8243292906249999 0.819564465625 0.8349871375 0.79502246875 0.8526277109375 0.7366056000000001 0.8607129734375001 0.7006567578125 0.865490628125 0.6564120296875 0.8643880921875 0.633598340625 0.8607129734375001 0.6149325953125 0.8500551265625 0.5838230203125 0.8371922093749999 0.5610093328125 0.8125689078124999 0.532665053125 0.7945608234375 0.5184929140625 0.7732451296875 0.5063947453125001 0.7287761859375 0.49083995781249995 0.6832047046875 0.486692015625 0.502021315625 0.4891116484375 0.35170893125 0.49706187343749997 0.29217199531250004 0.5029381265625 0.2576258734375 0.5160732796875 0.2532157296875 0.5184929140625 0.25174568124999996 0.521258209375 0.23814773906250003 0.5572070515624999 0.22638735781250002 0.5962668515625 0.2010290328125 0.695817490625 0.18816611562500002 0.7583823015625 0.1874310921875 0.7742827515624999 0.1892686515625 0.7822329765625 0.21646453437500002 0.8209471140625 0.7026828375 0.8873142062499999\n",
      "Predictions for IMG_20230419_154454_jpg.rf.392b2cad3f4c0fe2d849b32791881a8b.txt:\n",
      "1 0 0.9997549015624999 0.8011067703125001 0.9997549015624999 0.8040364578125001 0.9882352937500001 0.8141276046874999 0.91323529375 0.8284505203125001 0.7504901953124999 0.8356119796874999 0.6227941171875 0.8375651046874999 0.448774509375 0.8359375 0.4306372546875 0.8310546875 0.4036764703125 0.8219401046874999 0.3708333328125 0.8134765625 0.3529411765625 0.8056640625 0.34068627500000004 0.7848307296875 0.3154411765625 0.765625 0.3004901953125 0.7483723953125 0.2897058828125 0.7190755203125 0.27573529375 0.6819661453125 0.2627450984375 0.6311848953125 0.2502450984375 0.5345052078125 0.2372549015625 0.5055338546875 0.23504902031250002 0.44140625 0.23161764687500003 0.3404947921875 0.23039215624999998 0.2805989578125 0.2318627453125 0.2373046875 0.2345588234375 0.1656901046875 0.2450980390625 0.134765625 0.2517156859375 0.09830729218749999 0.2642156859375 0.07421875 0.2754901953125 0.05859375 0.284803921875 0.0354817703125 0.302696078125 0.021484375 0.31715686249999997 0.012369792187500001 0.3296568625 0 0.3482843140625 0 0.9997549015624999\n",
      "Predictions for qh7HXBF4Uj_jpeg.rf.14fd4e6365c27a1303c3e0ffc5301d6b.txt:\n",
      "0 0.0605 0.9366666671875 0.075 0.9533333328125 0.09 0.9646666671874999 0.09925 0.9676666671874999 0.30474999999999997 0.9893333328124999 0.42625 0.9996666671875 0.6545 0.9996666671875 0.66975 0.9856666671875001 0.67675 0.9753333328125 0.6877500000000001 0.9496666671874999 0.6935 0.922 0.6945 0.9036666671875 0.68525 0.6883333328125001 0.66175 0.2916666671875 0.657 0.227 0.647 0.1903333328125 0.634 0.17266666718749998 0.62175 0.1626666671875 0.59525 0.1533333328125 0.58125 0.1526666671875 0.49024999999999996 0.1626666671875 0.20049999999999998 0.2006666671875 0.1635 0.213 0.14825 0.2256666671875 0.13825 0.236 0.1255 0.26 0.1125 0.304 0.07625 0.5553333328125001 0.0485 0.7736666671875 0.041999999999999996 0.8543333328125 0.042499999999999996 0.8733333328124999 0.047 0.8996666671875 0.05 0.9116666671875 0.0605 0.9366666671875\n",
      "Predictions for Pgp2RkZmrk_jpeg.rf.b2365b5ff3c055dfbabc45e18b2545c6.txt:\n",
      "0 0.6588541671875 0.9759803921874999 0.6650390625 0.9622549015624999 0.6705729171875 0.93676470625 0.6715494796875 0.9058823531250001 0.625 0.1764705875 0.6201171875 0.1546568625 0.6097005203125 0.1350490203125 0.6005859375 0.12475490156249999 0.5869140625 0.11323529375000001 0.5673828125 0.1002450984375 0.5302734375 0.0875 0.5078125 0.0845588234375 0.4814453125 0.0830882359375 0.3434244796875 0.07892156875 0.2119140625 0.0818627453125 0.1500651046875 0.0877450984375 0.06315104218749999 0.101225490625 0.013020832812499999 0.1142156859375 0.0078125 0.117647059375 0.0003255203125 0.12573529375 0 0.9997549015624999 0.6396484375 0.9997549015624999 0.6484375 0.9904411765625 0.6588541671875 0.9759803921874999\n",
      "Predictions for IMG_2374_JPG.rf.11a8fd7026b45a685389d7c01599175f.txt:\n",
      "3 0.619295634375 0.6362433859375 0.622023809375 0.6458333328125 0.630704365625 0.6630290999999999 0.643353175 0.6739417984375 0.656994046875 0.6792328046875 0.7234623015625 0.6795634921875 0.900545634375 0.6673280421875 0.934523809375 0.6620370375 0.9548611109375 0.6514550265625 0.965277778125 0.640542328125 0.997023809375 0.5945767203125001 0.999751984375 0.5873015875 0.999751984375 0.54332010625 0.9957837296875001 0.50562169375 0.9915674609374999 0.48247354531250003 0.9821428578125 0.4583333328125 0.9548611109375 0.42592592656250006 0.9419642859374999 0.4143518515625 0.912450396875 0.4007936515625 0.8993055562500001 0.3998015875 0.8635912703124999 0.403108465625 0.6339285718750001 0.4500661375 0.625744046875 0.4543650796875 0.6170634921875 0.46428571406249997 0.6113591265625 0.47982804218749997 0.6081349203124999 0.49338624375 0.6078869046875 0.5089285718750001 0.6106150796875001 0.558862434375 0.6163194437499999 0.61937830625 0.619295634375 0.6362433859375\n",
      "Predictions for 20230721_110204493_iOS_jpg.rf.5e387d3489433bde23317b44c98d7516.txt:\n",
      "2 0.341021825 0.5820105812499999 0.3501984125 0.5985449734375 0.3616071421875 0.6140873015625 0.3856646828125 0.6385582015625 0.4114583328125 0.6610449734375 0.422123015625 0.6679894187500001 0.4283234125 0.6736111109375 0.44717261875 0.6851851859375 0.46676587343750003 0.69378306875 0.4890873015625 0.6990740734374999 0.5431547625 0.703703703125 0.5863095234375 0.7228835984375 0.606398809375 0.728505290625 0.621527778125 0.7271825390625 0.6341765875 0.7202380953125 0.6460813484375 0.709325396875 0.6651785718750001 0.6832010578125 0.66865079375 0.66865079375 0.671626984375 0.6613756609375 0.6755952375 0.65575396875 0.678075396875 0.646164021875 0.6810515875 0.6200396828125 0.681299603125 0.5945767203125001 0.684027778125 0.578703703125 0.6976686515625 0.578373015625 0.7068452375 0.5727513234375 0.7073412703125 0.5677910046875 0.705853175 0.5605158734375 0.705853175 0.553240740625 0.709325396875 0.537367725 0.7105654765625 0.5221560843749999 0.7073412703125 0.4923941796875 0.702876984375 0.47089947031249996 0.703125 0.45370370312499997 0.7011408734375 0.4388227515625 0.6964285718750001 0.4292328046875 0.6875 0.40046296249999996 0.6793154765625 0.3859126984375 0.6666666671875 0.372023809375 0.6540178578125 0.365740740625 0.6458333328125 0.3634259265625 0.59325396875 0.36607142812500004 0.583829365625 0.365410053125 0.5575396828125 0.3571428578125 0.5327380953125 0.346230159375 0.5047123015625 0.340939153125 0.47842261875 0.3422619046875 0.4543650796875 0.346891534375 0.4325396828125 0.35350529062499997 0.40029761875 0.366402115625 0.3789682546875 0.378637565625 0.36830357187499996 0.3888888890625 0.36383928593750003 0.39451058125 0.35342261875 0.41468253906249997 0.3487103171875 0.42890211562499997 0.340773809375 0.459986771875 0.3355654765625 0.5082671953125 0.3345734125 0.5291005296875 0.33506944375000003 0.552579365625 0.33779761875 0.5714285718750001 0.341021825 0.5820105812499999\n",
      "Predictions for idHIAlYZCP_jpeg.rf.8d74314772e6f7f946dcac43a0466029.txt:\n",
      "3 0.25325000000000003 0.8293333328125 0.2575 0.8366666671875 0.266 0.8456666671875 0.27775 0.8513333328125 0.30125 0.8533333328125 0.40449999999999997 0.852 0.49375 0.8373333328125 0.597 0.8119999999999999 0.6325000000000001 0.8 0.6465 0.7893333328125001 0.65925 0.771 0.663 0.759 0.66525 0.7466666671875 0.6677500000000001 0.7216666671875 0.6677500000000001 0.7046666671875 0.6625 0.5716666671875 0.65925 0.5683333328125 0.58425 0.5309999999999999 0.3445 0.509 0.32875 0.5093333328125 0.31575000000000003 0.5116666671875 0.30225 0.518 0.29075 0.5326666671875 0.27675 0.5666666671875 0.25275 0.6353333328125 0.2415 0.746 0.24225 0.7583333328124999 0.2505 0.8186666671875 0.25325000000000003 0.8293333328125\n",
      "Predictions for 20230721_110101367_iOS_jpg.rf.e48dd0bcc8d5369eeb27a327a9ba566f.txt:\n",
      "2 0.35590277812500004 0 0.344494046875 0.0261243390625 0.3385416671875 0.0360449734375 0.3258928578125 0.06283068750000001 0.3144841265625 0.0896164015625 0.30034722187499996 0.1296296296875 0.28720238125 0.177579365625 0.2800099203125 0.22685185156249998 0.275049603125 0.3227513234375 0.271825396875 0.3551587296875 0.26909722187499996 0.36937830625 0.2636408734375 0.384259259375 0.25892857187499996 0.40608465625 0.249751984375 0.43353174531249994 0.2383432546875 0.4791666671875 0.2358630953125 0.4996693125 0.2358630953125 0.515211640625 0.23759920625 0.5294312171875 0.24751984062500001 0.5644841265625 0.327380953125 0.7490079359374999 0.33258928593750003 0.75562169375 0.340773809375 0.771494709375 0.353174603125 0.7870370375 0.3710317453125 0.80026455 0.39161706406249996 0.8105158734375 0.43303571406249997 0.8230820109374999 0.46825396875 0.8296957671875 0.49404761875 0.8300264546875 0.5069444437499999 0.8270502640625 0.519097221875 0.822420634375 0.534226190625 0.8128306875 0.549603175 0.799603175 0.5848214281249999 0.7632275125 0.6024305562500001 0.7433862437500001 0.609375 0.7374338625 0.615079365625 0.7298280421875 0.622271825 0.7232142859375 0.6304563484375 0.7109788359375 0.6423611109375 0.7010582015625 0.6510416671875 0.6960978843750001 0.6733630953125 0.67526455 0.6857638890625 0.658730159375 0.6929563484375 0.6455026453125 0.6979166671875 0.6316137562499999 0.700644840625 0.6197089953125 0.7043650796875001 0.5949074078125001 0.7080853171875 0.5023148140625 0.7120535718750001 0.46957672031250003 0.71825396875 0.44179894218750004 0.728670634375 0.40277777812500004 0.736855159375 0.3766534390625 0.7452876984375 0.3416005296875 0.7512400796875001 0.3015873015625 0.7552083328125 0.262896825 0.755704365625 0.240740740625 0.7544642859375 0.215277778125 0.752976190625 0.1924603171875 0.7487599203124999 0.1544312171875 0.7328869046875 0.0509259265625 0.7301587296875 0.037037037499999995 0.7204861109375 0 0.35590277812500004 0\n",
      "Predictions for ns89KEy68C_jpeg.rf.99d39aaa0fb5769654d931c923ed8421.txt:\n",
      "4 0.45025000000000004 0.687 0.45599999999999996 0.7013333328125 0.9125 0.5633333328125001 0.92425 0.5586666671875 0.9685 0.532 0.9727499999999999 0.5223333328125 0.9717499999999999 0.5183333328125 0.9662499999999999 0.5156666671875 0.44349999999999995 0.3096666671875 0.43375 0.3093333328125 0.43150000000000005 0.312 0.43099999999999994 0.3186666671875 0.43925000000000003 0.5076666671875001 0.44675000000000004 0.6596666671875 0.45025000000000004 0.687\n",
      "Predictions for 20230721_102717451_iOS_jpg.rf.ac47073600f22f45a444fbb7b816867e.txt:\n",
      "0 0.3859126984375 0.7612433859375 0.4141865078125 0.7986111109375 0.4632936515625 0.859457671875 0.46800595312500004 0.8617724875 0.54092261875 0.8799603171875001 0.546626984375 0.8802910046875001 0.7393353171875 0.8551587296875001 0.75049603125 0.8521825390625001 0.76512896875 0.84358465625 0.7859623015625 0.827380953125 0.80009920625 0.8125 0.8169642859374999 0.7867063484375 0.82862103125 0.7579365078125 0.838045634375 0.721891534375 0.840277778125 0.7046957671875 0.85615079375 0.3647486765625 0.8501984125 0.3052248671875 0.846478175 0.291335978125 0.8134920640625 0.2476851859375 0.8015873015625001 0.23511904687500002 0.7867063484375 0.22387566093750003 0.7611607140625 0.20899470937500003 0.7460317453124999 0.2046957671875 0.7209821421875 0.203042328125 0.644097221875 0.2119709 0.5518353171875 0.2255291 0.48363095312500004 0.23710317500000003 0.44866071406249997 0.2476851859375 0.4427083328125 0.250661375 0.42906746093750003 0.26124338593749996 0.41319444375 0.27678571406249997 0.40029761875 0.29100529062499997 0.38740079375 0.3121693125 0.3737599203125 0.3501984125 0.3697916671875 0.3799603171875 0.36805555624999997 0.4130291 0.362351190625 0.5955687828125 0.36904761875 0.6865079359374999 0.37400793593750004 0.73082010625 0.3859126984375 0.7612433859375\n",
      "Predictions for IMG_4935_jpeg.rf.3e358e3d1fe931dcb6a1dac530d8065a.txt:\n",
      "4 0.012648809375 0 0.0091765875 0.0241402109375 0 0.11970899531250001 0 0.9996693125 0.13467261875 0.9996693125 0.9208829359375 0.587632275 0.999751984375 0.50562169375 0.999751984375 0.174603175 0.872271825 0.134920634375 0.372519840625 0 0.012648809375 0\n",
      "Predictions for 20230721_102832910_iOS_jpg.rf.7ec21e591a95b2817bf03ccc2db34cb5.txt:\n",
      "1 0.365575396875 0.7513227515625001 0.3789682546875 0.7605820109375 0.390625 0.7645502640624999 0.40228174531249994 0.766203703125 0.430803571875 0.765873015625 0.45709325468750006 0.7632275125 0.5146329359374999 0.7523148140625 0.7274305562500001 0.69973545 0.8080357140625001 0.67526455 0.8479662703124999 0.659060846875 0.8697916671874999 0.6451719578125 0.884424603125 0.6332671953125 0.9010416671874999 0.61276455 0.9107142859374999 0.5949074078125001 0.916170634375 0.58101851875 0.925347221875 0.5459656078124999 0.9305555562500001 0.5168650796875001 0.9335317453125 0.4828042328125 0.9332837296875001 0.4543650796875 0.9288194437499999 0.4050925921875 0.9166666671874999 0.340608465625 0.900049603125 0.29497354531250003 0.887896825 0.272156084375 0.8638392859374999 0.2374338625 0.8509424609374999 0.22619047656250002 0.8293650796875 0.21362433906249997 0.812251984375 0.209656084375 0.7852182546875001 0.20800264531249998 0.736855159375 0.21130952343749998 0.544146825 0.24834656093750002 0.36607142812500004 0.30125661406250004 0.341021825 0.3141534390625 0.328125 0.325396825 0.3147321421875 0.340939153125 0.1862599203125 0.5585317453124999 0.18427579375 0.56812169375 0.184523809375 0.584325396875 0.18774801562500001 0.6008597890625 0.190476190625 0.608796296875 0.365575396875 0.7513227515625001\n",
      "Predictions for 20230723_174048710_iOS_jpg.rf.c83a5b36140b57d4627e5c4327b7c4f0.txt:\n",
      "0 0.14409722187500001 0.5975529093749999 0.15699404687500002 0.6114417984375 0.3125 0.759259259375 0.3162202375 0.7612433859375 0.6837797625 0.7827380953125 0.715773809375 0.778439153125 0.735119046875 0.7724867718749999 0.828373015625 0.7271825390625 0.8541666671874999 0.712632275 0.8673115078125001 0.703042328125 0.8792162703124999 0.691137565625 0.890625 0.6759259265625001 0.9012896828124999 0.653439153125 0.9079861109375 0.6322751328125 0.9131944437499999 0.6048280421875 0.9146825390625001 0.571759259375 0.9114583328125001 0.3799603171875 0.905505953125 0.2635582015625 0.8953373015625001 0.16335978906249998 0.89112103125 0.1385582015625 0.88740079375 0.1289682546875 0.875248015625 0.1084656078125 0.8576388890625 0.0873015875 0.8358134921874999 0.0727513234375 0.8087797625 0.06349206406249999 0.790674603125 0.060185185937499996 0.50049603125 0.0479497359375 0.33779761875 0.046626984375 0.315476190625 0.0489417984375 0.290674603125 0.0605158734375 0.262896825 0.08333333281250001 0.25049603125000003 0.09953703750000001 0.24107142812500001 0.11739417968750002 0.22767857187499999 0.15410052968750002 0.20039682499999997 0.23644179843750002 0.137896825 0.4391534390625 0.12524801562500001 0.484126984375 0.1230158734375 0.5072751328125 0.12276785781249999 0.5383597890625 0.12475198437499999 0.559523809375 0.13616071406250002 0.5863095234375 0.14409722187500001 0.5975529093749999\n",
      "Predictions for IMG_20230721_153751_jpg.rf.df2594873033352682e15ef6c2c1cfe9.txt:\n",
      "4 0.5030381937499999 0.6883680562500001 0.5208333328125 0.691840278125 0.5271267359375 0.688946759375 0.5553385421875 0.65914351875 0.5763888890625 0.4765625 0.562065971875 0.36805555624999997 0.5592447921875 0.3614004625 0.5538194437499999 0.35445601875 0.5466579859375 0.3489583328125 0.54296875 0.3478009265625 0.5329861109375 0.3478009265625 0.5286458328125 0.3495370375 0.518012153125 0.359953703125 0.5030381937499999 0.3848379625 0.470703125 0.44473379687500003 0.42230902812500004 0.5821759265625001 0.41059027812500004 0.632233796875 0.416015625 0.64554398125 0.44032118125 0.6614583328125 0.5030381937499999 0.6883680562500001\n",
      "Predictions for IMG_2207_jpg.rf.577e147dfdfce0bf92e6efde552a2d5a.txt:\n",
      "3 0.2869094484375 0.9189693796875 0.3184055125 0.9525765500000001 0.34645669218749997 0.9686333078124999 0.37795275625 0.9798356984375 0.41978346406249994 0.9891710234375 0.47785433125 0.99514563125 0.49606299218750005 0.9940253921875 0.5536417328125001 0.9798356984375 0.5871062984375001 0.96751306875 0.6053149609374999 0.9574309187500001 0.6382874015625 0.9305451828125 0.660925196875 0.903659446875 0.673228346875 0.884241971875 0.68405511875 0.860716953125 0.6914370078125 0.8342046296875001 0.6958661421875 0.501867065625 0.6894685046875 0.3924570578125 0.6835629921875 0.38200149375 0.6530511812500001 0.3581030625 0.6476377953125 0.35586258437499996 0.5905511812500001 0.3480209109375 0.45521653593750006 0.339805825 0.332677165625 0.347274084375 0.30019684999999996 0.35175504062499996 0.2632874015625 0.3782673640625 0.26230315000000004 0.3812546671875 0.24803149531250002 0.65608663125 0.2440944875 0.8185212843749999 0.248523621875 0.847274084375 0.264271653125 0.8887229281250001 0.2869094484375 0.9189693796875\n",
      "Predictions for 20230721_111001630_iOS_jpg.rf.bef4c521e63c4fe6ce4af569bd883183.txt:\n",
      "0 0.415178571875 0.5975529093749999 0.42559523749999995 0.61871693125 0.44097222187499996 0.6365740734374999 0.4456845234375 0.6382275125 0.5265376984375 0.646164021875 0.53174603125 0.646164021875 0.543898809375 0.6421957671875 0.5515873015625 0.637896825 0.5766369046875 0.6114417984375 0.5868055562500001 0.596560846875 0.593501984375 0.5823412703125 0.59697420625 0.5691137562499999 0.59697420625 0.5515873015625 0.593005953125 0.440476190625 0.5873015875 0.3541666671875 0.5850694437499999 0.340939153125 0.5677083328125 0.3177910046875 0.5580357140625 0.3141534390625 0.5367063484375 0.3174603171875 0.49404761875 0.3303571421875 0.43973214218749995 0.35482804218749997 0.42782738125 0.366402115625 0.4164186515625 0.391203703125 0.41071428593750003 0.41931216875 0.408730159375 0.4540343921875 0.409226190625 0.54332010625 0.41046627031250005 0.5697751328125 0.4126984125 0.5869709000000001 0.415178571875 0.5975529093749999\n",
      "Predictions for 20230721_113305635_iOS_jpg.rf.45927f41e7b8fe38ff8aa3d12fa6cc03.txt:\n",
      "2 0.15972222187500001 0.8197751328124999 0.18576388906250002 0.865079365625 0.21130952343749998 0.903439153125 0.25049603125000003 0.9513888890625 0.27678571406249997 0.9771825390625001 0.309771825 0.9996693125 0.63740079375 0.9996693125 0.7103174609375 0.783730159375 0.7207341265625 0.7364417984375 0.724950396875 0.7113095234375 0.7261904765625 0.6772486765625 0.72470238125 0.658730159375 0.718005953125 0.6352513234375 0.7120535718750001 0.6200396828125 0.6959325390625 0.59325396875 0.6852678578125 0.58134920625 0.6785714281249999 0.5763888890625 0.497023809375 0.46296296249999996 0.4737103171875 0.44973545000000004 0.44171627031250005 0.4375 0.406001984375 0.43022486718749997 0.3425099203125 0.42129629687500003 0.327380953125 0.42129629687500003 0.278273809375 0.43022486718749997 0.2477678578125 0.44080687812499997 0.22619047656250002 0.4546957671875 0.21354166718749998 0.4669312171875 0.19965277812499999 0.484457671875 0.18725198437499999 0.50562169375 0.17361111093749998 0.533730159375 0.14756944375 0.6015211640625 0.134920634375 0.64417989375 0.12847222187500001 0.68154761875 0.12673611093749998 0.6984126984375 0.1262400796875 0.7103174609375 0.12946428593749998 0.7324735453125 0.1369047625 0.766203703125 0.15972222187500001 0.8197751328124999\n",
      "Predictions for 20230721_112559965_iOS_jpg.rf.8367899f028209423fc708bd858088da.txt:\n",
      "2 0.22544642812500001 0.7609126984375 0.25 0.7896825390625 0.2894345234375 0.8260582015625 0.3033234125 0.8366402109375001 0.3139880953125 0.8422619046875001 0.3241567453125 0.8495370375 0.35267857187499996 0.8630952375 0.36805555624999997 0.8667328046874999 0.3826884921875 0.8670634921874999 0.39756944375000003 0.8634259265625 0.419146825 0.8521825390625001 0.44940476250000005 0.8267195765625001 0.50967261875 0.7642195765625 0.521825396875 0.750661375 0.55282738125 0.7099867718749999 0.56299603125 0.69345238125 0.5711805562500001 0.6755952375 0.575644840625 0.66832010625 0.5803571421875 0.6521164015625 0.5833333328125 0.63723545 0.5882936515625 0.6226851859375 0.59375 0.5925925921874999 0.6009424609375 0.577380953125 0.6071428578125 0.5548941796875 0.6138392859375 0.541005290625 0.619295634375 0.5261243390625 0.6272321421875 0.5145502640624999 0.6316964281249999 0.50562169375 0.6383928578125 0.49669312187500003 0.6512896828125 0.47222222187499996 0.6574900796875001 0.45535714218749995 0.658730159375 0.44146825468750006 0.658730159375 0.40674603125 0.6572420640625001 0.3928571421875 0.6540178578125 0.38128306875 0.6525297625 0.3697089953125 0.6522817453124999 0.34358465625 0.6507936515625 0.33201058125 0.6460813484375 0.3125 0.637152778125 0.2642195765625 0.625 0.2328042328125 0.6130952375 0.208664021875 0.6021825390625 0.19510582031249998 0.5897817453124999 0.1855158734375 0.5637400796875001 0.16898148125 0.5456349203124999 0.160052909375 0.5210813484375 0.1507936515625 0.502976190625 0.14914021093750002 0.491071428125 0.15178571406250002 0.46527777812500004 0.16236772500000002 0.41592261875 0.1861772484375 0.40401785781250005 0.19345238125 0.375744046875 0.2000661375 0.3633432546875 0.20667989375 0.3501984125 0.2166005296875 0.34052579375 0.22850529062499997 0.3345734125 0.24041005312500002 0.328373015625 0.25562169375 0.3077876984375 0.31845238125 0.297619046875 0.3416005296875 0.2514880953125 0.4209656078125 0.234126984375 0.46296296249999996 0.22197420625 0.50562169375 0.21130952343749998 0.5615079359374999 0.20510912656250002 0.609457671875 0.20238095312499998 0.65674603125 0.2021329359375 0.684523809375 0.20808531718749998 0.721891534375 0.212549603125 0.7361111109375 0.22544642812500001 0.7609126984375\n",
      "Predictions for IMG_20230419_161729_1_jpg.rf.4c1669c17d9d823ac4ebd7119a1f9ff0.txt:\n",
      "1 0.1529947921875 0.8575980390625 0.1800130203125 0.8740196078125001 0.2998046875 0.9245098046875 0.3030598953125 0.9240196078125 0.3935546875 0.8860294124999999 0.3981119796875 0.8816176468749999 0.4029947921875 0.8732843140625001 0.4085286453125 0.7338235296875 0.404296875 0.5938725484375 0.4020182296875 0.5681372546875 0.3974609375 0.5482843140625 0.3929036453125 0.539460784375 0.3805338546875 0.5259803921875 0.3668619796875 0.5174019609375 0.267578125 0.5056372546875 0.2516276046875 0.5102941171875 0.1627604171875 0.56323529375 0.15234375 0.573774509375 0.1468098953125 0.5833333328125 0.142578125 0.59607843125 0.134765625 0.6639705874999999 0.1344401046875 0.8147058828124999 0.13671875 0.834803921875 0.1399739578125 0.8431372546875 0.1529947921875 0.8575980390625\n",
      "Predictions for 20230721_102845887_iOS_jpg.rf.347d1930866941ecad59a89045aa1144.txt:\n",
      "1 0.22941468281250002 0.6451719578125 0.237847221875 0.659722221875 0.2512400796875 0.672619046875 0.27157738125 0.6855158734375 0.4429563484375 0.759589946875 0.5825892859375 0.8111772484375 0.621527778125 0.822420634375 0.644097221875 0.8257275125 0.6579861109375 0.825396825 0.668402778125 0.8227513234374999 0.684771825 0.815145503125 0.6966765875 0.80687830625 0.708829365625 0.7956349203124999 0.724950396875 0.7761243390625 0.7435515875 0.7460317453124999 0.7512400796875001 0.73115079375 0.765376984375 0.7000661375 0.7795138890625 0.6580687828125 0.7829861109375 0.6329365078125 0.7852182546875001 0.596230159375 0.783730159375 0.54332010625 0.7790178578125 0.51851851875 0.7606646828125 0.48048941875000006 0.641369046875 0.29100529062499997 0.5920138890625 0.25429894218750004 0.5709325390625 0.240740740625 0.5262896828125 0.2172619046875 0.49603174531249994 0.203373015625 0.46453372968749995 0.190806878125 0.419394840625 0.1772486765625 0.390376984375 0.1765873015625 0.37847222187499996 0.1792328046875 0.3658234125 0.18816137500000002 0.1262400796875 0.391203703125 0.12450396875 0.39517195781250003 0.12202380937499999 0.40410052968750004 0.12202380937499999 0.41005290937499994 0.125 0.4236111109375 0.22941468281250002 0.6451719578125\n",
      "Predictions for M7hV0PKCef_jpeg.rf.d18152682c23a5df1ce3c458f694b293.txt:\n",
      "4 0.31425000000000003 0.9383333328125 0.3235 0.95 0.33075 0.9536666671875 0.3445 0.9560000000000001 0.393 0.9536666671875 0.41425 0.9496666671874999 0.9515 0.5583333328125 0.95375 0.509 0.95525 0.1203333328125 0.951 0.064 0.9422499999999999 0.0406666671875 0.9380000000000001 0.0353333328125 0.92225 0.028000000000000004 0.9067500000000001 0.0263333328125 0.3685 0.0363333328125 0.316 0.0426666671875 0.30274999999999996 0.0523333328125 0.29775 0.063 0.296 0.0753333328125 0.2955 0.1896666671875 0.303 0.7073333328125 0.311 0.9236666671875 0.31425000000000003 0.9383333328125\n",
      "Predictions for IMG_2424_jpg.rf.245899e73ccf00d409fce95096acc610.txt:\n",
      "3 0.44940476250000005 0.9565681734375 0.4742063484375 0.9786400859375 0.49933862500000004 0.9925240296875 0.5171957671875 0.9996440015625 0.5694444437499999 0.9996440015625 0.5853174609375 0.9914560343750001 0.60681216875 0.9761480953125 0.621693121875 0.9558561765625001 0.6365740734374999 0.9248843000000001 0.697089946875 0.7479530078125001 0.703373015625 0.719473121875 0.7119709000000001 0.6582413671875 0.7113095234375 0.633677465625 0.7040343921875001 0.618013528125 0.69378306875 0.6073335703125 0.6299603171875 0.5578497687499999 0.621362434375 0.5542897828125 0.5486111109375 0.5503737984375 0.54332010625 0.55144179375 0.5320767203125001 0.5574937703125 0.4325396828125 0.8301886796875 0.4269179890625 0.849056603125 0.4242724875 0.8689925234375 0.424603175 0.8988964046874999 0.4298941796875 0.9238163046875 0.4375 0.9387682453125 0.44940476250000005 0.9565681734375\n",
      "Predictions for QIJ7E3lU1y_jpeg.rf.ea9faf2d9e4c4ee88960d97346eae731.txt:\n",
      "4 0.2919146828125 0 0.297123015625 0.9996693125 0.8866567453125 0.9996693125 0.9898313484375001 0.9573412703124999 0.9945436515624999 0.9540343921875 0.999751984375 0.9464285718750001 0.999751984375 0 0.2919146828125 0\n",
      "Predictions for GRSjnlFNAA_jpeg.rf.b1927861929a6c401e7904364b0c3910.txt:\n",
      "3 0.5555 0.8896666671875 0.5665 0.9043333328125 0.576 0.913 0.58425 0.9176666671874999 0.59575 0.9213333328125 0.6052500000000001 0.9206666671875 0.622 0.9133333328125 0.6345 0.9043333328125 0.85175 0.738 0.86525 0.726 0.8772500000000001 0.7103333328125 0.88925 0.6863333328125 0.8949999999999999 0.667 0.89625 0.6443333328125 0.89225 0.6203333328125 0.8787499999999999 0.5826666671875 0.85075 0.5303333328125001 0.837 0.5103333328125 0.81775 0.4916666671875 0.798 0.47933333281249996 0.78225 0.475 0.7535000000000001 0.47533333281249995 0.73925 0.4796666671875 0.7215 0.4916666671875 0.6705 0.5306666671875 0.56125 0.6183333328125 0.50675 0.6719999999999999 0.491 0.6936666671875 0.48875 0.706 0.48875 0.7223333328125 0.49175 0.746 0.516 0.8223333328125 0.5555 0.8896666671875\n",
      "Predictions for 20230723_175528355_iOS_jpg.rf.3feb66b2c287f65d45a874bd2885b12d.txt:\n",
      "3 0.5709325390625 0.4580026453125 0.581101190625 0.47585978906250004 0.5882936515625 0.4834656078125 0.6336805562500001 0.5145502640624999 0.6706349203124999 0.5165343921875001 0.6897321421875 0.515211640625 0.731894840625 0.49603174531249994 0.74950396875 0.48511904687499996 0.768601190625 0.45866402187500005 0.7748015875 0.44444444375 0.780505953125 0.41732804218749997 0.783978175 0.3799603171875 0.7852182546875001 0.3227513234375 0.7834821421875 0.09986772499999999 0.780505953125 0.0770502640625 0.7745535718750001 0.06349206406249999 0.734623015625 0.01223545 0.722222221875 0.000661375 0.6822916671875 0 0.6205357140625 0.0165343921875 0.565972221875 0.035383598437500004 0.5513392859375 0.0482804234375 0.543402778125 0.060185185937499996 0.5399305562500001 0.071097884375 0.5379464281249999 0.0856481484375 0.5381944437499999 0.1240079359375 0.5543154765625 0.3700396828125 0.5672123015625 0.446428571875 0.5709325390625 0.4580026453125\n",
      "Predictions for 20230721_102615847_iOS_jpg.rf.13c6dad35e6505d56f653bd65a5d38a4.txt:\n",
      "0 0.46651785781250005 0.658730159375 0.50049603125 0.712828703125 0.643353175 0.7392671953125001 0.684027778125 0.7419110453125 0.696924603125 0.7471987437500001 0.74950396875 0.7524864421874999 0.759424603125 0.748520503125 0.7673611109375 0.7551299609375001 0.7802579359374999 0.7471987437500001 0.78720238125 0.748520503125 0.840773809375 0.6964285718750001 0.8506944437499999 0.659391534375 0.887648809375 0.3449074078125 0.887648809375 0.328042328125 0.8864087296875001 0.3177910046875 0.875 0.2886904765625 0.8616071421875 0.2642195765625 0.849454365625 0.2513227515625 0.8353174609374999 0.240740740625 0.786954365625 0.2123015875 0.759424603125 0.203373015625 0.734375 0.20238095312499998 0.6832837296875 0.2076719578125 0.5453869046875 0.22685185156249998 0.518105159375 0.24041005312500002 0.50595238125 0.250661375 0.4935515875 0.26455026406250004 0.4764384921875 0.2893518515625 0.46825396875 0.3045634921875 0.459821428125 0.33101851875 0.455853175 0.35615079375 0.45386904687499996 0.3885582015625 0.45262896875 0.5608465609375 0.453373015625 0.596891534375 0.4578373015625 0.6319444437499999 0.46651785781250005 0.658730159375\n",
      "Predictions for 20230721_112604857_iOS_jpg.rf.8f4eb3c1b49feeac487289829c25c4b1.txt:\n",
      "2 0.415674603125 0.44940476250000005 0.4273313484375 0.471230159375 0.440476190625 0.4917328046875 0.4672619046875 0.528108465625 0.47991071406249997 0.5426587296875 0.4982638890625 0.559193121875 0.5193452375 0.5727513234375 0.5424107140625 0.58101851875 0.5634920640625001 0.591269840625 0.5699404765625 0.5949074078125001 0.59052579375 0.6137566140625 0.60342261875 0.6230158734375 0.6173115078125 0.6302910046875 0.630704365625 0.6352513234375 0.6354166671875 0.6355820109375 0.646329365625 0.6335978843750001 0.6837797625 0.61871693125 0.71279761875 0.6104497359375001 0.740079365625 0.596230159375 0.7514880953125 0.5863095234375 0.7646329359374999 0.5674603171875 0.7735615078125 0.5459656078124999 0.7834821421875 0.509589946875 0.78447420625 0.49007936562500004 0.78075396875 0.4546957671875 0.749751984375 0.3670634921875 0.74404761875 0.346230159375 0.7415674609375 0.339947090625 0.737351190625 0.3333333328125 0.7279265875 0.32374338593749996 0.7137896828125 0.31580687812499997 0.6822916671875 0.3052248671875 0.66220238125 0.29497354531250003 0.6168154765625 0.259589946875 0.6009424609375 0.250661375 0.5882936515625 0.2460317453125 0.5580357140625 0.24007936562499999 0.5049603171875 0.24107142812500001 0.47718253906249997 0.246362434375 0.466269840625 0.25099206406249996 0.455853175 0.258597884375 0.450644840625 0.2635582015625 0.44146825468750006 0.2771164015625 0.4293154765625 0.30357142812500004 0.41493055625 0.34391534375 0.4047619046875 0.390542328125 0.4047619046875 0.40674603125 0.406001984375 0.41732804218749997 0.40947420625 0.43187830624999995 0.415674603125 0.44940476250000005\n",
      "Predictions for 20230723_174835597_iOS_jpg.rf.69581b978b875fd6395ecd82e5eaea8a.txt:\n",
      "0 0.3303571421875 0 0.3137400796875 0.0125661375 0.240575396875 0.0770502640625 0.08978174531250001 0.215277778125 0.0625 0.2420634921875 0.0364583328125 0.27149470937500003 0.024553571875 0.29001322812499997 0.0109126984375 0.31679894218750004 0 0.3485449734375 0 0.546296296875 0.0022321421875000002 0.5691137562499999 0.00868055625 0.61904761875 0.012152778125 0.6365740734374999 0.0982142859375 0.9996693125 0.9047619046875001 0.9996693125 0.924851190625 0.9947089953124999 0.987351190625 0.952380953125 0.9928075390625001 0.940145503125 0.9950396828124999 0.8005952375 0.9930555562500001 0.784722221875 0.98759920625 0.7569444437499999 0.8928571421875 0.3677248671875 0.5768849203124999 0 0.3303571421875 0\n",
      "Predictions for 20230721_094214395_iOS_jpg.rf.1ccf2de283dd9bcc020b765f3c1e677f.txt:\n",
      "3 0.56845238125 0.51223545 0.59325396875 0.5353835984375 0.60887896875 0.5453042328125 0.6386408734375 0.558862434375 0.672123015625 0.572089946875 0.7455357140625 0.596230159375 0.856646825 0.622354496875 0.92137896875 0.634589946875 0.9387400796875 0.6339285718750001 0.965277778125 0.6226851859375 0.9821428578125 0.6081349203124999 0.9915674609374999 0.596230159375 0.999751984375 0.5823412703125 0.999751984375 0.3379629625 0.9945436515624999 0.333664021875 0.98387896875 0.3267195765625 0.949652778125 0.3128306875 0.9117063484375001 0.299603175 0.8360615078125001 0.2764550265625 0.783730159375 0.2635582015625 0.7075892859375 0.2490079359375 0.6547619046875 0.24437830625 0.6339285718750001 0.246362434375 0.615575396875 0.250661375 0.6056547625 0.253637565625 0.59375 0.262896825 0.5835813484375 0.2797619046875 0.544394840625 0.3677248671875 0.544394840625 0.3703703703125 0.5548115078125 0.4917328046875 0.56845238125 0.51223545\n",
      "Predictions for BXKJ38bUjC_jpeg.rf.ef2106a84c5390b6be494232dc8b8575.txt:\n",
      "4 0.46624999999999994 0.7653333328125 0.471 0.7673333328124999 0.50675 0.7663333328124999 0.51875 0.763 0.5215 0.7603333328125 0.52825 0.748 0.61475 0.5533333328125 0.61675 0.5456666671875 0.6172500000000001 0.521 0.615 0.5156666671875 0.608 0.5083333328124999 0.58175 0.5076666671875001 0.3695 0.5203333328124999 0.35550000000000004 0.5266666671875 0.35325 0.529 0.35175 0.534 0.3505 0.5593333328125001 0.35325 0.5803333328125 0.46125 0.7593333328125 0.46624999999999994 0.7653333328125\n",
      "Predictions for 20230721_101007072_iOS_jpg.rf.06fa9a48e7b4f75e15458f16991e6d62.txt:\n",
      "1 0.5042162703125 0 0.4918154765625 0.0132275125 0.430803571875 0.08697089999999999 0.3799603171875 0.1504629625 0.35342261875 0.190145503125 0.31597222187499996 0.26223545000000004 0.30381944375000003 0.290674603125 0.290674603125 0.325396825 0.27802579375 0.3644179890625 0.265376984375 0.4206349203125 0.2306547625 0.634920634375 0.23115079375 0.6455026453125 0.240575396875 0.65641534375 0.25099206406249996 0.65575396875 0.40550595312500004 0.6299603171875 0.459325396875 0.6137566140625 0.49032738125 0.6015211640625 0.5141369046875 0.5866402109375 0.5488591265625 0.5615079359374999 0.610119046875 0.5076058203125 0.685019840625 0.4242724875 0.7388392859375 0.35648148125 0.787450396875 0.2820767203125 0.7931547625 0.2678571421875 0.7956349203124999 0.2549603171875 0.7956349203124999 0.240740740625 0.793898809375 0.23082010625 0.78720238125 0.21296296250000002 0.7601686515625 0.1511243390625 0.735119046875 0.10284391562499999 0.696924603125 0.0393518515625 0.669146825 0 0.5042162703125 0\n",
      "Predictions for 20230723_174722879_iOS_jpg.rf.68aeb0b7045eba64ff78e254a4f4608c.txt:\n",
      "0 0.09474206406249999 0.8888888890625 0.1078869046875 0.9050925921875 0.12375992031250001 0.91832010625 0.263144840625 0.9996693125 0.46155753906249997 0.9996693125 0.5324900796875001 0.9897486765625001 0.7209821421875 0.9328703703125001 0.731894840625 0.921957671875 0.7539682546875001 0.8736772484375 0.7616567453124999 0.8455687828125 0.76512896875 0.821759259375 0.766369046875 0.799603175 0.765376984375 0.7179232796874999 0.7552083328125 0.44477513281250003 0.7509920640625001 0.40608465625 0.743799603125 0.378637565625 0.734126984375 0.3551587296875 0.7140376984375 0.3263888890625 0.6976686515625 0.3121693125 0.671875 0.30026454999999996 0.4164186515625 0.25 0.2579365078125 0.2255291 0.23511904687500002 0.2235449734375 0.2147817453125 0.22486772500000002 0.2043650796875 0.227513228125 0.18154761875 0.23776455 0.162450396875 0.252645503125 0.1488095234375 0.26951058125 0.13715277812499999 0.290674603125 0.131696428125 0.3121693125 0.12549603125 0.3452380953125 0.0957341265625 0.54398148125 0.0734126984375 0.721560846875 0.0689484125 0.7804232796874999 0.06994047656249999 0.8128306875 0.0734126984375 0.8379629625 0.08358134843750001 0.8683862437500001 0.09474206406249999 0.8888888890625\n",
      "Predictions for OJc67eOKYA_jpeg.rf.ad7886cc84229300dd36269dbc8bf541.txt:\n",
      "4 0.65475 0.692 0.6975 0.7096666671875 0.7455 0.727 0.75925 0.73 0.7697499999999999 0.73 0.7745 0.7286666671875001 0.77925 0.725 0.7825 0.72 0.7855000000000001 0.7110000000000001 0.8074999999999999 0.6206666671875001 0.8390000000000001 0.45499999999999996 0.8402499999999999 0.4436666671875 0.837 0.4313333328125 0.826 0.42300000000000004 0.806 0.4143333328125 0.72275 0.3846666671875 0.709 0.3823333328125 0.70525 0.385 0.70075 0.3913333328125 0.69425 0.4113333328125 0.64125 0.665 0.6407499999999999 0.6736666671875 0.64225 0.6826666671875 0.6465 0.688 0.65475 0.692\n",
      "Predictions for 20230723_172833366_iOS_jpg.rf.b5ba2dccedd015706a179f256f90fbb7.txt:\n",
      "0 0.0453869046875 0 0.00322420625 0.0297619046875 0.0014880953125 0.0327380953125 0 0.038029099999999996 0 0.6474867718749999 0.009424603125 0.6607142859375 0.0220734125 0.6742724875 0.036954365625 0.6875 0.06299603125 0.7007275125 0.3323412703125 0.799603175 0.3668154765625 0.8045634921874999 0.42609127031250005 0.8072089953124999 0.497023809375 0.8078703703125001 0.5820932546875001 0.7986111109375 0.5920138890625 0.7959656078124999 0.609623015625 0.7860449734375 0.6443452375 0.7566137562499999 0.6584821421875 0.7420634921875 0.672123015625 0.7235449734375 0.68427579375 0.703373015625 0.69717261875 0.6729497359375001 0.709325396875 0.6355820109375 0.721726190625 0.5790343921875001 0.7239583328125 0.5545634921875 0.7328869046875 0.358796296875 0.737847221875 0.1914682546875 0.737103175 0.0611772484375 0.7321428578125 0.012896825 0.7276785718750001 0 0.0453869046875 0\n",
      "Predictions for Ph8MidRBY6_jpeg.rf.59b7132d5829749cf43aa7e722cceeab.txt:\n",
      "0 0.29609375 0.6421875 0.5859375 0.71484375\n",
      "Predictions for 20230721_095934133_iOS_jpg.rf.bad6621f2829dc87a960be2b49747b2b.txt:\n",
      "3 0.42881944375 0.40839947031249996 0.4427083328125 0.41898148125 0.5009920640625001 0.45502645468749997 0.5300099203124999 0.46825396875 0.6773313484375 0.5224867718749999 0.6956845234375 0.5274470906250001 0.7098214281249999 0.527777778125 0.722222221875 0.5248015875 0.734375 0.51884920625 0.746527778125 0.5076058203125 0.7549603171875 0.4953703703125 0.7609126984375 0.48379629687500003 0.7792658734375 0.43088624375 0.797123015625 0.3677248671875 0.8085317453125 0.315145503125 0.812748015625 0.29100529062499997 0.8134920640625 0.2764550265625 0.8125 0.2668650796875 0.809027778125 0.2546296296875 0.8015873015625001 0.240740740625 0.7899305562500001 0.227513228125 0.7720734125 0.21924603125000003 0.5560515875 0.174603175 0.4920634921875 0.1755952375 0.4764384921875 0.1795634921875 0.4670138890625 0.1851851859375 0.46155753906249997 0.1914682546875 0.42881944375 0.24305555625 0.4154265875 0.290674603125 0.4117063484375 0.31845238125 0.4169146828125 0.3789682546875 0.41964285781250005 0.39153439218749997 0.42881944375 0.40839947031249996\n",
      "Predictions for SZR5hbUSu5_jpeg.rf.0352cc851fa4d5ebf13010d428bd10e1.txt:\n",
      "3 0.5545 0.93 0.564 0.95 0.60625 0.9996666671875 0.8647500000000001 0.9996666671875 0.891 0.9566666671874999 0.8952500000000001 0.9443333328125 0.9029999999999999 0.9119999999999999 0.90825 0.852 0.9317500000000001 0.319 0.932 0.2883333328125 0.92975 0.255 0.9257500000000001 0.2346666671875 0.91525 0.199 0.9027499999999999 0.17466666718749999 0.8887499999999999 0.1556666671875 0.865 0.1326666671875 0.8484999999999999 0.1213333328125 0.826 0.11033333281249999 0.8150000000000001 0.10733333281249999 0.77725 0.10133333281250001 0.69875 0.10533333281249999 0.6685 0.1116666671875 0.64525 0.1236666671875 0.6287499999999999 0.136 0.61675 0.148 0.5822499999999999 0.1873333328125 0.5685 0.205 0.55575 0.2253333328125 0.54325 0.25033333281250003 0.5315000000000001 0.28300000000000003 0.5269999999999999 0.30333333281249997 0.51875 0.36866666718749996 0.51625 0.4073333328125 0.515 0.6866666671874999 0.5205 0.7743333328124999 0.5305 0.8456666671875 0.5545 0.93\n",
      "Predictions for KCAmCUQj2P_jpeg.rf.2dc274319cb2291e1def33d783558af8.txt:\n",
      "3 0.23875000000000002 0.7223333328125 0.31225 0.836 0.3185 0.842 0.32825000000000004 0.8456666671875 0.34225 0.845 0.356 0.8403333328124999 0.36924999999999997 0.8306666671875 0.41150000000000003 0.796 0.42525 0.7816666671875 0.43674999999999997 0.7666666671875 0.45599999999999996 0.733 0.458 0.7053333328125 0.457 0.6956666671875 0.45325 0.6856666671875 0.41675000000000006 0.6123333328125 0.3845 0.5523333328125 0.35775 0.5083333328124999 0.34475 0.4903333328125 0.32375 0.465 0.3 0.44166666718750003 0.294 0.4373333328125 0.2785 0.43200000000000005 0.265 0.4326666671875 0.253 0.4363333328125 0.246 0.4413333328125 0.21000000000000002 0.47466666718750006 0.19775 0.4886666671875 0.186 0.507 0.17475000000000002 0.5316666671875 0.1715 0.5523333328125 0.17225 0.5696666671874999 0.177 0.593 0.213 0.6743333328125 0.23875000000000002 0.7223333328125\n",
      "Predictions for Gln74Gncdu_jpeg.rf.e9d1152faf2c3eebf7a30e415c0a5412.txt:\n",
      "3 0.28925 0.8143333328125 0.3135 0.8646666671875 0.33825 0.9083333328125001 0.36225 0.9453333328125 0.39775 0.976 0.40675 0.9776666671875001 0.41600000000000004 0.9753333328125 0.4295 0.9633333328125 0.6002500000000001 0.7866666671875 0.611 0.774 0.6265 0.7493333328125 0.63075 0.7383333328125 0.63425 0.721 0.63475 0.7023333328125 0.63025 0.6586666671875 0.61925 0.622 0.607 0.5953333328125 0.5925 0.5706666671875 0.58075 0.5583333328125 0.5715 0.554 0.53275 0.548 0.5035000000000001 0.5456666671875 0.45525000000000004 0.5583333328125 0.44075 0.5660000000000001 0.37825000000000003 0.6053333328125 0.27775 0.6816666671875 0.2685 0.6956666671875 0.26325 0.712 0.26275 0.7230000000000001 0.26425 0.7336666671875001 0.27599999999999997 0.7776666671875 0.28925 0.8143333328125\n",
      "Predictions for d7915191eabdde3b33d20949e35a7cdd_jpeg.rf.d7c4f5712518dd8806dc7d4f6914d483.txt:\n",
      "3 0 0.6015625 0.0126953125 0.6575520828125 0.0380859375 0.6966145828125 0.173828125 0.74609375 0.2734375 0.74609375 0.623046875 0.7356770828125 0.6572265625 0.7135416671875 0.671875 0.6848958328125 0.6845703125 0.5794270828125 0.68359375 0.4296875 0.671875 0.33203125 0.6572265625 0.2942708328125 0.6396484375 0.27734375 0.607421875 0.2669270828125 0.2705078125 0.26171875 0.09765625 0.2669270828125 0.0595703125 0.2903645828125 0.0380859375 0.3138020828125 0.0341796875 0.3268229171875 0 0.5625 0 0.6015625\n",
      "Predictions for SharpenTest5_jpg.rf.48fcb7b5943fa542814733e4ae4bc264.txt:\n",
      "1 0.32599999999999996 0.9099999999999999 0.4 0.932 0.576 0.932 0.6559999999999999 0.9099999999999999 0.686 0.8859999999999999 0.714 0.826 0.736 0.6679999999999999 0.742 0.256 0.734 0.18 0.714 0.126 0.686 0.1 0.616 0.074 0.532 0.066 0.366 0.074 0.3 0.1 0.272 0.126 0.252 0.16799999999999998 0.244 0.22400000000000003 0.25 0.72 0.262 0.8039999999999999 0.286 0.874 0.32599999999999996 0.9099999999999999\n",
      "Predictions for 20230721_093741273_iOS_jpg.rf.8c285da6be4fb906875eb596bbf3b27a.txt:\n",
      "3 0.6039186515625 0.583664021875 0.6165674609375 0.5988756609375 0.63095238125 0.608796296875 0.6979166671875 0.61904761875 0.7098214281249999 0.6203703703125 0.8107638890625 0.6041666671875 0.924603175 0.5820105812499999 0.953373015625 0.572089946875 0.96924603125 0.559854496875 0.978670634375 0.5456349203124999 0.9888392859374999 0.5195105812499999 0.9915674609374999 0.5076058203125 0.9945436515624999 0.48247354531250003 0.9945436515624999 0.4513888890625 0.9930555562500001 0.4295634921875 0.981646825 0.3544973546875 0.9776785718750001 0.3416005296875 0.9642857140625001 0.30423280468749997 0.9543650796875 0.290674603125 0.938244046875 0.2761243390625 0.9238591265625 0.271825396875 0.902777778125 0.27149470937500003 0.8802083328125001 0.27447089999999996 0.7609126984375 0.30357142812500004 0.7256944437499999 0.3141534390625 0.6324404765625 0.3544973546875 0.6071428578125 0.3673941796875 0.5949900796875001 0.38095238125 0.590773809375 0.389880953125 0.5860615078125 0.4047619046875 0.583829365625 0.424603175 0.5833333328125 0.4580026453125 0.5885416671875 0.51884920625 0.59375 0.5548941796875 0.6039186515625 0.583664021875\n",
      "Predictions for IMG_20230413_184153417213-210-_jpg.rf.fbbcf28126d008a4cd35cb930554ac21.txt:\n",
      "0 0.7994791671875 0.937934028125 0.8203125 0.7567274312500001 0.8211805562500001 0.7076822921875 0.8191550921875 0.6942274312500001 0.8127893515625001 0.6712239578125 0.7994791671875 0.6571180562500001 0.7870370375 0.6477864578125 0.7757523140625 0.6414930562500001 0.7459490734374999 0.630425346875 0.722222221875 0.6247829859375 0.671875 0.6180555562500001 0.5523726859375 0.6085069437499999 0.47887731406249995 0.607421875 0.454571759375 0.6102430562500001 0.41695601875 0.6182725687499999 0.40335648125 0.624565971875 0.391203703125 0.6317274312500001 0.3776041671875 0.642144096875 0.3634259265625 0.659722221875 0.35850694375000003 0.671440971875 0.35243055624999997 0.692925346875 0.33940972187499996 0.771918403125 0.3269675921875 0.8639322921874999 0.31597222187499996 0.9709201390625 0.3179976859375 0.9869791671874999 0.3240740734375 0.9997829859375 0.7873263890625 0.9997829859375 0.7994791671875 0.937934028125\n",
      "Predictions for 20230721_110048790_iOS_jpg.rf.274319a8da37c07182e42dce59b13f2e.txt:\n",
      "2 0.3266369046875 0.6326058203125 0.3360615078125 0.6583994703125 0.3477182546875 0.67526455 0.3606150796875 0.688161375 0.3762400796875 0.6987433859375 0.39930555624999997 0.7083333328125 0.40550595312500004 0.7123015875 0.42113095312500004 0.715939153125 0.450396825 0.7265211640625 0.481398809375 0.73115079375 0.5074404765625 0.73181216875 0.528769840625 0.7298280421875 0.5451388890625 0.7258597890625 0.5625 0.71858465625 0.577380953125 0.7142857140625 0.5860615078125 0.708664021875 0.6195436515625 0.6944444437499999 0.6386408734375 0.6917989421875 0.67237103125 0.691137565625 0.68427579375 0.6894841265625 0.69717261875 0.6858465609375 0.713045634375 0.6769179890625 0.7269345234375 0.6613756609375 0.7363591265625 0.6448412703125 0.7445436515625 0.6269841265625 0.7772817453124999 0.5800264546875 0.7914186515625 0.553240740625 0.8008432546875 0.5320767203125001 0.8072916671874999 0.5072751328125 0.80927579375 0.4950396828125 0.80927579375 0.47718253906249997 0.80654761875 0.4427910046875 0.796875 0.390542328125 0.7929067453124999 0.37830687812499997 0.786954365625 0.365410053125 0.7723214281249999 0.3422619046875 0.7549603171875 0.32705026406250004 0.7229662703125 0.302910053125 0.7085813484375 0.29332010625 0.6889880953125 0.2824074078125 0.668898809375 0.2635582015625 0.6582341265625 0.2576058203125 0.646825396875 0.2539682546875 0.6324404765625 0.253637565625 0.6165674609375 0.258597884375 0.5726686515625 0.28108465625 0.5572916671875 0.2867063484375 0.53075396875 0.29232804218749997 0.487103175 0.29596560781250003 0.46651785781250005 0.30125661406250004 0.44146825468750006 0.31349206406249996 0.419146825 0.328373015625 0.403769840625 0.340608465625 0.3648313484375 0.375661375 0.3387896828125 0.40410052968750004 0.3268849203125 0.41931216875 0.3137400796875 0.44477513281250003 0.30803571406249997 0.4672619046875 0.3050595234375 0.48875661406250004 0.3050595234375 0.5105820109375 0.309771825 0.552910053125 0.3231646828125 0.6197089953125 0.3266369046875 0.6326058203125\n",
      "Predictions for 20230721_110811188_iOS_jpg.rf.ffdc5774b5b4b2431cfbe4fe1db165b8.txt:\n",
      "0 0.2150297625 0.7602513234375 0.22867063437500001 0.778108465625 0.24950396874999997 0.7916666671875 0.450396825 0.889880953125 0.477678571875 0.89351851875 0.50322420625 0.8925264546875 0.51884920625 0.8885582015625 0.5349702375 0.8789682546875 0.556795634375 0.859457671875 0.5669642859375 0.846230159375 0.584325396875 0.8128306875 0.609126984375 0.7417328046875 0.62177579375 0.6871693125 0.659722221875 0.4424603171875 0.6671626984375 0.38128306875 0.6666666671875 0.3677248671875 0.66220238125 0.341269840625 0.6391369046875 0.2546296296875 0.6021825390625 0.190476190625 0.5803571421875 0.178240740625 0.40252976250000005 0.15575396875 0.3177083328125 0.15277777812499999 0.28819444375000003 0.16236772500000002 0.2730654765625 0.17361111093749998 0.2581845234375 0.18816137500000002 0.237847221875 0.2142857140625 0.22470238125000003 0.241402115625 0.21800595312499998 0.26818783125 0.21180555625 0.303902115625 0.18055555625 0.549603175 0.18055555625 0.612103175 0.1825396828125 0.6474867718749999 0.18998015937499999 0.708994709375 0.2150297625 0.7602513234375\n",
      "Predictions for 20230723_173718918_iOS_jpg.rf.0d8e3775b4de7e977d865a4ff104ba35.txt:\n",
      "0 0.20064484062500001 0 0.0540674609375 0.060185185937499996 0.03447420625 0.07506613749999999 0.010416667187500001 0.108796296875 0 0.1269841265625 0 0.8134920640625 0.052827381250000006 0.8270502640625 0.18774801562500001 0.853174603125 0.3576388890625 0.8746693125 0.51884920625 0.890873015625 0.5481150796875001 0.8921957671875 0.58407738125 0.889880953125 0.596726190625 0.8865740734375 0.622023809375 0.875 0.638144840625 0.8637566140624999 0.652777778125 0.8501984125 0.6639384921875 0.8366402109375001 0.672123015625 0.8237433859375001 0.68700396875 0.7979497359375001 0.6979166671875 0.7708333328125 0.7234623015625 0.6855158734375 0.7251984125 0.6732804234375 0.7266865078125 0.6240079359374999 0.7279265875 0.43353174531249994 0.728174603125 0.3303571421875 0.7266865078125 0.2020502640625 0.724454365625 0.17625661406249998 0.6986607140625 0 0.20064484062500001 0\n",
      "Predictions for 20230723_174051589_iOS_jpg.rf.251befdadd2b13337fa8620a8f502728.txt:\n",
      "0 0.4543650796875 0 0.10019841249999999 0.0386904765625 0.071924603125 0.08664021093749999 0.065228175 0.1005291 0.056547618749999994 0.13988095312499998 0.012152778125 0.41765872968749995 0.0084325390625 0.4765211640625 0.007192460937500001 0.5228174609375 0.01240079375 0.5482804234375 0.0828373015625 0.697420634375 0.0952380953125 0.715939153125 0.10639880937499999 0.7275132281250001 0.1262400796875 0.740410053125 0.28025793593750004 0.79398148125 0.6158234125 0.8640873015625001 0.640625 0.8664021156249999 0.65947420625 0.865740740625 0.6951884921875 0.853835978125 0.7145337296875 0.841269840625 0.7420634921875 0.8078703703125001 0.766369046875 0.7645502640624999 0.778521825 0.7331349203124999 0.7899305562500001 0.6954365078125 0.809771825 0.2546296296875 0.800347221875 0.09391534375 0.79737103125 0.0730820109375 0.79092261875 0.047288359375 0.787450396875 0.037037037499999995 0.775049603125 0.0135582015625 0.76512896875 0 0.4543650796875 0\n",
      "Predictions for 1Use9exTBP_jpeg.rf.83d92b71fbfc7c96b809a1d758c6f172.txt:\n",
      "3 0.22525 0.726 0.23825 0.7523333328125 0.253 0.7753333328124999 0.259 0.7823333328125 0.26725 0.7893333328125001 0.27625 0.7936666671875 0.29375 0.7973333328125001 0.33799999999999997 0.8 0.4335 0.8013333328125001 0.47800000000000004 0.8003333328125001 0.5702499999999999 0.7863333328125 0.62275 0.7726666671875 0.7015 0.7233333328125 0.716 0.712 0.72575 0.6990000000000001 0.7342500000000001 0.6816666671875 0.73725 0.6683333328125001 0.73975 0.647 0.74 0.629 0.7384999999999999 0.6093333328125 0.73275 0.5700000000000001 0.718 0.504 0.69725 0.4443333328125 0.6845 0.4223333328125 0.66875 0.4046666671875 0.6465 0.391 0.63025 0.3876666671875 0.5872499999999999 0.3843333328125 0.53325 0.384 0.42525 0.3883333328125 0.39775 0.391 0.314 0.4033333328125 0.2785 0.4126666671875 0.26749999999999996 0.41733333281249996 0.25025 0.42800000000000005 0.2375 0.441 0.22799999999999998 0.4563333328125 0.22400000000000003 0.466 0.213 0.5096666671875 0.20950000000000002 0.55 0.20825 0.5906666671874999 0.20775000000000002 0.6493333328124999 0.20975000000000002 0.67 0.21475 0.6963333328125 0.22525 0.726\n",
      "Predictions for 20230721_112611521_iOS_jpg.rf.45c6b14161f4cdea57d73669e9e2df7b.txt:\n",
      "2 0.359126984375 0.572089946875 0.3608630953125 0.597836309375 0.3611111109375 0.6233465609375 0.3658234125 0.6511243390625 0.3769841265625 0.6865079359374999 0.3893849203125 0.709325396875 0.40203372968749995 0.7242063484375 0.4164186515625 0.7367724875 0.450644840625 0.7635582015625 0.46651785781250005 0.7728174609375 0.4794146828125 0.7774470906250001 0.49627976250000005 0.7797619046875 0.5066964281249999 0.778769840625 0.521825396875 0.7741402109375 0.5364583328125 0.7665343921875001 0.578125 0.7490079359374999 0.6051587296875 0.7354497359375001 0.6339285718750001 0.7265211640625 0.6426091265625 0.722222221875 0.6602182546875001 0.709325396875 0.6701388890625 0.6957671953125 0.6765873015625 0.6835317453124999 0.6887400796875001 0.6511243390625 0.6991567453124999 0.6180555562500001 0.7137896828125 0.5820105812499999 0.7269345234375 0.5578703703125 0.7638888890625 0.49636243437500005 0.781001984375 0.45535714218749995 0.7926587296875 0.4136904765625 0.8033234125 0.3452380953125 0.8075396828124999 0.30621693125 0.8107638890625 0.252976190625 0.8107638890625 0.23082010625 0.8082837296875001 0.2123015875 0.80282738125 0.1921296296875 0.796875 0.177579365625 0.7879464281249999 0.15972222187500001 0.771329365625 0.13723544999999998 0.7485119046875 0.11342592656249999 0.733630953125 0.10019841249999999 0.7172619046875 0.08630952343750001 0.696924603125 0.071428571875 0.684027778125 0.06349206406249999 0.671626984375 0.0582010578125 0.6579861109375 0.05456349218749999 0.64657738125 0.053240740625000005 0.63095238125 0.05456349218749999 0.619295634375 0.057870370312499995 0.606398809375 0.06349206406249999 0.5736607140625 0.08664021093749999 0.556795634375 0.10019841249999999 0.5178571421875 0.1365740734375 0.49305555625 0.1643518515625 0.4677579359375 0.2017195765625 0.453373015625 0.228174603125 0.443700396875 0.250661375 0.422123015625 0.3164682546875 0.4117063484375 0.340608465625 0.3953373015625 0.36838624375 0.377480159375 0.39318783125 0.362103175 0.41931216875 0.3529265875 0.44411375625 0.3509424609375 0.45634920625 0.349950396875 0.4735449734375 0.3501984125 0.4947089953125 0.3546626984375 0.5205026453125 0.3541666671875 0.546626984375 0.359126984375 0.572089946875\n",
      "Predictions for MbdEcgr0P0_jpeg.rf.636de0320739576c50e26330254a11de.txt:\n",
      "0 0.042249999999999996 0.7863333328125 0.049 0.8033333328125 0.06225000000000001 0.8206666671875 0.075 0.8300000000000001 0.0905 0.837 0.11299999999999999 0.8400000000000001 0.3025 0.8513333328125 0.43875000000000003 0.8576666671875 0.4545 0.8573333328125001 0.47125000000000006 0.8523333328125 0.48624999999999996 0.8403333328124999 0.497 0.8256666671874999 0.50675 0.799 0.51025 0.776 0.525 0.4693333328125 0.526 0.41733333281249996 0.5195000000000001 0.3543333328125 0.43899999999999995 0.24066666718750002 0.433 0.23733333281250002 0.38625 0.2276666671875 0.13874999999999998 0.20033333281250001 0.10600000000000001 0.2006666671875 0.10024999999999999 0.202 0.088 0.20866666718750002 0.07525 0.2186666671875 0.06225000000000001 0.23766666718749999 0.05550000000000001 0.254 0.052500000000000005 0.267 0.04775 0.3533333328125 0.04 0.627 0.0375 0.7263333328125 0.0375 0.7616666671875 0.03875 0.7723333328125 0.042249999999999996 0.7863333328125\n",
      "Predictions for IMG_20230420_082255_jpg.rf.d63474a3f128968aa91858c8744cceb4.txt:\n",
      "1 0.08658854218749999 0.7997549015625001 0.09798177031250001 0.8595588234375 0.1110026046875 0.8970588234375001 0.1266276046875 0.9232843140625 0.1396484375 0.9372549015624999 0.1529947921875 0.942647059375 0.181640625 0.9497549015625 0.2503255203125 0.95539215625 0.2796223953125 0.95539215625 0.4182942703125 0.9463235296875 0.5211588546875 0.9379901953124999 0.5729166671875 0.925 0.607421875 0.9125 0.6214192703125 0.9049019609375 0.6276041671875 0.9002450984375001 0.6298828125 0.896813725 0.6376953125 0.87426470625 0.6412760421875 0.8188725484375 0.6416015625 0.7688725484375001 0.6259765625 0.607352940625 0.603515625 0.4306372546875 0.5940755203125 0.403431371875 0.5836588546875 0.3818627453125 0.5725911453125 0.36666666718749996 0.5595703125 0.35392156875 0.5400390625 0.340931371875 0.5068359375 0.3272058828125 0.4811197921875 0.3225490203125 0.4182942703125 0.317647059375 0.3499348953125 0.3166666671875 0.3173828125 0.31789215625 0.2275390625 0.3254901953125 0.20930989531250002 0.328186275 0.1588541671875 0.34068627500000004 0.1276041671875 0.351960784375 0.099609375 0.368382353125 0.08658854218749999 0.3799019609375 0.07682291718749999 0.3916666671875 0.0712890625 0.4024509796875 0.06217447968749999 0.42671568593750003 0.05794270781250001 0.4583333328125 0.05859375 0.5294117640625 0.0625 0.5813725484375001 0.0732421875 0.6968137249999999 0.08658854218749999 0.7997549015625001\n",
      "Predictions for AKPqX4H4Xn_jpeg.rf.15e3a23dcf1c8ada541de44ac38b5259.txt:\n",
      "4 0.42474999999999996 0.8046666671875 0.42975 0.8076666671874999 0.4665 0.8183333328125 0.47325 0.8186666671875 0.5197499999999999 0.8160000000000001 0.534 0.8076666671874999 0.5387500000000001 0.8009999999999999 0.5429999999999999 0.7826666671875 0.54225 0.743 0.5405 0.7083333328125 0.53825 0.7030000000000001 0.5345 0.6986666671874999 0.53025 0.697 0.42474999999999996 0.692 0.418 0.6926666671875 0.413 0.6953333328125 0.40975 0.706 0.41 0.739 0.41224999999999995 0.7613333328125 0.4185 0.796 0.42474999999999996 0.8046666671875\n",
      "Predictions for krnmrIbPnj_jpeg.rf.95cce089347638032ffe217dd96b068b.txt:\n",
      "4 0.2133333328125 0.92922374375 0.275 0.9383561640625 0.6966666671875 0.9337899546875 0.7633333328125 0.9269406390625001 0.8099999999999999 0.8858447484375 0.8300000000000001 0.8150684937499999 0.8300000000000001 0.2009132421875 0.8216666671875 0.12557077656249999 0.7916666671875 0.0730593609375 0.75 0.04794520625 0.2383333328125 0.0502283109375 0.1916666671875 0.075342465625 0.1666666671875 0.11643835625000001 0.1566666671875 0.157534246875 0.1566666671875 0.8333333328125001 0.1716666671875 0.88356164375 0.1883333328125 0.90639269375 0.2133333328125 0.92922374375\n",
      "Predictions for a18df9de-8cef-4bd5-9537-c4020c63d1c1_jpg.rf.9940116f2598aa11d3b2d60ef126e37b.txt:\n",
      "3 0.109722221875 0.57265625 0.2666666671875 0.5984375 0.702777778125 0.61328125 0.7458333328125 0.61171875 0.790277778125 0.5984375 0.8125 0.58515625 0.8236111109375001 0.5703125 0.8486111109375001 0.4765625 0.8513888890624999 0.3921875 0.8375 0.37109375 0.809722221875 0.353125 0.7430555562500001 0.340625 0.30694444375 0.32421875 0.17916666718750002 0.33203125 0.125 0.33828125 0.1 0.3515625 0.040277778125000004 0.40546875 0.026388889062499997 0.46015625 0.025 0.4796875 0.05694444375 0.5421875 0.0791666671875 0.559375 0.109722221875 0.57265625\n",
      "Predictions for 20230723_173825908_iOS_jpg.rf.88680defd6df13c76c440e8db29e2832.txt:\n",
      "0 0.0359623015625 0.75562169375 0.04637896875 0.7731481484375 0.05853174531250001 0.787367725 0.075644840625 0.7986111109375 0.20882936562499999 0.8482142859374999 0.4325396828125 0.9044312171875 0.605902778125 0.9391534390625 0.621527778125 0.9394841265625 0.6316964281249999 0.933862434375 0.6453373015625 0.9229497359375 0.659226190625 0.9014550265624999 0.671875 0.859457671875 0.67509920625 0.834325396875 0.677579365625 0.7761243390625 0.6889880953125 0.4672619046875 0.6887400796875001 0.4451058203125 0.650049603125 0.31845238125 0.6267361109375 0.24735449687500002 0.60987103125 0.2040343921875 0.5982142859375 0.1795634921875 0.5855654765625 0.1617063484375 0.5731646828125 0.1498015875 0.5535714281249999 0.1382275125 0.5416666671875 0.134259259375 0.51512896875 0.13194444375 0.377728175 0.146494709375 0.2075892859375 0.1739417984375 0.13194444375 0.1878306875 0.11160714218750001 0.1957671953125 0.10367063437499999 0.2007275125 0.09424603125 0.209656084375 0.08581349218749999 0.2202380953125 0.0739087296875 0.2423941796875 0.0647321421875 0.26752645468749997 0.059771825 0.2853835984375 0.052827381250000006 0.31845238125 0.044394840625 0.3773148140625 0.0272817453125 0.6203703703125 0.02430555625 0.6706349203124999 0.024553571875 0.7043650796875001 0.0272817453125 0.7208994703125 0.0359623015625 0.75562169375\n",
      "Predictions for IMG_20230419_155203_1_jpg.rf.7ff2f37f90367a5ac125486ef1242567.txt:\n",
      "1 0.1484375 0.8125 0.1725260421875 0.8259803921875 0.20475260468749998 0.8377450984375001 0.2662760421875 0.85392156875 0.353515625 0.8693627453125 0.4876302078125 0.8786764703125 0.5172526046875 0.8776960781250001 0.5569661453125 0.8732843140625001 0.5833333328125 0.8664215687500001 0.5927734375 0.8622549015625 0.5983072921875 0.8583333328125 0.6077473953125 0.8495098046875 0.6162109375 0.834803921875 0.6305338546875 0.798039215625 0.63671875 0.776225490625 0.6627604171875 0.6389705875 0.6852213546875 0.49264705937500003 0.6910807296875 0.4311274515625 0.6904296875 0.3982843140625 0.6884765625 0.37965686249999997 0.685546875 0.3661764703125 0.6787109375 0.353431371875 0.6708984375 0.3411764703125 0.65625 0.326960784375 0.6337890625 0.313725490625 0.6064453125 0.302696078125 0.5973307296875 0.30024509843749997 0.5400390625 0.2884803921875 0.4290364578125 0.2772058828125 0.3544921875 0.2767156859375 0.3037109375 0.2825980390625 0.2701822921875 0.2911764703125 0.24869791718749998 0.3009803921875 0.23470052031250002 0.3110294125 0.22298177031250002 0.32303921562500004 0.2109375 0.340196078125 0.1998697921875 0.3681372546875 0.1858723953125 0.41887254843750005 0.1731770828125 0.4764705875 0.1500651046875 0.6068627453125 0.13671875 0.6916666671875 0.1315104171875 0.7424019609375 0.1315104171875 0.7708333328125 0.1334635421875 0.7845588234374999 0.1402994796875 0.8022058828124999 0.1484375 0.8125\n",
      "Predictions for rPorG08s4n_jpeg.rf.2268a2c58218574fbc2a9902ab3b87d2.txt:\n",
      "0 0.20638020781250002 0.8774509796875 0.2236328125 0.8823529406249999 0.26953125 0.8872549015625 0.3063151046875 0.8897058828125 0.4749348953125 0.89142156875 0.5061848953125 0.8904411765625 0.5465494796875 0.8848039218749999 0.5576171875 0.8818627453125 0.6194661453125 0.7818627453125 0.6246744796875 0.6458333328125 0.6285807296875 0.46642156874999996 0.626953125 0.42450980468750005 0.6259765625 0.415686275 0.6214192703125 0.4024509796875 0.6136067703125 0.390931371875 0.5966796875 0.37745097968749997 0.5830078125 0.371813725 0.5667317703125 0.3681372546875 0.5491536453125 0.365686275 0.5042317703125 0.3622549015625 0.439453125 0.359068628125 0.3499348953125 0.359068628125 0.2649739578125 0.365931371875 0.2561848953125 0.367647059375 0.23665364531250002 0.378186275 0.22981770781250002 0.384068628125 0.21647135468749998 0.40735294062499994 0.2109375 0.430882353125 0.1875 0.6725490203125 0.1780598953125 0.7953431375 0.1751302078125 0.8482843140625 0.181640625 0.8629901953125 0.185546875 0.8671568625000001 0.20638020781250002 0.8774509796875\n",
      "Predictions for 20230723_175221734_iOS_jpg.rf.7ee9ec09564ae0a5703a43af7ea3044a.txt:\n",
      "0 0.26884920625 0 0.21155753906250002 0.043981481249999996 0.12524801562500001 0.1137566140625 0.011408729687499999 0.2123015875 0 0.22387566093750003 0 0.5019841265625 0.0079365078125 0.6825396828125 0.01240079375 0.7080026453125 0.0210813484375 0.7261904765625 0.03447420625 0.7476851859375 0.16220238125 0.9136904765624999 0.18576388906250002 0.9398148140625 0.200148809375 0.9520502640625 0.252976190625 0.9910714281249999 0.37400793593750004 0.9996693125 0.862351190625 0.9996693125 0.94072420625 0.996693121875 0.999751984375 0.984788359375 0.999751984375 0.6669973546875 0.997023809375 0.55621693125 0.9761904765624999 0.2228835984375 0.96552579375 0.17526455000000002 0.9330357140625001 0.06349206406249999 0.9139384921874999 0.0135582015625 0.9040178578125 0 0.26884920625 0\n",
      "Predictions for 7JckhmIr5e_jpeg.rf.941ef20bb4f431800b4379488e704a8c.txt:\n",
      "0 0 0.9997549015624999 0.7093098953125 0.9997549015624999 0.7001953125 0.9375 0.5862630203125 0.3075980390625 0.5758463546875 0.265196078125 0.5706380203125 0.253431371875 0.5602213546875 0.23823529375 0.5475260421875 0.225 0.5322265625 0.21299019531250002 0.5081380203125 0.19926470624999998 0.478515625 0.1879901953125 0.4352213546875 0.1754901953125 0.380859375 0.1627450984375 0.2412109375 0.135539215625 0.1331380203125 0.12181372500000001 0.013671875 0.1127450984375 0.0052083328125 0.11323529375000001 0 0.113725490625 0 0.9997549015624999\n",
      "Predictions for 20230721_101406584_iOS_jpg.rf.3c2c922ecc01b91bdb62260749d8e7bb.txt:\n",
      "1 0.174851190625 0.7261904765625 0.1929563484375 0.734126984375 0.2457837296875 0.75 0.315476190625 0.7625661375 0.3658234125 0.7675264546875 0.41046627031250005 0.76818783125 0.478174603125 0.7635582015625 0.533978175 0.7509920640625001 0.5679563484375 0.7384259265625001 0.6108630953125 0.7149470906250001 0.737103175 0.6302910046875 0.7447916671875 0.622354496875 0.747023809375 0.609457671875 0.744295634375 0.5985449734375 0.64384920625 0.44477513281250003 0.6331845234375 0.43121693125 0.6046626984375 0.4050925921875 0.5845734125 0.390542328125 0.5456349203124999 0.36673280468749997 0.5195932546875001 0.35350529062499997 0.48635912656249997 0.340939153125 0.44146825468750006 0.32771164062499997 0.39756944375000003 0.3174603171875 0.3546626984375 0.3125 0.32911706406249996 0.3111772484375 0.2519841265625 0.3111772484375 0.2053571421875 0.3171296296875 0.20039682499999997 0.31911375625 0.1894841265625 0.32705026406250004 0.1827876984375 0.34027777812500004 0.178571428125 0.35482804218749997 0.1626984125 0.440476190625 0.158978175 0.4699074078125 0.1520337296875 0.559854496875 0.1542658734375 0.696759259375 0.15649801562500001 0.709325396875 0.1612103171875 0.7149470906250001 0.174851190625 0.7261904765625\n",
      "Predictions for 20230723_172837030_iOS_jpg.rf.f627e6d7448a6a7b48c0d2f67a8921c3.txt:\n",
      "0 0 0 0.00049603125 0.9986772484375 0.0014880953125 0.9996693125 0.996527778125 0.9996693125 0.999751984375 0.9947089953124999 0.999751984375 0.18849206406250002 0.9791666671874999 0.0135582015625 0.962549603125 0.0023148140625 0.9102182546875 0 0 0\n",
      "Predictions for IMG_20230721_154726_jpg.rf.b4456081822088eecd47a764743575c9.txt:\n",
      "4 0.4615885421875 0.8532986109375 0.4861111109375 0.8828125 0.4978298609375 0.8914930562500001 0.5182291671875 0.8946759265625 0.5282118062500001 0.8917824078125 0.5338541671875 0.8880208328125001 0.5477430562500001 0.8654513890625 0.560112846875 0.839409721875 0.730034721875 0.36805555624999997 0.7296006937499999 0.36429398125 0.724609375 0.35648148125 0.721137153125 0.3538773140625 0.7042100687499999 0.3483796296875 0.5466579859375 0.3148148140625 0.5399305562500001 0.3148148140625 0.5295138890625 0.31741898125 0.523871528125 0.3226273140625 0.512152778125 0.34375 0.510199653125 0.350115740625 0.4498697921875 0.6785300921874999 0.44032118125 0.7395833328125 0.4388020828125 0.7546296296875 0.43901909687499996 0.7725694437499999 0.44683159687499996 0.8229166671874999 0.4485677078125 0.8284143515625001 0.4615885421875 0.8532986109375\n",
      "Predictions for 20230721_110341879_iOS_jpg.rf.035b20c59732867f79684c5a933644a4.txt:\n",
      "0 0.29092261875 0.8488756609375001 0.4203869046875 0.6984126984375 0.466269840625 0.6362433859375 0.47098214218749995 0.6253306875 0.49925595312500004 0.47850529062499997 0.502976190625 0.45535714218749995 0.5037202375 0.43816137499999996 0.502976190625 0.41798941875000006 0.49652777812500004 0.340939153125 0.4945436515625 0.32903439218749997 0.47197420625 0.2771164015625 0.46651785781250005 0.26752645468749997 0.44890872968749995 0.25099206406249996 0.431299603125 0.2384259265625 0.36830357187499996 0.203042328125 0.343501984375 0.1924603171875 0.340773809375 0.1921296296875 0.328125 0.1977513234375 0.3164682546875 0.209325396875 0.3023313484375 0.23247354531250003 0.2929067453125 0.252976190625 0.27678571406249997 0.3085317453125 0.2487599203125 0.43353174531249994 0.23635912656250002 0.49669312187500003 0.23189484062500001 0.533730159375 0.2306547625 0.56845238125 0.23115079375 0.5949074078125001 0.2353670640625 0.6167328046875 0.287450396875 0.8452380953124999 0.29092261875 0.8488756609375001\n",
      "Predictions for nIHkDFjTvI_jpeg.rf.daac52d48163e5b8177fbf566432685e.txt:\n",
      "0 0.0475260421875 0.9014705875000001 0.05924479218749999 0.91642156875 0.0751953125 0.9284313718750001 0.1009114578125 0.940686275 0.1243489578125 0.9458333328125 0.140625 0.9480392156249999 0.23958333281250002 0.9541666671875 0.4251302078125 0.9541666671875 0.4801432296875 0.9509803921875 0.54296875 0.9431372546875 0.5638020828125 0.939460784375 0.5699869796875 0.9379901953124999 0.5960286453125 0.9274509796875 0.6145833328125 0.9149509796874999 0.6263020828125 0.9022058828124999 0.634765625 0.8872549015625 0.6396484375 0.8752450984375001 0.6409505203125 0.8654411765625 0.6533203125 0.4475490203125 0.6555989578125 0.3142156859375 0.6533203125 0.2921568625 0.6481119796875 0.277696078125 0.6334635421875 0.25808823593749997 0.626953125 0.25196078437499997 0.6090494796875 0.2397058828125 0.59375 0.23333333281250002 0.5699869796875 0.22647058750000001 0.5563151046875 0.2240196078125 0.458984375 0.21274509843749997 0.3720703125 0.20808823593749998 0.2757161453125 0.2075980390625 0.1868489578125 0.21102941249999999 0.1500651046875 0.2149509796875 0.1139322921875 0.2220588234375 0.09928385468749999 0.22696078437499997 0.080078125 0.23774509843749997 0.06315104218749999 0.253186275 0.05045572968749999 0.27818627500000004 0.0475260421875 0.2899509796875 0.041015625 0.4279411765625 0.0387369796875 0.55539215625 0.03515625 0.761274509375 0.0384114578125 0.875 0.0413411453125 0.8875 0.0475260421875 0.9014705875000001\n",
      "Predictions for 20230721_111338041_iOS_jpg.rf.fe629e978e787b69d99761d21ccff89b.txt:\n",
      "2 0.313244046875 0.3918650796875 0.3201884921875 0.4077380953125 0.327876984375 0.4424603171875 0.330853175 0.462632275 0.3318452375 0.48214285781250005 0.3333333328125 0.48875661406250004 0.3358134921875 0.54431216875 0.3382936515625 0.56878306875 0.3511904765625 0.6180555562500001 0.3658234125 0.65674603125 0.3712797625 0.665674603125 0.37847222187499996 0.68154761875 0.41592261875 0.746362434375 0.435019840625 0.771164021875 0.44097222187499996 0.7827380953125 0.456101190625 0.7982804234375 0.4751984125 0.809523809375 0.48090277812500004 0.8115079359375 0.4908234125 0.8125 0.5086805562500001 0.8115079359375 0.5198412703125 0.808862434375 0.546626984375 0.797288359375 0.5855654765625 0.7731481484375 0.5984623015625 0.7635582015625 0.6106150796875001 0.7509920640625001 0.619295634375 0.7384259265625001 0.62822420625 0.721560846875 0.6326884921875 0.709325396875 0.639880953125 0.6828703703125 0.6445932546875001 0.658730159375 0.6475694437499999 0.63723545 0.652777778125 0.566137565625 0.65302579375 0.5208333328125 0.6520337296875 0.49272486718749997 0.6426091265625 0.427910053125 0.634424603125 0.3921957671875 0.6324404765625 0.37929894218750004 0.630704365625 0.3521825390625 0.6297123015625 0.3075396828125 0.627480159375 0.2800925921875 0.625248015625 0.2678571421875 0.6197916671875 0.24834656093750002 0.612351190625 0.2301587296875 0.6011904765625 0.2139550265625 0.5892857140625 0.203373015625 0.578373015625 0.18849206406250002 0.55654761875 0.15178571406250002 0.5327380953125 0.1167328046875 0.518105159375 0.0988756609375 0.500248015625 0.08697089999999999 0.48784722187499996 0.0826719578125 0.4300595234375 0.08101851875 0.41468253906249997 0.0856481484375 0.3990575390625 0.096230159375 0.3921130953125 0.103174603125 0.377976190625 0.1240079359375 0.3643353171875 0.1521164015625 0.340773809375 0.209656084375 0.3298611109375 0.24371693125 0.3137400796875 0.2771164015625 0.3048115078125 0.303902115625 0.3023313484375 0.31580687812499997 0.3020833328125 0.33134920625 0.3048115078125 0.3551587296875 0.30927579375 0.37169312187500003 0.313244046875 0.3918650796875\n",
      "Predictions for IMG_2385_JPG.rf.9f0eb5444fa14dd39a0f239fc2d57527.txt:\n",
      "3 0.48065476250000005 0.7238756609375 0.48511904687499996 0.7460317453124999 0.4950396828125 0.76917989375 0.51884920625 0.7992724875 0.5555555562500001 0.8359788359375001 0.67137896875 0.936838625 0.6825396828125 0.9335317453125 0.9444444437499999 0.672288359375 0.94990079375 0.659060846875 0.9481646828124999 0.622023809375 0.890625 0.44080687812499997 0.8764880953124999 0.4130291 0.862103175 0.38955026406250004 0.8504464281249999 0.3766534390625 0.838045634375 0.3670634921875 0.8231646828124999 0.35978835937500003 0.796875 0.3521825390625 0.7708333328125 0.3511904765625 0.5069444437499999 0.3789682546875 0.49429563437499996 0.3859126984375 0.48784722187499996 0.391203703125 0.47842261875 0.403108465625 0.47197420625 0.41765872968749995 0.4672619046875 0.44312169375000005 0.46527777812500004 0.4768518515625 0.46527777812500004 0.5052910046875 0.468501984375 0.5760582015625 0.4779265875 0.7017195765625 0.48065476250000005 0.7238756609375\n",
      "Predictions for wY64o7eZP3_jpeg.rf.674dfe852906c2693e1b35af54cb41b4.txt:\n",
      "4 0.6224999999999999 0.9016666671875001 0.82925 0.9133333328125 0.8574999999999999 0.9123333328125 0.87325 0.9073333328125001 0.8869999999999999 0.8993333328125 0.9005000000000001 0.883 0.9057499999999999 0.8726666671875 0.9092499999999999 0.8583333328125 0.9099999999999999 0.826 0.90825 0.8089999999999999 0.8029999999999999 0.2796666671875 0.79475 0.2456666671875 0.7925 0.24 0.78425 0.2273333328125 0.76125 0.209 0.744 0.2046666671875 0.5685 0.20099999999999998 0.5587500000000001 0.20366666718749998 0.5545 0.20866666718750002 0.52975 0.2686666671875 0.40925 0.8726666671875 0.4095 0.8776666671875001 0.4145 0.8816666671875 0.457 0.8896666671875 0.6224999999999999 0.9016666671875001\n",
      "Predictions for XC7Ovwc4jc_jpeg.rf.1ead7a80876bf448915e739671902c21.txt:\n",
      "0 0.9997549015624999 0.9996744796874999 0.9997549015624999 0.09147135468749999 0.9813725484375 0.08658854218749999 0.9634803921874999 0.08430989531250001 0.9289215687500001 0.0830078125 0.8602941171875 0.083984375 0.809313725 0.08626302031250001 0.7110294125000001 0.09895833281250001 0.6541666671875 0.1103515625 0.548774509375 0.1363932296875 0.4669117640625 0.1627604171875 0.434068628125 0.1764322921875 0.415686275 0.1881510421875 0.39117647031249997 0.21223958281250002 0.378186275 0.22981770781250002 0.365686275 0.2526041671875 0.3556372546875 0.2838541671875 0.353186275 0.2939453125 0.348774509375 0.3323567703125 0.3252450984375 0.9850260421874999 0.3272058828125 0.990234375 0.3477941171875 0.9996744796874999 0.9997549015624999 0.9996744796874999\n",
      "Predictions for IMG_20230419_155837_1_jpg.rf.f8fd40ff4b1fa4bc07d2fafd2aa2cf47.txt:\n",
      "1 0.173828125 0.960539215625 0.2177734375 0.959313725 0.2805989578125 0.9541666671875 0.2936197921875 0.9502450984375 0.3033854171875 0.9409313718750001 0.3170572921875 0.9171568625000001 0.3430989578125 0.8495098046875 0.3675130203125 0.7764705875 0.3850911453125 0.7134803921875 0.4423828125 0.4544117640625 0.4459635421875 0.4161764703125 0.4462890625 0.3700980390625 0.4446614578125 0.3419117640625 0.4410807296875 0.3296568625 0.4300130203125 0.3061274515625 0.4169921875 0.2919117640625 0.3971354171875 0.2767156859375 0.3701171875 0.26323529375 0.3411458328125 0.25196078437499997 0.3310546875 0.24926470625000002 0.2799479171875 0.23774509843749997 0.1865234375 0.22475490156250003 0.103515625 0.22107843124999998 0.0416666671875 0.221568628125 0.0003255203125 0.22475490156250003 0 0.93676470625 0.011393229687500001 0.9392156859374999 0.1533203125 0.9588235296875001 0.173828125 0.960539215625\n",
      "Predictions for WhatsApp-Image-2023-12-04-at-4_21_02-PM_jpeg.rf.18f0cb1ebbc2c7e7b0e3aa7d9c3f132d.txt:\n",
      "4 0 0.9990234375 0.9986979171874999 0.9990234375 0.9986979171874999 0.11328125 0.96875 0.0595703125 0.9609375 0.0546875 0.9453125 0.0546875 0 0.1279296875 0 0.9990234375\n",
      "Predictions for ZgBZCVxbIW_jpeg.rf.f38c7e8f1909c8ef8c5acbe6dcd65432.txt:\n",
      "0 0.21223958281250002 0.8450980390625 0.22395833281250002 0.8517156859374999 0.240234375 0.8568627453125 0.291015625 0.8642156859375 0.3505859375 0.8666666671875 0.3938802078125 0.8654411765625 0.4436848953125 0.8629901953125 0.5442708328125 0.8529411765624999 0.5699869796875 0.8465686281249999 0.5833333328125 0.8419117640625 0.5989583328125 0.828431371875 0.6090494796875 0.8095588234375001 0.6106770828125 0.7884803921875 0.6077473953125 0.7485294125 0.5804036453125 0.490196078125 0.5755208328125 0.45612745156249995 0.5735677078125 0.4509803921875 0.5673828125 0.44117647031249996 0.5524088546875 0.428431371875 0.5413411453125 0.42426470624999996 0.5201822921875 0.4205882359375 0.4251302078125 0.415931371875 0.3151041671875 0.42107843125000005 0.2666015625 0.425 0.251953125 0.428431371875 0.24088541718749998 0.43676470624999997 0.2333984375 0.4485294125 0.2265625 0.4681372546875 0.20182291718749998 0.659803921875 0.1881510421875 0.7936274515624999 0.1884765625 0.809313725 0.1927083328125 0.8230392156249999 0.20052083281250002 0.8352941171875001 0.21223958281250002 0.8450980390625\n",
      "Predictions for 20230723_174854062_iOS_jpg.rf.88bc1be7e1f6344af0342aad20027732.txt:\n",
      "0 0 0.9996693125 0.415674603125 0.9996693125 0.5860615078125 0.95634920625 0.8576388890625 0.865079365625 0.8896329359375 0.8528439156250001 0.9144345234375001 0.840277778125 0.9290674609374999 0.828373015625 0.94072420625 0.8138227515625 0.956101190625 0.7863756609375 0.9645337296875001 0.7645502640624999 0.9677579359375 0.7516534390625 0.9729662703124999 0.7043650796875001 0.972222221875 0.6603835984375 0.9704861109375 0.63723545 0.9640376984374999 0.6018518515625 0.9141865078125001 0.43154761875 0.8921130953124999 0.3611111109375 0.8683035718750001 0.28802910000000004 0.8167162703124999 0.1382275125 0.8015873015625001 0.0978835984375 0.790674603125 0.0740740734375 0.7743055562500001 0.0519179890625 0.759920634375 0.0367063484375 0.721726190625 0.01223545 0.6773313484375 0 0.3529265875 0.0039682546875000006 0.25 0.0102513234375 0.075148809375 0.0376984125 0.063244046875 0.040674603125 0.0248015875 0.0582010578125 0 0.0734126984375 0 0.9996693125\n",
      "Predictions for rb1aoZGn8r_jpeg.rf.04228a591be94b4a4c8418080dc6316d.txt:\n",
      "4 0.41550000000000004 0.7893333328125001 0.4285 0.8033333328125 0.43875000000000003 0.8106666671875 0.4445 0.8130000000000001 0.48624999999999996 0.8130000000000001 0.5085 0.8113333328125 0.6035 0.8 0.64675 0.791 0.6495 0.7823333328125 0.61925 0.5983333328125 0.48250000000000004 0.3283333328125 0.47675 0.3203333328125 0.46900000000000003 0.3133333328125 0.381 0.261 0.3785 0.271 0.3765 0.2946666671875 0.3785 0.37733333281250003 0.4035 0.755 0.40599999999999997 0.7676666671875 0.41550000000000004 0.7893333328125001\n",
      "Predictions for Dza1Z8iCNg_jpeg.rf.3451aca881e37f01ab61d2d1f1552c15.txt:\n",
      "4 0.142 0.5966666671875 0.15075 0.6033333328125 0.16675 0.6043333328125 0.27825 0.5943333328125 0.29375 0.5860000000000001 0.30924999999999997 0.5726666671875 0.3135 0.5656666671874999 0.316 0.5586666671875 0.316 0.5549999999999999 0.28225 0.24300000000000002 0.2805 0.23733333281250002 0.27175 0.2286666671875 0.267 0.2266666671875 0.26125 0.2266666671875 0.17575000000000002 0.24 0.12425 0.24933333281249997 0.11599999999999999 0.254 0.11125 0.264 0.11074999999999999 0.268 0.11399999999999999 0.306 0.14075 0.5923333328125 0.142 0.5966666671875\n",
      "Predictions for 6nu3GD2iqb_jpeg.rf.1a503e402f2b5cc13c789e79f86c5d60.txt:\n",
      "3 0.2585 0.571 0.26549999999999996 0.5826666671875 0.27575 0.5913333328125 0.28875 0.5983333328125 0.32799999999999996 0.6103333328125 0.393 0.6223333328125 0.457 0.6276666671875 0.491 0.627 0.5065000000000001 0.6186666671875 0.523 0.5986666671875 0.53075 0.5820000000000001 0.53825 0.5566666671875 0.542 0.5293333328125 0.5429999999999999 0.4886666671875 0.54125 0.4726666671875 0.53675 0.45466666718750004 0.53125 0.44166666718750003 0.522 0.4296666671875 0.51225 0.42300000000000004 0.4955 0.41500000000000004 0.4445 0.4 0.39875 0.3903333328125 0.33925 0.38333333281250004 0.3025 0.3823333328125 0.2885 0.386 0.27799999999999997 0.3906666671875 0.262 0.404 0.255 0.4176666671875 0.25225 0.4273333328125 0.2495 0.45466666718750004 0.24775 0.514 0.24925000000000003 0.5333333328125 0.253 0.5549999999999999 0.2585 0.571\n",
      "Predictions for 2GM8lq9KHM_jpeg.rf.b6990f64e6206045eaf16f3e6797f30c.txt:\n",
      "4 0.43377976250000005 0 0.4047619046875 0.9996693125 0.999751984375 0.9996693125 0.999751984375 0 0.43377976250000005 0\n",
      "Predictions for IMG_5544_jpeg.rf.b2b65502bcbac5d76205ca9edd4c89f6.txt:\n",
      "0 0 0.9702380953124999 0.006944443749999999 0.987103175 0.012648809375 0.997023809375 0.030505953125000002 0.9996693125 0.42237103125 0.9980158734375 0.9270833328125001 0.987103175 0.999751984375 0.9821428578125 0.999751984375 0.1603835984375 0.9260912703124999 0.1547619046875 0.7490079359374999 0.1481481484375 0.193700396875 0.134589946875 0.14905753906250002 0.134259259375 0.131696428125 0.1365740734375 0.1111111109375 0.1484788359375 0.0979662703125 0.1620370375 0.0845734125 0.190806878125 0.0084325390625 0.4675925921875 0.0014880953125 0.5171957671875 0 0.5383597890625 0 0.9702380953124999\n",
      "Predictions for NeAkPv54I9_jpeg.rf.add402e141dee258c4b7dd1d239160dc.txt:\n",
      "3 0.453 0.5846666671875 0.45875000000000005 0.5893333328125 0.46875 0.5943333328125 0.5075000000000001 0.6013333328125 0.5337500000000001 0.602 0.5700000000000001 0.6003333328125 0.60825 0.597 0.683 0.5866666671874999 0.7365 0.5753333328125 0.75275 0.5703333328125 0.7595 0.567 0.76825 0.5599999999999999 0.77925 0.545 0.78525 0.5316666671875 0.7895 0.5183333328125 0.7905 0.507 0.78975 0.4566666671875 0.788 0.42766666718749996 0.7855000000000001 0.4106666671875 0.776 0.36833333281249997 0.76425 0.3406666671875 0.75325 0.3266666671875 0.7455 0.3203333328125 0.731 0.3133333328125 0.66975 0.3036666671875 0.6132500000000001 0.2996666671875 0.54 0.3016666671875 0.479 0.3113333328125 0.46624999999999994 0.3173333328125 0.4525 0.33166666718750004 0.43925000000000003 0.3546666671875 0.42474999999999996 0.3913333328125 0.42125 0.4086666671875 0.421 0.4153333328125 0.43099999999999994 0.5053333328125 0.4405 0.5686666671875 0.453 0.5846666671875\n",
      "Predictions for IMG_20230419_161709_jpg.rf.7b7a38e374e8bb3670690fb4c372e40f.txt:\n",
      "1 0.337890625 0.7088235296875001 0.36328125 0.8215686281249999 0.376953125 0.8620098046875 0.388671875 0.878186275 0.4016927078125 0.8848039218749999 0.41015625 0.8872549015625 0.4563802078125 0.8921568625 0.5126953125 0.893382353125 0.5823567703125 0.8879901953125 0.6842447921875 0.8747549015624999 0.7350260421875 0.8649509796875 0.7994791671875 0.8497549015624999 0.8245442703125001 0.8384803921874999 0.8372395828125001 0.8242647062499999 0.8424479171874999 0.8100490203125 0.8453776046874999 0.79607843125 0.8483072921874999 0.7627450984374999 0.8444010421874999 0.69460784375 0.8310546875 0.5453431375 0.8177083328125001 0.44460784374999995 0.8095703125 0.3977941171875 0.7972005203125 0.365686275 0.7880859375 0.35147058750000004 0.7776692703125 0.3397058828125 0.7610677078125 0.3272058828125 0.7333984375 0.3147058828125 0.68359375 0.30416666718749996 0.66796875 0.3022058828125 0.62109375 0.30073529374999997 0.5472005203125 0.30196078437499996 0.455078125 0.31176470625 0.4319661453125 0.315196078125 0.3798828125 0.32892156875 0.3531901046875 0.3404411765625 0.3352864578125 0.353186275 0.3229166671875 0.365686275 0.3141276046875 0.3772058828125 0.3033854171875 0.4036764703125 0.3017578125 0.4147058828125 0.3020833328125 0.4575980390625 0.3138020828125 0.5588235296875 0.3264973953125 0.6482843140625 0.337890625 0.7088235296875001\n",
      "Predictions for IMG_2231_JPG.rf.b95b82d131e76034f7b8c18c9bc96839.txt:\n",
      "3 0.6294642859375 0.7139550265625 0.646329365625 0.74437830625 0.6584821421875 0.7483465609375 0.7619047625 0.753637565625 0.825396825 0.752645503125 0.8459821421875 0.75 0.8521825390625001 0.746362434375 0.8670634921874999 0.71924603125 0.8700396828124999 0.708994709375 0.8792162703124999 0.5697751328125 0.881200396875 0.35615079375 0.881200396875 0.31911375625 0.878472221875 0.2919973546875 0.8673115078125001 0.25330687812499997 0.853174603125 0.22585978906249998 0.8400297625 0.2076719578125 0.824652778125 0.19312169375 0.812748015625 0.184523809375 0.7859623015625 0.17162698437499999 0.7730654765625 0.1696428578125 0.75595238125 0.1696428578125 0.7363591265625 0.171957671875 0.7254464281249999 0.1749338625 0.70262896875 0.18650793593749998 0.6860119046875 0.19874338593750002 0.6676587296875 0.22123015937499999 0.6552579359374999 0.240740740625 0.6450892859375 0.2635582015625 0.6319444437499999 0.316137565625 0.627976190625 0.365410053125 0.6240079359374999 0.521494709375 0.6264880953125 0.6855158734375 0.627976190625 0.7070105812499999 0.6294642859375 0.7139550265625\n",
      "Predictions for 20230721_102849460_iOS_jpg.rf.79c1202cdc7f0b3e24c9cea9bf66f664.txt:\n",
      "1 0.265625 0.784391534375 0.27802579375 0.80621693125 0.291170634375 0.822089946875 0.3050595234375 0.8363095234375001 0.328125 0.853174603125 0.353670634375 0.865740740625 0.3804563484375 0.8730158734375 0.403521825 0.8736772484375 0.415674603125 0.86937830625 0.42509920625 0.8634259265625 0.4387400796875 0.849867725 0.57490079375 0.622354496875 0.5897817453124999 0.59358465625 0.6106150796875001 0.5429894187500001 0.6232638890625 0.5082671953125 0.65302579375 0.39417989375 0.6542658734375 0.3829365078125 0.6458333328125 0.15972222187500001 0.6443452375 0.1507936515625 0.63740079375 0.13723544999999998 0.6297123015625 0.1296296296875 0.622271825 0.12599206406250002 0.619295634375 0.1263227515625 0.46651785781250005 0.178240740625 0.44915674531249994 0.1878306875 0.4387400796875 0.197089946875 0.4154265875 0.228174603125 0.37847222187499996 0.290343915625 0.2638888890625 0.5165343921875001 0.2398313484375 0.5707671953125 0.2321428578125 0.5955687828125 0.2289186515625 0.6164021156249999 0.22867063437500001 0.6332671953125 0.2301587296875 0.6471560843749999 0.255704365625 0.7579365078125 0.265625 0.784391534375\n",
      "Predictions for IMG_2222_JPG.rf.100e01abb46606ab40ac20d7c4d34bd9.txt:\n",
      "3 0.47842261875 0.5605158734375 0.528769840625 0.6471560843749999 0.533978175 0.653108465625 0.543898809375 0.658730159375 0.5699404765625 0.6600529093749999 0.609126984375 0.6266534390625 0.7522321421875 0.4953703703125 0.799603175 0.447089946875 0.81200396875 0.428571428125 0.8226686515624999 0.4047619046875 0.8268849203125 0.3918650796875 0.8323412703124999 0.36937830625 0.8345734125 0.35482804218749997 0.8350694437499999 0.3125 0.8293650796875 0.290674603125 0.815476190625 0.25429894218750004 0.7978670640625001 0.227513228125 0.7849702375 0.2139550265625 0.7676091265625 0.2020502640625 0.7450396828125 0.196097884375 0.7242063484375 0.19378306875 0.7118055562500001 0.19411375625 0.6830357140625 0.2000661375 0.6584821421875 0.21626984062500001 0.6334325390625 0.240740740625 0.46651785781250005 0.415013228125 0.4424603171875 0.44444444375 0.43973214218749995 0.46660052968750004 0.44097222187499996 0.48247354531250003 0.46552579375 0.5357142859375 0.47842261875 0.5605158734375\n",
      "Predictions for T5ZuOVWXKL_jpeg.rf.a2810cf03f12c6305928421f6c68d570.txt:\n",
      "3 0.37875000000000003 0.7706666671875 0.43899999999999995 0.8366666671875 0.45325 0.849 0.5185 0.8876666671875 0.5705 0.913 0.6905 0.9646666671874999 0.786 0.9996666671875 0.8380000000000001 0.9996666671875 0.851 0.9856666671875001 0.8574999999999999 0.9733333328124999 0.865 0.9403333328124999 0.8710000000000001 0.8996666671875 0.8724999999999999 0.8783333328125 0.8720000000000001 0.7596666671875 0.8640000000000001 0.6256666671875 0.85925 0.591 0.85725 0.5820000000000001 0.8535 0.5726666671875 0.8407500000000001 0.5553333328125001 0.8242499999999999 0.5429999999999999 0.8074999999999999 0.5363333328125 0.77225 0.5316666671875 0.49375 0.509 0.4765 0.51 0.45575 0.5156666671875 0.44299999999999995 0.5226666671875 0.42975 0.5349999999999999 0.41224999999999995 0.5563333328125 0.404 0.5716666671875 0.391 0.6 0.37725 0.6423333328124999 0.3675 0.7046666671875 0.3675 0.7323333328125 0.3695 0.7463333328124999 0.37225 0.76 0.37875000000000003 0.7706666671875\n",
      "Predictions for 20230721_111552935_iOS_jpg.rf.a2a8c4e18ef6263c3b13d64ee2361885.txt:\n",
      "2 0.5538194437499999 0.75595238125 0.568700396875 0.7761243390625 0.5801091265625 0.7853835984375 0.603670634375 0.799603175 0.6460813484375 0.8174603171875001 0.6738591265625 0.8234126984374999 0.6966765875 0.8227513234374999 0.8087797625 0.8039021156249999 0.8226686515624999 0.799603175 0.8390376984374999 0.7853835984375 0.846478175 0.7721560843749999 0.8504464281249999 0.7605820109375 0.8551587296875001 0.73115079375 0.856398809375 0.6954365078125 0.8479662703124999 0.5674603171875 0.8425099203125 0.5330687828125 0.8370535718750001 0.5135582015625 0.8268849203125 0.49140211562499997 0.8174603171875001 0.48082010625000005 0.8107638890625 0.47585978906250004 0.79637896875 0.471560846875 0.783978175 0.47089947031249996 0.668898809375 0.4857804234375 0.6460813484375 0.4923941796875 0.624751984375 0.5039682546875001 0.59052579375 0.528108465625 0.5771329359374999 0.5393518515625 0.5513392859375 0.565145503125 0.5394345234375 0.58167989375 0.5359623015625 0.5985449734375 0.533978175 0.6170634921875 0.533978175 0.6471560843749999 0.541170634375 0.712632275 0.5453869046875 0.7328042328125 0.5538194437499999 0.75595238125\n",
      "Predictions for IMG_2466_JPG.rf.cdfbb046bbc15ba34aaca4251271a15e.txt:\n",
      "3 0.7051091265625 0.4358465609375 0.70907738125 0.44940476250000005 0.7150297625 0.4613095234375 0.721230159375 0.46891534375 0.734126984375 0.4751984125 0.7867063484375 0.47982804218749997 0.8616071421875 0.4609788359375 0.8787202375 0.4517195765625 0.8985615078125001 0.43386243437500005 0.902777778125 0.427910053125 0.90674603125 0.41765872968749995 0.908730159375 0.3918650796875 0.9082341265625 0.38095238125 0.884424603125 0.090608465625 0.877976190625 0.0456349203125 0.8727678578125 0.01818783125 0.86532738125 0.0003306875 0.6897321421875 0 0.6810515875 0.0119047625 0.669146825 0.037367725000000004 0.6631944437499999 0.06283068750000001 0.6599702375 0.08630952343750001 0.659722221875 0.10185185156250001 0.6634424609375 0.14947090000000002 0.6924603171875 0.35482804218749997 0.7051091265625 0.4358465609375\n",
      "Predictions for 20230721_111340867_iOS_jpg.rf.60a5567b4f09176eed29674d281cf8dc.txt:\n",
      "2 0.19196428593749998 0.6607142859375 0.197420634375 0.684523809375 0.20238095312499998 0.6987433859375 0.20510912656250002 0.721891534375 0.2078373015625 0.7361111109375 0.21304563437500001 0.7513227515625001 0.224950396875 0.7721560843749999 0.2383432546875 0.7867063484375 0.25595238125 0.7992724875 0.3209325390625 0.833994709375 0.33407738125 0.8445767203125 0.39161706406249996 0.9017857140625001 0.4052579359375 0.9126984125 0.4293154765625 0.927910053125 0.462549603125 0.940806878125 0.5039682546875001 0.9510582015625 0.5295138890625 0.9546957671875 0.5523313484375 0.95634920625 0.5830853171875 0.95634920625 0.596726190625 0.9546957671875 0.61259920625 0.9500661375 0.634424603125 0.9361772484375 0.64657738125 0.9242724875 0.6626984125 0.9021164015625001 0.6788194437499999 0.8740079359375 0.6917162703125 0.8488756609375001 0.7115575390625 0.803240740625 0.718501984375 0.7824074078125001 0.724950396875 0.7549603171875 0.7279265875 0.7354497359375001 0.7274305562500001 0.7195767203125001 0.7209821421875 0.6865079359374999 0.71552579375 0.66898148125 0.688244046875 0.6071428578125 0.6612103171875 0.5522486765625 0.6321924609375 0.5109126984375 0.60887896875 0.4834656078125 0.5868055562500001 0.46428571406249997 0.5381944437499999 0.4322089953125 0.52157738125 0.41898148125 0.5071924609375 0.4044312171875 0.4734623015625 0.36276454999999996 0.459325396875 0.3488756609375 0.444196428125 0.3373015875 0.4310515875 0.3323412703125 0.412450396875 0.33101851875 0.393105159375 0.3333333328125 0.3797123015625 0.3373015875 0.3474702375 0.3386243390625 0.327876984375 0.3422619046875 0.275545634375 0.3485449734375 0.264880953125 0.3515211640625 0.24107142812500001 0.36375661406250004 0.22619047656250002 0.3773148140625 0.2142857140625 0.39252645468749997 0.1875 0.44312169375000005 0.17534722187500001 0.46825396875 0.1671626984375 0.491071428125 0.1641865078125 0.5049603171875 0.16220238125 0.5224867718749999 0.162946428125 0.5419973546875 0.171875 0.5869709000000001 0.1855158734375 0.641203703125 0.19196428593749998 0.6607142859375\n",
      "Predictions for hN3lyNIrdr_jpeg.rf.ab5df22065232343d90a5281bb370232.txt:\n",
      "3 0.4535 0.671 0.46875 0.683 0.4755 0.6849999999999999 0.51925 0.6910000000000001 0.5725 0.6936666671875 0.6295 0.6856666671875 0.64675 0.674 0.65925 0.6593333328125001 0.6717500000000001 0.634 0.67475 0.62 0.68225 0.5599999999999999 0.68475 0.509 0.68425 0.4806666671875 0.619 0.1166666671875 0.6115 0.10066666718749999 0.60675 0.097 0.595 0.0933333328125 0.54625 0.0953333328125 0.53175 0.09733333281249999 0.48425 0.10933333281249999 0.45225 0.12 0.438 0.13 0.4085 0.175 0.40599999999999997 0.186 0.40425000000000005 0.215 0.403 0.3036666671875 0.40275 0.41500000000000004 0.40425000000000005 0.48200000000000004 0.42925 0.6323333328125 0.4535 0.671\n",
      "Predictions for 4haUDM7iv1_jpeg.rf.13804bd0e4c5c89d5e98bfb8f7740453.txt:\n",
      "3 0.38775 0.6253333328124999 0.4495 0.6910000000000001 0.462 0.7030000000000001 0.479 0.7143333328125 0.49325 0.7183333328125 0.508 0.7183333328125 0.5255 0.7143333328125 0.5335 0.7096666671875 0.5725 0.638 0.59175 0.5953333328125 0.5934999999999999 0.584 0.5934999999999999 0.5733333328125 0.58975 0.554 0.58525 0.541 0.5715 0.5203333328124999 0.52225 0.46399999999999997 0.47325 0.414 0.43125 0.3776666671875 0.41574999999999995 0.36633333281249997 0.40750000000000003 0.3623333328125 0.38975 0.36 0.37775 0.363 0.3655 0.37333333281250003 0.35225 0.38933333281250004 0.32799999999999996 0.4313333328125 0.316 0.4573333328125 0.312 0.46900000000000003 0.30924999999999997 0.4853333328125 0.30924999999999997 0.5023333328125 0.31175 0.5186666671875 0.32625000000000004 0.5443333328125 0.38775 0.6253333328124999\n",
      "Predictions for 20230721_110218324_iOS_jpg.rf.5e7216555668db10617f5a47bebd91f2.txt:\n",
      "0 0.3045634921875 0.7457010578125 0.313244046875 0.7632275125 0.3239087296875 0.7767857140625 0.33506944375000003 0.7880290999999999 0.343005953125 0.79332010625 0.3695436515625 0.8019179890625001 0.5414186515625 0.7744709000000001 0.5726686515625 0.7632275125 0.596230159375 0.7509920640625001 0.6269841265625 0.7225529093749999 0.6336805562500001 0.7136243390625 0.66865079375 0.5542328046875 0.650049603125 0.1640211640625 0.64384920625 0.1451719578125 0.63467261875 0.1273148140625 0.62177579375 0.1137566140625 0.60887896875 0.10912698437499999 0.5954861109375 0.1074735453125 0.5448908734375 0.10813492031250001 0.518601190625 0.11342592656249999 0.491071428125 0.127645503125 0.4439484125 0.1640211640625 0.372271825 0.22387566093750003 0.3400297625 0.25429894218750004 0.3263888890625 0.272156084375 0.3137400796875 0.2956349203125 0.30357142812500004 0.3197751328125 0.2983630953125 0.3379629625 0.291170634375 0.3769841265625 0.2894345234375 0.4044312171875 0.28794642812500004 0.5730820109375 0.290674603125 0.683862434375 0.299603175 0.73181216875 0.3045634921875 0.7457010578125\n",
      "Predictions for 0mOP0S5RDb_jpeg.rf.72b43df0d3b3df14ee7f786c40c3793e.txt:\n",
      "4 0.48600000000000004 0.669 0.49349999999999994 0.6846666671875 0.508 0.696 0.545 0.6956666671875 0.58575 0.6823333328125 0.60875 0.659 0.6134999999999999 0.6456666671875 0.632 0.5186666671875 0.631 0.49466666718749996 0.6184999999999999 0.3543333328125 0.607 0.352 0.545 0.3496666671875 0.50625 0.351 0.46849999999999997 0.3586666671875 0.45875000000000005 0.368 0.457 0.37733333281250003 0.47225 0.5833333328125 0.47850000000000004 0.6396666671875 0.48125 0.655 0.48600000000000004 0.669\n",
      "Predictions for IMG_1795_JPG.rf.eb666820f16a32aaa0ac15bbbe0b2911.txt:\n",
      "3 0.580605159375 0 0.5560515875 0.0234788359375 0.5431547625 0.040343915625 0.5295138890625 0.0625 0.5171130953125 0.08664021093749999 0.50322420625 0.124338625 0.49280753906249997 0.1640211640625 0.49032738125 0.178240740625 0.486855159375 0.2132936515625 0.48784722187499996 0.311838625 0.4923115078125 0.45634920625 0.5044642859375 0.7331349203124999 0.512896825 0.8683862437500001 0.515376984375 0.8859126984374999 0.5178571421875 0.89417989375 0.5404265875 0.94973545 0.546875 0.9540343921875 0.658978175 0.9834656078125 0.70634920625 0.9857804234374999 0.8058035718750001 0.985119046875 0.862351190625 0.9742063484375001 0.9623015875 0.941137565625 0.9709821421875 0.9365079359375 0.9908234125 0.9004629625 0.999751984375 0.8796296296874999 0.999751984375 0.20370370312500002 0.987351190625 0.1699735453125 0.9734623015625001 0.1415343921875 0.9618055562500001 0.12466931249999999 0.937251984375 0.097222221875 0.924851190625 0.0856481484375 0.893601190625 0.06349206406249999 0.794394840625 0 0.580605159375 0\n",
      "Predictions for 20230721_102902407_iOS_jpg.rf.a2f576253367c4e89007c0cc2b9374a7.txt:\n",
      "1 0.2748015875 0.4917328046875 0.3105158734375 0.6633597890625 0.32465277812500004 0.7225529093749999 0.32862103125000003 0.7357804234375 0.34052579375 0.7632275125 0.3576388890625 0.7857142859375 0.3658234125 0.7929894187500001 0.377728175 0.8005952375 0.390873015625 0.8055555562500001 0.40252976250000005 0.8075396828124999 0.4310515875 0.8072089953124999 0.4541170640625 0.802579365625 0.4890873015625 0.7903439156250001 0.5091765875 0.7794312171875 0.55654761875 0.7483465609375 0.568700396875 0.7361111109375 0.58407738125 0.7136243390625 0.5895337296875 0.696759259375 0.5949900796875001 0.6732804234375 0.596478175 0.6570767203125001 0.596726190625 0.6339285718750001 0.5927579359374999 0.5958994703125 0.58407738125 0.5489417984375 0.5381944437499999 0.3419312171875 0.5138888890625 0.24470899531249998 0.5019841265625 0.203042328125 0.4920634921875 0.177579365625 0.484375 0.1620370375 0.4751984125 0.1504629625 0.468998015625 0.14550264531249998 0.343501984375 0.059854496874999996 0.3397817453125 0.058862434374999995 0.330605159375 0.0605158734375 0.3263888890625 0.0638227515625 0.321924603125 0.07374338593749999 0.250744046875 0.25 0.2455357140625 0.2761243390625 0.2435515875 0.2893518515625 0.24429563437500001 0.3045634921875 0.2606646828125 0.4117063484375 0.2748015875 0.4917328046875\n",
      "Predictions for 20230721_111328549_iOS_jpg.rf.ed0fd88b482c83e91e9e55cf1e4390ee.txt:\n",
      "2 0.1984126984375 0.6960978843750001 0.2251984125 0.7460317453124999 0.24255952343749998 0.7721560843749999 0.2554563484375 0.7956349203124999 0.27256944375000003 0.837632275 0.281001984375 0.8667328046874999 0.2884424609375 0.8978174609374999 0.299851190625 0.9308862437500001 0.315228175 0.9636243390624999 0.3390376984375 0.9996693125 0.715773809375 0.9996693125 0.7274305562500001 0.9639550265624999 0.7398313484375 0.909060846875 0.7455357140625 0.8726851859375 0.7482638890625 0.8485449734375001 0.7519841265625 0.8075396828124999 0.7522321421875 0.7830687828125 0.749255953125 0.75 0.744295634375 0.721891534375 0.7326388890625 0.6808862437500001 0.7239583328125 0.65575396875 0.7140376984375 0.621693121875 0.70907738125 0.5992063484375 0.706101190625 0.5492724875 0.7048611109375 0.5039682546875001 0.700148809375 0.4735449734375 0.693700396875 0.4451058203125 0.687251984375 0.4292328046875 0.6810515875 0.41732804218749997 0.671626984375 0.40410052968750004 0.6604662703125 0.39318783125 0.6264880953125 0.3710317453125 0.609126984375 0.3518518515625 0.5818452375 0.32771164062499997 0.5017361109375 0.2625661375 0.4831349203125 0.2516534390625 0.466269840625 0.2460317453125 0.4422123015625 0.24338624375 0.4141865078125 0.24570105781249998 0.403521825 0.2486772484375 0.375 0.2605820109375 0.3147321421875 0.28802910000000004 0.29737103125000003 0.3005952375 0.2765376984375 0.32142857187499996 0.26240079375 0.340939153125 0.2514880953125 0.365079365625 0.23958333281250002 0.403439153125 0.21304563437500001 0.5168650796875001 0.2095734125 0.5416666671875 0.20907738125000003 0.5585317453124999 0.2073412703125 0.56845238125 0.20039682499999997 0.58134920625 0.197420634375 0.590277778125 0.18998015937499999 0.621693121875 0.1887400796875 0.6329365078125 0.18849206406250002 0.646825396875 0.1894841265625 0.659060846875 0.1939484125 0.68187830625 0.1984126984375 0.6960978843750001\n",
      "Predictions for 20230721_110206484_iOS_jpg.rf.58de1c8efa59f7f5bfa2fb3614fb5567.txt:\n",
      "2 0.3395337296875 0.5360449734375 0.3516865078125 0.571759259375 0.3829365078125 0.6316137562499999 0.3945932546875 0.66931216875 0.4012896828125 0.6987433859375 0.41319444375 0.7228835984375 0.42906746093750003 0.7374338625 0.4427083328125 0.7430555562500001 0.45758928593750003 0.74404761875 0.4672619046875 0.7423941796875 0.4789186515625 0.7384259265625001 0.500744046875 0.7271825390625 0.5071924609375 0.7225529093749999 0.5200892859375 0.709325396875 0.5391865078125 0.69345238125 0.5706845234375 0.6699735453125 0.5865575390625 0.6610449734375 0.5987103171875 0.6524470906250001 0.612351190625 0.640873015625 0.625744046875 0.6233465609375 0.634920634375 0.60681216875 0.6383928578125 0.5978835984375 0.6428571421875 0.5793650796875001 0.643105159375 0.5667989421875 0.6416170640625001 0.5555555562500001 0.6326884921875 0.534391534375 0.619295634375 0.51223545 0.603174603125 0.48214285781250005 0.596230159375 0.465608465625 0.5892857140625 0.44113756562499995 0.57762896875 0.40839947031249996 0.5677083328125 0.387896825 0.5548115078125 0.365740740625 0.53447420625 0.3389550265625 0.509920634375 0.31349206406249996 0.49652777812500004 0.3015873015625 0.48015872968749995 0.2893518515625 0.46825396875 0.2833994703125 0.45659722187499996 0.2794312171875 0.440228175 0.278439153125 0.428571428125 0.28141534375 0.4139384921875 0.2876984125 0.388144840625 0.302910053125 0.368799603125 0.31679894218750004 0.356894840625 0.32705026406250004 0.33928571406249997 0.3488756609375 0.3360615078125 0.3544973546875 0.3318452375 0.3673941796875 0.328373015625 0.38095238125 0.3263888890625 0.39649470937500003 0.3261408734375 0.427910053125 0.32762896874999997 0.46957672031250003 0.3333333328125 0.5072751328125 0.3395337296875 0.5360449734375\n",
      "Predictions for 20230723_175223119_iOS_jpg.rf.5a5928ef732aacf78f8d842c299c0b61.txt:\n",
      "0 0.14384920625 0 0.0376984125 0.01917989375 0.012152778125 0.028769840624999998 0 0.034722221875 0 0.8921957671875 0.012896825 0.9107142859374999 0.0367063484375 0.927910053125 0.068700396875 0.9365079359375 0.240575396875 0.9613095234375001 0.7118055562500001 0.95601851875 0.7232142859375 0.9550264546875 0.7455357140625 0.9500661375 0.76612103125 0.9394841265625 0.7859623015625 0.9265873015625001 0.800347221875 0.9130290999999999 0.825396825 0.877976190625 0.8368055562500001 0.8515211640624999 0.8415178578125 0.8359788359375001 0.847222221875 0.8082010578125001 0.8501984125 0.7827380953125 0.8556547625 0.6481481484375 0.856894840625 0.5701058203125 0.8576388890625 0.2046957671875 0.84970238125 0.1269841265625 0.8449900796875 0.10119047656249999 0.8397817453125 0.0826719578125 0.825396825 0.0482804234375 0.81299603125 0.028108465625000002 0.7896825390625 0 0.14384920625 0\n",
      "0 0.1421130953125 0 0.037450396875 0.01917989375 0.025545634374999997 0.0228174609375 0.00049603125 0.034391534375 0 0.8925264546875 0.012648809375 0.9107142859374999 0.037450396875 0.9285714281249999 0.06795634843750001 0.9365079359375 0.24032738125000003 0.9619709000000001 0.7113095234375 0.95601851875 0.7232142859375 0.9550264546875 0.7455357140625 0.9500661375 0.76612103125 0.9394841265625 0.7859623015625 0.9265873015625001 0.800347221875 0.9130290999999999 0.824652778125 0.8792989421874999 0.8363095234375001 0.8528439156250001 0.841021825 0.8379629625 0.847222221875 0.8085317453125 0.8501984125 0.7833994703125 0.855902778125 0.646825396875 0.856894840625 0.5714285718750001 0.8576388890625 0.20238095312499998 0.849454365625 0.125 0.8449900796875 0.1008597890625 0.8392857140625001 0.08101851875 0.8263888890625 0.049933862499999995 0.8144841265625 0.0304232796875 0.7894345234375 0 0.1421130953125 0\n",
      "Predictions for 20230721_102849991_iOS_jpg.rf.2720feffbc1c63963b83c97e1cb2617b.txt:\n",
      "1 0.3033234125 0.8382936515624999 0.327876984375 0.8630952375 0.34052579375 0.8730158734375 0.365575396875 0.8869047625 0.39657738125 0.896164021875 0.4166666671875 0.8971560843749999 0.42906746093750003 0.89384920625 0.4427083328125 0.8862433859375001 0.4543650796875 0.872354496875 0.625 0.615740740625 0.6629464281249999 0.5376984125 0.67137896875 0.5171957671875 0.7008928578125 0.42757936562500004 0.705853175 0.403769840625 0.706101190625 0.16335978906249998 0.7021329359374999 0.1504629625 0.6941964281249999 0.137896825 0.684771825 0.1269841265625 0.67137896875 0.12466931249999999 0.5054563484375 0.17294973593750002 0.493799603125 0.1795634921875 0.48015872968749995 0.191137565625 0.4623015875 0.2139550265625 0.4270833328125 0.2678571421875 0.3645833328125 0.37830687812499997 0.2886904765625 0.516203703125 0.265625 0.5621693125 0.25322420625 0.59358465625 0.2490079359375 0.609457671875 0.2455357140625 0.6302910046875 0.2462797625 0.65575396875 0.250248015625 0.6742724875 0.290674603125 0.8191137562499999 0.3033234125 0.8382936515624999\n",
      "Predictions for 20230721_112635968_iOS_jpg.rf.bb163c188d8fd944226ccc256d3e2264.txt:\n",
      "2 0.530505953125 0.546626984375 0.54092261875 0.5585317453124999 0.556795634375 0.571759259375 0.593501984375 0.5982142859375 0.634424603125 0.622023809375 0.64657738125 0.625 0.6609623015625 0.624338625 0.8058035718750001 0.572089946875 0.8258928578125 0.559854496875 0.84052579375 0.5486111109375 0.862351190625 0.5291005296875 0.8891369046875001 0.5009920640625001 0.9010416671874999 0.484457671875 0.9099702375 0.46924603125 0.91592261875 0.45667989374999995 0.92137896875 0.4388227515625 0.924355159375 0.41732804218749997 0.924851190625 0.3852513234375 0.9201388890625 0.33101851875 0.9141865078125001 0.30555555624999997 0.9050099203125 0.28075396874999997 0.893601190625 0.262896825 0.877480159375 0.2490079359375 0.853670634375 0.23776455 0.800347221875 0.2228835984375 0.77157738125 0.22056878281249997 0.7425595234375 0.2235449734375 0.6076388890625 0.262896825 0.5895337296875 0.2741402109375 0.5771329359374999 0.29001322812499997 0.5292658734375 0.3753306875 0.515376984375 0.40542327968749997 0.5116567453124999 0.41898148125 0.5081845234375 0.43981481406249995 0.5089285718750001 0.4580026453125 0.518601190625 0.515873015625 0.5243055562500001 0.5353835984375 0.530505953125 0.546626984375\n",
      "Predictions for tExtPlpX1a_jpeg.rf.765ec89fef4b17ae48a53c6f5368ae91.txt:\n",
      "4 0.5445 0.6696666671875 0.5627500000000001 0.6703333328125 0.64625 0.666 0.6585 0.6599999999999999 0.66075 0.6553333328125001 0.663 0.6436666671875 0.66525 0.5623333328125 0.665 0.489 0.6615 0.418 0.6597500000000001 0.4046666671875 0.6555 0.3993333328125 0.645 0.3946666671875 0.546 0.3926666671875 0.5395 0.3963333328125 0.53525 0.4026666671875 0.53425 0.40800000000000003 0.534 0.646 0.5365 0.6603333328125001 0.54125 0.6673333328125 0.5445 0.6696666671875\n",
      "Predictions for zlKiRIvd5t_jpeg.rf.1796687967946c066d92001fbdaf6401.txt:\n",
      "0 0.3645 0.7593333328125 0.37525 0.7726666671875 0.38125 0.7769999999999999 0.3895 0.7786666671875 0.5555 0.7826666671875 0.57075 0.7813333328125001 0.5845 0.7726666671875 0.5900000000000001 0.759 0.5945 0.7226666671875 0.5995 0.6263333328125 0.601 0.5313333328125001 0.6 0.5186666671875 0.59675 0.505 0.584 0.45866666718750004 0.5815 0.454 0.5715 0.4443333328125 0.5662499999999999 0.442 0.55725 0.44066666718749997 0.5309999999999999 0.4413333328125 0.39125 0.4573333328125 0.34199999999999997 0.465 0.33075 0.4683333328125 0.32825000000000004 0.471 0.3255 0.4803333328125 0.32525 0.4853333328125 0.35675 0.7333333328125 0.35950000000000004 0.7456666671875001 0.3645 0.7593333328125\n",
      "Predictions for iNn0rPHQno_jpeg.rf.204e4660347d32ec382fa2dfbd57ea3e.txt:\n",
      "4 0.34925 0.6086666671875001 0.48925 0.6456666671875 0.50525 0.6486666671875 0.5165 0.6483333328125 0.5197499999999999 0.6466666671875 0.5205 0.6436666671875 0.51925 0.5583333328125 0.5165 0.5083333328124999 0.495 0.44066666718749997 0.4885 0.426 0.48224999999999996 0.421 0.45875000000000005 0.41500000000000004 0.45599999999999996 0.41566666718749995 0.44400000000000006 0.4256666671875 0.34075 0.5723333328125 0.33775 0.5863333328125 0.337 0.5956666671875 0.34049999999999997 0.6033333328125 0.34249999999999997 0.6056666671875 0.34925 0.6086666671875001\n",
      "Predictions for 20230721_111330462_iOS_jpg.rf.7e5a40f978bb2a8d5577c9542b83243d.txt:\n",
      "2 0.278273809375 0.6048280421875 0.2797619046875 0.6347787703125001 0.2797619046875 0.6600529093749999 0.2770337296875 0.722222221875 0.2770337296875 0.74437830625 0.278769840625 0.771825396875 0.2854662703125 0.821759259375 0.2884424609375 0.8356481484374999 0.2946428578125 0.853835978125 0.30009920625 0.875661375 0.31200396874999997 0.9080687828125 0.3382936515625 0.971891534375 0.3519345234375 0.9996693125 0.6636904765625 0.9996693125 0.6731150796875001 0.978505290625 0.690476190625 0.9308862437500001 0.71279761875 0.8604497359375 0.7239583328125 0.8108465609375 0.728670634375 0.7728174609375 0.731646825 0.7331349203124999 0.731646825 0.7050264546875 0.7291666671875 0.6765873015625 0.7209821421875 0.6104497359375001 0.718998015625 0.578373015625 0.719494046875 0.5542328046875 0.728670634375 0.4454365078125 0.728174603125 0.43320105781249996 0.7266865078125 0.41798941875000006 0.72197420625 0.3948412703125 0.7085813484375 0.36805555624999997 0.6981646828125 0.35350529062499997 0.684771825 0.3396164015625 0.6785714281249999 0.33134920625 0.6639384921875 0.303240740625 0.6272321421875 0.2453703703125 0.6051587296875 0.21296296250000002 0.5895337296875 0.19378306875 0.5711805562500001 0.178571428125 0.5543154765625 0.16832010625 0.543898809375 0.1640211640625 0.531498015625 0.1610449734375 0.5173611109375 0.1603835984375 0.44593253906249997 0.165343915625 0.4283234125 0.16931216875 0.4171626984375 0.17361111093749998 0.40947420625 0.178240740625 0.3958333328125 0.18816137500000002 0.387648809375 0.196759259375 0.365079365625 0.2265211640625 0.35267857187499996 0.24834656093750002 0.26884920625 0.4044312171875 0.26215277812500004 0.4209656078125 0.25595238125 0.453373015625 0.255704365625 0.47453703750000004 0.2579365078125 0.49603174531249994 0.27529761875 0.58134920625 0.278273809375 0.6048280421875\n",
      "Predictions for IMG_2474_JPG.rf.fa15499b50311e3f679a7e56d9bdb91e.txt:\n",
      "3 0.64012896875 0 0.627728175 0.0205026453125 0.619295634375 0.040013228125 0.612103175 0.0734126984375 0.6108630953125 0.0896164015625 0.6106150796875001 0.1167328046875 0.6116071421875 0.1296296296875 0.6448412703125 0.3544973546875 0.64657738125 0.3617724875 0.658978175 0.3822751328125 0.6629464281249999 0.3859126984375 0.6669146828125 0.38723545000000004 0.781498015625 0.4110449734375 0.797123015625 0.40674603125 0.809523809375 0.39417989375 0.812251984375 0.3892195765625 0.815228175 0.37830687812499997 0.81845238125 0.3541666671875 0.8048115078125001 0.06349206406249999 0.8010912703124999 0.0360449734375 0.7889384921875 0 0.64012896875 0\n",
      "Predictions for rmrFk1psGJ_jpeg.rf.b1939347c8d99e392a7c7168df74a4a5.txt:\n",
      "4 0.5414186515625 0.712632275 0.603670634375 0.7119709000000001 0.6445932546875001 0.709325396875 0.65625 0.7043650796875001 0.659226190625 0.7020502640624999 0.66220238125 0.6964285718750001 0.6681547625 0.6732804234375 0.671130953125 0.5925925921874999 0.674851190625 0.1875 0.6733630953125 0.140211640625 0.6708829359374999 0.13062169375 0.6666666671875 0.124338625 0.658978175 0.1203703703125 0.5037202375 0.11871693125 0.49429563437499996 0.121693121875 0.48883928593750003 0.1273148140625 0.48363095312500004 0.1415343921875 0.48115079375 0.16501322812500002 0.4833829359375 0.6957671953125 0.4908234125 0.70568783125 0.49578372968749995 0.708664021875 0.5414186515625 0.712632275\n",
      "Predictions for opc9Ndtdfk_jpeg.rf.c386932512f46b1b9e4151f7f17e728d.txt:\n",
      "4 0.1612103171875 0.5582010578125 0.17534722187500001 0.59358465625 0.1897321421875 0.6203703703125 0.19866071406250002 0.6339285718750001 0.21279761874999997 0.6514550265625 0.234375 0.6739417984375 0.24950396874999997 0.6865079359374999 0.2668650796875 0.6987433859375 0.2919146828125 0.7109788359375 0.3268849203125 0.7202380953125 0.34027777812500004 0.722222221875 0.3581349203125 0.721230159375 0.3831845234375 0.7172619046875 0.400049603125 0.712632275 0.428075396875 0.69973545 0.444196428125 0.6898148140625 0.4764384921875 0.6610449734375 0.4990079359375 0.6355820109375 0.509424603125 0.621362434375 0.5220734125 0.5978835984375 0.537450396875 0.558862434375 0.5451388890625 0.5320767203125001 0.549603175 0.5072751328125 0.5515873015625 0.459656084375 0.546626984375 0.3826058203125 0.531498015625 0.328703703125 0.5178571421875 0.29100529062499997 0.49652777812500004 0.25429894218750004 0.471478175 0.2242063484375 0.4605654765625 0.21362433906249997 0.4439484125 0.20039682499999997 0.421626984375 0.18816137500000002 0.3955853171875 0.1772486765625 0.3821924609375 0.1739417984375 0.3551587296875 0.1706349203125 0.3400297625 0.1706349203125 0.29588293593750004 0.1769179890625 0.26612103125000003 0.18915343906249998 0.24330357187499999 0.2040343921875 0.22867063437500001 0.21693121718750003 0.21552579375 0.2321428578125 0.2021329359375 0.250661375 0.190476190625 0.26851851875 0.1758432546875 0.2946428578125 0.1626984125 0.327380953125 0.1498015875 0.3697089953125 0.1421130953125 0.403439153125 0.1383928578125 0.4265873015625 0.1393849203125 0.471560846875 0.1428571421875 0.4953703703125 0.1483134921875 0.51818783125 0.1612103171875 0.5582010578125\n",
      "Predictions for a2ac0cee309d3685748ccbf7f7e78c9e_jpeg.rf.1b9f39f5b5d884644508e567e31fa67b.txt:\n",
      "3 0.0182291671875 0 0.013888889062500001 0.00244140625 0 0.0107421875 0 0.10400390625 0.010416667187500001 0.17919921875 0.0260416671875 0.2265625 0.1076388890625 0.390625 0.1875 0.5234375 0.22395833281250002 0.57666015625 0.24045138906250002 0.59375 0.48350694375 0.58056640625 0.5789930562500001 0.5732421875 0.6649305562500001 0.55908203125 0.6901041671875 0.55029296875 0.7213541671875 0.53173828125 0.7595486109375 0.49267578125 0.7647569437499999 0.48046875 0.762152778125 0.451171875 0.7126736109375 0.267578125 0.6475694437499999 0.11474609375 0.6232638890625 0.0712890625 0.5520833328125 0 0.0182291671875 0\n",
      "Predictions for 20230721_112554178_iOS_jpg.rf.27c7d30bddfc5da3bb2326d253c44580.txt:\n",
      "2 0.0553075390625 0.66865079375 0.062251984375 0.6822089953125 0.075396825 0.7013888890625 0.11334325468749999 0.749338625 0.150545634375 0.7886904765625 0.1755952375 0.8111772484375 0.202876984375 0.8300264546875 0.2175099203125 0.837632275 0.250744046875 0.846230159375 0.30282738125 0.8548280421875001 0.35044642812500004 0.8680555562500001 0.377976190625 0.8799603171875001 0.4074900796875 0.900132275 0.422123015625 0.9074074078125 0.43030753906249997 0.9130290999999999 0.45634920625 0.922288359375 0.468998015625 0.924603175 0.48387896875 0.9239417984375 0.5049603171875 0.9136904765624999 0.519097221875 0.9024470906250001 0.528769840625 0.8921957671875 0.536954365625 0.8859126984374999 0.5458829359374999 0.8802910046875001 0.5582837296875 0.8753306875 0.597222221875 0.8492063484375001 0.6488095234375 0.813161375 0.6626984125 0.80026455 0.672619046875 0.7867063484375 0.6803075390625 0.7728174609375 0.6857638890625 0.759589946875 0.6929563484375 0.7334656078124999 0.6984126984375 0.6964285718750001 0.706597221875 0.622023809375 0.70634920625 0.6078042328125 0.700644840625 0.58134920625 0.6964285718750001 0.56845238125 0.68427579375 0.5400132281250001 0.67237103125 0.51917989375 0.634424603125 0.459986771875 0.6143353171875 0.4325396828125 0.59697420625 0.3958333328125 0.5833333328125 0.3769841265625 0.5691964281249999 0.365410053125 0.5548115078125 0.358796296875 0.53125 0.35350529062499997 0.4856150796875 0.3488756609375 0.45684523749999995 0.3429232796875 0.428571428125 0.33167989375 0.3960813484375 0.3141534390625 0.3797123015625 0.3072089953125 0.35615079375 0.2999338625 0.3298611109375 0.29596560781250003 0.2988591265625 0.29497354531250003 0.2676091265625 0.296957671875 0.1994047625 0.3101851859375 0.1793154765625 0.315476190625 0.153273809375 0.3250661375 0.137648809375 0.3333333328125 0.12524801562500001 0.3422619046875 0.1111111109375 0.3578042328125 0.0974702375 0.3769841265625 0.0873015875 0.39451058125 0.0734126984375 0.42592592656250006 0.0453869046875 0.5049603171875 0.0362103171875 0.5416666671875 0.03174603125 0.5760582015625 0.031994046875 0.6028439156250001 0.0349702375 0.6226851859375 0.0488591265625 0.659060846875 0.0553075390625 0.66865079375\n",
      "Predictions for IMG_5552_jpeg.rf.0dc8b3fd665d2a58328293a74a8deddb.txt:\n",
      "0 0.062251984375 0.8214285718750001 0.07043650781250001 0.846560846875 0.075396825 0.8574735453125 0.0853174609375 0.8726851859375 0.0984623015625 0.8892195765625001 0.10987103125 0.9011243390624999 0.12673611093749998 0.9143518515625001 0.1510416671875 0.9239417984375 0.1641865078125 0.9265873015625001 0.3107638890625 0.9322089953124999 0.7366071421875 0.9295634921874999 0.7586805562500001 0.928240740625 0.7748015875 0.9242724875 0.7956349203124999 0.9130290999999999 0.8139880953124999 0.8998015875 0.8244047625 0.8882275125 0.8373015875 0.8700396828124999 0.85615079375 0.8363095234375001 0.862351190625 0.8214285718750001 0.865079365625 0.809854496875 0.8685515875 0.784722221875 0.8712797625 0.71924603125 0.86532738125 0.29001322812499997 0.8630952375 0.2552910046875 0.859375 0.24107142812500001 0.84970238125 0.21362433906249997 0.8370535718750001 0.18683862499999998 0.821924603125 0.16501322812500002 0.8105158734375 0.15277777812499999 0.7864583328125 0.13723544999999998 0.7517361109375 0.12665343906249998 0.7358630953125 0.12466931249999999 0.7197420640625001 0.12466931249999999 0.18923611093749998 0.1332671953125 0.1654265875 0.134920634375 0.1470734125 0.13988095312499998 0.12475198437499999 0.1507936515625 0.11160714218750001 0.16071428593749998 0.099950396875 0.171957671875 0.08779761875 0.1871693125 0.075148809375 0.209986771875 0.0625 0.24007936562499999 0.056547618749999994 0.2748015875 0.0543154765625 0.30026454999999996 0.051091270312500006 0.353174603125 0.0488591265625 0.41765872968749995 0.0491071421875 0.5142195765625 0.0543154765625 0.7774470906250001 0.0553075390625 0.7883597890625 0.062251984375 0.8214285718750001\n",
      "Predictions for WhatsApp-Image-2023-12-04-at-4_21_06-PM_jpeg.rf.ca5883f7770d69364a2063dbffa2335e.txt:\n",
      "4 0 0 0 0.9990234375 0.9986979171874999 0.9990234375 0.9986979171874999 0 0 0\n",
      "Predictions for IMG_20230721_154501_jpg.rf.a75ae4ee6cd2a7c58adf940a7b5ee275.txt:\n",
      "4 0.06770833281250001 0 0.057870370312499995 0.011067707812499999 0 0.083984375 0 0.25672743124999997 0.0899884265625 0.33116319375000003 0.13107638906250002 0.353515625 0.578703703125 0.583550346875 0.5827546296875 0.5842013890625 0.5859375 0.5813802078125 0.6232638890625 0.521918403125 0.686053240625 0.4040798609375 0.796875 0.189453125 0.8258101859375 0.12890625 0.8269675921875 0.11631944375 0.8255208328125001 0.1130642359375 0.779803240625 0.09982638906249999 0.6744791671875 0.074652778125 0.34288194375000003 0 0.06770833281250001 0\n",
      "Predictions for 20230721_113315670_iOS_jpg.rf.1c6d503ee7ee646c89e879ba57a5d132.txt:\n",
      "2 0.4270833328125 0.7116402109375 0.440228175 0.737103175 0.455853175 0.7582671953125 0.465773809375 0.76851851875 0.478174603125 0.778108465625 0.49305555625 0.7857142859375 0.5037202375 0.7890211640625 0.531001984375 0.79365079375 0.565476190625 0.796296296875 0.5865575390625 0.796296296875 0.6460813484375 0.790674603125 0.6629464281249999 0.7867063484375 0.6979166671875 0.7738095234375 0.7209821421875 0.7615740734374999 0.737351190625 0.75 0.771329365625 0.7195767203125001 0.81299603125 0.6894841265625 0.8318452375 0.6802248671875 0.9017857140625001 0.6504629625 0.92509920625 0.6369047625 0.939980159375 0.622023809375 0.9476686515624999 0.609457671875 0.9548611109375 0.5945767203125001 0.95907738125 0.5823412703125 0.9640376984374999 0.559523809375 0.96552579375 0.53141534375 0.9635416671874999 0.5102513234375 0.9585813484375001 0.48148148125 0.9451884921874999 0.4371693125 0.931299603125 0.40277777812500004 0.92509920625 0.39384920625 0.916170634375 0.384589946875 0.9117063484375001 0.37830687812499997 0.900049603125 0.35681216875 0.893353175 0.340939153125 0.8864087296875001 0.328373015625 0.87450396875 0.3022486765625 0.8707837296875001 0.290674603125 0.8638392859374999 0.277447090625 0.8479662703124999 0.24107142812500001 0.843501984375 0.2179232796875 0.8355654765624999 0.2007275125 0.8226686515624999 0.177910053125 0.8134920640625 0.1640211640625 0.799355159375 0.14550264531249998 0.7896825390625 0.1352513234375 0.7733134921875 0.1233465609375 0.7589285718750001 0.116071428125 0.7460317453124999 0.11177248749999999 0.7321428578125 0.11078042343750001 0.719494046875 0.11243386250000001 0.70907738125 0.116071428125 0.6941964281249999 0.1233465609375 0.6825396828125 0.1322751328125 0.66592261875 0.1488095234375 0.625 0.1977513234375 0.606398809375 0.21693121718750003 0.5927579359374999 0.227843915625 0.5359623015625 0.26455026406250004 0.5195932546875001 0.27678571406249997 0.5044642859375 0.290343915625 0.48239087343750003 0.315145503125 0.465773809375 0.3379629625 0.45262896875 0.358796296875 0.4166666671875 0.42394179843749996 0.4047619046875 0.44940476250000005 0.3888888890625 0.49305555625 0.3841765875 0.515211640625 0.380704365625 0.540674603125 0.3814484125 0.5585317453124999 0.38616071406249997 0.5866402109375 0.40277777812500004 0.646825396875 0.4270833328125 0.7116402109375\n",
      "Predictions for 20230723_174945243_iOS_jpg.rf.00bf2473bbbd92ff452691f91cf75826.txt:\n",
      "0 0.0533234125 0.900132275 0.0605158734375 0.9232804234374999 0.0709325390625 0.946759259375 0.084821428125 0.966269840625 0.0974702375 0.9798280421875001 0.1111111109375 0.9917328046874999 0.12524801562500001 0.9996693125 0.828373015625 0.9996693125 0.856398809375 0.9884259265625 0.8663194437499999 0.9828042328125 0.8710317453125 0.9778439156250001 0.8816964281249999 0.9619709000000001 0.884920634375 0.950396825 0.90302579375 0.822089946875 0.9045138890625 0.8039021156249999 0.8831845234375001 0.24404761874999997 0.859375 0.1137566140625 0.8506944437499999 0.0873015875 0.82862103125 0.0611772484375 0.81200396875 0.049933862499999995 0.7988591265625 0.046626984375 0.7251984125 0.0367063484375 0.690972221875 0.034060846875 0.42385912656249997 0.0234788359375 0.4047619046875 0.0238095234375 0.390625 0.0267857140625 0.1235119046875 0.16335978906249998 0.102678571875 0.1772486765625 0.08829365156249999 0.1917989421875 0.0731646828125 0.21296296250000002 0.063244046875 0.23048941875 0.0488591265625 0.26818783125 0.0448908734375 0.30555555624999997 0.0426587296875 0.42592592656250006 0.0419146828125 0.7546296296875 0.044146825 0.837632275 0.0456349203125 0.8574735453125 0.0533234125 0.900132275\n",
      "Predictions for C4f9b2GLKr_jpeg.rf.3d5863eed90ae7544534e1dc32bc2de3.txt:\n",
      "3 0.46849999999999997 0.737 0.48125 0.7466666671875 0.50625 0.7603333328125 0.5565 0.7616666671875 0.579 0.7516666671875 0.5822499999999999 0.747 0.5974999999999999 0.7093333328125 0.6002500000000001 0.696 0.6025 0.6716666671875 0.6054999999999999 0.501 0.60325 0.43966666718749997 0.60175 0.429 0.5985 0.42133333281249996 0.59575 0.41733333281249996 0.581 0.4073333328125 0.5660000000000001 0.4023333328125 0.53125 0.398 0.515 0.3976666671875 0.49474999999999997 0.4 0.48274999999999996 0.40433333281249995 0.47675 0.40933333281250006 0.47074999999999995 0.4176666671875 0.4655 0.42766666718749996 0.45949999999999996 0.44400000000000006 0.45599999999999996 0.4583333328125 0.4525 0.506 0.45125000000000004 0.6896666671875 0.453 0.7083333328125 0.4585 0.722 0.46849999999999997 0.737\n",
      "Predictions for bp319_jpeg.rf.fb620ff945e431df5471c3b03e23f7af.txt:\n",
      "0 0.27734375 0.7626953125 0.3151041671875 0.7861328125 0.3424479171875 0.7958984375 0.40234375 0.8056640625 0.4778645828125 0.80859375 0.6380208328125 0.8056640625 0.7734375 0.796875 0.8111979171874999 0.787109375 0.8606770828125001 0.7646484375 0.8880208328125001 0.744140625 0.9114583328125001 0.7109375 0.9270833328125001 0.6328125 0.9375 0.224609375 0.9270833328125001 0.166015625 0.890625 0.11328125 0.8515625 0.0869140625 0.8190104171874999 0.07421875 0.7291666671875 0.060546875 0.3971354171875 0.060546875 0.3411458328125 0.0654296875 0.2877604171875 0.087890625 0.2513020828125 0.11328125 0.22265625 0.15625 0.21354166718749998 0.203125 0.21223958281250002 0.373046875 0.234375 0.689453125 0.25 0.7294921875 0.27734375 0.7626953125\n",
      "Predictions for 20230721_101916259_iOS_jpg.rf.a235a7287ae5ab017455fc8c172198c8.txt:\n",
      "1 0.44866071406249997 0.9996693125 0.76240079375 0.9996693125 0.7849702375 0.912367725 0.7946428578125 0.8521825390625001 0.8010912703124999 0.79431216875 0.809771825 0.6861772484374999 0.8107638890625 0.659060846875 0.809771825 0.49437830624999995 0.8048115078125001 0.427910053125 0.8015873015625001 0.4080687828125 0.79737103125 0.391203703125 0.7881944437499999 0.37830687812499997 0.7591765875 0.365410053125 0.6944444437499999 0.340939153125 0.646329365625 0.327380953125 0.5726686515625 0.31580687812499997 0.5114087296875 0.3105158734375 0.49652777812500004 0.3111772484375 0.48759920625 0.315476190625 0.4766865078125 0.328042328125 0.4702380953125 0.340939153125 0.466021825 0.352843915625 0.455853175 0.3928571421875 0.44990079375 0.42625661406250004 0.44345238125 0.46858465625 0.4293154765625 0.58167989375 0.42113095312500004 0.708664021875 0.41989087343750003 0.80026455 0.424355159375 0.846891534375 0.44122023749999995 0.9864417984375 0.44866071406249997 0.9996693125\n",
      "Predictions for 20230723_174503116_iOS_jpg.rf.3037caae69eb6402ded9f0cb2334f92e.txt:\n",
      "0 0.062748015625 0.8148148140625 0.43353174531249994 0.890542328125 0.493303571875 0.9007936515624999 0.659226190625 0.91931216875 0.6708829359374999 0.9126984125 0.6830357140625 0.900132275 0.6857638890625 0.8948412703124999 0.6887400796875001 0.8855820109374999 0.6929563484375 0.860119046875 0.6887400796875001 0.63062169375 0.6386408734375 0.2367724875 0.625248015625 0.2020502640625 0.6014384921875 0.1636904765625 0.5362103171875 0.06845238125 0.5257936515625 0.0572089953125 0.512896825 0.0489417984375 0.48511904687499996 0.0367063484375 0.46949404687499996 0.034391534375 0.456101190625 0.0367063484375 0.430803571875 0.046957671875 0.3764880953125 0.0727513234375 0.2075892859375 0.159391534375 0.11855158750000001 0.2123015875 0.10813492031250001 0.221891534375 0.096726190625 0.2367724875 0.0823412703125 0.2671957671875 0.0376984125 0.4143518515625 0.027777778125000003 0.46660052968750004 0.0270337296875 0.47718253906249997 0.0257936515625 0.51884920625 0.0481150796875 0.759259259375 0.05009920624999999 0.7698412703125 0.062748015625 0.8148148140625\n",
      "Predictions for NwTst4_jpg.rf.2e5293a3698b0ca6e26fd52b82aafd09.txt:\n",
      "0 0.1469305609375 0 0.0865481375 0.0522181140625 0.077490775 0.0628465796875 0.04964776875 0.11645101718749999 0.009392821875 0.21395563750000002 0 0.251386321875 0 0.9995378921875 0.8996980875 0.9995378921875 0.9996645421875 0.9524029578125001 0.9996645421875 0.17791127499999998 0.9953035890624999 0.0988909421875 0.9879235156249999 0.075323475 0.9748406578125 0.05730129375 0.962428715625 0.0457486140625 0.9503522312499999 0.0369685765625 0.8698423343749999 0 0.1469305609375 0\n",
      "Predictions for 20230721_105550104_iOS_jpg.rf.a51739ca85353a4c3edb84aef80d1445.txt:\n",
      "0 0.5644841265625 0.646494709375 0.578125 0.6640211640625 0.5947420640625001 0.6828703703125 0.60887896875 0.6957671953125 0.659722221875 0.709325396875 0.6954365078125 0.7139550265625 0.7108134921875 0.7142857140625 0.7232142859375 0.7106481484375 0.7366071421875 0.69973545 0.7398313484375 0.6954365078125 0.75 0.672619046875 0.7547123015625 0.6547619046875 0.7730654765625 0.5330687828125 0.771825396875 0.5085978843750001 0.76884920625 0.49404761875 0.7539682546875001 0.4480820109375 0.747519840625 0.43320105781249996 0.7420634921875 0.42526454999999996 0.734623015625 0.41732804218749997 0.7145337296875 0.403769840625 0.615575396875 0.377645503125 0.6046626984375 0.3766534390625 0.5954861109375 0.38095238125 0.5709325390625 0.4117063484375 0.5647321421875 0.4229497359375 0.5602678578125 0.434854496875 0.5538194437499999 0.46660052968750004 0.5429067453124999 0.5955687828125 0.5456349203124999 0.6078042328125 0.5545634921875 0.6292989421875 0.5644841265625 0.646494709375\n",
      "Predictions for IMG_20230418_200446_1_jpg.rf.68cd0a2acd8bdb369d06ab23faad684f.txt:\n",
      "1 0.3167317703125 0.9950980390625 0.3232421875 0.9997549015624999 0.9996744796874999 0.9997549015624999 0.9996744796874999 0.469117646875 0.9759114578125001 0.453186275 0.9498697921874999 0.440686275 0.9248046875 0.4306372546875 0.6331380203125 0.321568628125 0.3759765625 0.4490196078125 0.3284505203125 0.477696078125 0.3115234375 0.4899509796875 0.2994791671875 0.5022058828125 0.2880859375 0.518382353125 0.2763671875 0.5433823531249999 0.2666015625 0.5767156859375 0.2630208328125 0.6044117640625 0.2646484375 0.6833333328125 0.3079427078125 0.976225490625 0.310546875 0.9872549015625 0.3167317703125 0.9950980390625\n",
      "Predictions for vKPuZ597c7_jpeg.rf.884a74ef176a3a6c8f1ce4c767ec3589.txt:\n",
      "4 0.49474999999999997 0.8396666671874999 0.61825 0.8393333328124999 0.647 0.8363333328125 0.65475 0.833 0.62725 0.6553333328125001 0.62425 0.6453333328124999 0.619 0.643 0.471 0.616 0.43324999999999997 0.6453333328124999 0.422 0.6723333328125001 0.40149999999999997 0.7436666671875 0.3975 0.773 0.39925 0.8326666671874999 0.40025000000000005 0.833 0.421 0.8356666671875 0.49474999999999997 0.8396666671874999\n",
      "Predictions for bBdoWwVddY_jpeg.rf.3287dc962e866dc5cb60f18c4ddf9f81.txt:\n",
      "0 0.17475000000000002 0.46299999999999997 0.26075 0.7456666671875001 0.265 0.7543333328124999 0.27149999999999996 0.7633333328125 0.28700000000000003 0.776 0.30274999999999996 0.7816666671875 0.3105 0.7823333328125 0.3165 0.7823333328125 0.33075 0.778 0.5565 0.6723333328125001 0.577 0.6586666671875 0.63875 0.6 0.6505 0.5860000000000001 0.658 0.5723333328125 0.66175 0.5626666671875 0.66575 0.5423333328125 0.665 0.515 0.6605000000000001 0.4926666671875 0.6465 0.446 0.5465 0.1453333328125 0.5337500000000001 0.11000000000000001 0.5287499999999999 0.10033333281250001 0.51925 0.0883333328125 0.50225 0.077 0.49349999999999994 0.0733333328125 0.48575 0.0726666671875 0.47824999999999995 0.073 0.46950000000000003 0.07566666718750001 0.41550000000000004 0.10033333281250001 0.1895 0.2136666671875 0.16875 0.227 0.15525 0.24 0.14750000000000002 0.2526666671875 0.142 0.2676666671875 0.13925 0.2806666671875 0.13974999999999999 0.3043333328125 0.1505 0.3716666671875 0.16 0.4126666671875 0.17475000000000002 0.46299999999999997\n",
      "Predictions for 20230723_175221127_iOS_jpg.rf.5f9cc857863825dda1526c7728050e1f.txt:\n",
      "0 0.424355159375 0 0.3983134921875 0.0112433859375 0.3501984125 0.0367063484375 0.24751984062500001 0.0978835984375 0.1894841265625 0.1359126984375 0.059523809375 0.2251984125 0.046130953125 0.2367724875 0.0349702375 0.2513227515625 0.0230654765625 0.277447090625 0.0176091265625 0.3015873015625 0.0116567453125 0.339947090625 0.000248015625 0.497354496875 0.133928571875 0.9153971562500001 0.3023313484375 0.974333003125 1 0.9664014546875 1 0.1855158734375 0.9774305562500001 0.052579365625 0.9672619046875001 0 0.424355159375 0\n",
      "Predictions for 20230721_111603345_iOS_jpg.rf.50d5822f78f16f3b6b35c8625c97e3d6.txt:\n",
      "2 0.328373015625 0.6914682546875001 0.34027777812500004 0.7136243390625 0.356398809375 0.7328042328125 0.37450396874999997 0.747023809375 0.4117063484375 0.7668650796875001 0.46924603125 0.7883597890625 0.5042162703125 0.791335978125 0.5292658734375 0.791005290625 0.5424107140625 0.7893518515625 0.575396825 0.7791005296875 0.5949900796875001 0.7708333328125 0.6078869046875 0.7678571421875 0.63467261875 0.765542328125 0.672123015625 0.7671957671875 0.68427579375 0.7645502640624999 0.6951884921875 0.7589285718750001 0.7083333328125 0.746362434375 0.7170138890625 0.7328042328125 0.721230159375 0.7208994703125 0.7269345234375 0.6954365078125 0.728670634375 0.6805555562500001 0.728174603125 0.621362434375 0.7239583328125 0.608796296875 0.7145337296875 0.6028439156250001 0.70907738125 0.5955687828125 0.706101190625 0.565145503125 0.6981646828125 0.5102513234375 0.6989087296875 0.4953703703125 0.709325396875 0.4831349203125 0.7105654765625 0.47883597812499995 0.70634920625 0.44477513281250003 0.6946924609375 0.40608465625 0.6830357140625 0.38062169375 0.6728670640625001 0.366402115625 0.656498015625 0.35582010625 0.646825396875 0.3521825390625 0.6334325390625 0.3515211640625 0.6081349203124999 0.3581349203125 0.5855654765625 0.362103175 0.56572420625 0.36276454999999996 0.5086805562500001 0.3541666671875 0.49652777812500004 0.3541666671875 0.466021825 0.359126984375 0.44171627031250005 0.36904761875 0.4047619046875 0.39021164062499997 0.37450396874999997 0.41038359843750005 0.3521825390625 0.42890211562499997 0.34027777812500004 0.44113756562499995 0.3263888890625 0.462632275 0.3162202375 0.490410053125 0.31349206406249996 0.50562169375 0.31150793593750004 0.534391534375 0.3112599203125 0.5826719578125 0.314980159375 0.6326058203125 0.3226686515625 0.672619046875 0.328373015625 0.6914682546875001\n",
      "Predictions for IMG_20230413_184153417213-105-_jpg.rf.4442485e7761daa0dd4e6f9534926e12.txt:\n",
      "0 0.0859375 0.5891927078125 0.098090278125 0.64453125 0.108796296875 0.6759982640625 0.11226851874999999 0.6833767359375 0.1223958328125 0.6970486109375 0.13773148125 0.712890625 0.1574074078125 0.725043403125 0.179108796875 0.734375 0.1906828703125 0.7374131937499999 0.215277778125 0.7424045140625 0.2410300921875 0.7458767359375 0.2688078703125 0.747612846875 0.29398148125 0.747612846875 0.5164930562500001 0.732421875 0.5572916671875 0.7276475687499999 0.5789930562500001 0.7233072921875 0.6145833328125 0.712456596875 0.6365740734374999 0.701605903125 0.659722221875 0.6861979171875 0.6701388890625 0.6729600687499999 0.678240740625 0.6588541671875 0.6857638890625 0.6356336812500001 0.6875 0.6217447921875 0.6929976859375 0.5134548609375 0.6935763890625 0.46592881875 0.6927083328125 0.3821614578125 0.6906828703125 0.32725694375000003 0.6848958328125 0.2571614578125 0.6817129625 0.24305555625 0.6759259265625001 0.226128471875 0.6710069437499999 0.21571180625 0.660590278125 0.20052083281250002 0.647858796875 0.18793402812499999 0.6319444437499999 0.17599826406250002 0.6114004625 0.16710069375 0.5960648140625 0.16232638906250002 0.5471643515625 0.15451388906250002 0.5196759265625001 0.15256076406250002 0.33304398125 0.15125868125 0.243634259375 0.1516927078125 0.19039351875 0.15711805625 0.1565393515625 0.1627604171875 0.1171875 0.17491319375 0.1116898140625 0.17751736093749998 0.09375 0.18967013906250002 0.0734953703125 0.20768229218749998 0.0627893515625 0.22330729218749998 0.056134259374999995 0.24131944375 0.0529513890625 0.26085069375000003 0.0529513890625 0.29144965312500004 0.0584490734375 0.36610243124999997 0.0758101859375 0.5305989578125 0.0859375 0.5891927078125\n",
      "Predictions for 20230721_101857452_iOS_jpg.rf.2950fca3f1306cedeae92a761861c15d.txt:\n",
      "1 0.13715277812499999 0.547288359375 0.1855158734375 0.5985449734375 0.22544642812500001 0.6352513234375 0.315228175 0.709325396875 0.3544146828125 0.7357804234375 0.3945932546875 0.759259259375 0.4833829359375 0.7992724875 0.5193452375 0.8121693125 0.572420634375 0.8257275125 0.862103175 0.8366402109375001 0.872519840625 0.8227513234374999 0.8869047625 0.7953042328125 0.887648809375 0.7853835984375 0.747519840625 0.44907407343749994 0.709325396875 0.3789682546875 0.68427579375 0.3396164015625 0.658730159375 0.30357142812500004 0.622271825 0.2632275125 0.5714285718750001 0.21362433906249997 0.48115079375 0.140211640625 0.44345238125 0.11276455 0.3417658734375 0.049933862499999995 0.29092261875 0.0261243390625 0.28025793593750004 0.0238095234375 0.268353175 0.025132275 0.2636408734375 0.0267857140625 0.25 0.0360449734375 0.18774801562500001 0.14947090000000002 0.1626984125 0.20105820156249998 0.1341765875 0.2671957671875 0.09920634843750001 0.365410053125 0.0744047625 0.44179894218750004 0.0744047625 0.45568783125 0.084821428125 0.48214285781250005 0.1135912703125 0.5195105812499999 0.13715277812499999 0.547288359375\n",
      "Predictions for 20230721_103737011_iOS_jpg.rf.0da782302e7f398e55ef9628e391930e.txt:\n",
      "0 0.330605159375 0.7457010578125 0.34052579375 0.7635582015625 0.3492063484375 0.7728174609375 0.3630952375 0.7860449734375 0.3802083328125 0.796296296875 0.3918650796875 0.8005952375 0.415674603125 0.803240740625 0.5223214281249999 0.8045634921874999 0.5848214281249999 0.80026455 0.599950396875 0.796296296875 0.6202876984375 0.7867063484375 0.63740079375 0.7731481484375 0.64657738125 0.7632275125 0.658978175 0.7457010578125 0.671626984375 0.7096560843749999 0.674355159375 0.6951058203125 0.6783234125 0.658730159375 0.6798115078125 0.5750661375 0.6736111109375 0.41931216875 0.67237103125 0.40410052968750004 0.6696428578125 0.391203703125 0.659226190625 0.3644179890625 0.6445932546875001 0.340608465625 0.6319444437499999 0.328042328125 0.6113591265625 0.3141534390625 0.5957341265625 0.3078703703125 0.54365079375 0.3015873015625 0.4015376984375 0.3108465609375 0.3814484125 0.313161375 0.3732638890625 0.316137565625 0.3556547625 0.32771164062499997 0.340773809375 0.340939153125 0.328869046875 0.3541666671875 0.31572420625 0.3753306875 0.30282738125 0.403769840625 0.296626984375 0.4424603171875 0.2834821421875 0.5952380953125 0.2832341265625 0.6104497359375001 0.2849702375 0.6319444437499999 0.290674603125 0.659060846875 0.330605159375 0.7457010578125\n",
      "Predictions for IMG_2386_JPG.rf.44907f75d4ec6de7bfcaed5dc2c65e5d.txt:\n",
      "3 0.4789186515625 0.7857142859375 0.493303571875 0.8085317453125 0.506200396875 0.8234126984374999 0.6510416671875 0.94312169375 0.67137896875 0.9520502640625 0.6830357140625 0.9517195765625001 0.6865079359374999 0.94973545 0.94990079375 0.6739417984375 0.9618055562500001 0.658730159375 0.965277778125 0.6455026453125 0.9667658734375 0.63128306875 0.9637896828124999 0.6207010578125 0.840773809375 0.4136904765625 0.8303571421875 0.4011243390625 0.8167162703124999 0.3892195765625 0.78720238125 0.375 0.7693452375 0.3726851859375 0.744295634375 0.3726851859375 0.506200396875 0.3991402109375 0.48363095312500004 0.4044312171875 0.4672619046875 0.4166666671875 0.45362103125 0.4421296296875 0.450396825 0.462632275 0.4481646828125 0.5046296296875 0.44890872968749995 0.5704365078125 0.46428571406249997 0.75562169375 0.466021825 0.7619047625 0.4789186515625 0.7857142859375\n",
      "Predictions for 20230721_110217868_iOS_jpg.rf.c25cc1a8718b87a65b7a07748c7beded.txt:\n",
      "2 0.30357142812500004 0.672288359375 0.3147321421875 0.6871693125 0.3333333328125 0.7010582015625 0.3514384921875 0.7113095234375 0.36532738125 0.715608465625 0.3826884921875 0.7139550265625 0.39409722187499996 0.7169312171875 0.406498015625 0.7232142859375 0.41865079375 0.7261904765625 0.4429563484375 0.7384259265625001 0.4481646828125 0.7427248671875 0.453373015625 0.749338625 0.45758928593750003 0.7523148140625 0.4925595234375 0.7635582015625 0.5044642859375 0.7638888890625 0.518353175 0.7615740734374999 0.5362103171875 0.752976190625 0.5515873015625 0.740079365625 0.55927579375 0.728505290625 0.5674603171875 0.708994709375 0.5699404765625 0.6957671953125 0.578125 0.6299603171875 0.5865575390625 0.60615079375 0.5897817453124999 0.5929232796874999 0.5984623015625 0.5697751328125 0.6041666671875 0.5453042328125 0.608630953125 0.512896825 0.6108630953125 0.4639550265625 0.6044146828125 0.374338625 0.6026785718750001 0.3624338625 0.5984623015625 0.3455687828125 0.5927579359374999 0.33002645468749997 0.5860615078125 0.31679894218750004 0.5741567453124999 0.30125661406250004 0.556299603125 0.2876984125 0.5079365078125 0.2642195765625 0.48387896875 0.2552910046875 0.471230159375 0.25330687812499997 0.45362103125 0.25429894218750004 0.4325396828125 0.2635582015625 0.41790674531249994 0.27678571406249997 0.3891369046875 0.3148148140625 0.3712797625 0.34391534375 0.3640873015625 0.35350529062499997 0.3514384921875 0.3773148140625 0.3400297625 0.4044312171875 0.3263888890625 0.4546957671875 0.3229166671875 0.49603174531249994 0.31919642812500004 0.5171957671875 0.3137400796875 0.5330687828125 0.30803571406249997 0.5555555562500001 0.3008432546875 0.571759259375 0.294146825 0.596560846875 0.29017857187499996 0.60648148125 0.2886904765625 0.6170634921875 0.2889384921875 0.6332671953125 0.2916666671875 0.6455026453125 0.2991071421875 0.6640211640625 0.30357142812500004 0.672288359375\n",
      "Predictions for IMG_2472_JPG.rf.9e784b54010316f001b88b4200fb04f9.txt:\n",
      "3 0.65674603125 0.434854496875 0.67137896875 0.44345238125 0.7224702375 0.4451058203125 0.7710813484375 0.43154761875 0.7879464281249999 0.4236111109375 0.7986111109375 0.4166666671875 0.809523809375 0.403439153125 0.815972221875 0.39153439218749997 0.8179563484375001 0.37070105781249996 0.8179563484375001 0.3429232796875 0.800347221875 0.0605158734375 0.7988591265625 0.0492724875 0.7926587296875 0.0238095234375 0.7834821421875 0.0003306875 0.625744046875 0 0.6158234125 0.01951058125 0.605902778125 0.0486111109375 0.6019345234375 0.0727513234375 0.6011904765625 0.096891534375 0.6006944437499999 0.1425264546875 0.6418650796875001 0.415343915625 0.64384920625 0.4209656078125 0.65674603125 0.434854496875\n",
      "Predictions for geqhLvttMi_jpeg.rf.43d28a51537e9233ccebaa6e6401d03e.txt:\n",
      "4 0.200148809375 0.8389550265624999 0.21304563437500001 0.8425925921875 0.3335813484375 0.840608465625 0.3675595234375 0.8386243390624999 0.37822420625 0.8346560843749999 0.3886408734375 0.8227513234374999 0.3923611109375 0.809854496875 0.3943452375 0.26851851875 0.393105159375 0.250661375 0.388144840625 0.240740740625 0.3834325390625 0.2367724875 0.377480159375 0.234457671875 0.30133928593750003 0.23247354531250003 0.21279761874999997 0.2334656078125 0.20238095312499998 0.2357804234375 0.196924603125 0.240740740625 0.1922123015625 0.253637565625 0.1912202375 0.2638888890625 0.1887400796875 0.8075396828124999 0.1894841265625 0.8227513234374999 0.1966765875 0.8353174609374999 0.200148809375 0.8389550265624999\n",
      "Predictions for IMG_2473_JPG.rf.9fb5cc338288a6fc2c88586cd44d47a8.txt:\n",
      "3 0.6170634921875 0 0.603174603125 0.049933862499999995 0.6011904765625 0.065476190625 0.5925099203124999 0.18088624375 0.64384920625 0.3921957671875 0.6550099203124999 0.40542327968749997 0.658978175 0.4080687828125 0.72197420625 0.41071428593750003 0.75049603125 0.40542327968749997 0.78447420625 0.3958333328125 0.7988591265625 0.384589946875 0.81200396875 0.360119046875 0.813244046875 0.35482804218749997 0.813244046875 0.3429232796875 0.8005952375 0.0625 0.797619046875 0.0231481484375 0.7926587296875 0 0.6170634921875 0\n",
      "Predictions for HgFhoMe3tX_jpeg.rf.80ecb4e48bf8e4e00f903118aacf1110.txt:\n",
      "4 0.3678075390625 0 0.3697916671875 0.9996693125 0.9957837296875001 0.9996693125 0.999751984375 0.9960317453125 0.999751984375 0 0.3678075390625 0\n",
      "Predictions for IMG_2160_jpg.rf.5dd6031be1c0d57473a50c64af3a6108.txt:\n",
      "3 0.3925852359375 0.8128709781250001 0.4058258859375 0.8269290843749999 0.41840450156250003 0.8344267421874999 0.4614366109375 0.8497344578125 0.4703740484375 0.851608871875 0.49718636250000003 0.85285848125 0.5230056265624999 0.8519212749999999 0.6180072828125 0.8250546703125 0.6209864281249999 0.82161824375 0.631578946875 0.7941268359375 0.6464746765625 0.7319587624999999 0.6477987421875 0.7207122781249999 0.6474677265625 0.6522961578124999 0.6325719953125 0.46735395156250004 0.6239655749999999 0.405810684375 0.60509765 0.3801936890625 0.6007944390625 0.3776944703125 0.591525984375 0.376132459375 0.5157232703125 0.37425804375 0.4475339296875 0.378319275 0.3793445875 0.38894095625 0.354518371875 0.41580755937499997 0.352863290625 0.41955638906250003 0.351208209375 0.504529834375 0.35087719375000004 0.7088409875 0.3525322734375 0.733208371875 0.365110890625 0.7719462671875 0.3925852359375 0.8128709781250001\n",
      "Predictions for IMG_20230721_154620_jpg.rf.661e9ede08ad2930af919d42669c095c.txt:\n",
      "4 0.36827256875000003 0.7800925921874999 0.4674479171875 0.7936921296875 0.4811197921875 0.7928240734374999 0.48546006875 0.7893518515625 0.48828125 0.78414351875 0.523871528125 0.49305555625 0.5338541671875 0.39149305624999997 0.53515625 0.3298611109375 0.5323350687499999 0.3070023140625 0.5279947921875 0.2890625 0.5223524312500001 0.2714120375 0.5154079859375 0.257233796875 0.505425346875 0.2462384265625 0.47374131875 0.2219328703125 0.458984375 0.21788194375 0.4440104171875 0.21846064843750002 0.43077256875 0.22366898124999998 0.42686631875 0.22714120312500002 0.4251302078125 0.230902778125 0.3654513890625 0.45399305625 0.35460069375000003 0.4982638890625 0.31293402812500004 0.6956018515625 0.3020833328125 0.7554976859375 0.30186631875000003 0.7595486109375 0.3044704859375 0.764178240625 0.31488715312500004 0.7702546296875 0.36827256875000003 0.7800925921874999\n",
      "Predictions for IMG_20230721_153851_jpg.rf.ad7db28a2aa450a75dfe850c9e228007.txt:\n",
      "4 0.6863425921874999 0.6853298609375 0.723090278125 0.697699653125 0.8987268515625001 0.7521701390625 0.9508101859375 0.760199653125 0.9997106484374999 0.7647569437499999 0.9997106484374999 0.568359375 0.6403356484375 0.22786458281250002 0.636284721875 0.225043403125 0.579571759375 0.20247395781250002 0.555266203125 0.19487847187500001 0.5448495375 0.19292534687500001 0.5315393515625 0.200737846875 0.5182291671875 0.21506076406250002 0.44126157343749994 0.3131510421875 0.3504050921875 0.4348958328125 0.30121527812500004 0.503472221875 0.2902199078125 0.521050346875 0.28616898125 0.54296875 0.2864583328125 0.5462239578125 0.288483796875 0.5475260421875 0.6863425921874999 0.6853298609375\n",
      "Predictions for 20230723_174827795_iOS_jpg.rf.5c709cdca9dcbef958320858c2ba8b37.txt:\n",
      "0 0.1421130953125 0 0.1287202375 0.0023148140625 0.037450396875 0.028108465625000002 0 0.0638227515625 0 0.9765211640624999 0.00967261875 0.9821428578125 0.049355159375 0.99404761875 0.081597221875 0.9996693125 0.49131944375 0.9996693125 0.5091765875 0.9821428578125 0.5243055562500001 0.962632275 0.53720238125 0.938161375 0.5478670640625001 0.9120370375 0.55927579375 0.8763227515625 0.5701884921875 0.809193121875 0.6140873015625 0.24272486718750003 0.6230158734375 0.10185185156250001 0.627976190625 0 0.1421130953125 0\n",
      "Predictions for v9EdTT3f3u_jpeg.rf.a2b775400f6984683c863f968b13ef4e.txt:\n",
      "0 0.21949999999999997 0.659 0.22525 0.6616666671875 0.36724999999999997 0.6856666671875 0.41974999999999996 0.686 0.43150000000000005 0.683 0.44275000000000003 0.669 0.44675000000000004 0.658 0.46349999999999997 0.5426666671875 0.47275 0.433 0.472 0.40099999999999997 0.46900000000000003 0.3786666671875 0.45875000000000005 0.363 0.44625000000000004 0.353 0.43949999999999995 0.351 0.31475 0.3383333328125 0.26549999999999996 0.33999999999999997 0.2525 0.3466666671875 0.23775 0.3653333328125 0.23349999999999999 0.3783333328125 0.20725 0.6006666671875001 0.20725 0.6196666671875 0.21075 0.646 0.21625 0.6556666671875 0.21949999999999997 0.659\n",
      "Predictions for C4SQ6KZKnM_jpg.rf.1a714757805f06d7d476ea27ac999c76.txt:\n",
      "4 0.9997829859375 0.1637731484375 0.9874131937499999 0.15972222187500001 0.939887153125 0.1487268515625 0.8292100687499999 0.125 0.4290364578125 0.048321759375 0.35698784687499996 0.0373263890625 0.34375 0.0402199078125 0.34092881875000003 0.0422453703125 0.3346354171875 0.0506365734375 0.012586806249999999 0.6287615734374999 0.00868055625 0.6715856484375 0.008463542187500001 0.6857638890625 0.0197482640625 0.9997106484374999 0.9997829859375 0.9997106484374999 0.9997829859375 0.1637731484375\n",
      "Predictions for 20230721_110057286_iOS_jpg.rf.2af280d663c654df8eb7eb223a8bf80e.txt:\n",
      "2 0.1758432546875 0.6669973546875 0.1897321421875 0.6957671953125 0.20114087343749998 0.7103174609375 0.2147817453125 0.7228835984375 0.2331349203125 0.73776455 0.2730654765625 0.7642195765625 0.28224206406249996 0.76851851875 0.294394840625 0.7767857140625 0.30580357187499996 0.7820767203125001 0.3144841265625 0.7883597890625 0.331101190625 0.7953042328125 0.3387896828125 0.7999338625 0.36830357187499996 0.8111772484375 0.3864087296875 0.815806878125 0.41840277812500004 0.8207671953125001 0.44469246093750003 0.8214285718750001 0.47098214218749995 0.8171296296874999 0.5009920640625001 0.808862434375 0.5296202875 0.8052248671875001 0.5634920640625001 0.80654761875 0.6016865078125 0.8148148140625 0.6344697421875 0.81878306875 0.6473214281249999 0.81878306875 0.658730159375 0.8164682546875 0.6666666671875 0.813161375 0.6860119046875 0.8015873015625001 0.6981646828125 0.7890211640625 0.715773809375 0.7605820109375 0.7202380953125 0.7549603171875 0.750744046875 0.7238756609375 0.7614087296875 0.7123015875 0.7676091265625 0.703703703125 0.7862103171875 0.6855158734375 0.81299603125 0.653108465625 0.8162202375 0.6478174609375 0.828125 0.6203703703125 0.8368055562500001 0.5952380953125 0.8392857140625001 0.5803571421875 0.841021825 0.5370370375 0.8390376984374999 0.45899470937500003 0.8363095234375001 0.44080687812499997 0.8244047625 0.4047619046875 0.8194444437499999 0.397156084375 0.8115079359375 0.38128306875 0.80009920625 0.36673280468749997 0.7916666671875 0.358796296875 0.7745535718750001 0.3389550265625 0.7676091265625 0.3330026453125 0.762152778125 0.3257275125 0.7385912703125 0.3005952375 0.716269840625 0.28075396874999997 0.699652778125 0.2546296296875 0.6860119046875 0.2390873015625 0.6676587296875 0.2265211640625 0.659722221875 0.2228835984375 0.6475694437499999 0.2202380953125 0.6319444437499999 0.2195767203125 0.6195436515625 0.22056878281249997 0.6006944437499999 0.2242063484375 0.578869046875 0.23181216875000002 0.5319114578125 0.2380952375 0.48363095312500004 0.23379629687499998 0.4476686515625 0.2265211640625 0.4079861109375 0.2265211640625 0.36284722187499996 0.23710317500000003 0.346478175 0.24470899531249998 0.328869046875 0.25099206406249996 0.3172123015625 0.258597884375 0.3033234125 0.264880953125 0.2921626984375 0.2728174609375 0.2638888890625 0.2893518515625 0.2579365078125 0.2946428578125 0.2279265875 0.315145503125 0.21304563437500001 0.32771164062499997 0.20833333281250002 0.333664021875 0.200148809375 0.340939153125 0.18799603125 0.3571428578125 0.17435515937499999 0.3829365078125 0.162946428125 0.41898148125 0.1574900796875 0.46527777812500004 0.15798611093749998 0.5582010578125 0.158978175 0.5823412703125 0.161954365625 0.6074735453125 0.1758432546875 0.6669973546875\n",
      "Predictions for ofK0bS6ArB_jpg.rf.043f4cb63bc2d0d07adcb6b5ccf703a2.txt:\n",
      "4 0.515190971875 0.44618055625 0.558159721875 0.44907407343749994 0.653862846875 0.45023148125 0.669921875 0.4479166671875 0.6746961812500001 0.4453125 0.6766493062500001 0.44184027812500004 0.673394096875 0.35445601875 0.6701388890625 0.3498263890625 0.664496528125 0.34722222187499996 0.6592881937499999 0.3460648140625 0.49327256875 0.3382523140625 0.4845920140625 0.3414351859375 0.4798177078125 0.34809027812500004 0.47743055625 0.35503472187499996 0.47569444375 0.3767361109375 0.4767795140625 0.43171296249999996 0.48133680625 0.43952546249999996 0.4869791671875 0.44241898125 0.515190971875 0.44618055625\n",
      "Predictions for Aw7d0IgInZ_jpeg.rf.851cb58ed6a9e482435904984e3f4098.txt:\n",
      "3 0.31575000000000003 0.5723333328125 0.3265 0.6186666671875 0.3785 0.6506666671875 0.39325 0.658 0.40525 0.6616666671875 0.41775 0.6606666671875 0.44525 0.6516666671875 0.457 0.6463333328124999 0.47125000000000006 0.6353333328125 0.481 0.619 0.48550000000000004 0.608 0.4885 0.596 0.49000000000000005 0.5726666671875 0.491 0.518 0.4915 0.4256666671875 0.489 0.3403333328125 0.48425 0.29133333281249996 0.4765 0.273 0.47275 0.2673333328125 0.45949999999999996 0.2533333328125 0.44025 0.24266666718750002 0.40325 0.23500000000000001 0.36275 0.2343333328125 0.32825000000000004 0.238 0.316 0.24333333281249997 0.3055 0.25033333281250003 0.30175 0.25433333281250003 0.2945 0.2666666671875 0.29025 0.27799999999999997 0.2885 0.2886666671875 0.28675 0.32566666718750004 0.28650000000000003 0.3546666671875 0.288 0.3916666671875 0.2995 0.4796666671875 0.31575000000000003 0.5723333328125\n",
      "Predictions for IMG_20230721_155224_jpg.rf.d96be2de98b9852cd056a564c2917083.txt:\n",
      "4 0.28949652812500004 0.3411458328125 0.4908854171875 0.649884259375 0.494140625 0.651909721875 0.5036892359375 0.644965278125 0.525824653125 0.610821759375 0.5774739578125 0.512152778125 0.5909288187499999 0.4817708328125 0.606987846875 0.4322916671875 0.6065538187499999 0.4299768515625 0.4416232640625 0.27633101875 0.34722222187499996 0.2468171296875 0.279296875 0.23263888906250002 0.2736545140625 0.2355324078125 0.27039930624999997 0.24392361093749998 0.26671006875000003 0.2774884265625 0.26714409687499996 0.280671296875 0.27821180624999997 0.3177083328125 0.28949652812500004 0.3411458328125\n",
      "Predictions for gluco1_jpeg.rf.871eeadf09165d19f09ea2301de3147e.txt:\n",
      "1 0.3606770828125 0.6875 0.4244791671875 0.7021484375 0.5794270828125 0.7021484375 0.6419270828125 0.685546875 0.6614583328125 0.6708984375 0.6796875 0.64453125 0.6979166671875 0.5478515625 0.703125 0.296875 0.6979166671875 0.25390625 0.68359375 0.228515625 0.6497395828125 0.201171875 0.5963541671875 0.1875 0.5403645828125 0.1826171875 0.4153645828125 0.1865234375 0.3528645828125 0.2001953125 0.3255208328125 0.21484375 0.3046875 0.244140625 0.2955729171875 0.2822265625 0.2994791671875 0.5439453125 0.3111979171875 0.6240234375 0.3268229171875 0.6611328125 0.3606770828125 0.6875\n",
      "Predictions for GIpYmmvmbY_jpeg.rf.1f94f86a5f8daf15f2ba90b3b17cb745.txt:\n",
      "3 0.29 0.704 0.2995 0.722 0.313 0.7383333328125 0.32525 0.7496666671875001 0.34075 0.7553333328125 0.3655 0.7603333328125 0.38775 0.7613333328125 0.475 0.7633333328125 0.58675 0.7623333328124999 0.6597500000000001 0.755 0.69475 0.7476666671875 0.7135 0.739 0.7787499999999999 0.7036666671875 0.841 0.646 0.8525 0.632 0.8595 0.6186666671875 0.861 0.6096666671875 0.86025 0.6033333328125 0.7825 0.3676666671875 0.77225 0.344 0.75175 0.31466666718749997 0.74025 0.304 0.71775 0.29100000000000004 0.70975 0.2883333328125 0.67025 0.2846666671875 0.55225 0.279 0.40549999999999997 0.28500000000000003 0.3315 0.29733333281249996 0.31625000000000003 0.3016666671875 0.2905 0.31766666718750003 0.27749999999999997 0.3333333328125 0.2625 0.36 0.25925 0.36866666718749996 0.2505 0.41566666718749995 0.24425 0.47066666718750005 0.24300000000000002 0.5433333328125001 0.24775 0.5820000000000001 0.25125000000000003 0.5986666671875 0.29 0.704\n",
      "Predictions for IMG_2463_JPG.rf.fb37fa63de2731d6c0be6c004e7ed785.txt:\n",
      "3 0.7447916671875 0 0.7251984125 0.0049603171875 0.70262896875 0.0171957671875 0.6862599203124999 0.029431217187499997 0.6738591265625 0.043981481249999996 0.656001984375 0.078042328125 0.6428571421875 0.1137566140625 0.6393849203124999 0.1302910046875 0.63740079375 0.1521164015625 0.6369047625 0.1792328046875 0.6386408734375 0.19378306875 0.6946924609375 0.5016534390625 0.7013888890625 0.5320767203125001 0.706597221875 0.5453042328125 0.71825396875 0.558862434375 0.734623015625 0.565806878125 0.7447916671875 0.5674603171875 0.7978670640625001 0.56878306875 0.875 0.5456349203124999 0.887896825 0.5390211640625 0.9007936515624999 0.528439153125 0.9107142859374999 0.5125661375 0.9174107140625001 0.4950396828125 0.918402778125 0.47850529062499997 0.9166666671874999 0.4580026453125 0.87450396875 0.1137566140625 0.8695436515624999 0.08697089999999999 0.8633432546875 0.0644841265625 0.8514384921874999 0.0383597890625 0.8385416671874999 0.021825396875 0.825148809375 0.009589946875 0.818204365625 0.0042989421875 0.8087797625 0 0.7447916671875 0\n",
      "Predictions for 20230721_111554416_iOS_jpg.rf.09afab61a476a986cbc14e66e5b172ec.txt:\n",
      "2 0.56845238125 0.684193121875 0.5803571421875 0.702711640625 0.59325396875 0.7149470906250001 0.599454365625 0.71891534375 0.6200396828125 0.728174603125 0.634424603125 0.73148148125 0.6507936515625 0.7380952375 0.66220238125 0.740410053125 0.693204365625 0.74404761875 0.7103174609375 0.74404761875 0.7224702375 0.7423941796875 0.7413194437499999 0.7374338625 0.7564484125 0.7304894187500001 0.7832341265625 0.721560846875 0.825396825 0.721230159375 0.8479662703124999 0.7175925921874999 0.8556547625 0.712632275 0.8630952375 0.7043650796875001 0.8680555562500001 0.6960978843750001 0.872271825 0.6828703703125 0.874255953125 0.671626984375 0.875 0.6580687828125 0.874255953125 0.6319444437499999 0.8702876984374999 0.6051587296875 0.859126984375 0.5830026453125 0.8489583328125001 0.5419973546875 0.8454861109375 0.5221560843749999 0.8479662703124999 0.497023809375 0.8477182546875 0.4917328046875 0.843998015625 0.47883597812499995 0.8348214281249999 0.4543650796875 0.825396825 0.43518518593750005 0.8194444437499999 0.4272486765625 0.811755953125 0.41997354531250003 0.7991071421875 0.4126984125 0.784722221875 0.40972222187499996 0.7745535718750001 0.4113756609375 0.76512896875 0.4143518515625 0.7480158734375 0.4232804234375 0.72470238125 0.43088624375 0.668402778125 0.434854496875 0.6460813484375 0.44080687812499997 0.6262400796875001 0.4507275125 0.621527778125 0.45502645468749997 0.612847221875 0.459325396875 0.5900297625 0.4751984125 0.5835813484375 0.4831349203125 0.5758928578125 0.4867724875 0.5709325390625 0.4953703703125 0.563244046875 0.502645503125 0.556795634375 0.5142195765625 0.5533234125 0.5241402109375 0.5488591265625 0.5449735453125 0.547619046875 0.559523809375 0.547619046875 0.5869709000000001 0.5518353171875 0.6233465609375 0.5585317453124999 0.653769840625 0.56845238125 0.684193121875\n",
      "Predictions for IMG_2437_JPG.rf.4c2a4d150f516cab195509863cbe334f.txt:\n",
      "3 0.47743055625 0.6322751328125 0.4890873015625 0.6458333328125 0.49627976250000005 0.6498015875 0.5235615078125 0.659391534375 0.5694444437499999 0.66832010625 0.5845734125 0.6703042328125 0.6071428578125 0.6699735453125 0.6210317453124999 0.6646825390625 0.62822420625 0.659391534375 0.637896825 0.646164021875 0.6478174609375 0.621362434375 0.669394840625 0.521494709375 0.671875 0.5049603171875 0.6783234125 0.3955026453125 0.6758432546875001 0.3144841265625 0.671875 0.2804232796875 0.6681547625 0.2678571421875 0.659722221875 0.2476851859375 0.646825396875 0.22585978906249998 0.6341765875 0.21296296250000002 0.625248015625 0.20833333281250002 0.599950396875 0.20039682499999997 0.5845734125 0.1984126984375 0.5550595234375 0.1980820109375 0.5334821421875 0.20105820156249998 0.50595238125 0.2132936515625 0.491071428125 0.22619047656250002 0.47867063437499996 0.241402115625 0.4677579359375 0.2668650796875 0.46502976250000005 0.2800925921875 0.46279761875 0.302910053125 0.46478174531249994 0.40674603125 0.4742063484375 0.6081349203124999 0.4751984125 0.621362434375 0.47743055625 0.6322751328125\n",
      "Predictions for IMG_2217_JPG.rf.67df3b78c0b6f9147623b1c91ab437fd.txt:\n",
      "3 0.5984623015625 0.658730159375 0.6019345234375 0.6600529093749999 0.7018849203124999 0.672288359375 0.8320932546875 0.6855158734375 0.87450396875 0.6865079359374999 0.8854166671874999 0.684523809375 0.9131944437499999 0.6736111109375 0.9332837296875001 0.659060846875 0.9451884921874999 0.6455026453125 0.9620535718750001 0.6173941796875 0.9754464281249999 0.5714285718750001 0.9764384921874999 0.5499338625 0.974950396875 0.51917989375 0.96875 0.49140211562499997 0.962549603125 0.47453703750000004 0.9511408734375 0.45370370312499997 0.9384920640625 0.4371693125 0.9298115078125001 0.428571428125 0.9126984125 0.41633597812499995 0.8841765875 0.4044312171875 0.8665674609374999 0.40211640156249995 0.675347221875 0.40244709062500006 0.608630953125 0.4044312171875 0.5833333328125 0.43121693125 0.58134920625 0.46428571406249997 0.578869046875 0.51818783125 0.5803571421875 0.622023809375 0.5823412703125 0.6322751328125 0.5984623015625 0.658730159375\n",
      "Predictions for IMG_5346_jpeg.rf.15d0acfed5f3290ea182e705d8b21811.txt:\n",
      "4 0.4295634921875 0 0.4300595234375 0.684523809375 0.4325396828125 0.9464285718750001 0.43402777812500004 0.9996693125 0.999751984375 0.9996693125 0.999751984375 0 0.4295634921875 0\n",
      "Predictions for 20230721_082153501_iOS_jpg.rf.e0253e0ff588a06b01c189f5f770ac21.txt:\n",
      "3 0.5572916671875 0.4920634921875 0.5674603171875 0.5089285718750001 0.581101190625 0.51851851875 0.596230159375 0.5234788359375 0.630704365625 0.5291005296875 0.677579365625 0.534722221875 0.7080853171875 0.533730159375 0.734126984375 0.5248015875 0.7433035718750001 0.51851851875 0.75322420625 0.5072751328125 0.7586805562500001 0.4953703703125 0.765376984375 0.4702380953125 0.7678571421875 0.45601851875 0.7735615078125 0.41765872968749995 0.784226190625 0.2671957671875 0.78720238125 0.128637565625 0.786954365625 0.0608465609375 0.781994046875 0.0267857140625 0.7728174609375 0.000661375 0.5709325390625 0 0.5662202375 0.00628306875 0.5560515875 0.0264550265625 0.5483630953125 0.052910053125 0.5453869046875 0.071428571875 0.5419146828125 0.1299603171875 0.5421626984375 0.34325396874999997 0.55009920625 0.4583333328125 0.55282738125 0.4791666671875 0.5572916671875 0.4920634921875\n",
      "Predictions for 2dTShaYGZv_jpeg.rf.099266e8caad646b181ec6f613c3c65e.txt:\n",
      "4 0.2905 0.5916666671875 0.301 0.5953333328125 0.34249999999999997 0.5980000000000001 0.40475000000000005 0.5943333328125 0.41600000000000004 0.5883333328125 0.421 0.5820000000000001 0.42400000000000004 0.5700000000000001 0.42675 0.4386666671875 0.4255 0.3376666671875 0.4225 0.3043333328125 0.41675000000000006 0.2966666671875 0.40875000000000006 0.292 0.40225 0.2903333328125 0.29325 0.292 0.28825 0.29533333281249996 0.284 0.3023333328125 0.28325 0.306 0.28525 0.5820000000000001 0.28650000000000003 0.5856666671874999 0.2905 0.5916666671875\n",
      "Predictions for KhUz9gtVv3_jpeg.rf.9681a5d0089891f724a5be039224e243.txt:\n",
      "4 0.23933531718749998 0 0.2333829359375 0.0132275125 0.23263888906250002 0.040013228125 0.20982142812500001 0.9996693125 0.999751984375 0.9996693125 0.999751984375 0.8458994703125 0.85887896875 0.1269841265625 0.8514384921874999 0.1104497359375 0.8365575390625001 0.08697089999999999 0.783730159375 0.0453042328125 0.7294146828125 0.0132275125 0.702876984375 0 0.23933531718749998 0\n",
      "Predictions for 4f5f72dcd85e1cadd63c822c357cdf39_jpeg.rf.8bb6a24462d704fda720e475873c7c8a.txt:\n",
      "3 0.6232638890625 0.7119140625 0.8585069437499999 0.7099609375 0.9557291671874999 0.70849609375 0.9991319437499999 0.70458984375 0.9991319437499999 0.32958984375 0.7916666671875 0.3173828125 0.4748263890625 0.31005859375 0.33680555624999997 0.30859375 0.16319444375 0.310546875 0.019097221875 0.314453125 0.0008680562500000001 0.31689453125 0.0008680562500000001 0.6943359375 0.035590278125 0.69873046875 0.3654513890625 0.71044921875 0.6232638890625 0.7119140625\n",
      "Predictions for 20230721_102811913_iOS_jpg.rf.6537cdb9800c4862a02475a7d4079399.txt:\n",
      "0 0.3640873015625 0.7050264546875 0.3769841265625 0.7245370375 0.39384920625 0.7457010578125 0.408730159375 0.759259259375 0.43055555625 0.7728174609375 0.43700396875 0.775132275 0.490575396875 0.7830687828125 0.6626984125 0.7867063484375 0.6822916671875 0.7833994703125 0.709325396875 0.7738095234375 0.734375 0.75562169375 0.747023809375 0.7357804234375 0.759424603125 0.7116402109375 0.7720734125 0.6736111109375 0.78447420625 0.6173941796875 0.7864583328125 0.5849867718749999 0.7879464281249999 0.4371693125 0.7822420640625001 0.32142857187499996 0.7792658734375 0.291335978125 0.771825396875 0.2678571421875 0.759424603125 0.24735449687500002 0.7366071421875 0.2139550265625 0.7207341265625 0.2007275125 0.6961805562500001 0.1898148140625 0.6810515875 0.1888227515625 0.6076388890625 0.1947751328125 0.5694444437499999 0.1994047625 0.462053571875 0.2139550265625 0.4208829359375 0.2251984125 0.41617063437499996 0.227843915625 0.3893849203125 0.2516534390625 0.37822420625 0.265873015625 0.3658234125 0.2876984125 0.3613591265625 0.299603175 0.353174603125 0.33002645468749997 0.35044642812500004 0.3508597890625 0.346478175 0.46891534375 0.3454861109375 0.5701058203125 0.35044642812500004 0.6600529093749999 0.353174603125 0.6808862437500001 0.3640873015625 0.7050264546875\n",
      "Predictions for w1GJPRWbBJ_jpeg.rf.57ff470642b2fd3bd6e72c609541288a.txt:\n",
      "4 0.556299603125 0.9143518515625001 0.5701884921875 0.9169973546874999 0.7958829359374999 0.9355158734375 0.862103175 0.936838625 0.94990079375 0.934854496875 0.9575892859374999 0.9325396828124999 0.9623015875 0.9305555562500001 0.9702380953124999 0.9232804234374999 0.9751984125 0.9140211640624999 0.9880952375 0.8634259265625 0.999751984375 0.7728174609375 0.999751984375 0.578042328125 0.7775297625 0.2642195765625 0.7710813484375 0.26223545000000004 0.756200396875 0.2615740734375 0.58134920625 0.266203703125 0.571924603125 0.2708333328125 0.5644841265625 0.277447090625 0.55927579375 0.291335978125 0.55654761875 0.3138227515625 0.5451388890625 0.5419973546875 0.5414186515625 0.734457671875 0.5404265875 0.8862433859375001 0.5429067453124999 0.9004629625 0.550347221875 0.909722221875 0.556299603125 0.9143518515625001\n",
      "Predictions for 6I80d2aVeZ_jpeg.rf.7b68e66678fc03706e0d976992e2ab99.txt:\n",
      "4 0.327 0.7183333328125 0.37925 0.7146666671874999 0.43274999999999997 0.7023333328125 0.44400000000000006 0.6976666671875 0.45225 0.6910000000000001 0.45824999999999994 0.682 0.45199999999999996 0.4603333328125 0.45099999999999996 0.4446666671875 0.44699999999999995 0.4183333328125 0.44525 0.4146666671875 0.43925000000000003 0.41 0.43075 0.40700000000000003 0.34175 0.4096666671875 0.3185 0.4126666671875 0.31124999999999997 0.41500000000000004 0.305 0.421 0.3015 0.42933333281249997 0.311 0.6990000000000001 0.31325 0.7110000000000001 0.317 0.7150000000000001 0.327 0.7183333328125\n",
      "Predictions for IMG_2417_jpg.rf.016a87765fba900b47cc41833167544e.txt:\n",
      "Predictions for IMG_2361_JPG.rf.22e376c5aefb3095472f6d4e28cea70f.txt:\n",
      "3 0.47842261875 0.6273148140625 0.4893353171875 0.6362433859375 0.5022321421875 0.6421957671875 0.559523809375 0.6600529093749999 0.56845238125 0.6620370375 0.6004464281249999 0.6636904765625 0.6197916671875 0.6630290999999999 0.6341765875 0.6607142859375 0.6478174609375 0.653439153125 0.653769840625 0.6455026453125 0.6671626984375 0.622354496875 0.671130953125 0.608796296875 0.6731150796875001 0.5925925921874999 0.6884920640625001 0.3802910046875 0.6922123015625 0.3022486765625 0.690972221875 0.2142857140625 0.688244046875 0.1914682546875 0.68427579375 0.177910053125 0.6731150796875001 0.15013227499999998 0.656994046875 0.1269841265625 0.6351686515625 0.11243386250000001 0.605902778125 0.10218253906250001 0.5845734125 0.09986772499999999 0.5582837296875 0.1015211640625 0.5297619046875 0.11342592656249999 0.5069444437499999 0.13723544999999998 0.49429563437499996 0.1550925921875 0.49131944375 0.1613756609375 0.4858630953125 0.18121693125 0.47321428593750003 0.2886904765625 0.4640376984375 0.5625 0.4637896828125 0.5820105812499999 0.465773809375 0.599867725 0.468501984375 0.609457671875 0.47842261875 0.6273148140625\n",
      "Predictions for ZYqXogw6Bi_jpeg.rf.73358705d5a1dca1392d7994503cfd4f.txt:\n",
      "4 0.9435 0 0.43775000000000003 0.1603333328125 0.35350000000000004 0.1906666671875 0.34500000000000003 0.20366666718749998 0.34075 0.21433333281250003 0.33799999999999997 0.23933333281250002 0.33125 0.5396666671875 0.33025000000000004 0.8779999999999999 0.33125 0.9633333328125 0.33575 0.9873333328125 0.34025 0.9996666671875 0.80325 0.9996666671875 0.9635 0.9913333328125 0.9875 0.9880000000000001 0.9890000000000001 0.9843333328125 0.9914999999999999 0.9393333328125 0.99975 0.6696666671875 0.99975 0.0106666671875 0.9765 0 0.9435 0\n",
      "Predictions for IaY1vhFAPD_jpg.rf.c5d73faaf03039ab1250cde5d36ca9f9.txt:\n",
      "4 0.7259114578125 0.4152199078125 0.717230903125 0.3885995375 0.7118055562500001 0.3773148140625 0.705512153125 0.3697916671875 0.6966145828125 0.3651620375 0.6579861109375 0.365740740625 0.07747395781250001 0.3865740734375 0.06271701406249999 0.390625 0.0583767359375 0.3946759265625 0.04969618125 0.4074074078125 0.0462239578125 0.4172453703125 0.0431857640625 0.43171296249999996 0.06510416718749999 0.9997106484374999 0.8947482640625 0.9997106484374999 0.8899739578125001 0.9754050921875 0.7259114578125 0.4152199078125\n",
      "Predictions for MN5K7nqpkv_jpeg.rf.0e239dc648fa39d47c5571f450209fcf.txt:\n",
      "3 0.37825000000000003 0.8013333328125001 0.39249999999999996 0.8113333328125 0.44225000000000003 0.829 0.479 0.8380000000000001 0.507 0.8406666671874999 0.5215 0.8393333328124999 0.534 0.835 0.54875 0.8266666671875 0.56425 0.8109999999999999 0.57725 0.7826666671875 0.589 0.7343333328125 0.60975 0.632 0.62625 0.5096666671875 0.63475 0.4193333328125 0.6355000000000001 0.3673333328125 0.63375 0.355 0.62975 0.3423333328125 0.6245 0.32799999999999996 0.6174999999999999 0.3166666671875 0.6065 0.3046666671875 0.59825 0.29900000000000004 0.57275 0.28700000000000003 0.534 0.2736666671875 0.48274999999999996 0.2646666671875 0.46575 0.265 0.44525 0.2716666671875 0.43574999999999997 0.2773333328125 0.42300000000000004 0.29100000000000004 0.41425 0.3046666671875 0.40374999999999994 0.3303333328125 0.39075000000000004 0.391 0.37825000000000003 0.4613333328125 0.368 0.5303333328125001 0.35325 0.6543333328125 0.35 0.7093333328125 0.35025 0.744 0.35350000000000004 0.7593333328125 0.365 0.7849999999999999 0.37825000000000003 0.8013333328125001\n",
      "Predictions for G10_jpeg.rf.c8941ac49e92606711f8f302b043efbe.txt:\n",
      "1 0.9986979171874999 0.0947265625 0.9895833328125001 0.087890625 0.9557291671874999 0.072265625 0.875 0.048828125 0.8033854171874999 0.03515625 0.67578125 0.01953125 0.4348958328125 0.017578125 0.36328125 0.021484375 0.2526041671875 0.0341796875 0.19140625 0.048828125 0.1536458328125 0.0625 0.1080729171875 0.08984375 0.07291666718749999 0.125 0.05078125 0.162109375 0.0247395828125 0.2578125 0.01171875 0.4296875 0 0.8359375 0.010416667187500001 0.9990234375 0.9986979171874999 0.9990234375 0.9986979171874999 0.0947265625\n",
      "Predictions for 05886937-EE5D-4A22-B160-19229FBFFCBF_JPG.rf.da67707b5ff9953ca4ea7d39794db19d.txt:\n",
      "1 0.041005290625 0.5605158734375 0.0608465609375 0.571924603125 0.0802469140625 0.5793650796875001 0.14947090000000002 0.5954861109375 0.20502645468749997 0.60342261875 0.2552910046875 0.606646825 0.33068783125 0.5979662703125 0.368165784375 0.5863095234375 0.4074074078125 0.5714285718750001 0.4140211640625 0.5662202375 0.43959435625000004 0.5064484125 0.4365079359375 0.290674603125 0.4334215171875 0.281994046875 0.4197530859375 0.2636408734375 0.4038800703125 0.25049603125000003 0.2495590828125 0.17286706406250002 0.23589065312500002 0.17212301562500001 0.21869488593750003 0.17509920625 0.06393298124999999 0.25 0.0467372140625 0.2633928578125 0.037037037499999995 0.275049603125 0.03174603125 0.28993055624999997 0.0202821875 0.4675099203125 0.0180776015625 0.5233134921875 0.021604937499999997 0.5364583328125 0.027777778125000003 0.546130953125 0.041005290625 0.5605158734375\n",
      "Predictions for 20230721_110203940_iOS_jpg.rf.23bc19473a99c98a58cd30dce72c3fce.txt:\n",
      "2 0.30133928593750003 0.6511243390625 0.3107638890625 0.6666666671875 0.331101190625 0.6875 0.3678075390625 0.7123015875 0.3824404765625 0.71891534375 0.3926091265625 0.7255290999999999 0.4231150796875 0.7364417984375 0.43179563437499996 0.7384259265625001 0.46527777812500004 0.7380952375 0.4925595234375 0.7321428578125 0.521329365625 0.73115079375 0.5324900796875001 0.7321428578125 0.5491071421875 0.7374338625 0.5662202375 0.740740740625 0.5791170640625001 0.7397486765625 0.5885416671875 0.7364417984375 0.59970238125 0.7298280421875 0.6051587296875 0.724867725 0.6165674609375 0.708994709375 0.6262400796875001 0.6825396828125 0.6319444437499999 0.6455026453125 0.6336805562500001 0.6144179890625 0.6299603171875 0.565057209375 0.6299603171875 0.516203703125 0.63095238125 0.50562169375 0.6299603171875 0.477843915625 0.6240079359374999 0.4427910046875 0.6163194437499999 0.41732804218749997 0.612351190625 0.41005290937499994 0.603174603125 0.3981481484375 0.596230159375 0.391203703125 0.591021825 0.3885582015625 0.580605159375 0.3859126984375 0.563244046875 0.3855820109375 0.543898809375 0.3888888890625 0.5230654765625 0.39517195781250003 0.5133928578125 0.396164021875 0.494709078125 0.3958333328125 0.46478174531249994 0.3918650796875 0.44196428593750003 0.39153439218749997 0.418898809375 0.3955026453125 0.3943452375 0.40410052968750004 0.3541666671875 0.4265873015625 0.3353174609375 0.43948412656249997 0.32118055624999997 0.4513888890625 0.309771825 0.46494709062500006 0.3010912703125 0.48115079375 0.29786706406249996 0.49371693125 0.29241071406249997 0.5198412703125 0.291170634375 0.5426587296875 0.29092261875 0.5727513234375 0.2921626984375 0.609457671875 0.29588293593750004 0.6335978843750001 0.30133928593750003 0.6511243390625\n",
      "Predictions for IMG_2371_JPG.rf.85f3331d9660440c14c30c3e3ded119e.txt:\n",
      "3 0.6140873015625 0.6084656078124999 0.6267361109375 0.6263227515625001 0.6314484125 0.6302910046875 0.639880953125 0.6329365078125 0.6703869046875 0.6369047625 0.84052579375 0.6382275125 0.8541666671874999 0.6362433859375 0.924851190625 0.61937830625 0.9375 0.609126984375 0.949652778125 0.5919312171875 0.962549603125 0.5694444437499999 0.9675099203125 0.5558862437500001 0.97197420625 0.521164021875 0.97197420625 0.5052910046875 0.9667658734375 0.446759259375 0.96279761875 0.43121693125 0.94990079375 0.41335978906250004 0.9255952375 0.391203703125 0.8998015875 0.3826058203125 0.8214285718750001 0.3789682546875 0.6609623015625 0.4044312171875 0.6331845234375 0.4110449734375 0.625248015625 0.41468253906249997 0.61904761875 0.41964285781250005 0.6130952375 0.428240740625 0.6073908734375 0.440476190625 0.603670634375 0.45866402187500005 0.6021825390625 0.490410053125 0.6019345234375 0.5271164015625 0.603670634375 0.558862434375 0.606398809375 0.5823412703125 0.6140873015625 0.6084656078124999\n",
      "Predictions for IMG_5314_jpeg.rf.a59b08023b6378d72a7d8f5e70df044f.txt:\n",
      "4 0.1356646828125 0 0.087053571875 0.008597884375 0.084325396875 0.0115740734375 0.0384424609375 0.20138888906250002 0 0.377976190625 0 0.9996693125 0.999751984375 0.9996693125 0.999751984375 0 0.1356646828125 0\n",
      "Predictions for IMG_2442_JPG.rf.e9cb2a051aa10d35dd3915dfab6c4897.txt:\n",
      "3 0.439980159375 0.659391534375 0.453373015625 0.6765873015625 0.46800595312500004 0.684193121875 0.5453869046875 0.697089946875 0.5845734125 0.6951058203125 0.59424603125 0.6924603171875 0.60615079375 0.6855158734375 0.6173115078125 0.671957671875 0.6227678578125 0.6600529093749999 0.6396329359374999 0.608796296875 0.640873015625 0.5958994703125 0.6445932546875001 0.5205026453125 0.6445932546875001 0.3078703703125 0.643353175 0.291335978125 0.6396329359374999 0.26818783125 0.6356646828125 0.2549603171875 0.6294642859375 0.240740740625 0.6103670640625001 0.2109788359375 0.577876984375 0.1828703703125 0.5587797625 0.1749338625 0.543402778125 0.171296296875 0.516369046875 0.1709656078125 0.4925595234375 0.17294973593750002 0.484126984375 0.1755952375 0.46478174531249994 0.1871693125 0.44965277812500004 0.2000661375 0.4384920640625 0.2142857140625 0.424603175 0.2420634921875 0.4201388890625 0.25694444375000003 0.4166666671875 0.2794312171875 0.4166666671875 0.315476190625 0.430803571875 0.5856481484375 0.43526785781250005 0.6359126984375 0.439980159375 0.659391534375\n",
      "Predictions for zhlmqGHhNn_jpeg.rf.e50854795f9827afa4a3e5a79f59a4a5.txt:\n",
      "4 0.70907738125 0.9930555562500001 0.7323908734375 0.9923941796875001 0.7924107140625 0.9864417984375 0.8015873015625001 0.9824735453125 0.809523809375 0.9765211640624999 0.8110119046875001 0.9738756609375001 0.83407738125 0.9070767203125 0.8573908734375 0.808862434375 0.859623015625 0.7893518515625 0.8573908734375 0.721891534375 0.8554067453125 0.7083333328125 0.8209325390625001 0.6418650796875001 0.8174603171875001 0.63723545 0.799355159375 0.627645503125 0.7693452375 0.6210317453124999 0.7299107140625 0.6200396828125 0.721230159375 0.6226851859375 0.7175099203124999 0.6266534390625 0.71552579375 0.6319444437499999 0.7140376984375 0.64351851875 0.6954365078125 0.877645503125 0.6956845234375 0.934854496875 0.703125 0.9867724875 0.7068452375 0.9917328046874999 0.70907738125 0.9930555562500001\n",
      "Predictions for cwNI3SkQvQ_jpeg.rf.e1a753fef990f0f65f11a82c72036e74.txt:\n",
      "4 0.21552579375 0.6984126984375 0.24032738125000003 0.74437830625 0.2522321421875 0.7619047625 0.2891865078125 0.8111772484375 0.30133928593750003 0.8240740734375 0.3174603171875 0.8369709000000001 0.340773809375 0.8508597890624999 0.3727678578125 0.86276455 0.4231150796875 0.8697089953124999 0.4454365078125 0.86937830625 0.4794146828125 0.8644179890625001 0.5193452375 0.8495370375 0.5349702375 0.840277778125 0.5580357140625 0.8237433859375001 0.5828373015625 0.7986111109375 0.60987103125 0.7619047625 0.622271825 0.740079365625 0.6339285718750001 0.716269840625 0.6473214281249999 0.68187830625 0.659226190625 0.64417989375 0.661954365625 0.6319444437499999 0.66865079375 0.591269840625 0.6708829359374999 0.559523809375 0.669394840625 0.5145502640624999 0.659226190625 0.4421296296875 0.6475694437499999 0.40542327968749997 0.6354166671875 0.3769841265625 0.624255953125 0.3544973546875 0.609375 0.33002645468749997 0.5711805562500001 0.28571428593750003 0.5582837296875 0.2741402109375 0.5302579359374999 0.25429894218750004 0.5044642859375 0.240740740625 0.48040674531249994 0.23048941875 0.46825396875 0.22718253906250002 0.4362599203125 0.22486772500000002 0.393105159375 0.2265211640625 0.3854166671875 0.227513228125 0.3769841265625 0.23082010625 0.228174603125 0.389880953125 0.19990079375 0.4546957671875 0.190476190625 0.49437830624999995 0.1875 0.537367725 0.18725198437499999 0.5750661375 0.1897321421875 0.609457671875 0.20238095312499998 0.6603835984375 0.21552579375 0.6984126984375\n",
      "Predictions for lxw9ixht1C_jpeg.rf.bfbd60fedfe4d7880dc3749d8d1996ac.txt:\n",
      "3 0.32625000000000004 0.673 0.339 0.6953333328125 0.353 0.7113333328125 0.36775 0.7236666671875 0.39025 0.7353333328125 0.44349999999999995 0.7413333328125 0.70925 0.759 0.7215 0.7563333328125 0.73575 0.7506666671875 0.753 0.7396666671875 0.763 0.7236666671875 0.76875 0.7086666671875 0.77175 0.6956666671875 0.77725 0.6186666671875 0.779 0.5483333328125 0.7787499999999999 0.5326666671875 0.773 0.4916666671875 0.771 0.48266666718750006 0.7595 0.45533333281250005 0.749 0.441 0.73125 0.429 0.72175 0.4266666671875 0.5972500000000001 0.4126666671875 0.41475 0.4183333328125 0.39375 0.42033333281249996 0.3755 0.42400000000000004 0.3665 0.42699999999999994 0.35 0.44000000000000006 0.33825 0.45133333281250004 0.32799999999999996 0.4683333328125 0.32275 0.48166666718749995 0.31575000000000003 0.5106666671875 0.31275 0.542 0.31175 0.5866666671874999 0.314 0.629 0.317 0.6453333328124999 0.32625000000000004 0.673\n",
      "Predictions for 3LZY68sBpN_jpg.rf.4cb37b219e217a0af10c9434490b704c.txt:\n",
      "4 0.2870370375 0.708984375 0.2928240734375 0.7217881937499999 0.30179398125 0.7274305562500001 0.31684027812500004 0.7298177078125 0.34375 0.728081596875 0.3689236109375 0.724609375 0.4542824078125 0.7098524312500001 0.9201388890625 0.6258680562500001 0.9401041671874999 0.6208767359375 0.9479166671874999 0.615668403125 0.9522569437499999 0.610894096875 0.953703703125 0.60546875 0.9513888890625 0.5963541671875 0.9427083328125001 0.5809461812500001 0.8020833328125001 0.3478732640625 0.74710648125 0.2615017359375 0.7401620375 0.2532552078125 0.7361111109375 0.2506510421875 0.7225115734374999 0.24869791718749998 0.7008101859375 0.25 0.2398726859375 0.31141493124999997 0.22945601875000002 0.31336805624999997 0.22395833281250002 0.31553819375000003 0.21672453749999998 0.3263888890625 0.2164351859375 0.3357204859375 0.235821759375 0.4529079859375 0.25 0.528862846875 0.2870370375 0.708984375\n"
     ]
    }
   ],
   "source": [
    "# Load the predictions and show them\n",
    "predictions = model.predict(\n",
    "    source=\"/content/drive/MyDrive/Medical_Device_Detection/Medical_Device_Detection-1/test/images\",\n",
    "    save=True,\n",
    "    save_txt=True,\n",
    "    conf=0.25,\n",
    "    iou=0.45,\n",
    "    agnostic_nms=False\n",
    ")\n",
    "\n",
    "# Path to the labels folder where predictions are saved\n",
    "labels_folder = \"/content/drive/MyDrive/Medical_Device_Detection/Medical_Device_Detection-1/test/labels\"\n",
    "\n",
    "# Loop through the labels folder and load each prediction file (if available)\n",
    "for label_file in os.listdir(labels_folder):\n",
    "    label_path = os.path.join(labels_folder, label_file)\n",
    "    if label_file.endswith(\".txt\"):\n",
    "        with open(label_path, \"r\") as f:\n",
    "            lines = f.readlines()\n",
    "            print(f\"Predictions for {label_file}:\")\n",
    "            for line in lines:\n",
    "                print(line.strip())\n",
    "\n",
    "# Optionally, visualize results (if saved images exist in the same folder)\n",
    "from PIL import Image\n",
    "\n",
    "# Visualize some of the test predictions (images with bounding boxes)\n",
    "image_folder = \"/content/drive/MyDrive/Medical_Device_Detection/Medical_Device_Detection-1/runs/detect/predict\"\n",
    "for image_file in os.listdir(image_folder):\n",
    "    if image_file.endswith(('.jpg', '.png')):\n",
    "        img_path = os.path.join(image_folder, image_file)\n",
    "        img = Image.open(img_path)\n",
    "        img.show()\n"
   ]
  },
  {
   "cell_type": "code",
   "execution_count": 13,
   "metadata": {
    "executionInfo": {
     "elapsed": 48,
     "status": "ok",
     "timestamp": 1745399027214,
     "user": {
      "displayName": "Saiteja Vuppala",
      "userId": "17073075911846516287"
     },
     "user_tz": -330
    },
    "id": "rqH4cACU25Sa"
   },
   "outputs": [],
   "source": [
    "import base64\n",
    "from PIL import Image\n",
    "import io\n",
    "import numpy as np\n",
    "\n",
    "def run_inference_custom(image_path):\n",
    "    results = model.predict(source=image_path, conf=0.3)\n",
    "    result = results[0]\n",
    "    output = []\n",
    "\n",
    "    img = Image.open(image_path).convert(\"RGB\")\n",
    "    img_np = np.array(img)\n",
    "\n",
    "    for box in result.boxes:\n",
    "        cls_id = int(box.cls[0])\n",
    "        label = result.names[cls_id]\n",
    "\n",
    "        # YOLO returns [x1, y1, x2, y2]\n",
    "        x1, y1, x2, y2 = map(int, box.xyxy[0].tolist())\n",
    "        bbox = [x1, y1, x2, y2]\n",
    "\n",
    "        # Crop and convert to base64\n",
    "        cropped = img.crop((x1, y1, x2, y2))\n",
    "        buffered = io.BytesIO()\n",
    "        cropped.save(buffered, format=\"JPEG\")\n",
    "        img_str = base64.b64encode(buffered.getvalue()).decode()\n",
    "\n",
    "        output.append({\n",
    "            \"label\": label,\n",
    "            \"bbox\": bbox,\n",
    "            \"cropped_image_base64\": img_str\n",
    "        })\n",
    "\n",
    "    return output\n"
   ]
  },
  {
   "cell_type": "code",
   "execution_count": 14,
   "metadata": {
    "colab": {
     "base_uri": "https://localhost:8080/"
    },
    "executionInfo": {
     "elapsed": 1247,
     "status": "ok",
     "timestamp": 1745399078386,
     "user": {
      "displayName": "Saiteja Vuppala",
      "userId": "17073075911846516287"
     },
     "user_tz": -330
    },
    "id": "Hl83iBJX26TG",
    "outputId": "25caf5bf-252c-44d6-b736-e4c00588c0e0"
   },
   "outputs": [
    {
     "name": "stdout",
     "output_type": "stream",
     "text": [
      "\n",
      "image 1/1 /content/drive/MyDrive/Medical_Device_Detection/Medical_Device_Detection-1/test/images/05886937-EE5D-4A22-B160-19229FBFFCBF_JPG.rf.da67707b5ff9953ca4ea7d39794db19d.jpg: 640x640 1 gluco, 1121.4ms\n",
      "Speed: 46.6ms preprocess, 1121.4ms inference, 4.1ms postprocess per image at shape (1, 3, 640, 640)\n",
      "[{'bbox': [13, 121, 278, 387],\n",
      "  'cropped_image_base64': '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',\n",
      "  'label': 'gluco'}]\n"
     ]
    }
   ],
   "source": [
    "inference_result = run_inference_custom(\"/content/drive/MyDrive/Medical_Device_Detection/Medical_Device_Detection-1/test/images/05886937-EE5D-4A22-B160-19229FBFFCBF_JPG.rf.da67707b5ff9953ca4ea7d39794db19d.jpg\")\n",
    "from pprint import pprint\n",
    "pprint(inference_result)"
   ]
  },
  {
   "cell_type": "code",
   "execution_count": null,
   "metadata": {
    "id": "AAj7Zhip3QvK"
   },
   "outputs": [],
   "source": []
  }
 ],
 "metadata": {
  "accelerator": "GPU",
  "colab": {
   "gpuType": "T4",
   "provenance": []
  },
  "kernelspec": {
   "display_name": "base",
   "language": "python",
   "name": "python3"
  },
  "language_info": {
   "codemirror_mode": {
    "name": "ipython",
    "version": 3
   },
   "file_extension": ".py",
   "mimetype": "text/x-python",
   "name": "python",
   "nbconvert_exporter": "python",
   "pygments_lexer": "ipython3",
   "version": "3.12.7"
  }
 },
 "nbformat": 4,
 "nbformat_minor": 0
}
